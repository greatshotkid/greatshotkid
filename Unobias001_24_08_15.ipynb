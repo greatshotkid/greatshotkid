{
  "nbformat": 4,
  "nbformat_minor": 0,
  "metadata": {
    "colab": {
      "provenance": [],
      "gpuType": "V28",
      "authorship_tag": "ABX9TyOkmlgxLv8x343FfF2xcyUJ",
      "include_colab_link": true
    },
    "kernelspec": {
      "name": "python3",
      "display_name": "Python 3"
    },
    "language_info": {
      "name": "python"
    },
    "accelerator": "TPU"
  },
  "cells": [
    {
      "cell_type": "markdown",
      "metadata": {
        "id": "view-in-github",
        "colab_type": "text"
      },
      "source": [
        "<a href=\"https://colab.research.google.com/github/greatshotkid/greatshotkid/blob/main/Unobias001_24_08_15.ipynb\" target=\"_parent\"><img src=\"https://colab.research.google.com/assets/colab-badge.svg\" alt=\"Open In Colab\"/></a>"
      ]
    },
    {
      "cell_type": "markdown",
      "source": [
        "#  **Model 001, using simple bi-directional LSTM**"
      ],
      "metadata": {
        "id": "VL3gDM33yP9T"
      }
    },
    {
      "cell_type": "markdown",
      "source": [
        "## Importing dataset from google drive"
      ],
      "metadata": {
        "id": "Jt1l1H9LlumS"
      }
    },
    {
      "cell_type": "code",
      "source": [
        "from google.colab import drive\n",
        "drive.mount('/content/drive')"
      ],
      "metadata": {
        "colab": {
          "base_uri": "https://localhost:8080/"
        },
        "id": "3Hj2cMxNl7Si",
        "outputId": "e0aaacb4-8e85-4cb3-88f9-5a4d7646d9dd"
      },
      "execution_count": 1,
      "outputs": [
        {
          "output_type": "stream",
          "name": "stdout",
          "text": [
            "Mounted at /content/drive\n"
          ]
        }
      ]
    },
    {
      "cell_type": "markdown",
      "source": [
        "## Importing the zip file"
      ],
      "metadata": {
        "id": "qC2czDr2mMRg"
      }
    },
    {
      "cell_type": "code",
      "source": [
        "import zipfile\n",
        "zip_ref = zipfile.ZipFile(\"/content/drive/MyDrive/My Dataset.zip\", 'r')\n",
        "zip_ref.extractall(\"/content/dataset\")\n",
        "zip_ref.close()"
      ],
      "metadata": {
        "id": "MBa-YwwxmSPJ"
      },
      "execution_count": 2,
      "outputs": []
    },
    {
      "cell_type": "markdown",
      "source": [
        "## **Importing the required libraries**"
      ],
      "metadata": {
        "id": "h5CLcrSyx_jJ"
      }
    },
    {
      "cell_type": "code",
      "source": [
        "!pip install PyPDF2\n",
        "!pip install ftfy\n",
        "!pip install nltk\n",
        "import nltk\n",
        "!pip install ipython\n",
        "from IPython.display import HTML\n",
        "nltk.download('punkt')\n",
        "nltk.download('stopwords')\n",
        "import PyPDF2\n",
        "import ftfy\n",
        "from io import BytesIO\n",
        "import os\n",
        "import re\n",
        "import keras\n",
        "import string\n",
        "from sklearn.metrics import confusion_matrix\n",
        "from nltk.corpus import stopwords\n",
        "from nltk.tokenize import word_tokenize\n",
        "import numpy as np\n",
        "import tensorflow as tf\n",
        "import seaborn as sns\n",
        "from tensorflow.keras.metrics import AUC\n",
        "from tensorflow.keras.preprocessing.text import Tokenizer\n",
        "import json\n",
        "import pandas as pd\n",
        "import matplotlib.pyplot as plt\n",
        "from tensorflow.keras.models import Sequential\n",
        "from tensorflow.keras.layers import Dense, Embedding, LSTM, Bidirectional, Dropout\n",
        "from tensorflow.keras.optimizers import Adam\n",
        "from tensorflow.keras.callbacks import EarlyStopping\n",
        "from tensorflow.keras.metrics import Precision, Recall\n",
        "from keras.preprocessing.sequence import pad_sequences\n",
        "from sklearn.model_selection import train_test_split\n",
        "%matplotlib inline"
      ],
      "metadata": {
        "id": "FB40FhDtyLxC",
        "colab": {
          "base_uri": "https://localhost:8080/"
        },
        "outputId": "13eb2fb9-4b44-412c-ecc9-a527bfbd1558"
      },
      "execution_count": 3,
      "outputs": [
        {
          "output_type": "stream",
          "name": "stdout",
          "text": [
            "Collecting PyPDF2\n",
            "  Downloading pypdf2-3.0.1-py3-none-any.whl.metadata (6.8 kB)\n",
            "Downloading pypdf2-3.0.1-py3-none-any.whl (232 kB)\n",
            "\u001b[?25l   \u001b[90m━━━━━━━━━━━━━━━━━━━━━━━━━━━━━━━━━━━━━━━━\u001b[0m \u001b[32m0.0/232.6 kB\u001b[0m \u001b[31m?\u001b[0m eta \u001b[36m-:--:--\u001b[0m\r\u001b[2K   \u001b[90m━━━━━━━━━━━━━━━━━━━━━━━━━━━━━━━━━━━━━━━━\u001b[0m \u001b[32m232.6/232.6 kB\u001b[0m \u001b[31m16.7 MB/s\u001b[0m eta \u001b[36m0:00:00\u001b[0m\n",
            "\u001b[?25hInstalling collected packages: PyPDF2\n",
            "Successfully installed PyPDF2-3.0.1\n",
            "Collecting ftfy\n",
            "  Downloading ftfy-6.2.3-py3-none-any.whl.metadata (7.8 kB)\n",
            "Requirement already satisfied: wcwidth<0.3.0,>=0.2.12 in /usr/local/lib/python3.10/dist-packages (from ftfy) (0.2.13)\n",
            "Downloading ftfy-6.2.3-py3-none-any.whl (43 kB)\n",
            "\u001b[2K   \u001b[90m━━━━━━━━━━━━━━━━━━━━━━━━━━━━━━━━━━━━━━━━\u001b[0m \u001b[32m43.0/43.0 kB\u001b[0m \u001b[31m3.6 MB/s\u001b[0m eta \u001b[36m0:00:00\u001b[0m\n",
            "\u001b[?25hInstalling collected packages: ftfy\n",
            "Successfully installed ftfy-6.2.3\n",
            "Requirement already satisfied: nltk in /usr/local/lib/python3.10/dist-packages (3.8.1)\n",
            "Requirement already satisfied: click in /usr/local/lib/python3.10/dist-packages (from nltk) (8.1.7)\n",
            "Requirement already satisfied: joblib in /usr/local/lib/python3.10/dist-packages (from nltk) (1.4.2)\n",
            "Requirement already satisfied: regex>=2021.8.3 in /usr/local/lib/python3.10/dist-packages (from nltk) (2024.5.15)\n",
            "Requirement already satisfied: tqdm in /usr/local/lib/python3.10/dist-packages (from nltk) (4.66.5)\n",
            "Requirement already satisfied: ipython in /usr/local/lib/python3.10/dist-packages (7.34.0)\n",
            "Requirement already satisfied: setuptools>=18.5 in /usr/local/lib/python3.10/dist-packages (from ipython) (71.0.4)\n",
            "Collecting jedi>=0.16 (from ipython)\n",
            "  Using cached jedi-0.19.1-py2.py3-none-any.whl.metadata (22 kB)\n",
            "Requirement already satisfied: decorator in /usr/local/lib/python3.10/dist-packages (from ipython) (4.4.2)\n",
            "Requirement already satisfied: pickleshare in /usr/local/lib/python3.10/dist-packages (from ipython) (0.7.5)\n",
            "Requirement already satisfied: traitlets>=4.2 in /usr/local/lib/python3.10/dist-packages (from ipython) (5.7.1)\n",
            "Requirement already satisfied: prompt-toolkit!=3.0.0,!=3.0.1,<3.1.0,>=2.0.0 in /usr/local/lib/python3.10/dist-packages (from ipython) (3.0.47)\n",
            "Requirement already satisfied: pygments in /usr/local/lib/python3.10/dist-packages (from ipython) (2.16.1)\n",
            "Requirement already satisfied: backcall in /usr/local/lib/python3.10/dist-packages (from ipython) (0.2.0)\n",
            "Requirement already satisfied: matplotlib-inline in /usr/local/lib/python3.10/dist-packages (from ipython) (0.1.7)\n",
            "Requirement already satisfied: pexpect>4.3 in /usr/local/lib/python3.10/dist-packages (from ipython) (4.9.0)\n",
            "Requirement already satisfied: parso<0.9.0,>=0.8.3 in /usr/local/lib/python3.10/dist-packages (from jedi>=0.16->ipython) (0.8.4)\n",
            "Requirement already satisfied: ptyprocess>=0.5 in /usr/local/lib/python3.10/dist-packages (from pexpect>4.3->ipython) (0.7.0)\n",
            "Requirement already satisfied: wcwidth in /usr/local/lib/python3.10/dist-packages (from prompt-toolkit!=3.0.0,!=3.0.1,<3.1.0,>=2.0.0->ipython) (0.2.13)\n",
            "Using cached jedi-0.19.1-py2.py3-none-any.whl (1.6 MB)\n",
            "Installing collected packages: jedi\n",
            "Successfully installed jedi-0.19.1\n"
          ]
        },
        {
          "output_type": "stream",
          "name": "stderr",
          "text": [
            "[nltk_data] Downloading package punkt to /root/nltk_data...\n",
            "[nltk_data]   Unzipping tokenizers/punkt.zip.\n",
            "[nltk_data] Downloading package stopwords to /root/nltk_data...\n",
            "[nltk_data]   Unzipping corpora/stopwords.zip.\n"
          ]
        }
      ]
    },
    {
      "cell_type": "markdown",
      "source": [
        "## **Creating some constarints**"
      ],
      "metadata": {
        "id": "y0TFLAYhy5q9"
      }
    },
    {
      "cell_type": "code",
      "source": [
        "vocab_size = 10000\n",
        "embedding_dim = 128\n",
        "max_sequence_length = 1000\n",
        "trunc_type='post'\n",
        "padding_type='post'\n",
        "oov_tok = \"<OOV>\"\n"
      ],
      "metadata": {
        "id": "a9DBsxAtzFo6"
      },
      "execution_count": 4,
      "outputs": []
    },
    {
      "cell_type": "code",
      "source": [
        "# Define the AUC metric outside the tf.function\n",
        "auc_metric = AUC(name='auc')\n",
        "\n",
        "METRICS = [\n",
        "    tf.keras.metrics.BinaryAccuracy(name='accuracy'),\n",
        "    tf.keras.metrics.Precision(name='precision'),\n",
        "    tf.keras.metrics.Recall(name='recall'),\n",
        "    # Pass the pre-defined AUC metric here\n",
        "    auc_metric,\n",
        "    tf.keras.metrics.TruePositives(name='tp'),\n",
        "    tf.keras.metrics.FalsePositives(name='fp'),\n",
        "    tf.keras.metrics.TrueNegatives(name='tn'),\n",
        "    tf.keras.metrics.FalseNegatives(name='fn'),\n",
        "]\n",
        "\n",
        "def fresh_metrics():\n",
        "    return [metric() for metric in METRICS]"
      ],
      "metadata": {
        "id": "j0Cts7mizOw7"
      },
      "execution_count": 5,
      "outputs": []
    },
    {
      "cell_type": "markdown",
      "source": [
        "## **Extracting text from the pdf CVs**"
      ],
      "metadata": {
        "id": "SYiPD60U4_UQ"
      }
    },
    {
      "cell_type": "code",
      "source": [
        "def extract_text_from_pdf(file_path):\n",
        "    text = \"\"\n",
        "    try:\n",
        "        with open(file_path, 'rb') as file:\n",
        "            reader = PyPDF2.PdfReader(file)\n",
        "            for page in reader.pages:\n",
        "              extracted_text = page.extract_text()\n",
        "              if extracted_text:\n",
        "                text += ftfy.fix_text(extracted_text) + \"\\n\"\n",
        "\n",
        "    except PyPDF2.errors.PdfReadError as e:\n",
        "        print(f\"Error reading PDF file {file_path}: {e}\")\n",
        "        return \"\" # Return an empty string if an error occurs\n",
        "    return text\n"
      ],
      "metadata": {
        "id": "_A9UDFE2byjo"
      },
      "execution_count": 6,
      "outputs": []
    },
    {
      "cell_type": "markdown",
      "source": [
        "## **Text preprocessing**"
      ],
      "metadata": {
        "id": "mxdWNIC3dQeu"
      }
    },
    {
      "cell_type": "code",
      "source": [
        "def preprocess_text(text):\n",
        "    # Lowercasing\n",
        "    text = text.lower()\n",
        "    # Removing punctuation\n",
        "    text = re.sub(f\"[{re.escape(string.punctuation)}]\", \"\", text)\n",
        "    # Tokenization\n",
        "    words = word_tokenize(text)\n",
        "    # Removing stop words\n",
        "    words = [word for word in words if word not in stopwords.words('english')]\n",
        "    return words"
      ],
      "metadata": {
        "id": "0YEaXWLedc4c"
      },
      "execution_count": 7,
      "outputs": []
    },
    {
      "cell_type": "markdown",
      "source": [
        "## Importing file paths using os module"
      ],
      "metadata": {
        "id": "1NZlCSkw2kRL"
      }
    },
    {
      "cell_type": "code",
      "source": [
        "# List of file paths\n",
        "pdf_file_paths = []\n",
        "\n",
        "\n",
        "\n",
        "# Example: List all files in a directory\n",
        "directory = '/content/dataset/My Dataset'\n",
        "pdf_file_paths = [os.path.join(directory, file) for file in os.listdir(directory) if file.endswith('.pdf')]\n",
        "\n",
        "#for path in pdf_file_paths:\n",
        "    #print(path)\n",
        "\n"
      ],
      "metadata": {
        "id": "a2iWItoq2zu9"
      },
      "execution_count": 8,
      "outputs": []
    },
    {
      "cell_type": "markdown",
      "source": [
        "## Converting text into integers using Tokenize and Vectorize"
      ],
      "metadata": {
        "id": "XNm9xJw7f7Gq"
      }
    },
    {
      "cell_type": "code",
      "source": [
        "\n",
        "# Extract and preprocess all CVs\n",
        "list_of_texts = [preprocess_text(extract_text_from_pdf(file_path)) for file_path in pdf_file_paths] # Call the two functions to extract and preprocess\n",
        "\n",
        "# Initialize the tokenizer\n",
        "tokenizer = Tokenizer(num_words=vocab_size)\n",
        "tokenizer.fit_on_texts(list_of_texts)  # list_of_texts is a list of preprocessed CVs\n",
        "\n",
        "# Convert text to sequences\n",
        "sequences = tokenizer.texts_to_sequences(list_of_texts)\n",
        "\n",
        "print(sequences[0])"
      ],
      "metadata": {
        "colab": {
          "base_uri": "https://localhost:8080/"
        },
        "id": "-5Bf_ZXpr0M8",
        "outputId": "a0e67126-0240-4ef7-a033-665736a1cfb9"
      },
      "execution_count": 9,
      "outputs": [
        {
          "output_type": "stream",
          "name": "stderr",
          "text": [
            "/usr/local/lib/python3.10/dist-packages/PyPDF2/_cmap.py:142: PdfReadWarning: Advanced encoding /SymbolSetEncoding not implemented yet\n",
            "  warnings.warn(\n",
            "WARNING:PyPDF2._reader:Overwriting cache for 0 51\n",
            "WARNING:PyPDF2._reader:Overwriting cache for 0 48\n",
            "WARNING:PyPDF2._reader:Overwriting cache for 0 216\n",
            "/usr/local/lib/python3.10/dist-packages/PyPDF2/_cmap.py:142: PdfReadWarning: Advanced encoding /UniKS-UCS2-H not implemented yet\n",
            "  warnings.warn(\n",
            "WARNING:PyPDF2._reader:Overwriting cache for 0 76\n"
          ]
        },
        {
          "output_type": "stream",
          "name": "stdout",
          "text": [
            "[466, 202, 34, 2672, 202, 20, 321, 2525, 202, 34, 8347, 202, 20, 3537, 296, 3815, 78, 6163, 2108, 3023, 569, 66, 106, 2672, 223, 202, 20, 6048, 102, 1353, 966, 29, 3608, 5, 3815, 5, 111, 64, 1747, 966, 1060, 3608, 5, 3815, 5, 861, 106, 1060, 5, 605, 3815, 6442, 97, 1890, 5, 147, 719, 20, 234, 65, 893, 60, 420, 234, 2248, 106, 445, 4084, 1658, 1538, 7436, 4469, 322, 384, 322, 221, 953, 789, 950, 239, 2525, 173, 138, 202, 34, 228, 5, 173, 296, 7650, 138, 719, 34, 458, 69, 42, 453, 4766, 756, 1203, 1072, 356, 5, 228, 20, 32, 138, 719, 34, 458, 69, 25, 42, 2351, 1072, 1269, 1031, 1039, 8107, 1712, 1072, 548, 3582, 2194, 605, 5, 356, 3815, 48, 8108, 1890, 147, 719, 20, 138, 20, 257, 479, 202, 57, 458, 69, 4540, 8107, 1712, 1072, 562, 5, 605, 20, 32, 5, 45, 1515, 458, 69, 25, 453, 4766, 1072, 3298, 1039, 756, 1246, 365, 215, 173, 505, 32, 5, 45, 1515, 86, 3299, 213, 5, 5, 9304, 213, 5, 6872, 1166, 3300, 772, 5686, 5, 719, 23, 5, 3324, 122, 147, 719, 20, 3815, 48, 97, 1890, 6048, 301, 5, 5, 17, 1554, 133, 9, 122, 147, 719, 20, 3815, 48, 97, 1890, 6048, 408, 5, 9304, 213, 5, 5, 104, 17, 133, 9, 5, 257, 122, 147, 719, 3815, 48, 97, 1890, 6048, 356, 458, 1405, 2092, 6873, 594, 2286, 1391, 334, 275, 164, 5, 184, 9, 275, 3890, 594, 674, 1340, 3815, 235, 72, 133, 3815, 3815, 6296, 294, 3815, 277, 6163, 13, 76, 3815, 3356, 286, 5252, 139, 1172, 96, 3815, 6443, 141, 200, 6163, 155, 58, 424, 66, 451, 524, 3023, 569]\n"
          ]
        }
      ]
    },
    {
      "cell_type": "markdown",
      "source": [
        "##Defining the Keywords"
      ],
      "metadata": {
        "id": "UP_agX2EIW_3"
      }
    },
    {
      "cell_type": "code",
      "source": [
        "# Loading keywords from a target file\n",
        "with open('/content/drive/MyDrive/ITkeywords.txt', 'r') as file:\n",
        "    keywords = file.read().splitlines()\n",
        "\n",
        "# code below used to see if file has been imported\n",
        "# print(keywords)"
      ],
      "metadata": {
        "id": "LhfUd9j9IbfT"
      },
      "execution_count": 10,
      "outputs": []
    },
    {
      "cell_type": "markdown",
      "source": [
        "##Creating labels for keywords"
      ],
      "metadata": {
        "id": "ck2lCcNsTIM5"
      }
    },
    {
      "cell_type": "code",
      "source": [
        "# Create labels for each CV based on presence of keywords\n",
        "def create_labels(lists_of_texts, keywords):\n",
        "    labels = []\n",
        "    for text in lists_of_texts:\n",
        "        label = [1 if keyword in text else 0 for keyword in keywords]\n",
        "        labels.append(label)\n",
        "    return labels\n"
      ],
      "metadata": {
        "id": "EEbi1DbpTLqX"
      },
      "execution_count": 11,
      "outputs": []
    },
    {
      "cell_type": "markdown",
      "source": [
        "##Creating labels and adding padding"
      ],
      "metadata": {
        "id": "lb3_awH9CDrP"
      }
    },
    {
      "cell_type": "code",
      "source": [
        "#creating labels for each CV based on presence of keywords\n",
        "labels = create_labels(list_of_texts, keywords)\n",
        "\n",
        "# Pad sequences\n",
        "padded_sequences = pad_sequences(sequences, maxlen=max_sequence_length)\n",
        "\n",
        "# Inspect padded_sequences\n",
        "print(\"Unique values in padded_sequences:\", np.unique(padded_sequences))\n",
        "\n",
        "# Replace None or special padding tokens (if present) with 0\n",
        "# Assuming the padding token is None, adjust if it's different\n",
        "padded_sequences[padded_sequences == None] = 0\n",
        "\n",
        "print(padded_sequences[0])\n"
      ],
      "metadata": {
        "id": "icVKbqWvCHCu",
        "colab": {
          "base_uri": "https://localhost:8080/"
        },
        "outputId": "8b38fe42-f93d-4d9a-90c4-feee177af7df"
      },
      "execution_count": 12,
      "outputs": [
        {
          "output_type": "stream",
          "name": "stdout",
          "text": [
            "Unique values in padded_sequences: [   0    1    2 ... 9997 9998 9999]\n",
            "[   0    0    0    0    0    0    0    0    0    0    0    0    0    0\n",
            "    0    0    0    0    0    0    0    0    0    0    0    0    0    0\n",
            "    0    0    0    0    0    0    0    0    0    0    0    0    0    0\n",
            "    0    0    0    0    0    0    0    0    0    0    0    0    0    0\n",
            "    0    0    0    0    0    0    0    0    0    0    0    0    0    0\n",
            "    0    0    0    0    0    0    0    0    0    0    0    0    0    0\n",
            "    0    0    0    0    0    0    0    0    0    0    0    0    0    0\n",
            "    0    0    0    0    0    0    0    0    0    0    0    0    0    0\n",
            "    0    0    0    0    0    0    0    0    0    0    0    0    0    0\n",
            "    0    0    0    0    0    0    0    0    0    0    0    0    0    0\n",
            "    0    0    0    0    0    0    0    0    0    0    0    0    0    0\n",
            "    0    0    0    0    0    0    0    0    0    0    0    0    0    0\n",
            "    0    0    0    0    0    0    0    0    0    0    0    0    0    0\n",
            "    0    0    0    0    0    0    0    0    0    0    0    0    0    0\n",
            "    0    0    0    0    0    0    0    0    0    0    0    0    0    0\n",
            "    0    0    0    0    0    0    0    0    0    0    0    0    0    0\n",
            "    0    0    0    0    0    0    0    0    0    0    0    0    0    0\n",
            "    0    0    0    0    0    0    0    0    0    0    0    0    0    0\n",
            "    0    0    0    0    0    0    0    0    0    0    0    0    0    0\n",
            "    0    0    0    0    0    0    0    0    0    0    0    0    0    0\n",
            "    0    0    0    0    0    0    0    0    0    0    0    0    0    0\n",
            "    0    0    0    0    0    0    0    0    0    0    0    0    0    0\n",
            "    0    0    0    0    0    0    0    0    0    0    0    0    0    0\n",
            "    0    0    0    0    0    0    0    0    0    0    0    0    0    0\n",
            "    0    0    0    0    0    0    0    0    0    0    0    0    0    0\n",
            "    0    0    0    0    0    0    0    0    0    0    0    0    0    0\n",
            "    0    0    0    0    0    0    0    0    0    0    0    0    0    0\n",
            "    0    0    0    0    0    0    0    0    0    0    0    0    0    0\n",
            "    0    0    0    0    0    0    0    0    0    0    0    0    0    0\n",
            "    0    0    0    0    0    0    0    0    0    0    0    0    0    0\n",
            "    0    0    0    0    0    0    0    0    0    0    0    0    0    0\n",
            "    0    0    0    0    0    0    0    0    0    0    0    0    0    0\n",
            "    0    0    0    0    0    0    0    0    0    0    0    0    0    0\n",
            "    0    0    0    0    0    0    0    0    0    0    0    0    0    0\n",
            "    0    0    0    0    0    0    0    0    0    0    0    0    0    0\n",
            "    0    0    0    0    0    0    0    0    0    0    0    0    0    0\n",
            "    0    0    0    0    0    0    0    0    0    0    0    0    0    0\n",
            "    0    0    0    0    0    0    0    0    0    0    0    0    0    0\n",
            "    0    0    0    0    0    0    0    0    0    0    0    0    0    0\n",
            "    0    0    0    0    0    0    0    0    0    0    0    0    0    0\n",
            "    0    0    0    0    0    0    0    0    0    0    0    0    0    0\n",
            "    0    0    0    0    0    0    0    0    0    0    0    0    0    0\n",
            "    0    0    0    0    0    0    0    0    0    0    0    0    0    0\n",
            "    0    0    0    0    0    0    0    0    0    0    0    0    0    0\n",
            "    0    0    0    0    0    0    0    0    0    0    0    0    0    0\n",
            "    0    0    0    0    0    0    0    0    0    0    0    0    0    0\n",
            "    0    0    0    0    0    0    0    0    0    0    0    0    0    0\n",
            "    0    0    0    0    0    0    0    0    0    0    0    0    0    0\n",
            "    0    0    0    0    0    0    0    0    0    0    0    0    0    0\n",
            "    0    0    0    0    0    0    0    0    0    0    0    0    0    0\n",
            "    0    0    0    0    0    0    0    0    0    0    0    0    0  466\n",
            "  202   34 2672  202   20  321 2525  202   34 8347  202   20 3537  296\n",
            " 3815   78 6163 2108 3023  569   66  106 2672  223  202   20 6048  102\n",
            " 1353  966   29 3608    5 3815    5  111   64 1747  966 1060 3608    5\n",
            " 3815    5  861  106 1060    5  605 3815 6442   97 1890    5  147  719\n",
            "   20  234   65  893   60  420  234 2248  106  445 4084 1658 1538 7436\n",
            " 4469  322  384  322  221  953  789  950  239 2525  173  138  202   34\n",
            "  228    5  173  296 7650  138  719   34  458   69   42  453 4766  756\n",
            " 1203 1072  356    5  228   20   32  138  719   34  458   69   25   42\n",
            " 2351 1072 1269 1031 1039 8107 1712 1072  548 3582 2194  605    5  356\n",
            " 3815   48 8108 1890  147  719   20  138   20  257  479  202   57  458\n",
            "   69 4540 8107 1712 1072  562    5  605   20   32    5   45 1515  458\n",
            "   69   25  453 4766 1072 3298 1039  756 1246  365  215  173  505   32\n",
            "    5   45 1515   86 3299  213    5    5 9304  213    5 6872 1166 3300\n",
            "  772 5686    5  719   23    5 3324  122  147  719   20 3815   48   97\n",
            " 1890 6048  301    5    5   17 1554  133    9  122  147  719   20 3815\n",
            "   48   97 1890 6048  408    5 9304  213    5    5  104   17  133    9\n",
            "    5  257  122  147  719 3815   48   97 1890 6048  356  458 1405 2092\n",
            " 6873  594 2286 1391  334  275  164    5  184    9  275 3890  594  674\n",
            " 1340 3815  235   72  133 3815 3815 6296  294 3815  277 6163   13   76\n",
            " 3815 3356  286 5252  139 1172   96 3815 6443  141  200 6163  155   58\n",
            "  424   66  451  524 3023  569]\n"
          ]
        }
      ]
    },
    {
      "cell_type": "markdown",
      "source": [
        "## Creating training, testing and validation sets"
      ],
      "metadata": {
        "id": "RA7xlpEYE7UH"
      }
    },
    {
      "cell_type": "code",
      "source": [
        " # Split the data into training (80%) and testing (20%) sets\n",
        " X_train, X_test, y_train, y_test = train_test_split(padded_sequences, labels, test_size=0.2, random_state=42)\n",
        "\n",
        " # Split the training set into training (75%) and validation (25%) sets\n",
        "X_train, X_val, y_train, y_val = train_test_split(X_train, y_train, test_size=0.25, random_state=42)\n",
        "\n",
        "\n",
        "print(\"Shape of X_train:\", X_train.shape)\n",
        "print(\"First few samples of X_train:\", X_train[:2])\n",
        "print(len(X_train))\n",
        "print(X_train[1])\n",
        "print(y_train[1])\n"
      ],
      "metadata": {
        "colab": {
          "base_uri": "https://localhost:8080/"
        },
        "id": "aVnJ7sH9Fjdz",
        "outputId": "6444dae1-d6e5-4244-fa90-bfa204e25d79"
      },
      "execution_count": 13,
      "outputs": [
        {
          "output_type": "stream",
          "name": "stdout",
          "text": [
            "Shape of X_train: (2091, 1000)\n",
            "First few samples of X_train: [[   0    0    0 ...  580 9868 5714]\n",
            " [   0    0    0 ...  115  267 1101]]\n",
            "2091\n",
            "[   0    0    0    0    0    0    0    0    0    0    0    0    0    0\n",
            "    0    0    0    0    0    0    0    0    0    0    0    0    0    0\n",
            "    0    0    0    0    0    0    0    0    0    0    0    0    0    0\n",
            "    0    0    0    0    0    0    0    0    0    0    0    0    0    0\n",
            "    0    0    0    0    0    0    0    0    0    0    0    0    0    0\n",
            "    0    0    0    0    0    0    0    0    0    0    0    0    0    0\n",
            "    0    0    0    0    0    0    0    0    0    0    0    0    0    0\n",
            "    0    0    0 5101 5374 5375  275  405  143 5376   66 5377  100  704\n",
            "  138    1   34 1548   63  815  617   12   11 1660  253   45  326 5281\n",
            "   85    7   27   34  405   16 2390 1186  405  789 3008 5378  335  511\n",
            "   20 5379  558   46   27   20   94 2581  977   88 5380   12    1  381\n",
            " 1485 1125 1524 2786 5381 2362 2738   12  341   27   94 2390 3740   12\n",
            "  225   27   25 2362  158 3310   12  587    6  111 1135  133  587   24\n",
            "  215    9  343   24 2390 3626   12 1618   24  161 1760  622 2362  166\n",
            "   12  579  380  402 1760  622 3255  522   20   27  366 3255  223  445\n",
            " 5382 3590  891 1781   43 1360 5383    3  577  585 1320 5102  128   11\n",
            "   65  115  267 1101   45    7    1  550 1208   46 1208 2898 5384 2913\n",
            " 4250 3256 2726  396  640   86 5257  649 5385 2040 3256 2726  396  640\n",
            "  579  563 1166  622 3415  579  306 5386  597  187   16  587   24  744\n",
            " 1454  677   59  111 1135  560 4200 1367   10 3105  275  569 1454  111\n",
            " 1135  560 5387  560  275 4929  275  302 1454  426  560  313 3132 3772\n",
            " 2616 5388  313 3132  275 1273 1454  111 1135  560 5103 2211  693 2512\n",
            " 5389  275 4251  677  744  133 5390  310 5282 5283 5391  275  302 1454\n",
            "  677   59  426  560 3074  187   16  323  138    1   34   27  801 3257\n",
            " 3300   97 5392  275 1351 5174 2574   43   53 4930  457 1943 1197  889\n",
            " 1344  673  121  217  354 5104  116  145 3166  504   44 3304  226 4793\n",
            " 1106  999 5175  252  886 1408 3360 1285   35  244  421 2013 3162 5393\n",
            " 5394    1  283   25 2459 2013 1106 1584 1209   35   94 2635   35  129\n",
            "  869  338 3219 1512 2581   94 2603  718   27  306  402 5395  726   52\n",
            "   61    3  268  283  122 2412    1   58 5396 1141  660    1  792    1\n",
            " 4249  271 1585   29  101 4489 1557  532 4560 2264 3823   35 5397   25\n",
            "  181 1355 2013  164  217 4201    1   29 1355  746 1739 2760 1209   94\n",
            "   35  252  886  217 1443 5011 3781 2981  181 1125  863 3220 2786 5398\n",
            " 1078   46  252  886 2363 1443   75 1106 1584 2635 1144 1131 1493  420\n",
            "  175 2688  164  217 1106 1584 4794   29  341  346 2435 1586    1  225\n",
            "   27   25 5012  819 1362 1524 3220    1  471  468 5105  636 4864  346\n",
            " 1131 1654  175   52  682 5284  548   94   27 5399  811  138  612  341\n",
            "  587   34  801 5400  201  810 5401  988  275 1351  464  105  464  103\n",
            "   53 5013   29  233  324  290 4490 1654    1  233 5106 3191    1 1485\n",
            " 2914  343 3133 1255   40 3161  983  215 5285 3214   11   12   94 1803\n",
            "  341 1384  146  150  362 3627  403   27 1086  146 1979  366    9 3343\n",
            " 3859  729   83   61   51 1963  777 4252 2533  243 2364  133  161   20\n",
            "   51  150   24  476  341  215 3258  453  268 4865   82  947  453   44\n",
            "  565 3070 1197 2714   28   94  376    9 2942   84 1050  269  109   46\n",
            " 4491   83 1274  565  357 1053  841  847   29    8 5402  158 5014   45\n",
            "  310  713 1144 4931 3281 2823 1290 1708  116   24 1031 2621  534 4435\n",
            "  539  176  142  169 1584  831  283  341   51 5403 1377  268 4098  435\n",
            " 1014  680  169  341  154 1242  403  274  969 1207  271  532 1860 4795\n",
            "  497  371   80  116   69    3  233  353  220  587    6 2437  181  122\n",
            " 2621  341 1144 3418 1074   52  412 1323  142   83 2942  122  341    3\n",
            "  233 2811  169 1573  458  534 1562  819 1362 2811  534  220  233 1974\n",
            "  341    3 1209 3068 3258  534 1974 1187  138  612 1673 4643  801 3074\n",
            " 5286   27   30   16 1351  700 5107  526  134   53 2812   24   27   51\n",
            "  869 1252 5404 5287 5405  667 2008 5406 5407  622  579 1618 1017 2296\n",
            " 2622 1063  649   61  111 1135  133 4932  353  220   24 2045  142 1035\n",
            " 2339 1687  377 5176  421  121 1045  908 2499 1335 1059  377 5408 3949\n",
            " 1165 1252 1045  109   40 1998 3259 1121 1307  215  121  116  377 5177\n",
            "  205   24  116  220  642 5178  205  121   42  116  377   24  642 1335\n",
            " 5015 1164 2266 4492  649   61 1773 5409 1017 2296 1618  579  343   75\n",
            " 1687 1335 5410 2314  215  205   24 5411  560  184  243  243  462  843\n",
            "   24  310  675  560  341   27 2658 1196  112 2812  462  154   27  851\n",
            "  150 5412  397 4796  891 2613 3465  343 3259 1121 2226 1777  908 1513\n",
            " 5413  220  353  116  732 3628   24  122 5414  112  205   24  138  612\n",
            "   35   34  801   40  597  130   32   16 1351  533 5179  389  144   53\n",
            " 5415  225   25  388   95   94 5108 4797 3860 4493  402  380 3698   94\n",
            "   14  701  402  579  380 3782  421   94  579  380 5416   36 1510 4253\n",
            "  579  380 4254 1232  579  380   82   29    8  198  106 4644   20  370\n",
            "  264   27  366 1094   48 5417 5180  118   29   11 5016 1773 5418 1509\n",
            " 5419  825 5420 2498   29  722 5421    5  445 5422  877   15  633   15\n",
            " 4645   72  356  228  118  693   72 5423  437 2684  680   37   55   13\n",
            "   76 1202 2145  526 2102  139   77  202   58  424  774   58  982  774\n",
            "  234  126   65  115  267 1101]\n",
            "[0, 0, 0, 1, 0, 0, 0, 0, 0, 0, 0, 0, 0, 0, 0, 0, 0, 0, 1, 0, 0, 0, 0, 0, 0, 0, 0, 0, 0, 0, 1, 0, 0, 0, 0, 0, 0, 0, 0, 0, 0, 0, 0, 0, 0, 0, 0, 0, 0, 0, 0, 0, 0, 0, 0, 0, 0, 0, 0, 0, 0, 0, 0, 0, 0, 0, 0, 1, 0, 0, 0, 0, 0, 0, 0, 0, 0, 0, 0, 0, 0, 0, 0, 0, 0, 0, 0, 0, 0, 0, 0, 0, 0, 0, 0, 0, 0, 0, 0, 0, 0, 0, 0, 0, 1, 0, 0, 0, 0, 0, 0, 0, 0, 0, 0, 0, 0, 0, 0, 0, 0, 0, 0]\n"
          ]
        }
      ]
    },
    {
      "cell_type": "markdown",
      "source": [
        "##Handling None values in X_val"
      ],
      "metadata": {
        "id": "hgiNzFgfQ__a"
      }
    },
    {
      "cell_type": "code",
      "source": [
        "# Handle None values in X_val (replace with 0 for example)\n",
        "X_val = np.nan_to_num(X_val, nan=0.0)\n",
        "\n",
        "# Check if handling worked\n",
        "if np.any(np.isnan(X_val)):\n",
        "    print(\"X_val still contains None values.\")\n",
        "else:\n",
        "    print(\"X_val does not contain None values.\")\n"
      ],
      "metadata": {
        "colab": {
          "base_uri": "https://localhost:8080/"
        },
        "id": "BTi23xRqQ8O1",
        "outputId": "bc3ce949-9382-42e6-906e-3f66210a17f5"
      },
      "execution_count": 14,
      "outputs": [
        {
          "output_type": "stream",
          "name": "stdout",
          "text": [
            "X_val does not contain None values.\n"
          ]
        }
      ]
    },
    {
      "cell_type": "markdown",
      "source": [
        "## Building the model"
      ],
      "metadata": {
        "id": "dWX1EqFgOKB1"
      }
    },
    {
      "cell_type": "code",
      "source": [
        "model_1 = Sequential([\n",
        "    Embedding(vocab_size, embedding_dim),\n",
        "    Bidirectional(LSTM(64, return_sequences=True)),\n",
        "    Bidirectional(LSTM(32)),\n",
        "    Dense(len(keywords), activation='sigmoid')\n",
        "])\n",
        "\n"
      ],
      "metadata": {
        "id": "EQZlBHUTYb8q"
      },
      "execution_count": 15,
      "outputs": []
    },
    {
      "cell_type": "markdown",
      "source": [
        "##Compiling, training and saving the model"
      ],
      "metadata": {
        "id": "Dte9SAigZh_i"
      }
    },
    {
      "cell_type": "code",
      "source": [
        "#Compiling the model\n",
        "model_1.compile(\n",
        "    loss = 'binary_crossentropy',\n",
        "    optimizer = Adam(learning_rate=0.001),\n",
        "    metrics = METRICS\n",
        ")\n",
        "\n",
        "# Convert X_train, X_val, y_train, y_val to numpy arrays if they aren't already\n",
        "X_train = np.asarray(X_train, dtype=np.float32)\n",
        "X_val = np.asarray(X_val, dtype=np.float32)\n",
        "X_test = np.asarray(X_test, dtype=np.float32)\n",
        "y_train = np.asarray(y_train, dtype=np.float32) # Convert y_train to NumPy array\n",
        "y_val = np.asarray(y_val, dtype=np.float32)   # Convert y_val to NumPy array\n",
        "y_test = np.asarray(y_test, dtype=np.float32) # Convert y_test to NumPy array\n",
        "# Check and potentially adjust the batch size to be consistent\n",
        "batch_size = 17  # Or a smaller value if memory is an issue\n",
        "if X_train.shape[0] % batch_size != 0 or X_val.shape[0] % batch_size != 0:\n",
        "    print(\"Warning: Batch size does not divide evenly into the number of samples. Consider adjusting the batch size.\")\n",
        "\n",
        "#Training the model\n",
        "history_model_1 = model_1.fit(\n",
        "    X_train, y_train,\n",
        "    validation_data = (X_val, y_val),\n",
        "    epochs = 10,\n",
        "\n",
        ")\n",
        "\n",
        "#Saving the model\n",
        "model_1.save('model_1.keras')\n",
        "with open('history_model_1.json', 'w') as f:\n",
        "    json.dump(history_model_1.history, f)"
      ],
      "metadata": {
        "colab": {
          "base_uri": "https://localhost:8080/"
        },
        "id": "I2hutxw9jkdY",
        "outputId": "c6ae0807-0b04-4fd7-8f21-c820793b5efa"
      },
      "execution_count": 16,
      "outputs": [
        {
          "output_type": "stream",
          "name": "stdout",
          "text": [
            "Warning: Batch size does not divide evenly into the number of samples. Consider adjusting the batch size.\n",
            "Epoch 1/10\n",
            "\u001b[1m66/66\u001b[0m \u001b[32m━━━━━━━━━━━━━━━━━━━━\u001b[0m\u001b[37m\u001b[0m \u001b[1m25s\u001b[0m 183ms/step - accuracy: 0.8501 - auc: 0.6403 - fn: 2677.5076 - fp: 10953.2988 - loss: 0.4619 - precision: 0.0550 - recall: 0.2415 - tn: 119386.7188 - tp: 670.6269 - val_accuracy: 0.9756 - val_auc: 0.9186 - val_fn: 1777.0000 - val_fp: 322.0000 - val_loss: 0.0879 - val_precision: 0.5387 - val_recall: 0.1746 - val_tn: 83379.0000 - val_tp: 376.0000\n",
            "Epoch 2/10\n",
            "\u001b[1m66/66\u001b[0m \u001b[32m━━━━━━━━━━━━━━━━━━━━\u001b[0m\u001b[37m\u001b[0m \u001b[1m12s\u001b[0m 151ms/step - accuracy: 0.9738 - auc: 0.9269 - fn: 3213.1194 - fp: 256.3582 - loss: 0.0861 - precision: 0.4446 - recall: 0.0645 - tn: 130008.8203 - tp: 209.8508 - val_accuracy: 0.9756 - val_auc: 0.9399 - val_fn: 1777.0000 - val_fp: 322.0000 - val_loss: 0.0764 - val_precision: 0.5387 - val_recall: 0.1746 - val_tn: 83379.0000 - val_tp: 376.0000\n",
            "Epoch 3/10\n",
            "\u001b[1m66/66\u001b[0m \u001b[32m━━━━━━━━━━━━━━━━━━━━\u001b[0m\u001b[37m\u001b[0m \u001b[1m8s\u001b[0m 124ms/step - accuracy: 0.9750 - auc: 0.9408 - fn: 3043.2090 - fp: 313.9403 - loss: 0.0758 - precision: 0.4915 - recall: 0.1110 - tn: 130027.5938 - tp: 303.4030 - val_accuracy: 0.9756 - val_auc: 0.9443 - val_fn: 1777.0000 - val_fp: 322.0000 - val_loss: 0.0735 - val_precision: 0.5387 - val_recall: 0.1746 - val_tn: 83379.0000 - val_tp: 376.0000\n",
            "Epoch 4/10\n",
            "\u001b[1m66/66\u001b[0m \u001b[32m━━━━━━━━━━━━━━━━━━━━\u001b[0m\u001b[37m\u001b[0m \u001b[1m9s\u001b[0m 144ms/step - accuracy: 0.9751 - auc: 0.9441 - fn: 3104.5969 - fp: 242.5224 - loss: 0.0736 - precision: 0.4944 - recall: 0.0830 - tn: 130101.4609 - tp: 239.5672 - val_accuracy: 0.9752 - val_auc: 0.9494 - val_fn: 1820.0000 - val_fp: 311.0000 - val_loss: 0.0711 - val_precision: 0.5171 - val_recall: 0.1547 - val_tn: 83390.0000 - val_tp: 333.0000\n",
            "Epoch 5/10\n",
            "\u001b[1m66/66\u001b[0m \u001b[32m━━━━━━━━━━━━━━━━━━━━\u001b[0m\u001b[37m\u001b[0m \u001b[1m9s\u001b[0m 138ms/step - accuracy: 0.9743 - auc: 0.9492 - fn: 3179.9851 - fp: 254.6269 - loss: 0.0720 - precision: 0.4619 - recall: 0.0599 - tn: 130018.0469 - tp: 235.4925 - val_accuracy: 0.9753 - val_auc: 0.9598 - val_fn: 2113.0000 - val_fp: 7.0000 - val_loss: 0.0659 - val_precision: 0.8511 - val_recall: 0.0186 - val_tn: 83694.0000 - val_tp: 40.0000\n",
            "Epoch 6/10\n",
            "\u001b[1m66/66\u001b[0m \u001b[32m━━━━━━━━━━━━━━━━━━━━\u001b[0m\u001b[37m\u001b[0m \u001b[1m10s\u001b[0m 129ms/step - accuracy: 0.9749 - auc: 0.9591 - fn: 3098.4031 - fp: 232.6567 - loss: 0.0664 - precision: 0.5681 - recall: 0.0743 - tn: 130073.6250 - tp: 283.4627 - val_accuracy: 0.9767 - val_auc: 0.9616 - val_fn: 1650.0000 - val_fp: 350.0000 - val_loss: 0.0636 - val_precision: 0.5897 - val_recall: 0.2336 - val_tn: 83351.0000 - val_tp: 503.0000\n",
            "Epoch 7/10\n",
            "\u001b[1m66/66\u001b[0m \u001b[32m━━━━━━━━━━━━━━━━━━━━\u001b[0m\u001b[37m\u001b[0m \u001b[1m11s\u001b[0m 137ms/step - accuracy: 0.9765 - auc: 0.9616 - fn: 2842.0747 - fp: 276.0000 - loss: 0.0638 - precision: 0.6560 - recall: 0.1772 - tn: 129994.4609 - tp: 575.6119 - val_accuracy: 0.9770 - val_auc: 0.9622 - val_fn: 1908.0000 - val_fp: 69.0000 - val_loss: 0.0624 - val_precision: 0.7803 - val_recall: 0.1138 - val_tn: 83632.0000 - val_tp: 245.0000\n",
            "Epoch 8/10\n",
            "\u001b[1m66/66\u001b[0m \u001b[32m━━━━━━━━━━━━━━━━━━━━\u001b[0m\u001b[37m\u001b[0m \u001b[1m9s\u001b[0m 139ms/step - accuracy: 0.9779 - auc: 0.9636 - fn: 2862.9553 - fp: 102.8060 - loss: 0.0612 - precision: 0.8419 - recall: 0.1545 - tn: 130168.9375 - tp: 553.4478 - val_accuracy: 0.9771 - val_auc: 0.9629 - val_fn: 1909.0000 - val_fp: 60.0000 - val_loss: 0.0617 - val_precision: 0.8026 - val_recall: 0.1133 - val_tn: 83641.0000 - val_tp: 244.0000\n",
            "Epoch 9/10\n",
            "\u001b[1m66/66\u001b[0m \u001b[32m━━━━━━━━━━━━━━━━━━━━\u001b[0m\u001b[37m\u001b[0m \u001b[1m11s\u001b[0m 153ms/step - accuracy: 0.9775 - auc: 0.9620 - fn: 2715.8955 - fp: 261.9105 - loss: 0.0621 - precision: 0.7594 - recall: 0.2050 - tn: 129985.6562 - tp: 724.6866 - val_accuracy: 0.9774 - val_auc: 0.9637 - val_fn: 1828.0000 - val_fp: 109.0000 - val_loss: 0.0609 - val_precision: 0.7488 - val_recall: 0.1510 - val_tn: 83592.0000 - val_tp: 325.0000\n",
            "Epoch 10/10\n",
            "\u001b[1m66/66\u001b[0m \u001b[32m━━━━━━━━━━━━━━━━━━━━\u001b[0m\u001b[37m\u001b[0m \u001b[1m8s\u001b[0m 129ms/step - accuracy: 0.9790 - auc: 0.9631 - fn: 2674.8657 - fp: 174.9552 - loss: 0.0583 - precision: 0.7882 - recall: 0.1768 - tn: 130200.6250 - tp: 637.7015 - val_accuracy: 0.9775 - val_auc: 0.9637 - val_fn: 1803.0000 - val_fp: 130.0000 - val_loss: 0.0601 - val_precision: 0.7292 - val_recall: 0.1626 - val_tn: 83571.0000 - val_tp: 350.0000\n"
          ]
        }
      ]
    },
    {
      "cell_type": "code",
      "source": [
        "model_1.summary()"
      ],
      "metadata": {
        "colab": {
          "base_uri": "https://localhost:8080/",
          "height": 273
        },
        "id": "C9OVnOtFad3F",
        "outputId": "49458c46-60d9-40f2-d807-b1c8c0d83396"
      },
      "execution_count": 17,
      "outputs": [
        {
          "output_type": "display_data",
          "data": {
            "text/plain": [
              "\u001b[1mModel: \"sequential\"\u001b[0m\n"
            ],
            "text/html": [
              "<pre style=\"white-space:pre;overflow-x:auto;line-height:normal;font-family:Menlo,'DejaVu Sans Mono',consolas,'Courier New',monospace\"><span style=\"font-weight: bold\">Model: \"sequential\"</span>\n",
              "</pre>\n"
            ]
          },
          "metadata": {}
        },
        {
          "output_type": "display_data",
          "data": {
            "text/plain": [
              "┏━━━━━━━━━━━━━━━━━━━━━━━━━━━━━━━━━━━━━━┳━━━━━━━━━━━━━━━━━━━━━━━━━━━━━┳━━━━━━━━━━━━━━━━━┓\n",
              "┃\u001b[1m \u001b[0m\u001b[1mLayer (type)                        \u001b[0m\u001b[1m \u001b[0m┃\u001b[1m \u001b[0m\u001b[1mOutput Shape               \u001b[0m\u001b[1m \u001b[0m┃\u001b[1m \u001b[0m\u001b[1m        Param #\u001b[0m\u001b[1m \u001b[0m┃\n",
              "┡━━━━━━━━━━━━━━━━━━━━━━━━━━━━━━━━━━━━━━╇━━━━━━━━━━━━━━━━━━━━━━━━━━━━━╇━━━━━━━━━━━━━━━━━┩\n",
              "│ embedding (\u001b[38;5;33mEmbedding\u001b[0m)                │ (\u001b[38;5;45mNone\u001b[0m, \u001b[38;5;34m1000\u001b[0m, \u001b[38;5;34m128\u001b[0m)           │       \u001b[38;5;34m1,280,000\u001b[0m │\n",
              "├──────────────────────────────────────┼─────────────────────────────┼─────────────────┤\n",
              "│ bidirectional (\u001b[38;5;33mBidirectional\u001b[0m)        │ (\u001b[38;5;45mNone\u001b[0m, \u001b[38;5;34m1000\u001b[0m, \u001b[38;5;34m128\u001b[0m)           │          \u001b[38;5;34m98,816\u001b[0m │\n",
              "├──────────────────────────────────────┼─────────────────────────────┼─────────────────┤\n",
              "│ bidirectional_1 (\u001b[38;5;33mBidirectional\u001b[0m)      │ (\u001b[38;5;45mNone\u001b[0m, \u001b[38;5;34m64\u001b[0m)                  │          \u001b[38;5;34m41,216\u001b[0m │\n",
              "├──────────────────────────────────────┼─────────────────────────────┼─────────────────┤\n",
              "│ dense (\u001b[38;5;33mDense\u001b[0m)                        │ (\u001b[38;5;45mNone\u001b[0m, \u001b[38;5;34m123\u001b[0m)                 │           \u001b[38;5;34m7,995\u001b[0m │\n",
              "└──────────────────────────────────────┴─────────────────────────────┴─────────────────┘\n"
            ],
            "text/html": [
              "<pre style=\"white-space:pre;overflow-x:auto;line-height:normal;font-family:Menlo,'DejaVu Sans Mono',consolas,'Courier New',monospace\">┏━━━━━━━━━━━━━━━━━━━━━━━━━━━━━━━━━━━━━━┳━━━━━━━━━━━━━━━━━━━━━━━━━━━━━┳━━━━━━━━━━━━━━━━━┓\n",
              "┃<span style=\"font-weight: bold\"> Layer (type)                         </span>┃<span style=\"font-weight: bold\"> Output Shape                </span>┃<span style=\"font-weight: bold\">         Param # </span>┃\n",
              "┡━━━━━━━━━━━━━━━━━━━━━━━━━━━━━━━━━━━━━━╇━━━━━━━━━━━━━━━━━━━━━━━━━━━━━╇━━━━━━━━━━━━━━━━━┩\n",
              "│ embedding (<span style=\"color: #0087ff; text-decoration-color: #0087ff\">Embedding</span>)                │ (<span style=\"color: #00d7ff; text-decoration-color: #00d7ff\">None</span>, <span style=\"color: #00af00; text-decoration-color: #00af00\">1000</span>, <span style=\"color: #00af00; text-decoration-color: #00af00\">128</span>)           │       <span style=\"color: #00af00; text-decoration-color: #00af00\">1,280,000</span> │\n",
              "├──────────────────────────────────────┼─────────────────────────────┼─────────────────┤\n",
              "│ bidirectional (<span style=\"color: #0087ff; text-decoration-color: #0087ff\">Bidirectional</span>)        │ (<span style=\"color: #00d7ff; text-decoration-color: #00d7ff\">None</span>, <span style=\"color: #00af00; text-decoration-color: #00af00\">1000</span>, <span style=\"color: #00af00; text-decoration-color: #00af00\">128</span>)           │          <span style=\"color: #00af00; text-decoration-color: #00af00\">98,816</span> │\n",
              "├──────────────────────────────────────┼─────────────────────────────┼─────────────────┤\n",
              "│ bidirectional_1 (<span style=\"color: #0087ff; text-decoration-color: #0087ff\">Bidirectional</span>)      │ (<span style=\"color: #00d7ff; text-decoration-color: #00d7ff\">None</span>, <span style=\"color: #00af00; text-decoration-color: #00af00\">64</span>)                  │          <span style=\"color: #00af00; text-decoration-color: #00af00\">41,216</span> │\n",
              "├──────────────────────────────────────┼─────────────────────────────┼─────────────────┤\n",
              "│ dense (<span style=\"color: #0087ff; text-decoration-color: #0087ff\">Dense</span>)                        │ (<span style=\"color: #00d7ff; text-decoration-color: #00d7ff\">None</span>, <span style=\"color: #00af00; text-decoration-color: #00af00\">123</span>)                 │           <span style=\"color: #00af00; text-decoration-color: #00af00\">7,995</span> │\n",
              "└──────────────────────────────────────┴─────────────────────────────┴─────────────────┘\n",
              "</pre>\n"
            ]
          },
          "metadata": {}
        },
        {
          "output_type": "display_data",
          "data": {
            "text/plain": [
              "\u001b[1m Total params: \u001b[0m\u001b[38;5;34m4,284,083\u001b[0m (16.34 MB)\n"
            ],
            "text/html": [
              "<pre style=\"white-space:pre;overflow-x:auto;line-height:normal;font-family:Menlo,'DejaVu Sans Mono',consolas,'Courier New',monospace\"><span style=\"font-weight: bold\"> Total params: </span><span style=\"color: #00af00; text-decoration-color: #00af00\">4,284,083</span> (16.34 MB)\n",
              "</pre>\n"
            ]
          },
          "metadata": {}
        },
        {
          "output_type": "display_data",
          "data": {
            "text/plain": [
              "\u001b[1m Trainable params: \u001b[0m\u001b[38;5;34m1,428,027\u001b[0m (5.45 MB)\n"
            ],
            "text/html": [
              "<pre style=\"white-space:pre;overflow-x:auto;line-height:normal;font-family:Menlo,'DejaVu Sans Mono',consolas,'Courier New',monospace\"><span style=\"font-weight: bold\"> Trainable params: </span><span style=\"color: #00af00; text-decoration-color: #00af00\">1,428,027</span> (5.45 MB)\n",
              "</pre>\n"
            ]
          },
          "metadata": {}
        },
        {
          "output_type": "display_data",
          "data": {
            "text/plain": [
              "\u001b[1m Non-trainable params: \u001b[0m\u001b[38;5;34m0\u001b[0m (0.00 B)\n"
            ],
            "text/html": [
              "<pre style=\"white-space:pre;overflow-x:auto;line-height:normal;font-family:Menlo,'DejaVu Sans Mono',consolas,'Courier New',monospace\"><span style=\"font-weight: bold\"> Non-trainable params: </span><span style=\"color: #00af00; text-decoration-color: #00af00\">0</span> (0.00 B)\n",
              "</pre>\n"
            ]
          },
          "metadata": {}
        },
        {
          "output_type": "display_data",
          "data": {
            "text/plain": [
              "\u001b[1m Optimizer params: \u001b[0m\u001b[38;5;34m2,856,056\u001b[0m (10.89 MB)\n"
            ],
            "text/html": [
              "<pre style=\"white-space:pre;overflow-x:auto;line-height:normal;font-family:Menlo,'DejaVu Sans Mono',consolas,'Courier New',monospace\"><span style=\"font-weight: bold\"> Optimizer params: </span><span style=\"color: #00af00; text-decoration-color: #00af00\">2,856,056</span> (10.89 MB)\n",
              "</pre>\n"
            ]
          },
          "metadata": {}
        }
      ]
    },
    {
      "cell_type": "markdown",
      "source": [
        "##Reloading the model results"
      ],
      "metadata": {
        "id": "VXuYyxicYFgt"
      }
    },
    {
      "cell_type": "code",
      "source": [
        "model_1 = tf.keras.models.load_model('model_1.keras')\n",
        "with open('history_model_1.json') as f:\n",
        "    history_model_1 = json.load(f)"
      ],
      "metadata": {
        "id": "eqgYxK-1YI62"
      },
      "execution_count": 18,
      "outputs": []
    },
    {
      "cell_type": "markdown",
      "source": [
        "##Plotting the training history"
      ],
      "metadata": {
        "id": "Rrba6mTxNlqD"
      }
    },
    {
      "cell_type": "code",
      "source": [
        "acc = history_model_1['accuracy']\n",
        "val_acc = history_model_1['val_accuracy']\n",
        "loss = history_model_1['loss']\n",
        "val_loss = history_model_1['val_loss']\n",
        "\n",
        "epochs = range(len(acc))\n",
        "\n",
        "\n",
        "plt.plot(epochs, acc, 'ro', label='Training acc')\n",
        "plt.plot(epochs, val_acc, 'b', label='Validation acc')\n",
        "plt.title('Training and validation accuracy')\n",
        "plt.legend()\n",
        "\n",
        "plt.figure()\n",
        "\n",
        "plt.plot(epochs, loss, 'ro', label='Training loss')\n",
        "plt.plot(epochs, val_loss, 'b', label='Validation loss')\n",
        "plt.title('Example training and validation loss')\n",
        "plt.legend()\n",
        "\n",
        "plt.show()"
      ],
      "metadata": {
        "colab": {
          "base_uri": "https://localhost:8080/",
          "height": 887
        },
        "id": "JLF3MrnRNn1q",
        "outputId": "9ce71e1e-25c4-428f-f895-1fc5b220915c"
      },
      "execution_count": 19,
      "outputs": [
        {
          "output_type": "display_data",
          "data": {
            "text/plain": [
              "<Figure size 640x480 with 1 Axes>"
            ],
            "image/png": "[encoded data removed]"
          },
          "metadata": {}
        },
        {
          "output_type": "display_data",
          "data": {
            "text/plain": [
              "<Figure size 640x480 with 1 Axes>"
            ],
            "image/png": "[encoded data removed]"
          },
          "metadata": {}
        }
      ]
    },
    {
      "cell_type": "markdown",
      "source": [
        "## Evaluating model_1"
      ],
      "metadata": {
        "id": "OdWufqBqQH0y"
      }
    },
    {
      "cell_type": "code",
      "source": [
        "model_1.evaluate(X_test, y_test)"
      ],
      "metadata": {
        "colab": {
          "base_uri": "https://localhost:8080/"
        },
        "id": "dgSbioKxQKPC",
        "outputId": "87280740-7b16-4f98-b4c3-efe2e0f90843"
      },
      "execution_count": 20,
      "outputs": [
        {
          "output_type": "stream",
          "name": "stdout",
          "text": [
            "\u001b[1m22/22\u001b[0m \u001b[32m━━━━━━━━━━━━━━━━━━━━\u001b[0m\u001b[37m\u001b[0m \u001b[1m2s\u001b[0m 59ms/step - accuracy: 0.9795 - auc: 0.9665 - fn: 901.9130 - fp: 74.5217 - loss: 0.0562 - precision: 0.7569 - recall: 0.1942 - tn: 45804.7812 - tp: 215.4783\n"
          ]
        },
        {
          "output_type": "execute_result",
          "data": {
            "text/plain": [
              "[0.05761966481804848,\n",
              " 0.9789409637451172,\n",
              " 0.739047646522522,\n",
              " 0.18844099342823029,\n",
              " 0.964311420917511,\n",
              " 388.0,\n",
              " 137.0,\n",
              " 83658.0,\n",
              " 1671.0]"
            ]
          },
          "metadata": {},
          "execution_count": 20
        }
      ]
    },
    {
      "cell_type": "markdown",
      "source": [
        "##Confusion Matrix"
      ],
      "metadata": {
        "id": "l8CxVa1mxE-Y"
      }
    },
    {
      "cell_type": "markdown",
      "source": [
        "##Predictions"
      ],
      "metadata": {
        "id": "Yw11N9XC2vo5"
      }
    },
    {
      "cell_type": "code",
      "source": [
        "test_predictions = model_1.predict(X_test)\n",
        "print(test_predictions)"
      ],
      "metadata": {
        "colab": {
          "base_uri": "https://localhost:8080/"
        },
        "id": "r17cVGsS2y1i",
        "outputId": "d81f8c87-df66-4e57-8ab6-2a31c1e57ae3"
      },
      "execution_count": 26,
      "outputs": [
        {
          "output_type": "stream",
          "name": "stdout",
          "text": [
            "\u001b[1m22/22\u001b[0m \u001b[32m━━━━━━━━━━━━━━━━━━━━\u001b[0m\u001b[37m\u001b[0m \u001b[1m2s\u001b[0m 103ms/step\n",
            "[[0.00070802 0.00351229 0.01585434 ... 0.00109969 0.00100874 0.00459544]\n",
            " [0.00070576 0.00350411 0.01582793 ... 0.00109686 0.00100491 0.00458871]\n",
            " [0.00070699 0.00350851 0.01584225 ... 0.00109838 0.001007   0.00459239]\n",
            " ...\n",
            " [0.00070854 0.00351404 0.01586012 ... 0.00110034 0.00100959 0.00459718]\n",
            " [0.00070718 0.00350936 0.01584489 ... 0.00109861 0.00100727 0.00459327]\n",
            " [0.00070677 0.00350785 0.01583956 ... 0.00109811 0.00100662 0.00459173]]\n"
          ]
        }
      ]
    },
    {
      "cell_type": "markdown",
      "source": [
        "##Converting predictions to binary"
      ],
      "metadata": {
        "id": "2WzXaPOK2_8J"
      }
    },
    {
      "cell_type": "code",
      "source": [
        "binary_predictions = (test_predictions > 0.5).astype(int)"
      ],
      "metadata": {
        "id": "IeBqBpD83DbR"
      },
      "execution_count": 22,
      "outputs": []
    },
    {
      "cell_type": "markdown",
      "source": [
        "##Binary labels"
      ],
      "metadata": {
        "id": "UGbrtDeZ3KkG"
      }
    },
    {
      "cell_type": "code",
      "source": [
        "def words_to_binary(word_labels, keywords):\n",
        "  \"\"\"\n",
        "  Converts a list of word labels to binary labels.\n",
        "\n",
        "  Args:\n",
        "    word_labels: A list of lists, where each inner list contains indices of keywords present in a text.\n",
        "    keywords: A list of keywords.\n",
        "\n",
        "  Returns:\n",
        "    A list of lists, where each inner list contains binary labels (1 if the keyword is present, 0 otherwise).\n",
        "  \"\"\"\n",
        "  binary_labels = []\n",
        "  for labels in word_labels:\n",
        "    binary_row = [1 if i in labels else 0 for i in range(len(keywords))]\n",
        "    binary_labels.append(binary_row)\n",
        "  return binary_labels\n",
        "\n",
        "list_of_texts_test = X_test\n",
        "\n",
        "true_word_labels = create_labels(list_of_texts_test, keywords)  # Assuming you have a list_of_texts_test for test data\n",
        "true_binary_labels = words_to_binary(true_word_labels, keywords)\n",
        "true_binary_labels_array = np.array(true_binary_labels)"
      ],
      "metadata": {
        "id": "0TSQKfpE3NJV"
      },
      "execution_count": 24,
      "outputs": []
    },
    {
      "cell_type": "markdown",
      "source": [
        "##Creating confusion matrix"
      ],
      "metadata": {
        "id": "Ui8QWvn836Do"
      }
    },
    {
      "cell_type": "code",
      "source": [
        "cm = confusion_matrix(true_binary_labels_array.argmax(axis=1), binary_predictions.argmax(axis=1))\n",
        "\n",
        "plt.figure(figsize=(10, 7))\n",
        "sns.heatmap(cm, annot=True, fmt='g')\n",
        "plt.xlabel('Predicted labels')\n",
        "plt.ylabel('True labels')\n",
        "plt.show()"
      ],
      "metadata": {
        "colab": {
          "base_uri": "https://localhost:8080/",
          "height": 619
        },
        "id": "0OGt-Q9q3_mF",
        "outputId": "c3cc6a4e-e257-4927-df65-6e04f09106b3"
      },
      "execution_count": 25,
      "outputs": [
        {
          "output_type": "display_data",
          "data": {
            "text/plain": [
              "<Figure size 1000x700 with 2 Axes>"
            ],
            "image/png": "[encoded data removed]"
          },
          "metadata": {}
        }
      ]
    },
    {
      "cell_type": "markdown",
      "source": [
        "## Changing batch size"
      ],
      "metadata": {
        "id": "TWeEot3ErIyv"
      }
    },
    {
      "cell_type": "markdown",
      "source": [
        "###Model 2"
      ],
      "metadata": {
        "id": "AQNG6iihrXE1"
      }
    },
    {
      "cell_type": "code",
      "source": [
        "model_2 = Sequential([\n",
        "    Embedding(vocab_size, embedding_dim),\n",
        "    Bidirectional(LSTM(64, return_sequences=True)),\n",
        "    Bidirectional(LSTM(32)),\n",
        "    Dense(len(keywords), activation='sigmoid')\n",
        "])\n",
        "\n"
      ],
      "metadata": {
        "id": "QRfwQmFxrMrl"
      },
      "execution_count": 27,
      "outputs": []
    },
    {
      "cell_type": "markdown",
      "source": [
        "##Compiling, training and saving the model"
      ],
      "metadata": {
        "id": "sGKiGyE-ro64"
      }
    },
    {
      "cell_type": "code",
      "source": [
        "#Compiling the model\n",
        "model_2.compile(\n",
        "    loss = 'binary_crossentropy',\n",
        "    optimizer = Adam(learning_rate=0.001),\n",
        "    metrics = METRICS\n",
        "\n",
        ")\n",
        "\n",
        "# Convert X_train, X_val, y_train, y_val to numpy arrays if they aren't already\n",
        "X_train = np.asarray(X_train, dtype=np.float32)\n",
        "X_val = np.asarray(X_val, dtype=np.float32)\n",
        "X_test = np.asarray(X_test, dtype=np.float32)\n",
        "y_train = np.asarray(y_train, dtype=np.float32) # Convert y_train to NumPy array\n",
        "y_val = np.asarray(y_val, dtype=np.float32)   # Convert y_val to NumPy array\n",
        "y_test = np.asarray(y_test, dtype=np.float32) # Convert y_test to NumPy array\n",
        "# Check and potentially adjust the batch size to be consistent\n",
        "batch_size = 41  # Or a smaller value if memory is an issue\n",
        "if X_train.shape[0] % batch_size != 0 or X_val.shape[0] % batch_size != 0:\n",
        "    print(\"Warning: Batch size does not divide evenly into the number of samples. Consider adjusting the batch size.\")\n",
        "\n",
        "#Training the model\n",
        "history_model_2 = model_2.fit(\n",
        "    X_train, y_train,\n",
        "    validation_data = (X_val, y_val),\n",
        "    epochs = 10,\n",
        "\n",
        ")\n",
        "\n",
        "#Saving the model\n",
        "model_2.save('model_2.keras')\n",
        "with open('history_model_2.json', 'w') as f:\n",
        "    json.dump(history_model_2.history, f)"
      ],
      "metadata": {
        "colab": {
          "base_uri": "https://localhost:8080/"
        },
        "id": "4D-qCt5rrodU",
        "outputId": "67502f15-d928-46ad-b5ef-d7df9ed8bdc1"
      },
      "execution_count": 28,
      "outputs": [
        {
          "output_type": "stream",
          "name": "stdout",
          "text": [
            "Warning: Batch size does not divide evenly into the number of samples. Consider adjusting the batch size.\n",
            "Epoch 1/10\n",
            "\u001b[1m66/66\u001b[0m \u001b[32m━━━━━━━━━━━━━━━━━━━━\u001b[0m\u001b[37m\u001b[0m \u001b[1m15s\u001b[0m 158ms/step - accuracy: 0.9170 - auc: 0.7390 - fn: 4573.2686 - fp: 12969.9404 - loss: 0.4644 - precision: 0.0677 - recall: 0.1748 - tn: 201089.5938 - tp: 909.3433 - val_accuracy: 0.9756 - val_auc: 0.9150 - val_fn: 1777.0000 - val_fp: 314.0000 - val_loss: 0.0903 - val_precision: 0.5449 - val_recall: 0.1746 - val_tn: 83387.0000 - val_tp: 376.0000\n",
            "Epoch 2/10\n",
            "\u001b[1m66/66\u001b[0m \u001b[32m━━━━━━━━━━━━━━━━━━━━\u001b[0m\u001b[37m\u001b[0m \u001b[1m9s\u001b[0m 129ms/step - accuracy: 0.9749 - auc: 0.9277 - fn: 3045.1045 - fp: 302.6866 - loss: 0.0844 - precision: 0.4595 - recall: 0.0775 - tn: 130063.7734 - tp: 276.5821 - val_accuracy: 0.9749 - val_auc: 0.9401 - val_fn: 2153.0000 - val_fp: 0.0000e+00 - val_loss: 0.0771 - val_precision: 0.0000e+00 - val_recall: 0.0000e+00 - val_tn: 83701.0000 - val_tp: 0.0000e+00\n",
            "Epoch 3/10\n",
            "\u001b[1m66/66\u001b[0m \u001b[32m━━━━━━━━━━━━━━━━━━━━\u001b[0m\u001b[37m\u001b[0m \u001b[1m11s\u001b[0m 143ms/step - accuracy: 0.9763 - auc: 0.9425 - fn: 2848.4031 - fp: 462.9403 - loss: 0.0741 - precision: 0.4919 - recall: 0.1378 - tn: 129886.5234 - tp: 490.2836 - val_accuracy: 0.9749 - val_auc: 0.9442 - val_fn: 2153.0000 - val_fp: 0.0000e+00 - val_loss: 0.0739 - val_precision: 0.0000e+00 - val_recall: 0.0000e+00 - val_tn: 83701.0000 - val_tp: 0.0000e+00\n",
            "Epoch 4/10\n",
            "\u001b[1m66/66\u001b[0m \u001b[32m━━━━━━━━━━━━━━━━━━━━\u001b[0m\u001b[37m\u001b[0m \u001b[1m9s\u001b[0m 143ms/step - accuracy: 0.9746 - auc: 0.9446 - fn: 3210.9702 - fp: 232.2239 - loss: 0.0743 - precision: 0.3547 - recall: 0.0451 - tn: 130048.1016 - tp: 196.8508 - val_accuracy: 0.9756 - val_auc: 0.9483 - val_fn: 1783.0000 - val_fp: 312.0000 - val_loss: 0.0717 - val_precision: 0.5425 - val_recall: 0.1719 - val_tn: 83389.0000 - val_tp: 370.0000\n",
            "Epoch 5/10\n",
            "\u001b[1m66/66\u001b[0m \u001b[32m━━━━━━━━━━━━━━━━━━━━\u001b[0m\u001b[37m\u001b[0m \u001b[1m11s\u001b[0m 148ms/step - accuracy: 0.9755 - auc: 0.9484 - fn: 3235.1941 - fp: 128.4179 - loss: 0.0708 - precision: 0.5468 - recall: 0.0390 - tn: 130180.4141 - tp: 144.1194 - val_accuracy: 0.9757 - val_auc: 0.9584 - val_fn: 1777.0000 - val_fp: 312.0000 - val_loss: 0.0677 - val_precision: 0.5465 - val_recall: 0.1746 - val_tn: 83389.0000 - val_tp: 376.0000\n",
            "Epoch 6/10\n",
            "\u001b[1m66/66\u001b[0m \u001b[32m━━━━━━━━━━━━━━━━━━━━\u001b[0m\u001b[37m\u001b[0m \u001b[1m8s\u001b[0m 126ms/step - accuracy: 0.9756 - auc: 0.9589 - fn: 2923.3433 - fp: 356.5672 - loss: 0.0672 - precision: 0.5496 - recall: 0.1443 - tn: 129962.0469 - tp: 446.1940 - val_accuracy: 0.9763 - val_auc: 0.9611 - val_fn: 1987.0000 - val_fp: 50.0000 - val_loss: 0.0649 - val_precision: 0.7685 - val_recall: 0.0771 - val_tn: 83651.0000 - val_tp: 166.0000\n",
            "Epoch 7/10\n",
            "\u001b[1m66/66\u001b[0m \u001b[32m━━━━━━━━━━━━━━━━━━━━\u001b[0m\u001b[37m\u001b[0m \u001b[1m11s\u001b[0m 142ms/step - accuracy: 0.9762 - auc: 0.9616 - fn: 3041.8955 - fp: 113.4627 - loss: 0.0646 - precision: 0.7620 - recall: 0.0966 - tn: 130194.4922 - tp: 338.2985 - val_accuracy: 0.9775 - val_auc: 0.9619 - val_fn: 1588.0000 - val_fp: 347.0000 - val_loss: 0.0623 - val_precision: 0.6195 - val_recall: 0.2624 - val_tn: 83354.0000 - val_tp: 565.0000\n",
            "Epoch 8/10\n",
            "\u001b[1m66/66\u001b[0m \u001b[32m━━━━━━━━━━━━━━━━━━━━\u001b[0m\u001b[37m\u001b[0m \u001b[1m10s\u001b[0m 144ms/step - accuracy: 0.9773 - auc: 0.9639 - fn: 2854.0896 - fp: 165.5373 - loss: 0.0619 - precision: 0.7488 - recall: 0.1797 - tn: 130102.3906 - tp: 566.1343 - val_accuracy: 0.9770 - val_auc: 0.9613 - val_fn: 1954.0000 - val_fp: 24.0000 - val_loss: 0.0620 - val_precision: 0.8924 - val_recall: 0.0924 - val_tn: 83677.0000 - val_tp: 199.0000\n",
            "Epoch 9/10\n",
            "\u001b[1m66/66\u001b[0m \u001b[32m━━━━━━━━━━━━━━━━━━━━\u001b[0m\u001b[37m\u001b[0m \u001b[1m9s\u001b[0m 129ms/step - accuracy: 0.9783 - auc: 0.9618 - fn: 2841.1792 - fp: 98.9104 - loss: 0.0601 - precision: 0.8515 - recall: 0.1451 - tn: 130224.2109 - tp: 523.8508 - val_accuracy: 0.9773 - val_auc: 0.9621 - val_fn: 1828.0000 - val_fp: 120.0000 - val_loss: 0.0609 - val_precision: 0.7303 - val_recall: 0.1510 - val_tn: 83581.0000 - val_tp: 325.0000\n",
            "Epoch 10/10\n",
            "\u001b[1m66/66\u001b[0m \u001b[32m━━━━━━━━━━━━━━━━━━━━\u001b[0m\u001b[37m\u001b[0m \u001b[1m9s\u001b[0m 140ms/step - accuracy: 0.9779 - auc: 0.9626 - fn: 2728.0896 - fp: 196.6866 - loss: 0.0609 - precision: 0.7780 - recall: 0.2112 - tn: 130071.7578 - tp: 691.6119 - val_accuracy: 0.9776 - val_auc: 0.9629 - val_fn: 1840.0000 - val_fp: 83.0000 - val_loss: 0.0603 - val_precision: 0.7904 - val_recall: 0.1454 - val_tn: 83618.0000 - val_tp: 313.0000\n"
          ]
        }
      ]
    },
    {
      "cell_type": "code",
      "source": [
        "model_2.summary()"
      ],
      "metadata": {
        "colab": {
          "base_uri": "https://localhost:8080/",
          "height": 273
        },
        "id": "tWzUDei-aPYa",
        "outputId": "9bd03c59-f410-4a61-bd36-50cfebe39d12"
      },
      "execution_count": 29,
      "outputs": [
        {
          "output_type": "display_data",
          "data": {
            "text/plain": [
              "\u001b[1mModel: \"sequential_1\"\u001b[0m\n"
            ],
            "text/html": [
              "<pre style=\"white-space:pre;overflow-x:auto;line-height:normal;font-family:Menlo,'DejaVu Sans Mono',consolas,'Courier New',monospace\"><span style=\"font-weight: bold\">Model: \"sequential_1\"</span>\n",
              "</pre>\n"
            ]
          },
          "metadata": {}
        },
        {
          "output_type": "display_data",
          "data": {
            "text/plain": [
              "┏━━━━━━━━━━━━━━━━━━━━━━━━━━━━━━━━━━━━━━┳━━━━━━━━━━━━━━━━━━━━━━━━━━━━━┳━━━━━━━━━━━━━━━━━┓\n",
              "┃\u001b[1m \u001b[0m\u001b[1mLayer (type)                        \u001b[0m\u001b[1m \u001b[0m┃\u001b[1m \u001b[0m\u001b[1mOutput Shape               \u001b[0m\u001b[1m \u001b[0m┃\u001b[1m \u001b[0m\u001b[1m        Param #\u001b[0m\u001b[1m \u001b[0m┃\n",
              "┡━━━━━━━━━━━━━━━━━━━━━━━━━━━━━━━━━━━━━━╇━━━━━━━━━━━━━━━━━━━━━━━━━━━━━╇━━━━━━━━━━━━━━━━━┩\n",
              "│ embedding_1 (\u001b[38;5;33mEmbedding\u001b[0m)              │ (\u001b[38;5;45mNone\u001b[0m, \u001b[38;5;34m1000\u001b[0m, \u001b[38;5;34m128\u001b[0m)           │       \u001b[38;5;34m1,280,000\u001b[0m │\n",
              "├──────────────────────────────────────┼─────────────────────────────┼─────────────────┤\n",
              "│ bidirectional_2 (\u001b[38;5;33mBidirectional\u001b[0m)      │ (\u001b[38;5;45mNone\u001b[0m, \u001b[38;5;34m1000\u001b[0m, \u001b[38;5;34m128\u001b[0m)           │          \u001b[38;5;34m98,816\u001b[0m │\n",
              "├──────────────────────────────────────┼─────────────────────────────┼─────────────────┤\n",
              "│ bidirectional_3 (\u001b[38;5;33mBidirectional\u001b[0m)      │ (\u001b[38;5;45mNone\u001b[0m, \u001b[38;5;34m64\u001b[0m)                  │          \u001b[38;5;34m41,216\u001b[0m │\n",
              "├──────────────────────────────────────┼─────────────────────────────┼─────────────────┤\n",
              "│ dense_1 (\u001b[38;5;33mDense\u001b[0m)                      │ (\u001b[38;5;45mNone\u001b[0m, \u001b[38;5;34m123\u001b[0m)                 │           \u001b[38;5;34m7,995\u001b[0m │\n",
              "└──────────────────────────────────────┴─────────────────────────────┴─────────────────┘\n"
            ],
            "text/html": [
              "<pre style=\"white-space:pre;overflow-x:auto;line-height:normal;font-family:Menlo,'DejaVu Sans Mono',consolas,'Courier New',monospace\">┏━━━━━━━━━━━━━━━━━━━━━━━━━━━━━━━━━━━━━━┳━━━━━━━━━━━━━━━━━━━━━━━━━━━━━┳━━━━━━━━━━━━━━━━━┓\n",
              "┃<span style=\"font-weight: bold\"> Layer (type)                         </span>┃<span style=\"font-weight: bold\"> Output Shape                </span>┃<span style=\"font-weight: bold\">         Param # </span>┃\n",
              "┡━━━━━━━━━━━━━━━━━━━━━━━━━━━━━━━━━━━━━━╇━━━━━━━━━━━━━━━━━━━━━━━━━━━━━╇━━━━━━━━━━━━━━━━━┩\n",
              "│ embedding_1 (<span style=\"color: #0087ff; text-decoration-color: #0087ff\">Embedding</span>)              │ (<span style=\"color: #00d7ff; text-decoration-color: #00d7ff\">None</span>, <span style=\"color: #00af00; text-decoration-color: #00af00\">1000</span>, <span style=\"color: #00af00; text-decoration-color: #00af00\">128</span>)           │       <span style=\"color: #00af00; text-decoration-color: #00af00\">1,280,000</span> │\n",
              "├──────────────────────────────────────┼─────────────────────────────┼─────────────────┤\n",
              "│ bidirectional_2 (<span style=\"color: #0087ff; text-decoration-color: #0087ff\">Bidirectional</span>)      │ (<span style=\"color: #00d7ff; text-decoration-color: #00d7ff\">None</span>, <span style=\"color: #00af00; text-decoration-color: #00af00\">1000</span>, <span style=\"color: #00af00; text-decoration-color: #00af00\">128</span>)           │          <span style=\"color: #00af00; text-decoration-color: #00af00\">98,816</span> │\n",
              "├──────────────────────────────────────┼─────────────────────────────┼─────────────────┤\n",
              "│ bidirectional_3 (<span style=\"color: #0087ff; text-decoration-color: #0087ff\">Bidirectional</span>)      │ (<span style=\"color: #00d7ff; text-decoration-color: #00d7ff\">None</span>, <span style=\"color: #00af00; text-decoration-color: #00af00\">64</span>)                  │          <span style=\"color: #00af00; text-decoration-color: #00af00\">41,216</span> │\n",
              "├──────────────────────────────────────┼─────────────────────────────┼─────────────────┤\n",
              "│ dense_1 (<span style=\"color: #0087ff; text-decoration-color: #0087ff\">Dense</span>)                      │ (<span style=\"color: #00d7ff; text-decoration-color: #00d7ff\">None</span>, <span style=\"color: #00af00; text-decoration-color: #00af00\">123</span>)                 │           <span style=\"color: #00af00; text-decoration-color: #00af00\">7,995</span> │\n",
              "└──────────────────────────────────────┴─────────────────────────────┴─────────────────┘\n",
              "</pre>\n"
            ]
          },
          "metadata": {}
        },
        {
          "output_type": "display_data",
          "data": {
            "text/plain": [
              "\u001b[1m Total params: \u001b[0m\u001b[38;5;34m4,284,083\u001b[0m (16.34 MB)\n"
            ],
            "text/html": [
              "<pre style=\"white-space:pre;overflow-x:auto;line-height:normal;font-family:Menlo,'DejaVu Sans Mono',consolas,'Courier New',monospace\"><span style=\"font-weight: bold\"> Total params: </span><span style=\"color: #00af00; text-decoration-color: #00af00\">4,284,083</span> (16.34 MB)\n",
              "</pre>\n"
            ]
          },
          "metadata": {}
        },
        {
          "output_type": "display_data",
          "data": {
            "text/plain": [
              "\u001b[1m Trainable params: \u001b[0m\u001b[38;5;34m1,428,027\u001b[0m (5.45 MB)\n"
            ],
            "text/html": [
              "<pre style=\"white-space:pre;overflow-x:auto;line-height:normal;font-family:Menlo,'DejaVu Sans Mono',consolas,'Courier New',monospace\"><span style=\"font-weight: bold\"> Trainable params: </span><span style=\"color: #00af00; text-decoration-color: #00af00\">1,428,027</span> (5.45 MB)\n",
              "</pre>\n"
            ]
          },
          "metadata": {}
        },
        {
          "output_type": "display_data",
          "data": {
            "text/plain": [
              "\u001b[1m Non-trainable params: \u001b[0m\u001b[38;5;34m0\u001b[0m (0.00 B)\n"
            ],
            "text/html": [
              "<pre style=\"white-space:pre;overflow-x:auto;line-height:normal;font-family:Menlo,'DejaVu Sans Mono',consolas,'Courier New',monospace\"><span style=\"font-weight: bold\"> Non-trainable params: </span><span style=\"color: #00af00; text-decoration-color: #00af00\">0</span> (0.00 B)\n",
              "</pre>\n"
            ]
          },
          "metadata": {}
        },
        {
          "output_type": "display_data",
          "data": {
            "text/plain": [
              "\u001b[1m Optimizer params: \u001b[0m\u001b[38;5;34m2,856,056\u001b[0m (10.89 MB)\n"
            ],
            "text/html": [
              "<pre style=\"white-space:pre;overflow-x:auto;line-height:normal;font-family:Menlo,'DejaVu Sans Mono',consolas,'Courier New',monospace\"><span style=\"font-weight: bold\"> Optimizer params: </span><span style=\"color: #00af00; text-decoration-color: #00af00\">2,856,056</span> (10.89 MB)\n",
              "</pre>\n"
            ]
          },
          "metadata": {}
        }
      ]
    },
    {
      "cell_type": "markdown",
      "source": [
        "##Reloading the model"
      ],
      "metadata": {
        "id": "cPwvYRnhvl6-"
      }
    },
    {
      "cell_type": "code",
      "source": [
        "model_2 = tf.keras.models.load_model('model_2.keras')\n",
        "with open('history_model_2.json') as f:\n",
        "    history_model_2 = json.load(f)"
      ],
      "metadata": {
        "id": "igQJRSBzw5wJ"
      },
      "execution_count": 30,
      "outputs": []
    },
    {
      "cell_type": "markdown",
      "source": [
        "##Plotting the training history"
      ],
      "metadata": {
        "id": "PLp0d2bLys_W"
      }
    },
    {
      "cell_type": "code",
      "source": [
        "acc = history_model_2['accuracy']\n",
        "val_acc = history_model_2['val_accuracy']\n",
        "loss = history_model_2['loss']\n",
        "val_loss = history_model_2['val_loss']\n",
        "\n",
        "epochs = range(len(acc))\n",
        "\n",
        "\n",
        "plt.plot(epochs, acc, 'ro', label='Training acc')\n",
        "plt.plot(epochs, val_acc, 'b', label='Validation acc')\n",
        "plt.title('Training and validation accuracy')\n",
        "plt.legend()\n",
        "\n",
        "plt.figure()\n",
        "\n",
        "plt.plot(epochs, loss, 'ro', label='Training loss')\n",
        "plt.plot(epochs, val_loss, 'b', label='Validation loss')\n",
        "plt.title('Model_2 training and validation loss')\n",
        "plt.legend()\n",
        "\n",
        "plt.show()"
      ],
      "metadata": {
        "colab": {
          "base_uri": "https://localhost:8080/",
          "height": 887
        },
        "id": "I_235uQJyxLg",
        "outputId": "67c21b69-24ed-4893-c152-ec816867b4b3"
      },
      "execution_count": 31,
      "outputs": [
        {
          "output_type": "display_data",
          "data": {
            "text/plain": [
              "<Figure size 640x480 with 1 Axes>"
            ],
            "image/png": "[encoded data removed]"
          },
          "metadata": {}
        },
        {
          "output_type": "display_data",
          "data": {
            "text/plain": [
              "<Figure size 640x480 with 1 Axes>"
            ],
            "image/png": "[encoded data removed]"
          },
          "metadata": {}
        }
      ]
    },
    {
      "cell_type": "markdown",
      "source": [
        "##Evaluting the model"
      ],
      "metadata": {
        "id": "BrbLvz6x0OTB"
      }
    },
    {
      "cell_type": "code",
      "source": [
        "model_2.evaluate(X_test, y_test)"
      ],
      "metadata": {
        "colab": {
          "base_uri": "https://localhost:8080/"
        },
        "id": "H0id0hRy0Qv2",
        "outputId": "a55003ca-2e25-47a8-bc1d-0113cfa1bf1c"
      },
      "execution_count": 32,
      "outputs": [
        {
          "output_type": "stream",
          "name": "stdout",
          "text": [
            "\u001b[1m22/22\u001b[0m \u001b[32m━━━━━━━━━━━━━━━━━━━━\u001b[0m\u001b[37m\u001b[0m \u001b[1m2s\u001b[0m 58ms/step - accuracy: 0.9795 - auc: 0.9661 - fn: 933.1739 - fp: 45.7391 - loss: 0.0562 - precision: 0.8103 - recall: 0.1700 - tn: 45833.5664 - tp: 184.2174\n"
          ]
        },
        {
          "output_type": "execute_result",
          "data": {
            "text/plain": [
              "[0.057791899889707565,\n",
              " 0.9788594245910645,\n",
              " 0.7946860194206238,\n",
              " 0.15978629887104034,\n",
              " 0.9638016819953918,\n",
              " 329.0,\n",
              " 85.0,\n",
              " 83710.0,\n",
              " 1730.0]"
            ]
          },
          "metadata": {},
          "execution_count": 32
        }
      ]
    },
    {
      "cell_type": "markdown",
      "source": [
        "##Predictions"
      ],
      "metadata": {
        "id": "z4EbzV2fizTB"
      }
    },
    {
      "cell_type": "code",
      "source": [
        "test_predictions = model_2.predict(X_test)\n",
        "print(test_predictions)\n"
      ],
      "metadata": {
        "colab": {
          "base_uri": "https://localhost:8080/"
        },
        "id": "Dpite9Aoi1Kp",
        "outputId": "9c6f18bf-0b97-4993-f8ad-90b6d27330ae"
      },
      "execution_count": 39,
      "outputs": [
        {
          "output_type": "stream",
          "name": "stdout",
          "text": [
            "\u001b[1m22/22\u001b[0m \u001b[32m━━━━━━━━━━━━━━━━━━━━\u001b[0m\u001b[37m\u001b[0m \u001b[1m6s\u001b[0m 208ms/step\n",
            "[[0.00095464 0.0057129  0.01492035 ... 0.00058209 0.00052443 0.00343615]\n",
            " [0.0009529  0.0057073  0.01490925 ... 0.00058084 0.00052365 0.00343269]\n",
            " [0.00095333 0.00570868 0.01491201 ... 0.00058118 0.00052385 0.00343357]\n",
            " ...\n",
            " [0.00095546 0.00571563 0.01492564 ... 0.00058267 0.0005248  0.00343779]\n",
            " [0.00095402 0.00571098 0.01491673 ... 0.00058166 0.00052416 0.00343488]\n",
            " [0.00095399 0.00571079 0.01491607 ... 0.00058163 0.00052414 0.00343482]]\n"
          ]
        }
      ]
    },
    {
      "cell_type": "markdown",
      "source": [
        "#Reduce number of LSTM modules"
      ],
      "metadata": {
        "id": "vXDkSZLvTwK7"
      }
    },
    {
      "cell_type": "markdown",
      "source": [
        "##Model 3"
      ],
      "metadata": {
        "id": "q8aeDaMLUIFm"
      }
    },
    {
      "cell_type": "code",
      "source": [
        "model_3 = Sequential([\n",
        "    Embedding(vocab_size, embedding_dim),\n",
        "    Bidirectional(LSTM(32, return_sequences=True)),\n",
        "    Bidirectional(LSTM(16)),\n",
        "    Dense(len(keywords), activation='sigmoid')\n",
        "])\n",
        "\n"
      ],
      "metadata": {
        "id": "JDrY45PeT6PO"
      },
      "execution_count": 36,
      "outputs": []
    },
    {
      "cell_type": "markdown",
      "source": [
        "##Compiling, training and saving the model"
      ],
      "metadata": {
        "id": "sXIntMcvULIc"
      }
    },
    {
      "cell_type": "code",
      "source": [
        "#Compiling the model\n",
        "model_3.compile(\n",
        "    loss = 'binary_crossentropy',\n",
        "    optimizer = Adam(learning_rate=0.001),\n",
        "    metrics = METRICS\n",
        "\n",
        ")\n",
        "\n",
        "# Convert X_train, X_val, y_train, y_val to numpy arrays if they aren't already\n",
        "X_train = np.asarray(X_train, dtype=np.float32)\n",
        "X_val = np.asarray(X_val, dtype=np.float32)\n",
        "X_test = np.asarray(X_test, dtype=np.float32)\n",
        "y_train = np.asarray(y_train, dtype=np.float32) # Convert y_train to NumPy array\n",
        "y_val = np.asarray(y_val, dtype=np.float32)   # Convert y_val to NumPy array\n",
        "y_test = np.asarray(y_test, dtype=np.float32) # Convert y_test to NumPy array\n",
        "# Check and potentially adjust the batch size to be consistent\n",
        "batch_size = 17  # Or a smaller value if memory is an issue\n",
        "if X_train.shape[0] % batch_size != 0 or X_val.shape[0] % batch_size != 0:\n",
        "    print(\"Warning: Batch size does not divide evenly into the number of samples. Consider adjusting the batch size.\")\n",
        "\n",
        "#Training the model\n",
        "history_model_3 = model_3.fit(\n",
        "    X_train, y_train,\n",
        "    validation_data = (X_val, y_val),\n",
        "    epochs = 10,\n",
        "\n",
        ")\n",
        "\n",
        "#Saving the model\n",
        "model_3.save('model_3.keras')\n",
        "with open('history_model_3.json', 'w') as f:\n",
        "    json.dump(history_model_3.history, f)"
      ],
      "metadata": {
        "colab": {
          "base_uri": "https://localhost:8080/"
        },
        "id": "Y0tqsU6yUQJs",
        "outputId": "a657fe01-88f4-4d9e-fad1-cb2c592d257c"
      },
      "execution_count": 37,
      "outputs": [
        {
          "output_type": "stream",
          "name": "stdout",
          "text": [
            "Warning: Batch size does not divide evenly into the number of samples. Consider adjusting the batch size.\n",
            "Epoch 1/10\n",
            "\u001b[1m66/66\u001b[0m \u001b[32m━━━━━━━━━━━━━━━━━━━━\u001b[0m\u001b[37m\u001b[0m \u001b[1m14s\u001b[0m 145ms/step - accuracy: 0.8773 - auc: 0.7088 - fn: 4297.4326 - fp: 22320.0449 - loss: 0.5507 - precision: 0.0554 - recall: 0.2309 - tn: 191668.4688 - tp: 1256.2090 - val_accuracy: 0.9749 - val_auc: 0.7622 - val_fn: 2153.0000 - val_fp: 0.0000e+00 - val_loss: 0.1632 - val_precision: 0.0000e+00 - val_recall: 0.0000e+00 - val_tn: 83701.0000 - val_tp: 0.0000e+00\n",
            "Epoch 2/10\n",
            "\u001b[1m66/66\u001b[0m \u001b[32m━━━━━━━━━━━━━━━━━━━━\u001b[0m\u001b[37m\u001b[0m \u001b[1m10s\u001b[0m 143ms/step - accuracy: 0.9743 - auc: 0.8055 - fn: 3138.4775 - fp: 321.4925 - loss: 0.1391 - precision: 0.3928 - recall: 0.0692 - tn: 129919.8672 - tp: 308.3134 - val_accuracy: 0.9749 - val_auc: 0.9060 - val_fn: 2153.0000 - val_fp: 0.0000e+00 - val_loss: 0.0993 - val_precision: 0.0000e+00 - val_recall: 0.0000e+00 - val_tn: 83701.0000 - val_tp: 0.0000e+00\n",
            "Epoch 3/10\n",
            "\u001b[1m66/66\u001b[0m \u001b[32m━━━━━━━━━━━━━━━━━━━━\u001b[0m\u001b[37m\u001b[0m \u001b[1m10s\u001b[0m 143ms/step - accuracy: 0.9732 - auc: 0.9043 - fn: 3268.1045 - fp: 220.1492 - loss: 0.0996 - precision: 0.3712 - recall: 0.0475 - tn: 129991.4766 - tp: 208.4179 - val_accuracy: 0.9749 - val_auc: 0.9308 - val_fn: 2153.0000 - val_fp: 0.0000e+00 - val_loss: 0.0857 - val_precision: 0.0000e+00 - val_recall: 0.0000e+00 - val_tn: 83701.0000 - val_tp: 0.0000e+00\n",
            "Epoch 4/10\n",
            "\u001b[1m66/66\u001b[0m \u001b[32m━━━━━━━━━━━━━━━━━━━━\u001b[0m\u001b[37m\u001b[0m \u001b[1m9s\u001b[0m 125ms/step - accuracy: 0.9743 - auc: 0.9294 - fn: 2990.9702 - fp: 419.6119 - loss: 0.0859 - precision: 0.4691 - recall: 0.1120 - tn: 129868.9219 - tp: 408.6418 - val_accuracy: 0.9749 - val_auc: 0.9386 - val_fn: 2153.0000 - val_fp: 0.0000e+00 - val_loss: 0.0801 - val_precision: 0.0000e+00 - val_recall: 0.0000e+00 - val_tn: 83701.0000 - val_tp: 0.0000e+00\n",
            "Epoch 5/10\n",
            "\u001b[1m66/66\u001b[0m \u001b[32m━━━━━━━━━━━━━━━━━━━━\u001b[0m\u001b[37m\u001b[0m \u001b[1m11s\u001b[0m 132ms/step - accuracy: 0.9741 - auc: 0.9377 - fn: 3244.1941 - fp: 188.3134 - loss: 0.0820 - precision: 0.3446 - recall: 0.0371 - tn: 130077.5859 - tp: 178.0597 - val_accuracy: 0.9749 - val_auc: 0.9427 - val_fn: 2153.0000 - val_fp: 0.0000e+00 - val_loss: 0.0770 - val_precision: 0.0000e+00 - val_recall: 0.0000e+00 - val_tn: 83701.0000 - val_tp: 0.0000e+00\n",
            "Epoch 6/10\n",
            "\u001b[1m66/66\u001b[0m \u001b[32m━━━━━━━━━━━━━━━━━━━━\u001b[0m\u001b[37m\u001b[0m \u001b[1m10s\u001b[0m 152ms/step - accuracy: 0.9746 - auc: 0.9425 - fn: 3287.4924 - fp: 96.4030 - loss: 0.0784 - precision: 0.4634 - recall: 0.0251 - tn: 130194.4766 - tp: 109.7761 - val_accuracy: 0.9749 - val_auc: 0.9531 - val_fn: 2120.0000 - val_fp: 38.0000 - val_loss: 0.0735 - val_precision: 0.4648 - val_recall: 0.0153 - val_tn: 83663.0000 - val_tp: 33.0000\n",
            "Epoch 7/10\n",
            "\u001b[1m66/66\u001b[0m \u001b[32m━━━━━━━━━━━━━━━━━━━━\u001b[0m\u001b[37m\u001b[0m \u001b[1m8s\u001b[0m 125ms/step - accuracy: 0.9743 - auc: 0.9539 - fn: 3281.2537 - fp: 135.1492 - loss: 0.0747 - precision: 0.5004 - recall: 0.0430 - tn: 130132.1953 - tp: 139.5522 - val_accuracy: 0.9756 - val_auc: 0.9568 - val_fn: 1777.0000 - val_fp: 322.0000 - val_loss: 0.0704 - val_precision: 0.5387 - val_recall: 0.1746 - val_tn: 83379.0000 - val_tp: 376.0000\n",
            "Epoch 8/10\n",
            "\u001b[1m66/66\u001b[0m \u001b[32m━━━━━━━━━━━━━━━━━━━━\u001b[0m\u001b[37m\u001b[0m \u001b[1m10s\u001b[0m 127ms/step - accuracy: 0.9751 - auc: 0.9580 - fn: 2993.2090 - fp: 329.8955 - loss: 0.0702 - precision: 0.5352 - recall: 0.1317 - tn: 129987.1328 - tp: 377.9105 - val_accuracy: 0.9753 - val_auc: 0.9582 - val_fn: 2106.0000 - val_fp: 11.0000 - val_loss: 0.0683 - val_precision: 0.8103 - val_recall: 0.0218 - val_tn: 83690.0000 - val_tp: 47.0000\n",
            "Epoch 9/10\n",
            "\u001b[1m66/66\u001b[0m \u001b[32m━━━━━━━━━━━━━━━━━━━━\u001b[0m\u001b[37m\u001b[0m \u001b[1m9s\u001b[0m 144ms/step - accuracy: 0.9759 - auc: 0.9587 - fn: 3231.0598 - fp: 23.9403 - loss: 0.0675 - precision: 0.8212 - recall: 0.0327 - tn: 130314.9141 - tp: 118.2388 - val_accuracy: 0.9757 - val_auc: 0.9595 - val_fn: 2071.0000 - val_fp: 16.0000 - val_loss: 0.0665 - val_precision: 0.8367 - val_recall: 0.0381 - val_tn: 83685.0000 - val_tp: 82.0000\n",
            "Epoch 10/10\n",
            "\u001b[1m66/66\u001b[0m \u001b[32m━━━━━━━━━━━━━━━━━━━━\u001b[0m\u001b[37m\u001b[0m \u001b[1m10s\u001b[0m 139ms/step - accuracy: 0.9756 - auc: 0.9588 - fn: 3174.6418 - fp: 36.9701 - loss: 0.0674 - precision: 0.8564 - recall: 0.0604 - tn: 130274.0859 - tp: 202.4478 - val_accuracy: 0.9764 - val_auc: 0.9612 - val_fn: 2009.0000 - val_fp: 19.0000 - val_loss: 0.0649 - val_precision: 0.8834 - val_recall: 0.0669 - val_tn: 83682.0000 - val_tp: 144.0000\n"
          ]
        }
      ]
    },
    {
      "cell_type": "code",
      "source": [
        "model_3.summary()\n"
      ],
      "metadata": {
        "colab": {
          "base_uri": "https://localhost:8080/",
          "height": 273
        },
        "id": "YfbRj_lnZ9MI",
        "outputId": "feda86cf-3c38-405b-b9ef-472f98fe113e"
      },
      "execution_count": 38,
      "outputs": [
        {
          "output_type": "display_data",
          "data": {
            "text/plain": [
              "\u001b[1mModel: \"sequential_2\"\u001b[0m\n"
            ],
            "text/html": [
              "<pre style=\"white-space:pre;overflow-x:auto;line-height:normal;font-family:Menlo,'DejaVu Sans Mono',consolas,'Courier New',monospace\"><span style=\"font-weight: bold\">Model: \"sequential_2\"</span>\n",
              "</pre>\n"
            ]
          },
          "metadata": {}
        },
        {
          "output_type": "display_data",
          "data": {
            "text/plain": [
              "┏━━━━━━━━━━━━━━━━━━━━━━━━━━━━━━━━━━━━━━┳━━━━━━━━━━━━━━━━━━━━━━━━━━━━━┳━━━━━━━━━━━━━━━━━┓\n",
              "┃\u001b[1m \u001b[0m\u001b[1mLayer (type)                        \u001b[0m\u001b[1m \u001b[0m┃\u001b[1m \u001b[0m\u001b[1mOutput Shape               \u001b[0m\u001b[1m \u001b[0m┃\u001b[1m \u001b[0m\u001b[1m        Param #\u001b[0m\u001b[1m \u001b[0m┃\n",
              "┡━━━━━━━━━━━━━━━━━━━━━━━━━━━━━━━━━━━━━━╇━━━━━━━━━━━━━━━━━━━━━━━━━━━━━╇━━━━━━━━━━━━━━━━━┩\n",
              "│ embedding_2 (\u001b[38;5;33mEmbedding\u001b[0m)              │ (\u001b[38;5;45mNone\u001b[0m, \u001b[38;5;34m1000\u001b[0m, \u001b[38;5;34m128\u001b[0m)           │       \u001b[38;5;34m1,280,000\u001b[0m │\n",
              "├──────────────────────────────────────┼─────────────────────────────┼─────────────────┤\n",
              "│ bidirectional_4 (\u001b[38;5;33mBidirectional\u001b[0m)      │ (\u001b[38;5;45mNone\u001b[0m, \u001b[38;5;34m1000\u001b[0m, \u001b[38;5;34m64\u001b[0m)            │          \u001b[38;5;34m41,216\u001b[0m │\n",
              "├──────────────────────────────────────┼─────────────────────────────┼─────────────────┤\n",
              "│ bidirectional_5 (\u001b[38;5;33mBidirectional\u001b[0m)      │ (\u001b[38;5;45mNone\u001b[0m, \u001b[38;5;34m32\u001b[0m)                  │          \u001b[38;5;34m10,368\u001b[0m │\n",
              "├──────────────────────────────────────┼─────────────────────────────┼─────────────────┤\n",
              "│ dense_2 (\u001b[38;5;33mDense\u001b[0m)                      │ (\u001b[38;5;45mNone\u001b[0m, \u001b[38;5;34m123\u001b[0m)                 │           \u001b[38;5;34m4,059\u001b[0m │\n",
              "└──────────────────────────────────────┴─────────────────────────────┴─────────────────┘\n"
            ],
            "text/html": [
              "<pre style=\"white-space:pre;overflow-x:auto;line-height:normal;font-family:Menlo,'DejaVu Sans Mono',consolas,'Courier New',monospace\">┏━━━━━━━━━━━━━━━━━━━━━━━━━━━━━━━━━━━━━━┳━━━━━━━━━━━━━━━━━━━━━━━━━━━━━┳━━━━━━━━━━━━━━━━━┓\n",
              "┃<span style=\"font-weight: bold\"> Layer (type)                         </span>┃<span style=\"font-weight: bold\"> Output Shape                </span>┃<span style=\"font-weight: bold\">         Param # </span>┃\n",
              "┡━━━━━━━━━━━━━━━━━━━━━━━━━━━━━━━━━━━━━━╇━━━━━━━━━━━━━━━━━━━━━━━━━━━━━╇━━━━━━━━━━━━━━━━━┩\n",
              "│ embedding_2 (<span style=\"color: #0087ff; text-decoration-color: #0087ff\">Embedding</span>)              │ (<span style=\"color: #00d7ff; text-decoration-color: #00d7ff\">None</span>, <span style=\"color: #00af00; text-decoration-color: #00af00\">1000</span>, <span style=\"color: #00af00; text-decoration-color: #00af00\">128</span>)           │       <span style=\"color: #00af00; text-decoration-color: #00af00\">1,280,000</span> │\n",
              "├──────────────────────────────────────┼─────────────────────────────┼─────────────────┤\n",
              "│ bidirectional_4 (<span style=\"color: #0087ff; text-decoration-color: #0087ff\">Bidirectional</span>)      │ (<span style=\"color: #00d7ff; text-decoration-color: #00d7ff\">None</span>, <span style=\"color: #00af00; text-decoration-color: #00af00\">1000</span>, <span style=\"color: #00af00; text-decoration-color: #00af00\">64</span>)            │          <span style=\"color: #00af00; text-decoration-color: #00af00\">41,216</span> │\n",
              "├──────────────────────────────────────┼─────────────────────────────┼─────────────────┤\n",
              "│ bidirectional_5 (<span style=\"color: #0087ff; text-decoration-color: #0087ff\">Bidirectional</span>)      │ (<span style=\"color: #00d7ff; text-decoration-color: #00d7ff\">None</span>, <span style=\"color: #00af00; text-decoration-color: #00af00\">32</span>)                  │          <span style=\"color: #00af00; text-decoration-color: #00af00\">10,368</span> │\n",
              "├──────────────────────────────────────┼─────────────────────────────┼─────────────────┤\n",
              "│ dense_2 (<span style=\"color: #0087ff; text-decoration-color: #0087ff\">Dense</span>)                      │ (<span style=\"color: #00d7ff; text-decoration-color: #00d7ff\">None</span>, <span style=\"color: #00af00; text-decoration-color: #00af00\">123</span>)                 │           <span style=\"color: #00af00; text-decoration-color: #00af00\">4,059</span> │\n",
              "└──────────────────────────────────────┴─────────────────────────────┴─────────────────┘\n",
              "</pre>\n"
            ]
          },
          "metadata": {}
        },
        {
          "output_type": "display_data",
          "data": {
            "text/plain": [
              "\u001b[1m Total params: \u001b[0m\u001b[38;5;34m4,006,931\u001b[0m (15.29 MB)\n"
            ],
            "text/html": [
              "<pre style=\"white-space:pre;overflow-x:auto;line-height:normal;font-family:Menlo,'DejaVu Sans Mono',consolas,'Courier New',monospace\"><span style=\"font-weight: bold\"> Total params: </span><span style=\"color: #00af00; text-decoration-color: #00af00\">4,006,931</span> (15.29 MB)\n",
              "</pre>\n"
            ]
          },
          "metadata": {}
        },
        {
          "output_type": "display_data",
          "data": {
            "text/plain": [
              "\u001b[1m Trainable params: \u001b[0m\u001b[38;5;34m1,335,643\u001b[0m (5.10 MB)\n"
            ],
            "text/html": [
              "<pre style=\"white-space:pre;overflow-x:auto;line-height:normal;font-family:Menlo,'DejaVu Sans Mono',consolas,'Courier New',monospace\"><span style=\"font-weight: bold\"> Trainable params: </span><span style=\"color: #00af00; text-decoration-color: #00af00\">1,335,643</span> (5.10 MB)\n",
              "</pre>\n"
            ]
          },
          "metadata": {}
        },
        {
          "output_type": "display_data",
          "data": {
            "text/plain": [
              "\u001b[1m Non-trainable params: \u001b[0m\u001b[38;5;34m0\u001b[0m (0.00 B)\n"
            ],
            "text/html": [
              "<pre style=\"white-space:pre;overflow-x:auto;line-height:normal;font-family:Menlo,'DejaVu Sans Mono',consolas,'Courier New',monospace\"><span style=\"font-weight: bold\"> Non-trainable params: </span><span style=\"color: #00af00; text-decoration-color: #00af00\">0</span> (0.00 B)\n",
              "</pre>\n"
            ]
          },
          "metadata": {}
        },
        {
          "output_type": "display_data",
          "data": {
            "text/plain": [
              "\u001b[1m Optimizer params: \u001b[0m\u001b[38;5;34m2,671,288\u001b[0m (10.19 MB)\n"
            ],
            "text/html": [
              "<pre style=\"white-space:pre;overflow-x:auto;line-height:normal;font-family:Menlo,'DejaVu Sans Mono',consolas,'Courier New',monospace\"><span style=\"font-weight: bold\"> Optimizer params: </span><span style=\"color: #00af00; text-decoration-color: #00af00\">2,671,288</span> (10.19 MB)\n",
              "</pre>\n"
            ]
          },
          "metadata": {}
        }
      ]
    },
    {
      "cell_type": "markdown",
      "source": [
        "##Reloading the model"
      ],
      "metadata": {
        "id": "cJtyqlZMVO0T"
      }
    },
    {
      "cell_type": "code",
      "source": [
        "model_3 = tf.keras.models.load_model('model_3.keras')\n",
        "with open('history_model_3.json') as f:\n",
        "    history_model_3 = json.load(f)"
      ],
      "metadata": {
        "id": "xDUAV78hVW5F"
      },
      "execution_count": 40,
      "outputs": []
    },
    {
      "cell_type": "markdown",
      "source": [
        "##Plotting the training history"
      ],
      "metadata": {
        "id": "qSDq1eE4VtKQ"
      }
    },
    {
      "cell_type": "code",
      "source": [
        "acc = history_model_3['accuracy']\n",
        "val_acc = history_model_3['val_accuracy']\n",
        "loss = history_model_3['loss']\n",
        "val_loss = history_model_3['val_loss']\n",
        "\n",
        "epochs = range(len(acc))\n",
        "\n",
        "\n",
        "plt.plot(epochs, acc, 'ro', label='Training acc')\n",
        "plt.plot(epochs, val_acc, 'b', label='Validation acc')\n",
        "plt.title('Model 3 Training and validation accuracy')\n",
        "plt.legend()\n",
        "\n",
        "plt.figure()\n",
        "\n",
        "plt.plot(epochs, loss, 'ro', label='Training loss')\n",
        "plt.plot(epochs, val_loss, 'b', label='Validation loss')\n",
        "plt.title('Model 3 training and validation loss')\n",
        "plt.legend()\n",
        "\n",
        "plt.show()"
      ],
      "metadata": {
        "colab": {
          "base_uri": "https://localhost:8080/",
          "height": 887
        },
        "id": "3DpQpviKVwCF",
        "outputId": "bb123ad0-f68d-4e9a-8630-ee4c2141c65c"
      },
      "execution_count": 41,
      "outputs": [
        {
          "output_type": "display_data",
          "data": {
            "text/plain": [
              "<Figure size 640x480 with 1 Axes>"
            ],
            "image/png": "[encoded data removed]"
          },
          "metadata": {}
        },
        {
          "output_type": "display_data",
          "data": {
            "text/plain": [
              "<Figure size 640x480 with 1 Axes>"
            ],
            "image/png": "[encoded data removed]"
          },
          "metadata": {}
        }
      ]
    },
    {
      "cell_type": "markdown",
      "source": [
        "##Evaluating the model"
      ],
      "metadata": {
        "id": "pG6wJ_QVY1yC"
      }
    },
    {
      "cell_type": "code",
      "source": [
        "model_3.evaluate(X_test, y_test)"
      ],
      "metadata": {
        "colab": {
          "base_uri": "https://localhost:8080/"
        },
        "id": "rid-G-lgY4A3",
        "outputId": "a86b5e58-3033-41a2-d270-da2faf8c34c9"
      },
      "execution_count": 42,
      "outputs": [
        {
          "output_type": "stream",
          "name": "stdout",
          "text": [
            "\u001b[1m22/22\u001b[0m \u001b[32m━━━━━━━━━━━━━━━━━━━━\u001b[0m\u001b[37m\u001b[0m \u001b[1m2s\u001b[0m 58ms/step - accuracy: 0.9780 - auc: 0.9641 - fn: 1037.3043 - fp: 9.0435 - loss: 0.0612 - precision: 0.9017 - recall: 0.0724 - tn: 45870.2617 - tp: 80.0870\n"
          ]
        },
        {
          "output_type": "execute_result",
          "data": {
            "text/plain": [
              "[0.06247222051024437,\n",
              " 0.9775083661079407,\n",
              " 0.895061731338501,\n",
              " 0.07042253762483597,\n",
              " 0.9625352621078491,\n",
              " 145.0,\n",
              " 17.0,\n",
              " 83778.0,\n",
              " 1914.0]"
            ]
          },
          "metadata": {},
          "execution_count": 42
        }
      ]
    },
    {
      "cell_type": "markdown",
      "source": [
        "##Predictions"
      ],
      "metadata": {
        "id": "opPvfdeXj7uE"
      }
    },
    {
      "cell_type": "code",
      "source": [
        "test_predictions = model_3.predict(X_test)\n",
        "print(test_predictions)"
      ],
      "metadata": {
        "colab": {
          "base_uri": "https://localhost:8080/"
        },
        "id": "fdqcfsrfj9xY",
        "outputId": "65c2c206-1d6e-4615-e1c5-5d42b2260383"
      },
      "execution_count": 43,
      "outputs": [
        {
          "output_type": "stream",
          "name": "stdout",
          "text": [
            "\u001b[1m22/22\u001b[0m \u001b[32m━━━━━━━━━━━━━━━━━━━━\u001b[0m\u001b[37m\u001b[0m \u001b[1m2s\u001b[0m 61ms/step\n",
            "[[0.00117885 0.00757736 0.01499947 ... 0.00367328 0.00107085 0.00912986]\n",
            " [0.0011721  0.00754821 0.01494848 ... 0.00365508 0.00106423 0.00911259]\n",
            " [0.00117208 0.00754813 0.01494838 ... 0.00365507 0.00106421 0.00911264]\n",
            " ...\n",
            " [0.00118207 0.00759123 0.0150239  ... 0.00368192 0.001074   0.00913784]\n",
            " [0.00118097 0.00758647 0.01501566 ... 0.00367891 0.00107288 0.00913491]\n",
            " [0.00117676 0.00756843 0.0149839  ... 0.00366764 0.0010688  0.00912443]]\n"
          ]
        }
      ]
    },
    {
      "cell_type": "markdown",
      "source": [
        "#Increasing batch size"
      ],
      "metadata": {
        "id": "v4puQlvYY-Ee"
      }
    },
    {
      "cell_type": "markdown",
      "source": [
        "##Model 4\n"
      ],
      "metadata": {
        "id": "yspA7Q8FZCxC"
      }
    },
    {
      "cell_type": "code",
      "source": [
        "model_4 = Sequential([\n",
        "    Embedding(vocab_size, embedding_dim),\n",
        "    Bidirectional(LSTM(32, return_sequences=True)),\n",
        "    Bidirectional(LSTM(16)),\n",
        "    Dense(len(keywords), activation='sigmoid')\n",
        "])"
      ],
      "metadata": {
        "id": "ZR6JvEoPZEp1"
      },
      "execution_count": 44,
      "outputs": []
    },
    {
      "cell_type": "markdown",
      "source": [
        "##Compiling, training and saving the model"
      ],
      "metadata": {
        "id": "_hsy-tKeazdk"
      }
    },
    {
      "cell_type": "code",
      "source": [
        "#Compiling the model\n",
        "model_4.compile(\n",
        "    loss = 'binary_crossentropy',\n",
        "    optimizer = Adam(learning_rate=0.001),\n",
        "    metrics = METRICS\n",
        "\n",
        ")\n",
        "\n",
        "# Convert X_train, X_val, y_train, y_val to numpy arrays if they aren't already\n",
        "X_train = np.asarray(X_train, dtype=np.float32)\n",
        "X_val = np.asarray(X_val, dtype=np.float32)\n",
        "X_test = np.asarray(X_test, dtype=np.float32)\n",
        "y_train = np.asarray(y_train, dtype=np.float32) # Convert y_train to NumPy array\n",
        "y_val = np.asarray(y_val, dtype=np.float32)   # Convert y_val to NumPy array\n",
        "y_test = np.asarray(y_test, dtype=np.float32) # Convert y_test to NumPy array\n",
        "# Check and potentially adjust the batch size to be consistent\n",
        "batch_size = 41  # Or a smaller value if memory is an issue\n",
        "if X_train.shape[0] % batch_size != 0 or X_val.shape[0] % batch_size != 0:\n",
        "    print(\"Warning: Batch size does not divide evenly into the number of samples. Consider adjusting the batch size.\")\n",
        "\n",
        "#Training the model\n",
        "history_model_4 = model_4.fit(\n",
        "    X_train, y_train,\n",
        "    validation_data = (X_val, y_val),\n",
        "    epochs = 10,\n",
        "\n",
        ")\n",
        "\n",
        "#Saving the model\n",
        "model_4.save('model_4.keras')\n",
        "with open('history_model_4.json', 'w') as f:\n",
        "    json.dump(history_model_4.history, f)\n",
        "\n",
        "model_4.summary()"
      ],
      "metadata": {
        "colab": {
          "base_uri": "https://localhost:8080/",
          "height": 657
        },
        "id": "bS_KSkYUa4TE",
        "outputId": "019ab95f-0f00-41c9-afab-9c777a92ea42"
      },
      "execution_count": 45,
      "outputs": [
        {
          "output_type": "stream",
          "name": "stdout",
          "text": [
            "Warning: Batch size does not divide evenly into the number of samples. Consider adjusting the batch size.\n",
            "Epoch 1/10\n",
            "\u001b[1m66/66\u001b[0m \u001b[32m━━━━━━━━━━━━━━━━━━━━\u001b[0m\u001b[37m\u001b[0m \u001b[1m15s\u001b[0m 153ms/step - accuracy: 0.9004 - auc: 0.6848 - fn: 4754.8359 - fp: 16602.0898 - loss: 0.5540 - precision: 0.0412 - recall: 0.1295 - tn: 197496.8125 - tp: 688.4179 - val_accuracy: 0.9756 - val_auc: 0.8254 - val_fn: 1777.0000 - val_fp: 322.0000 - val_loss: 0.1557 - val_precision: 0.5387 - val_recall: 0.1746 - val_tn: 83379.0000 - val_tp: 376.0000\n",
            "Epoch 2/10\n",
            "\u001b[1m66/66\u001b[0m \u001b[32m━━━━━━━━━━━━━━━━━━━━\u001b[0m\u001b[37m\u001b[0m \u001b[1m9s\u001b[0m 136ms/step - accuracy: 0.9745 - auc: 0.8522 - fn: 3067.2986 - fp: 339.9851 - loss: 0.1327 - precision: 0.5066 - recall: 0.1112 - tn: 129925.7734 - tp: 355.0895 - val_accuracy: 0.9749 - val_auc: 0.9227 - val_fn: 2153.0000 - val_fp: 0.0000e+00 - val_loss: 0.0962 - val_precision: 0.0000e+00 - val_recall: 0.0000e+00 - val_tn: 83701.0000 - val_tp: 0.0000e+00\n",
            "Epoch 3/10\n",
            "\u001b[1m66/66\u001b[0m \u001b[32m━━━━━━━━━━━━━━━━━━━━\u001b[0m\u001b[37m\u001b[0m \u001b[1m9s\u001b[0m 124ms/step - accuracy: 0.9733 - auc: 0.9234 - fn: 3395.6418 - fp: 63.8806 - loss: 0.0966 - precision: 0.2621 - recall: 0.0123 - tn: 130156.4141 - tp: 72.2090 - val_accuracy: 0.9756 - val_auc: 0.9392 - val_fn: 1777.0000 - val_fp: 322.0000 - val_loss: 0.0839 - val_precision: 0.5387 - val_recall: 0.1746 - val_tn: 83379.0000 - val_tp: 376.0000\n",
            "Epoch 4/10\n",
            "\u001b[1m66/66\u001b[0m \u001b[32m━━━━━━━━━━━━━━━━━━━━\u001b[0m\u001b[37m\u001b[0m \u001b[1m11s\u001b[0m 134ms/step - accuracy: 0.9752 - auc: 0.9374 - fn: 3189.3582 - fp: 165.4179 - loss: 0.0827 - precision: 0.4957 - recall: 0.0482 - tn: 130153.7031 - tp: 179.6716 - val_accuracy: 0.9753 - val_auc: 0.9474 - val_fn: 2110.0000 - val_fp: 11.0000 - val_loss: 0.0781 - val_precision: 0.7963 - val_recall: 0.0200 - val_tn: 83690.0000 - val_tp: 43.0000\n",
            "Epoch 5/10\n",
            "\u001b[1m66/66\u001b[0m \u001b[32m━━━━━━━━━━━━━━━━━━━━\u001b[0m\u001b[37m\u001b[0m \u001b[1m10s\u001b[0m 138ms/step - accuracy: 0.9751 - auc: 0.9481 - fn: 3290.2837 - fp: 25.7015 - loss: 0.0782 - precision: 0.7515 - recall: 0.0240 - tn: 130289.7500 - tp: 82.4179 - val_accuracy: 0.9757 - val_auc: 0.9569 - val_fn: 1777.0000 - val_fp: 312.0000 - val_loss: 0.0731 - val_precision: 0.5465 - val_recall: 0.1746 - val_tn: 83389.0000 - val_tp: 376.0000\n",
            "Epoch 6/10\n",
            "\u001b[1m66/66\u001b[0m \u001b[32m━━━━━━━━━━━━━━━━━━━━\u001b[0m\u001b[37m\u001b[0m \u001b[1m11s\u001b[0m 147ms/step - accuracy: 0.9741 - auc: 0.9565 - fn: 3052.1343 - fp: 354.6418 - loss: 0.0753 - precision: 0.5371 - recall: 0.1326 - tn: 129873.4062 - tp: 407.9702 - val_accuracy: 0.9753 - val_auc: 0.9581 - val_fn: 2110.0000 - val_fp: 11.0000 - val_loss: 0.0700 - val_precision: 0.7963 - val_recall: 0.0200 - val_tn: 83690.0000 - val_tp: 43.0000\n",
            "Epoch 7/10\n",
            "\u001b[1m66/66\u001b[0m \u001b[32m━━━━━━━━━━━━━━━━━━━━\u001b[0m\u001b[37m\u001b[0m \u001b[1m9s\u001b[0m 125ms/step - accuracy: 0.9758 - auc: 0.9584 - fn: 3186.3582 - fp: 104.8507 - loss: 0.0680 - precision: 0.6325 - recall: 0.0434 - tn: 130229.6875 - tp: 167.2537 - val_accuracy: 0.9758 - val_auc: 0.9595 - val_fn: 2058.0000 - val_fp: 17.0000 - val_loss: 0.0674 - val_precision: 0.8482 - val_recall: 0.0441 - val_tn: 83684.0000 - val_tp: 95.0000\n",
            "Epoch 8/10\n",
            "\u001b[1m66/66\u001b[0m \u001b[32m━━━━━━━━━━━━━━━━━━━━\u001b[0m\u001b[37m\u001b[0m \u001b[1m9s\u001b[0m 144ms/step - accuracy: 0.9762 - auc: 0.9604 - fn: 3031.8059 - fp: 108.0896 - loss: 0.0671 - precision: 0.8146 - recall: 0.0954 - tn: 130192.9531 - tp: 355.2985 - val_accuracy: 0.9768 - val_auc: 0.9607 - val_fn: 1946.0000 - val_fp: 45.0000 - val_loss: 0.0655 - val_precision: 0.8214 - val_recall: 0.0961 - val_tn: 83656.0000 - val_tp: 207.0000\n",
            "Epoch 9/10\n",
            "\u001b[1m66/66\u001b[0m \u001b[32m━━━━━━━━━━━━━━━━━━━━\u001b[0m\u001b[37m\u001b[0m \u001b[1m11s\u001b[0m 151ms/step - accuracy: 0.9780 - auc: 0.9616 - fn: 2932.2388 - fp: 44.4925 - loss: 0.0631 - precision: 0.8712 - recall: 0.1058 - tn: 130320.2656 - tp: 391.1493 - val_accuracy: 0.9768 - val_auc: 0.9616 - val_fn: 1950.0000 - val_fp: 40.0000 - val_loss: 0.0643 - val_precision: 0.8354 - val_recall: 0.0943 - val_tn: 83661.0000 - val_tp: 203.0000\n",
            "Epoch 10/10\n",
            "\u001b[1m66/66\u001b[0m \u001b[32m━━━━━━━━━━━━━━━━━━━━\u001b[0m\u001b[37m\u001b[0m \u001b[1m9s\u001b[0m 126ms/step - accuracy: 0.9773 - auc: 0.9620 - fn: 2791.6270 - fp: 246.9254 - loss: 0.0638 - precision: 0.7609 - recall: 0.1782 - tn: 130018.7734 - tp: 630.8209 - val_accuracy: 0.9770 - val_auc: 0.9620 - val_fn: 1929.0000 - val_fp: 46.0000 - val_loss: 0.0634 - val_precision: 0.8296 - val_recall: 0.1040 - val_tn: 83655.0000 - val_tp: 224.0000\n"
          ]
        },
        {
          "output_type": "display_data",
          "data": {
            "text/plain": [
              "\u001b[1mModel: \"sequential_3\"\u001b[0m\n"
            ],
            "text/html": [
              "<pre style=\"white-space:pre;overflow-x:auto;line-height:normal;font-family:Menlo,'DejaVu Sans Mono',consolas,'Courier New',monospace\"><span style=\"font-weight: bold\">Model: \"sequential_3\"</span>\n",
              "</pre>\n"
            ]
          },
          "metadata": {}
        },
        {
          "output_type": "display_data",
          "data": {
            "text/plain": [
              "┏━━━━━━━━━━━━━━━━━━━━━━━━━━━━━━━━━━━━━━┳━━━━━━━━━━━━━━━━━━━━━━━━━━━━━┳━━━━━━━━━━━━━━━━━┓\n",
              "┃\u001b[1m \u001b[0m\u001b[1mLayer (type)                        \u001b[0m\u001b[1m \u001b[0m┃\u001b[1m \u001b[0m\u001b[1mOutput Shape               \u001b[0m\u001b[1m \u001b[0m┃\u001b[1m \u001b[0m\u001b[1m        Param #\u001b[0m\u001b[1m \u001b[0m┃\n",
              "┡━━━━━━━━━━━━━━━━━━━━━━━━━━━━━━━━━━━━━━╇━━━━━━━━━━━━━━━━━━━━━━━━━━━━━╇━━━━━━━━━━━━━━━━━┩\n",
              "│ embedding_3 (\u001b[38;5;33mEmbedding\u001b[0m)              │ (\u001b[38;5;45mNone\u001b[0m, \u001b[38;5;34m1000\u001b[0m, \u001b[38;5;34m128\u001b[0m)           │       \u001b[38;5;34m1,280,000\u001b[0m │\n",
              "├──────────────────────────────────────┼─────────────────────────────┼─────────────────┤\n",
              "│ bidirectional_6 (\u001b[38;5;33mBidirectional\u001b[0m)      │ (\u001b[38;5;45mNone\u001b[0m, \u001b[38;5;34m1000\u001b[0m, \u001b[38;5;34m64\u001b[0m)            │          \u001b[38;5;34m41,216\u001b[0m │\n",
              "├──────────────────────────────────────┼─────────────────────────────┼─────────────────┤\n",
              "│ bidirectional_7 (\u001b[38;5;33mBidirectional\u001b[0m)      │ (\u001b[38;5;45mNone\u001b[0m, \u001b[38;5;34m32\u001b[0m)                  │          \u001b[38;5;34m10,368\u001b[0m │\n",
              "├──────────────────────────────────────┼─────────────────────────────┼─────────────────┤\n",
              "│ dense_3 (\u001b[38;5;33mDense\u001b[0m)                      │ (\u001b[38;5;45mNone\u001b[0m, \u001b[38;5;34m123\u001b[0m)                 │           \u001b[38;5;34m4,059\u001b[0m │\n",
              "└──────────────────────────────────────┴─────────────────────────────┴─────────────────┘\n"
            ],
            "text/html": [
              "<pre style=\"white-space:pre;overflow-x:auto;line-height:normal;font-family:Menlo,'DejaVu Sans Mono',consolas,'Courier New',monospace\">┏━━━━━━━━━━━━━━━━━━━━━━━━━━━━━━━━━━━━━━┳━━━━━━━━━━━━━━━━━━━━━━━━━━━━━┳━━━━━━━━━━━━━━━━━┓\n",
              "┃<span style=\"font-weight: bold\"> Layer (type)                         </span>┃<span style=\"font-weight: bold\"> Output Shape                </span>┃<span style=\"font-weight: bold\">         Param # </span>┃\n",
              "┡━━━━━━━━━━━━━━━━━━━━━━━━━━━━━━━━━━━━━━╇━━━━━━━━━━━━━━━━━━━━━━━━━━━━━╇━━━━━━━━━━━━━━━━━┩\n",
              "│ embedding_3 (<span style=\"color: #0087ff; text-decoration-color: #0087ff\">Embedding</span>)              │ (<span style=\"color: #00d7ff; text-decoration-color: #00d7ff\">None</span>, <span style=\"color: #00af00; text-decoration-color: #00af00\">1000</span>, <span style=\"color: #00af00; text-decoration-color: #00af00\">128</span>)           │       <span style=\"color: #00af00; text-decoration-color: #00af00\">1,280,000</span> │\n",
              "├──────────────────────────────────────┼─────────────────────────────┼─────────────────┤\n",
              "│ bidirectional_6 (<span style=\"color: #0087ff; text-decoration-color: #0087ff\">Bidirectional</span>)      │ (<span style=\"color: #00d7ff; text-decoration-color: #00d7ff\">None</span>, <span style=\"color: #00af00; text-decoration-color: #00af00\">1000</span>, <span style=\"color: #00af00; text-decoration-color: #00af00\">64</span>)            │          <span style=\"color: #00af00; text-decoration-color: #00af00\">41,216</span> │\n",
              "├──────────────────────────────────────┼─────────────────────────────┼─────────────────┤\n",
              "│ bidirectional_7 (<span style=\"color: #0087ff; text-decoration-color: #0087ff\">Bidirectional</span>)      │ (<span style=\"color: #00d7ff; text-decoration-color: #00d7ff\">None</span>, <span style=\"color: #00af00; text-decoration-color: #00af00\">32</span>)                  │          <span style=\"color: #00af00; text-decoration-color: #00af00\">10,368</span> │\n",
              "├──────────────────────────────────────┼─────────────────────────────┼─────────────────┤\n",
              "│ dense_3 (<span style=\"color: #0087ff; text-decoration-color: #0087ff\">Dense</span>)                      │ (<span style=\"color: #00d7ff; text-decoration-color: #00d7ff\">None</span>, <span style=\"color: #00af00; text-decoration-color: #00af00\">123</span>)                 │           <span style=\"color: #00af00; text-decoration-color: #00af00\">4,059</span> │\n",
              "└──────────────────────────────────────┴─────────────────────────────┴─────────────────┘\n",
              "</pre>\n"
            ]
          },
          "metadata": {}
        },
        {
          "output_type": "display_data",
          "data": {
            "text/plain": [
              "\u001b[1m Total params: \u001b[0m\u001b[38;5;34m4,006,931\u001b[0m (15.29 MB)\n"
            ],
            "text/html": [
              "<pre style=\"white-space:pre;overflow-x:auto;line-height:normal;font-family:Menlo,'DejaVu Sans Mono',consolas,'Courier New',monospace\"><span style=\"font-weight: bold\"> Total params: </span><span style=\"color: #00af00; text-decoration-color: #00af00\">4,006,931</span> (15.29 MB)\n",
              "</pre>\n"
            ]
          },
          "metadata": {}
        },
        {
          "output_type": "display_data",
          "data": {
            "text/plain": [
              "\u001b[1m Trainable params: \u001b[0m\u001b[38;5;34m1,335,643\u001b[0m (5.10 MB)\n"
            ],
            "text/html": [
              "<pre style=\"white-space:pre;overflow-x:auto;line-height:normal;font-family:Menlo,'DejaVu Sans Mono',consolas,'Courier New',monospace\"><span style=\"font-weight: bold\"> Trainable params: </span><span style=\"color: #00af00; text-decoration-color: #00af00\">1,335,643</span> (5.10 MB)\n",
              "</pre>\n"
            ]
          },
          "metadata": {}
        },
        {
          "output_type": "display_data",
          "data": {
            "text/plain": [
              "\u001b[1m Non-trainable params: \u001b[0m\u001b[38;5;34m0\u001b[0m (0.00 B)\n"
            ],
            "text/html": [
              "<pre style=\"white-space:pre;overflow-x:auto;line-height:normal;font-family:Menlo,'DejaVu Sans Mono',consolas,'Courier New',monospace\"><span style=\"font-weight: bold\"> Non-trainable params: </span><span style=\"color: #00af00; text-decoration-color: #00af00\">0</span> (0.00 B)\n",
              "</pre>\n"
            ]
          },
          "metadata": {}
        },
        {
          "output_type": "display_data",
          "data": {
            "text/plain": [
              "\u001b[1m Optimizer params: \u001b[0m\u001b[38;5;34m2,671,288\u001b[0m (10.19 MB)\n"
            ],
            "text/html": [
              "<pre style=\"white-space:pre;overflow-x:auto;line-height:normal;font-family:Menlo,'DejaVu Sans Mono',consolas,'Courier New',monospace\"><span style=\"font-weight: bold\"> Optimizer params: </span><span style=\"color: #00af00; text-decoration-color: #00af00\">2,671,288</span> (10.19 MB)\n",
              "</pre>\n"
            ]
          },
          "metadata": {}
        }
      ]
    },
    {
      "cell_type": "markdown",
      "source": [
        "##Reloading the model"
      ],
      "metadata": {
        "id": "R8kBAGipcHZH"
      }
    },
    {
      "cell_type": "code",
      "source": [
        "model_4 = tf.keras.models.load_model('model_4.keras')\n",
        "with open('history_model_4.json') as f:\n",
        "    history_model_4 = json.load(f)"
      ],
      "metadata": {
        "id": "6A140EiNcLfs"
      },
      "execution_count": 46,
      "outputs": []
    },
    {
      "cell_type": "markdown",
      "source": [
        "##Plotting the training history"
      ],
      "metadata": {
        "id": "5dPJWcKGcdM5"
      }
    },
    {
      "cell_type": "code",
      "source": [
        "acc = history_model_4['accuracy']\n",
        "val_acc = history_model_4['val_accuracy']\n",
        "loss = history_model_4['loss']\n",
        "val_loss = history_model_4['val_loss']\n",
        "\n",
        "epochs = range(len(acc))\n",
        "\n",
        "\n",
        "plt.plot(epochs, acc, 'ro', label='Training acc')\n",
        "plt.plot(epochs, val_acc, 'b', label='Validation acc')\n",
        "plt.title('Model 4 Training and validation accuracy')\n",
        "plt.legend()\n",
        "\n",
        "plt.figure()\n",
        "\n",
        "plt.plot(epochs, loss, 'ro', label='Training loss')\n",
        "plt.plot(epochs, val_loss, 'b', label='Validation loss')\n",
        "plt.title('Model 4 training and validation loss')\n",
        "plt.legend()\n",
        "\n",
        "plt.show()"
      ],
      "metadata": {
        "colab": {
          "base_uri": "https://localhost:8080/",
          "height": 887
        },
        "id": "o8Lx0th3cgf1",
        "outputId": "9b78aad1-4f38-4072-9ce5-15687e1198d3"
      },
      "execution_count": 47,
      "outputs": [
        {
          "output_type": "display_data",
          "data": {
            "text/plain": [
              "<Figure size 640x480 with 1 Axes>"
            ],
            "image/png": "[encoded data removed]"
          },
          "metadata": {}
        },
        {
          "output_type": "display_data",
          "data": {
            "text/plain": [
              "<Figure size 640x480 with 1 Axes>"
            ],
            "image/png": "[encoded data removed]"
          },
          "metadata": {}
        }
      ]
    },
    {
      "cell_type": "markdown",
      "source": [
        "##Evaluating the model"
      ],
      "metadata": {
        "id": "z4HQP5oec9j4"
      }
    },
    {
      "cell_type": "code",
      "source": [
        "model_4.evaluate(X_test, y_test)"
      ],
      "metadata": {
        "colab": {
          "base_uri": "https://localhost:8080/"
        },
        "id": "SXaXuQ5Ec_4K",
        "outputId": "6357167c-a238-4965-cb12-def4abf8371c"
      },
      "execution_count": 48,
      "outputs": [
        {
          "output_type": "stream",
          "name": "stdout",
          "text": [
            "\u001b[1m22/22\u001b[0m \u001b[32m━━━━━━━━━━━━━━━━━━━━\u001b[0m\u001b[37m\u001b[0m \u001b[1m2s\u001b[0m 57ms/step - accuracy: 0.9790 - auc: 0.9652 - fn: 981.3043 - fp: 21.3043 - loss: 0.0590 - precision: 0.8760 - recall: 0.1260 - tn: 45858.0000 - tp: 136.0870\n"
          ]
        },
        {
          "output_type": "execute_result",
          "data": {
            "text/plain": [
              "[0.0606025829911232,\n",
              " 0.9784052968025208,\n",
              " 0.8621907830238342,\n",
              " 0.1185041293501854,\n",
              " 0.9630874395370483,\n",
              " 244.0,\n",
              " 39.0,\n",
              " 83756.0,\n",
              " 1815.0]"
            ]
          },
          "metadata": {},
          "execution_count": 48
        }
      ]
    },
    {
      "cell_type": "markdown",
      "source": [
        "##Predictions"
      ],
      "metadata": {
        "id": "2jHZwRtjkoL3"
      }
    },
    {
      "cell_type": "code",
      "source": [
        "test_predictions = model_4.predict(X_test)\n",
        "print(test_predictions)"
      ],
      "metadata": {
        "colab": {
          "base_uri": "https://localhost:8080/"
        },
        "id": "v72hKOWhkqBe",
        "outputId": "d490729b-8682-437f-e16a-8666855353a1"
      },
      "execution_count": 49,
      "outputs": [
        {
          "output_type": "stream",
          "name": "stdout",
          "text": [
            "\u001b[1m22/22\u001b[0m \u001b[32m━━━━━━━━━━━━━━━━━━━━\u001b[0m\u001b[37m\u001b[0m \u001b[1m6s\u001b[0m 192ms/step\n",
            "[[0.00421722 0.00693573 0.01583409 ... 0.0040943  0.00448798 0.00679206]\n",
            " [0.00418998 0.00688985 0.0157587  ... 0.00407    0.00446043 0.00676515]\n",
            " [0.00419159 0.00689274 0.01576252 ... 0.00407147 0.00446195 0.00676693]\n",
            " ...\n",
            " [0.00422496 0.00694891 0.01585571 ... 0.00410113 0.0044957  0.00679972]\n",
            " [0.00421648 0.00693448 0.01583262 ... 0.00409379 0.00448714 0.00679163]\n",
            " [0.00420122 0.00690885 0.01578994 ... 0.00408003 0.00447177 0.00677628]]\n"
          ]
        }
      ]
    },
    {
      "cell_type": "markdown",
      "source": [
        "##Comparing the four models"
      ],
      "metadata": {
        "id": "giySMjD7eCeH"
      }
    },
    {
      "cell_type": "code",
      "source": [
        "model_1.evaluate(X_test, y_test)\n",
        "model_2.evaluate(X_test, y_test)\n",
        "model_3.evaluate(X_test, y_test)\n",
        "model_4.evaluate(X_test, y_test)"
      ],
      "metadata": {
        "colab": {
          "base_uri": "https://localhost:8080/"
        },
        "id": "ARiU-hnZk3Ea",
        "outputId": "4fa4b920-12f3-41d8-cc01-5cf25a2774b5"
      },
      "execution_count": 50,
      "outputs": [
        {
          "output_type": "stream",
          "name": "stdout",
          "text": [
            "\u001b[1m22/22\u001b[0m \u001b[32m━━━━━━━━━━━━━━━━━━━━\u001b[0m\u001b[37m\u001b[0m \u001b[1m3s\u001b[0m 112ms/step - accuracy: 0.9795 - auc: 0.9665 - fn: 901.9130 - fp: 74.5217 - loss: 0.0562 - precision: 0.7569 - recall: 0.1942 - tn: 45804.7812 - tp: 215.4783\n",
            "\u001b[1m22/22\u001b[0m \u001b[32m━━━━━━━━━━━━━━━━━━━━\u001b[0m\u001b[37m\u001b[0m \u001b[1m1s\u001b[0m 53ms/step - accuracy: 0.9795 - auc: 0.9661 - fn: 933.1739 - fp: 45.7391 - loss: 0.0562 - precision: 0.8103 - recall: 0.1700 - tn: 45833.5664 - tp: 184.2174\n",
            "\u001b[1m22/22\u001b[0m \u001b[32m━━━━━━━━━━━━━━━━━━━━\u001b[0m\u001b[37m\u001b[0m \u001b[1m1s\u001b[0m 52ms/step - accuracy: 0.9780 - auc: 0.9641 - fn: 1037.3043 - fp: 9.0435 - loss: 0.0612 - precision: 0.9017 - recall: 0.0724 - tn: 45870.2617 - tp: 80.0870\n",
            "\u001b[1m22/22\u001b[0m \u001b[32m━━━━━━━━━━━━━━━━━━━━\u001b[0m\u001b[37m\u001b[0m \u001b[1m2s\u001b[0m 74ms/step - accuracy: 0.9790 - auc: 0.9652 - fn: 981.3043 - fp: 21.3043 - loss: 0.0590 - precision: 0.8760 - recall: 0.1260 - tn: 45858.0000 - tp: 136.0870\n"
          ]
        },
        {
          "output_type": "execute_result",
          "data": {
            "text/plain": [
              "[0.0606025829911232,\n",
              " 0.9784052968025208,\n",
              " 0.8621907830238342,\n",
              " 0.1185041293501854,\n",
              " 0.9630874395370483,\n",
              " 244.0,\n",
              " 39.0,\n",
              " 83756.0,\n",
              " 1815.0]"
            ]
          },
          "metadata": {},
          "execution_count": 50
        }
      ]
    },
    {
      "cell_type": "markdown",
      "source": [
        "As can be see from the above the four models all perform very similarly however the more complex models of 1 and 2 have better loss functions.\n",
        "\n",
        "For the next model I will change the loss function from binary crossentropy to hinge loss.\n",
        "This should result encourage the model to not only make correct predictions but also be confident in those predictions"
      ],
      "metadata": {
        "id": "8R4SK-B-lEi-"
      }
    },
    {
      "cell_type": "markdown",
      "source": [
        "##Model 5"
      ],
      "metadata": {
        "id": "4v77Dj5Ol9YP"
      }
    },
    {
      "cell_type": "code",
      "source": [
        "model_5 = Sequential([\n",
        "    Embedding(vocab_size, embedding_dim),\n",
        "    Bidirectional(LSTM(64, return_sequences=True)),\n",
        "    Bidirectional(LSTM(32)),\n",
        "    Dense(len(keywords), activation='sigmoid')\n",
        "])"
      ],
      "metadata": {
        "id": "ecMTiwnyl_ox"
      },
      "execution_count": 51,
      "outputs": []
    },
    {
      "cell_type": "markdown",
      "source": [
        "##Compiling, training and saving the model"
      ],
      "metadata": {
        "id": "nWOHODMsmK1j"
      }
    },
    {
      "cell_type": "code",
      "source": [
        "#Compiling the model\n",
        "model_5.compile(\n",
        "    loss = 'hinge',\n",
        "    optimizer = 'adam',\n",
        "    metrics = METRICS\n",
        "\n",
        ")\n",
        "\n",
        "# Convert X_train, X_val, y_train, y_val to numpy arrays if they aren't already\n",
        "X_train = np.asarray(X_train, dtype=np.float32)\n",
        "X_val = np.asarray(X_val, dtype=np.float32)\n",
        "X_test = np.asarray(X_test, dtype=np.float32)\n",
        "y_train = np.asarray(y_train, dtype=np.float32) # Convert y_train to NumPy array\n",
        "y_val = np.asarray(y_val, dtype=np.float32)   # Convert y_val to NumPy array\n",
        "y_test = np.asarray(y_test, dtype=np.float32) # Convert y_test to NumPy array\n",
        "# Check and potentially adjust the batch size to be consistent\n",
        "batch_size = 41  # Or a smaller value if memory is an issue\n",
        "if X_train.shape[0] % batch_size != 0 or X_val.shape[0] % batch_size != 0:\n",
        "    print(\"Warning: Batch size does not divide evenly into the number of samples. Consider adjusting the batch size.\")\n",
        "\n",
        "#Training the model\n",
        "history_model_5 = model_5.fit(\n",
        "    X_train, y_train,\n",
        "    validation_data = (X_val, y_val),\n",
        "    epochs = 10,\n",
        "\n",
        ")\n",
        "\n",
        "#Saving the model\n",
        "model_5.save('model_5.keras')\n",
        "with open('history_model_5.json', 'w') as f:\n",
        "    json.dump(history_model_5.history, f)"
      ],
      "metadata": {
        "colab": {
          "base_uri": "https://localhost:8080/"
        },
        "id": "Byw2VJ3nmQSj",
        "outputId": "ee4e93e8-cd55-4592-c31f-4f8f0fac7f53"
      },
      "execution_count": 52,
      "outputs": [
        {
          "output_type": "stream",
          "name": "stdout",
          "text": [
            "Warning: Batch size does not divide evenly into the number of samples. Consider adjusting the batch size.\n",
            "Epoch 1/10\n",
            "\u001b[1m66/66\u001b[0m \u001b[32m━━━━━━━━━━━━━━━━━━━━\u001b[0m\u001b[37m\u001b[0m \u001b[1m17s\u001b[0m 148ms/step - accuracy: 0.9053 - auc: 0.7229 - fn: 4188.1494 - fp: 15983.8955 - loss: 1.3316 - precision: 0.0735 - recall: 0.2317 - tn: 198101.5312 - tp: 1268.5671 - val_accuracy: 0.9756 - val_auc: 0.6422 - val_fn: 1777.0000 - val_fp: 322.0000 - val_loss: 1.0210 - val_precision: 0.5387 - val_recall: 0.1746 - val_tn: 83379.0000 - val_tp: 376.0000\n",
            "Epoch 2/10\n",
            "\u001b[1m66/66\u001b[0m \u001b[32m━━━━━━━━━━━━━━━━━━━━\u001b[0m\u001b[37m\u001b[0m \u001b[1m18s\u001b[0m 142ms/step - accuracy: 0.9744 - auc: 0.6480 - fn: 2859.5522 - fp: 551.9850 - loss: 1.0155 - precision: 0.4844 - recall: 0.1552 - tn: 129741.7031 - tp: 534.9105 - val_accuracy: 0.9756 - val_auc: 0.6752 - val_fn: 1777.0000 - val_fp: 322.0000 - val_loss: 1.0065 - val_precision: 0.5387 - val_recall: 0.1746 - val_tn: 83379.0000 - val_tp: 376.0000\n",
            "Epoch 3/10\n",
            "\u001b[1m66/66\u001b[0m \u001b[32m━━━━━━━━━━━━━━━━━━━━\u001b[0m\u001b[37m\u001b[0m \u001b[1m10s\u001b[0m 137ms/step - accuracy: 0.9755 - auc: 0.6567 - fn: 2795.9553 - fp: 552.5074 - loss: 1.0063 - precision: 0.4761 - recall: 0.1603 - tn: 129805.2969 - tp: 534.3881 - val_accuracy: 0.9756 - val_auc: 0.6479 - val_fn: 1777.0000 - val_fp: 322.0000 - val_loss: 1.0034 - val_precision: 0.5387 - val_recall: 0.1746 - val_tn: 83379.0000 - val_tp: 376.0000\n",
            "Epoch 4/10\n",
            "\u001b[1m66/66\u001b[0m \u001b[32m━━━━━━━━━━━━━━━━━━━━\u001b[0m\u001b[37m\u001b[0m \u001b[1m9s\u001b[0m 137ms/step - accuracy: 0.9753 - auc: 0.6494 - fn: 2756.0747 - fp: 549.7612 - loss: 1.0038 - precision: 0.4830 - recall: 0.1610 - tn: 129845.1797 - tp: 537.1343 - val_accuracy: 0.9756 - val_auc: 0.6380 - val_fn: 1777.0000 - val_fp: 322.0000 - val_loss: 1.0021 - val_precision: 0.5387 - val_recall: 0.1746 - val_tn: 83379.0000 - val_tp: 376.0000\n",
            "Epoch 5/10\n",
            "\u001b[1m66/66\u001b[0m \u001b[32m━━━━━━━━━━━━━━━━━━━━\u001b[0m\u001b[37m\u001b[0m \u001b[1m11s\u001b[0m 146ms/step - accuracy: 0.9748 - auc: 0.6328 - fn: 2826.5820 - fp: 535.5970 - loss: 1.0021 - precision: 0.5204 - recall: 0.1655 - tn: 129774.6719 - tp: 551.2985 - val_accuracy: 0.9756 - val_auc: 0.5854 - val_fn: 1777.0000 - val_fp: 322.0000 - val_loss: 1.0013 - val_precision: 0.5387 - val_recall: 0.1746 - val_tn: 83379.0000 - val_tp: 376.0000\n",
            "Epoch 6/10\n",
            "\u001b[1m66/66\u001b[0m \u001b[32m━━━━━━━━━━━━━━━━━━━━\u001b[0m\u001b[37m\u001b[0m \u001b[1m10s\u001b[0m 141ms/step - accuracy: 0.9748 - auc: 0.5787 - fn: 2828.8059 - fp: 541.5522 - loss: 1.0018 - precision: 0.5000 - recall: 0.1616 - tn: 129772.4453 - tp: 545.3433 - val_accuracy: 0.9756 - val_auc: 0.5854 - val_fn: 1777.0000 - val_fp: 322.0000 - val_loss: 1.0009 - val_precision: 0.5387 - val_recall: 0.1746 - val_tn: 83379.0000 - val_tp: 376.0000\n",
            "Epoch 7/10\n",
            "\u001b[1m66/66\u001b[0m \u001b[32m━━━━━━━━━━━━━━━━━━━━\u001b[0m\u001b[37m\u001b[0m \u001b[1m9s\u001b[0m 126ms/step - accuracy: 0.9750 - auc: 0.5795 - fn: 2825.9402 - fp: 541.9850 - loss: 1.0013 - precision: 0.5026 - recall: 0.1632 - tn: 129775.3125 - tp: 544.9105 - val_accuracy: 0.9756 - val_auc: 0.5854 - val_fn: 1777.0000 - val_fp: 322.0000 - val_loss: 1.0006 - val_precision: 0.5387 - val_recall: 0.1746 - val_tn: 83379.0000 - val_tp: 376.0000\n",
            "Epoch 8/10\n",
            "\u001b[1m66/66\u001b[0m \u001b[32m━━━━━━━━━━━━━━━━━━━━\u001b[0m\u001b[37m\u001b[0m \u001b[1m11s\u001b[0m 131ms/step - accuracy: 0.9743 - auc: 0.5790 - fn: 2876.2837 - fp: 535.2985 - loss: 1.0008 - precision: 0.5184 - recall: 0.1621 - tn: 129724.9688 - tp: 551.5970 - val_accuracy: 0.9756 - val_auc: 0.5854 - val_fn: 1777.0000 - val_fp: 322.0000 - val_loss: 1.0004 - val_precision: 0.5387 - val_recall: 0.1746 - val_tn: 83379.0000 - val_tp: 376.0000\n",
            "Epoch 9/10\n",
            "\u001b[1m66/66\u001b[0m \u001b[32m━━━━━━━━━━━━━━━━━━━━\u001b[0m\u001b[37m\u001b[0m \u001b[1m10s\u001b[0m 145ms/step - accuracy: 0.9756 - auc: 0.5812 - fn: 2765.5076 - fp: 540.6567 - loss: 1.0009 - precision: 0.4990 - recall: 0.1667 - tn: 129835.7500 - tp: 546.2388 - val_accuracy: 0.9756 - val_auc: 0.5854 - val_fn: 1777.0000 - val_fp: 322.0000 - val_loss: 1.0002 - val_precision: 0.5387 - val_recall: 0.1746 - val_tn: 83379.0000 - val_tp: 376.0000\n",
            "Epoch 10/10\n",
            "\u001b[1m66/66\u001b[0m \u001b[32m━━━━━━━━━━━━━━━━━━━━\u001b[0m\u001b[37m\u001b[0m \u001b[1m11s\u001b[0m 161ms/step - accuracy: 0.9750 - auc: 0.5801 - fn: 2794.9402 - fp: 543.2537 - loss: 1.0006 - precision: 0.5065 - recall: 0.1643 - tn: 129806.3125 - tp: 543.6418 - val_accuracy: 0.9756 - val_auc: 0.5854 - val_fn: 1777.0000 - val_fp: 322.0000 - val_loss: 1.0001 - val_precision: 0.5387 - val_recall: 0.1746 - val_tn: 83379.0000 - val_tp: 376.0000\n"
          ]
        }
      ]
    },
    {
      "cell_type": "code",
      "source": [
        "model_5.summary()"
      ],
      "metadata": {
        "colab": {
          "base_uri": "https://localhost:8080/",
          "height": 273
        },
        "id": "8vT9GGTEnNao",
        "outputId": "04603f6d-94ec-4a37-f773-be58e5e87ddd"
      },
      "execution_count": 53,
      "outputs": [
        {
          "output_type": "display_data",
          "data": {
            "text/plain": [
              "\u001b[1mModel: \"sequential_4\"\u001b[0m\n"
            ],
            "text/html": [
              "<pre style=\"white-space:pre;overflow-x:auto;line-height:normal;font-family:Menlo,'DejaVu Sans Mono',consolas,'Courier New',monospace\"><span style=\"font-weight: bold\">Model: \"sequential_4\"</span>\n",
              "</pre>\n"
            ]
          },
          "metadata": {}
        },
        {
          "output_type": "display_data",
          "data": {
            "text/plain": [
              "┏━━━━━━━━━━━━━━━━━━━━━━━━━━━━━━━━━━━━━━┳━━━━━━━━━━━━━━━━━━━━━━━━━━━━━┳━━━━━━━━━━━━━━━━━┓\n",
              "┃\u001b[1m \u001b[0m\u001b[1mLayer (type)                        \u001b[0m\u001b[1m \u001b[0m┃\u001b[1m \u001b[0m\u001b[1mOutput Shape               \u001b[0m\u001b[1m \u001b[0m┃\u001b[1m \u001b[0m\u001b[1m        Param #\u001b[0m\u001b[1m \u001b[0m┃\n",
              "┡━━━━━━━━━━━━━━━━━━━━━━━━━━━━━━━━━━━━━━╇━━━━━━━━━━━━━━━━━━━━━━━━━━━━━╇━━━━━━━━━━━━━━━━━┩\n",
              "│ embedding_4 (\u001b[38;5;33mEmbedding\u001b[0m)              │ (\u001b[38;5;45mNone\u001b[0m, \u001b[38;5;34m1000\u001b[0m, \u001b[38;5;34m128\u001b[0m)           │       \u001b[38;5;34m1,280,000\u001b[0m │\n",
              "├──────────────────────────────────────┼─────────────────────────────┼─────────────────┤\n",
              "│ bidirectional_8 (\u001b[38;5;33mBidirectional\u001b[0m)      │ (\u001b[38;5;45mNone\u001b[0m, \u001b[38;5;34m1000\u001b[0m, \u001b[38;5;34m128\u001b[0m)           │          \u001b[38;5;34m98,816\u001b[0m │\n",
              "├──────────────────────────────────────┼─────────────────────────────┼─────────────────┤\n",
              "│ bidirectional_9 (\u001b[38;5;33mBidirectional\u001b[0m)      │ (\u001b[38;5;45mNone\u001b[0m, \u001b[38;5;34m64\u001b[0m)                  │          \u001b[38;5;34m41,216\u001b[0m │\n",
              "├──────────────────────────────────────┼─────────────────────────────┼─────────────────┤\n",
              "│ dense_4 (\u001b[38;5;33mDense\u001b[0m)                      │ (\u001b[38;5;45mNone\u001b[0m, \u001b[38;5;34m123\u001b[0m)                 │           \u001b[38;5;34m7,995\u001b[0m │\n",
              "└──────────────────────────────────────┴─────────────────────────────┴─────────────────┘\n"
            ],
            "text/html": [
              "<pre style=\"white-space:pre;overflow-x:auto;line-height:normal;font-family:Menlo,'DejaVu Sans Mono',consolas,'Courier New',monospace\">┏━━━━━━━━━━━━━━━━━━━━━━━━━━━━━━━━━━━━━━┳━━━━━━━━━━━━━━━━━━━━━━━━━━━━━┳━━━━━━━━━━━━━━━━━┓\n",
              "┃<span style=\"font-weight: bold\"> Layer (type)                         </span>┃<span style=\"font-weight: bold\"> Output Shape                </span>┃<span style=\"font-weight: bold\">         Param # </span>┃\n",
              "┡━━━━━━━━━━━━━━━━━━━━━━━━━━━━━━━━━━━━━━╇━━━━━━━━━━━━━━━━━━━━━━━━━━━━━╇━━━━━━━━━━━━━━━━━┩\n",
              "│ embedding_4 (<span style=\"color: #0087ff; text-decoration-color: #0087ff\">Embedding</span>)              │ (<span style=\"color: #00d7ff; text-decoration-color: #00d7ff\">None</span>, <span style=\"color: #00af00; text-decoration-color: #00af00\">1000</span>, <span style=\"color: #00af00; text-decoration-color: #00af00\">128</span>)           │       <span style=\"color: #00af00; text-decoration-color: #00af00\">1,280,000</span> │\n",
              "├──────────────────────────────────────┼─────────────────────────────┼─────────────────┤\n",
              "│ bidirectional_8 (<span style=\"color: #0087ff; text-decoration-color: #0087ff\">Bidirectional</span>)      │ (<span style=\"color: #00d7ff; text-decoration-color: #00d7ff\">None</span>, <span style=\"color: #00af00; text-decoration-color: #00af00\">1000</span>, <span style=\"color: #00af00; text-decoration-color: #00af00\">128</span>)           │          <span style=\"color: #00af00; text-decoration-color: #00af00\">98,816</span> │\n",
              "├──────────────────────────────────────┼─────────────────────────────┼─────────────────┤\n",
              "│ bidirectional_9 (<span style=\"color: #0087ff; text-decoration-color: #0087ff\">Bidirectional</span>)      │ (<span style=\"color: #00d7ff; text-decoration-color: #00d7ff\">None</span>, <span style=\"color: #00af00; text-decoration-color: #00af00\">64</span>)                  │          <span style=\"color: #00af00; text-decoration-color: #00af00\">41,216</span> │\n",
              "├──────────────────────────────────────┼─────────────────────────────┼─────────────────┤\n",
              "│ dense_4 (<span style=\"color: #0087ff; text-decoration-color: #0087ff\">Dense</span>)                      │ (<span style=\"color: #00d7ff; text-decoration-color: #00d7ff\">None</span>, <span style=\"color: #00af00; text-decoration-color: #00af00\">123</span>)                 │           <span style=\"color: #00af00; text-decoration-color: #00af00\">7,995</span> │\n",
              "└──────────────────────────────────────┴─────────────────────────────┴─────────────────┘\n",
              "</pre>\n"
            ]
          },
          "metadata": {}
        },
        {
          "output_type": "display_data",
          "data": {
            "text/plain": [
              "\u001b[1m Total params: \u001b[0m\u001b[38;5;34m4,284,083\u001b[0m (16.34 MB)\n"
            ],
            "text/html": [
              "<pre style=\"white-space:pre;overflow-x:auto;line-height:normal;font-family:Menlo,'DejaVu Sans Mono',consolas,'Courier New',monospace\"><span style=\"font-weight: bold\"> Total params: </span><span style=\"color: #00af00; text-decoration-color: #00af00\">4,284,083</span> (16.34 MB)\n",
              "</pre>\n"
            ]
          },
          "metadata": {}
        },
        {
          "output_type": "display_data",
          "data": {
            "text/plain": [
              "\u001b[1m Trainable params: \u001b[0m\u001b[38;5;34m1,428,027\u001b[0m (5.45 MB)\n"
            ],
            "text/html": [
              "<pre style=\"white-space:pre;overflow-x:auto;line-height:normal;font-family:Menlo,'DejaVu Sans Mono',consolas,'Courier New',monospace\"><span style=\"font-weight: bold\"> Trainable params: </span><span style=\"color: #00af00; text-decoration-color: #00af00\">1,428,027</span> (5.45 MB)\n",
              "</pre>\n"
            ]
          },
          "metadata": {}
        },
        {
          "output_type": "display_data",
          "data": {
            "text/plain": [
              "\u001b[1m Non-trainable params: \u001b[0m\u001b[38;5;34m0\u001b[0m (0.00 B)\n"
            ],
            "text/html": [
              "<pre style=\"white-space:pre;overflow-x:auto;line-height:normal;font-family:Menlo,'DejaVu Sans Mono',consolas,'Courier New',monospace\"><span style=\"font-weight: bold\"> Non-trainable params: </span><span style=\"color: #00af00; text-decoration-color: #00af00\">0</span> (0.00 B)\n",
              "</pre>\n"
            ]
          },
          "metadata": {}
        },
        {
          "output_type": "display_data",
          "data": {
            "text/plain": [
              "\u001b[1m Optimizer params: \u001b[0m\u001b[38;5;34m2,856,056\u001b[0m (10.89 MB)\n"
            ],
            "text/html": [
              "<pre style=\"white-space:pre;overflow-x:auto;line-height:normal;font-family:Menlo,'DejaVu Sans Mono',consolas,'Courier New',monospace\"><span style=\"font-weight: bold\"> Optimizer params: </span><span style=\"color: #00af00; text-decoration-color: #00af00\">2,856,056</span> (10.89 MB)\n",
              "</pre>\n"
            ]
          },
          "metadata": {}
        }
      ]
    },
    {
      "cell_type": "markdown",
      "source": [
        "##Reloading the model"
      ],
      "metadata": {
        "id": "3QV9O7rSnWYU"
      }
    },
    {
      "cell_type": "code",
      "source": [
        "model_5 = tf.keras.models.load_model('model_5.keras')\n",
        "with open('history_model_5.json') as f:\n",
        "    history_model_5 = json.load(f)"
      ],
      "metadata": {
        "id": "ULYn6c6pnb8K"
      },
      "execution_count": 54,
      "outputs": []
    },
    {
      "cell_type": "markdown",
      "source": [
        "##Plotting the training"
      ],
      "metadata": {
        "id": "w53CYp5SnhpS"
      }
    },
    {
      "cell_type": "code",
      "source": [
        "acc = history_model_5['accuracy']\n",
        "val_acc = history_model_5['val_accuracy']\n",
        "loss = history_model_5['loss']\n",
        "val_loss = history_model_5['val_loss']\n",
        "\n",
        "epochs = range(len(acc))\n",
        "\n",
        "\n",
        "plt.plot(epochs, acc, 'ro', label='Training acc')\n",
        "plt.plot(epochs, val_acc, 'b', label='Validation acc')\n",
        "plt.title('Model 5 Training and validation accuracy')\n",
        "plt.legend()\n",
        "\n",
        "plt.figure()\n",
        "\n",
        "plt.plot(epochs, loss, 'ro', label='Training loss')\n",
        "plt.plot(epochs, val_loss, 'b', label='Validation loss')\n",
        "plt.title('Model 5 training and validation loss')\n",
        "plt.legend()\n",
        "\n",
        "plt.show()"
      ],
      "metadata": {
        "colab": {
          "base_uri": "https://localhost:8080/",
          "height": 887
        },
        "id": "btTL71tJnkvf",
        "outputId": "5af344b5-02ef-4ad6-b539-9fe6385bf225"
      },
      "execution_count": 55,
      "outputs": [
        {
          "output_type": "display_data",
          "data": {
            "text/plain": [
              "<Figure size 640x480 with 1 Axes>"
            ],
            "image/png": "[encoded data removed]"
          },
          "metadata": {}
        },
        {
          "output_type": "display_data",
          "data": {
            "text/plain": [
              "<Figure size 640x480 with 1 Axes>"
            ],
            "image/png": "[encoded data removed]"
          },
          "metadata": {}
        }
      ]
    },
    {
      "cell_type": "markdown",
      "source": [
        "##Evaluating the model"
      ],
      "metadata": {
        "id": "IPuuyJ5wn6--"
      }
    },
    {
      "cell_type": "code",
      "source": [
        "model_5.evaluate(X_test, y_test)"
      ],
      "metadata": {
        "colab": {
          "base_uri": "https://localhost:8080/"
        },
        "id": "0-Vf2L3_oA4M",
        "outputId": "92ae20e2-37e1-4c45-9e0b-aa1206c812f1"
      },
      "execution_count": 56,
      "outputs": [
        {
          "output_type": "stream",
          "name": "stdout",
          "text": [
            "\u001b[1m22/22\u001b[0m \u001b[32m━━━━━━━━━━━━━━━━━━━━\u001b[0m\u001b[37m\u001b[0m \u001b[1m3s\u001b[0m 96ms/step - accuracy: 0.9764 - auc: 0.5832 - fn: 923.9130 - fp: 188.6087 - loss: 1.0007 - precision: 0.4943 - recall: 0.1707 - tn: 45690.6953 - tp: 193.4783\n"
          ]
        },
        {
          "output_type": "execute_result",
          "data": {
            "text/plain": [
              "[1.0004503726959229,\n",
              " 0.9762505292892456,\n",
              " 0.5143266320228577,\n",
              " 0.17435649037361145,\n",
              " 0.5851554274559021,\n",
              " 359.0,\n",
              " 339.0,\n",
              " 83456.0,\n",
              " 1700.0]"
            ]
          },
          "metadata": {},
          "execution_count": 56
        }
      ]
    },
    {
      "cell_type": "markdown",
      "source": [
        "##Predictions"
      ],
      "metadata": {
        "id": "iv7v9Le3oKmE"
      }
    },
    {
      "cell_type": "code",
      "source": [
        "test_predictions = model_5.predict(X_test)\n",
        "print(test_predictions)"
      ],
      "metadata": {
        "colab": {
          "base_uri": "https://localhost:8080/"
        },
        "id": "D8zzjc8JoMG7",
        "outputId": "7d1a8700-77ab-489e-c1b0-33c9b5afb5dd"
      },
      "execution_count": 64,
      "outputs": [
        {
          "output_type": "stream",
          "name": "stdout",
          "text": [
            "\u001b[1m22/22\u001b[0m \u001b[32m━━━━━━━━━━━━━━━━━━━━\u001b[0m\u001b[37m\u001b[0m \u001b[1m2s\u001b[0m 75ms/step\n",
            "[[0.00068749 0.00063449 0.00098539 ... 0.0010017  0.00037826 0.0005685 ]\n",
            " [0.00068651 0.0006335  0.00098398 ... 0.0010005  0.0003778  0.00056761]\n",
            " [0.00068604 0.00063302 0.00098331 ... 0.0009999  0.00037758 0.00056717]\n",
            " ...\n",
            " [0.00068769 0.00063469 0.00098575 ... 0.00100196 0.00037837 0.0005687 ]\n",
            " [0.00068746 0.00063445 0.00098536 ... 0.00100169 0.00037825 0.00056849]\n",
            " [0.00068692 0.00063392 0.00098459 ... 0.00100099 0.00037799 0.00056798]]\n"
          ]
        }
      ]
    },
    {
      "cell_type": "markdown",
      "source": [
        "##Model 6 - training for 20 epochs"
      ],
      "metadata": {
        "id": "dYdrdFVbock6"
      }
    },
    {
      "cell_type": "code",
      "source": [
        "model_6 = Sequential([\n",
        "    Embedding(vocab_size, embedding_dim),\n",
        "    Bidirectional(LSTM(64, return_sequences=True)),\n",
        "    Bidirectional(LSTM(32)),\n",
        "    Dense(len(keywords), activation='sigmoid')\n",
        "])"
      ],
      "metadata": {
        "id": "yhzT9P-kognZ"
      },
      "execution_count": 59,
      "outputs": []
    },
    {
      "cell_type": "markdown",
      "source": [
        "##Compiling, training and saving the model"
      ],
      "metadata": {
        "id": "1qfePvSjouDa"
      }
    },
    {
      "cell_type": "code",
      "source": [
        "#Compiling the model\n",
        "model_6.compile(\n",
        "    loss = 'hinge',\n",
        "    optimizer = 'adam',\n",
        "    metrics = METRICS\n",
        "\n",
        ")\n",
        "\n",
        "# Convert X_train, X_val, y_train, y_val to numpy arrays if they aren't already\n",
        "X_train = np.asarray(X_train, dtype=np.float32)\n",
        "X_val = np.asarray(X_val, dtype=np.float32)\n",
        "X_test = np.asarray(X_test, dtype=np.float32)\n",
        "y_train = np.asarray(y_train, dtype=np.float32) # Convert y_train to NumPy array\n",
        "y_val = np.asarray(y_val, dtype=np.float32)   # Convert y_val to NumPy array\n",
        "y_test = np.asarray(y_test, dtype=np.float32) # Convert y_test to NumPy array\n",
        "# Check and potentially adjust the batch size to be consistent\n",
        "batch_size = 41  # Or a smaller value if memory is an issue\n",
        "if X_train.shape[0] % batch_size != 0 or X_val.shape[0] % batch_size != 0:\n",
        "    print(\"Warning: Batch size does not divide evenly into the number of samples. Consider adjusting the batch size.\")\n",
        "\n",
        "#Training the model\n",
        "history_model_6 = model_6.fit(\n",
        "    X_train, y_train,\n",
        "    validation_data = (X_val, y_val),\n",
        "    epochs = 20,\n",
        "\n",
        ")\n",
        "\n",
        "#Saving the model\n",
        "model_6.save('model_6.keras')\n",
        "with open('history_model_6.json', 'w') as f:\n",
        "    json.dump(history_model_6.history, f)\n",
        "\n",
        "model_6.summary()"
      ],
      "metadata": {
        "colab": {
          "base_uri": "https://localhost:8080/",
          "height": 1000
        },
        "id": "uThdYKv1oyK2",
        "outputId": "923a1c22-0742-491f-986e-7863fc5cf37a"
      },
      "execution_count": 61,
      "outputs": [
        {
          "output_type": "stream",
          "name": "stdout",
          "text": [
            "Warning: Batch size does not divide evenly into the number of samples. Consider adjusting the batch size.\n",
            "Epoch 1/20\n",
            "\u001b[1m66/66\u001b[0m \u001b[32m━━━━━━━━━━━━━━━━━━━━\u001b[0m\u001b[37m\u001b[0m \u001b[1m15s\u001b[0m 150ms/step - accuracy: 0.9243 - auc: 0.5723 - fn: 7119.9551 - fp: 16001.8213 - loss: 1.1053 - precision: 0.0528 - recall: 0.1186 - tn: 293927.6875 - tp: 892.6866 - val_accuracy: 0.9749 - val_auc: 0.6131 - val_fn: 2153.0000 - val_fp: 0.0000e+00 - val_loss: 1.0124 - val_precision: 0.0000e+00 - val_recall: 0.0000e+00 - val_tn: 83701.0000 - val_tp: 0.0000e+00\n",
            "Epoch 2/20\n",
            "\u001b[1m66/66\u001b[0m \u001b[32m━━━━━━━━━━━━━━━━━━━━\u001b[0m\u001b[37m\u001b[0m \u001b[1m9s\u001b[0m 141ms/step - accuracy: 0.9742 - auc: 0.6216 - fn: 3415.8955 - fp: 0.0000e+00 - loss: 1.0098 - precision: 0.0000e+00 - recall: 0.0000e+00 - tn: 130272.2500 - tp: 0.0000e+00 - val_accuracy: 0.9749 - val_auc: 0.6302 - val_fn: 2153.0000 - val_fp: 0.0000e+00 - val_loss: 1.0049 - val_precision: 0.0000e+00 - val_recall: 0.0000e+00 - val_tn: 83701.0000 - val_tp: 0.0000e+00\n",
            "Epoch 3/20\n",
            "\u001b[1m66/66\u001b[0m \u001b[32m━━━━━━━━━━━━━━━━━━━━\u001b[0m\u001b[37m\u001b[0m \u001b[1m11s\u001b[0m 160ms/step - accuracy: 0.9750 - auc: 0.5991 - fn: 3387.0747 - fp: 0.0000e+00 - loss: 1.0045 - precision: 0.0000e+00 - recall: 0.0000e+00 - tn: 130301.0781 - tp: 0.0000e+00 - val_accuracy: 0.9749 - val_auc: 0.6161 - val_fn: 2153.0000 - val_fp: 0.0000e+00 - val_loss: 1.0028 - val_precision: 0.0000e+00 - val_recall: 0.0000e+00 - val_tn: 83701.0000 - val_tp: 0.0000e+00\n",
            "Epoch 4/20\n",
            "\u001b[1m66/66\u001b[0m \u001b[32m━━━━━━━━━━━━━━━━━━━━\u001b[0m\u001b[37m\u001b[0m \u001b[1m19s\u001b[0m 138ms/step - accuracy: 0.9749 - auc: 0.6195 - fn: 3364.3582 - fp: 0.0000e+00 - loss: 1.0028 - precision: 0.0000e+00 - recall: 0.0000e+00 - tn: 130323.7891 - tp: 0.0000e+00 - val_accuracy: 0.9749 - val_auc: 0.5910 - val_fn: 2153.0000 - val_fp: 0.0000e+00 - val_loss: 1.0018 - val_precision: 0.0000e+00 - val_recall: 0.0000e+00 - val_tn: 83701.0000 - val_tp: 0.0000e+00\n",
            "Epoch 5/20\n",
            "\u001b[1m66/66\u001b[0m \u001b[32m━━━━━━━━━━━━━━━━━━━━\u001b[0m\u001b[37m\u001b[0m \u001b[1m12s\u001b[0m 174ms/step - accuracy: 0.9740 - auc: 0.5784 - fn: 3442.2537 - fp: 0.0000e+00 - loss: 1.0017 - precision: 0.0000e+00 - recall: 0.0000e+00 - tn: 130245.8984 - tp: 0.0000e+00 - val_accuracy: 0.9749 - val_auc: 0.5854 - val_fn: 2153.0000 - val_fp: 0.0000e+00 - val_loss: 1.0013 - val_precision: 0.0000e+00 - val_recall: 0.0000e+00 - val_tn: 83701.0000 - val_tp: 0.0000e+00\n",
            "Epoch 6/20\n",
            "\u001b[1m66/66\u001b[0m \u001b[32m━━━━━━━━━━━━━━━━━━━━\u001b[0m\u001b[37m\u001b[0m \u001b[1m18s\u001b[0m 128ms/step - accuracy: 0.9745 - auc: 0.5789 - fn: 3434.8955 - fp: 0.0000e+00 - loss: 1.0013 - precision: 0.0000e+00 - recall: 0.0000e+00 - tn: 130253.2500 - tp: 0.0000e+00 - val_accuracy: 0.9749 - val_auc: 0.5854 - val_fn: 2153.0000 - val_fp: 0.0000e+00 - val_loss: 1.0009 - val_precision: 0.0000e+00 - val_recall: 0.0000e+00 - val_tn: 83701.0000 - val_tp: 0.0000e+00\n",
            "Epoch 7/20\n",
            "\u001b[1m66/66\u001b[0m \u001b[32m━━━━━━━━━━━━━━━━━━━━\u001b[0m\u001b[37m\u001b[0m \u001b[1m10s\u001b[0m 126ms/step - accuracy: 0.9743 - auc: 0.5768 - fn: 3436.6270 - fp: 0.0000e+00 - loss: 1.0011 - precision: 0.0000e+00 - recall: 0.0000e+00 - tn: 130251.5234 - tp: 0.0000e+00 - val_accuracy: 0.9749 - val_auc: 0.5854 - val_fn: 2153.0000 - val_fp: 0.0000e+00 - val_loss: 1.0007 - val_precision: 0.0000e+00 - val_recall: 0.0000e+00 - val_tn: 83701.0000 - val_tp: 0.0000e+00\n",
            "Epoch 8/20\n",
            "\u001b[1m66/66\u001b[0m \u001b[32m━━━━━━━━━━━━━━━━━━━━\u001b[0m\u001b[37m\u001b[0m \u001b[1m9s\u001b[0m 142ms/step - accuracy: 0.9749 - auc: 0.5804 - fn: 3374.5969 - fp: 0.0000e+00 - loss: 1.0008 - precision: 0.0000e+00 - recall: 0.0000e+00 - tn: 130313.5547 - tp: 0.0000e+00 - val_accuracy: 0.9749 - val_auc: 0.5854 - val_fn: 2153.0000 - val_fp: 0.0000e+00 - val_loss: 1.0005 - val_precision: 0.0000e+00 - val_recall: 0.0000e+00 - val_tn: 83701.0000 - val_tp: 0.0000e+00\n",
            "Epoch 9/20\n",
            "\u001b[1m66/66\u001b[0m \u001b[32m━━━━━━━━━━━━━━━━━━━━\u001b[0m\u001b[37m\u001b[0m \u001b[1m10s\u001b[0m 150ms/step - accuracy: 0.9748 - auc: 0.5813 - fn: 3390.1045 - fp: 0.0000e+00 - loss: 1.0006 - precision: 0.0000e+00 - recall: 0.0000e+00 - tn: 130298.0469 - tp: 0.0000e+00 - val_accuracy: 0.9749 - val_auc: 0.5854 - val_fn: 2153.0000 - val_fp: 0.0000e+00 - val_loss: 1.0004 - val_precision: 0.0000e+00 - val_recall: 0.0000e+00 - val_tn: 83701.0000 - val_tp: 0.0000e+00\n",
            "Epoch 10/20\n",
            "\u001b[1m66/66\u001b[0m \u001b[32m━━━━━━━━━━━━━━━━━━━━\u001b[0m\u001b[37m\u001b[0m \u001b[1m9s\u001b[0m 128ms/step - accuracy: 0.9749 - auc: 0.5820 - fn: 3383.5671 - fp: 0.0000e+00 - loss: 1.0005 - precision: 0.0000e+00 - recall: 0.0000e+00 - tn: 130304.5859 - tp: 0.0000e+00 - val_accuracy: 0.9749 - val_auc: 0.5854 - val_fn: 2153.0000 - val_fp: 0.0000e+00 - val_loss: 1.0003 - val_precision: 0.0000e+00 - val_recall: 0.0000e+00 - val_tn: 83701.0000 - val_tp: 0.0000e+00\n",
            "Epoch 11/20\n",
            "\u001b[1m66/66\u001b[0m \u001b[32m━━━━━━━━━━━━━━━━━━━━\u001b[0m\u001b[37m\u001b[0m \u001b[1m9s\u001b[0m 138ms/step - accuracy: 0.9748 - auc: 0.5779 - fn: 3398.8806 - fp: 0.0000e+00 - loss: 1.0005 - precision: 0.0000e+00 - recall: 0.0000e+00 - tn: 130289.2656 - tp: 0.0000e+00 - val_accuracy: 0.9749 - val_auc: 0.5854 - val_fn: 2153.0000 - val_fp: 0.0000e+00 - val_loss: 1.0003 - val_precision: 0.0000e+00 - val_recall: 0.0000e+00 - val_tn: 83701.0000 - val_tp: 0.0000e+00\n",
            "Epoch 12/20\n",
            "\u001b[1m66/66\u001b[0m \u001b[32m━━━━━━━━━━━━━━━━━━━━\u001b[0m\u001b[37m\u001b[0m \u001b[1m11s\u001b[0m 143ms/step - accuracy: 0.9754 - auc: 0.5809 - fn: 3348.2537 - fp: 0.0000e+00 - loss: 1.0004 - precision: 0.0000e+00 - recall: 0.0000e+00 - tn: 130339.8984 - tp: 0.0000e+00 - val_accuracy: 0.9749 - val_auc: 0.5854 - val_fn: 2153.0000 - val_fp: 0.0000e+00 - val_loss: 1.0002 - val_precision: 0.0000e+00 - val_recall: 0.0000e+00 - val_tn: 83701.0000 - val_tp: 0.0000e+00\n",
            "Epoch 13/20\n",
            "\u001b[1m66/66\u001b[0m \u001b[32m━━━━━━━━━━━━━━━━━━━━\u001b[0m\u001b[37m\u001b[0m \u001b[1m9s\u001b[0m 125ms/step - accuracy: 0.9743 - auc: 0.5802 - fn: 3366.2837 - fp: 0.0000e+00 - loss: 1.0003 - precision: 0.0000e+00 - recall: 0.0000e+00 - tn: 130321.8672 - tp: 0.0000e+00 - val_accuracy: 0.9749 - val_auc: 0.5854 - val_fn: 2153.0000 - val_fp: 0.0000e+00 - val_loss: 1.0002 - val_precision: 0.0000e+00 - val_recall: 0.0000e+00 - val_tn: 83701.0000 - val_tp: 0.0000e+00\n",
            "Epoch 14/20\n",
            "\u001b[1m66/66\u001b[0m \u001b[32m━━━━━━━━━━━━━━━━━━━━\u001b[0m\u001b[37m\u001b[0m \u001b[1m10s\u001b[0m 125ms/step - accuracy: 0.9752 - auc: 0.5809 - fn: 3333.2986 - fp: 0.0000e+00 - loss: 1.0003 - precision: 0.0000e+00 - recall: 0.0000e+00 - tn: 130354.8516 - tp: 0.0000e+00 - val_accuracy: 0.9749 - val_auc: 0.5854 - val_fn: 2153.0000 - val_fp: 0.0000e+00 - val_loss: 1.0001 - val_precision: 0.0000e+00 - val_recall: 0.0000e+00 - val_tn: 83701.0000 - val_tp: 0.0000e+00\n",
            "Epoch 15/20\n",
            "\u001b[1m66/66\u001b[0m \u001b[32m━━━━━━━━━━━━━━━━━━━━\u001b[0m\u001b[37m\u001b[0m \u001b[1m11s\u001b[0m 144ms/step - accuracy: 0.9740 - auc: 0.5754 - fn: 3405.2837 - fp: 0.0000e+00 - loss: 1.0003 - precision: 0.0000e+00 - recall: 0.0000e+00 - tn: 130282.8672 - tp: 0.0000e+00 - val_accuracy: 0.9749 - val_auc: 0.5854 - val_fn: 2153.0000 - val_fp: 0.0000e+00 - val_loss: 1.0001 - val_precision: 0.0000e+00 - val_recall: 0.0000e+00 - val_tn: 83701.0000 - val_tp: 0.0000e+00\n",
            "Epoch 16/20\n",
            "\u001b[1m66/66\u001b[0m \u001b[32m━━━━━━━━━━━━━━━━━━━━\u001b[0m\u001b[37m\u001b[0m \u001b[1m9s\u001b[0m 143ms/step - accuracy: 0.9743 - auc: 0.5775 - fn: 3397.0747 - fp: 0.0000e+00 - loss: 1.0002 - precision: 0.0000e+00 - recall: 0.0000e+00 - tn: 130291.0781 - tp: 0.0000e+00 - val_accuracy: 0.9749 - val_auc: 0.5854 - val_fn: 2153.0000 - val_fp: 0.0000e+00 - val_loss: 1.0001 - val_precision: 0.0000e+00 - val_recall: 0.0000e+00 - val_tn: 83701.0000 - val_tp: 0.0000e+00\n",
            "Epoch 17/20\n",
            "\u001b[1m66/66\u001b[0m \u001b[32m━━━━━━━━━━━━━━━━━━━━\u001b[0m\u001b[37m\u001b[0m \u001b[1m8s\u001b[0m 125ms/step - accuracy: 0.9750 - auc: 0.5802 - fn: 3362.4478 - fp: 0.0000e+00 - loss: 1.0002 - precision: 0.0000e+00 - recall: 0.0000e+00 - tn: 130325.7031 - tp: 0.0000e+00 - val_accuracy: 0.9749 - val_auc: 0.5854 - val_fn: 2153.0000 - val_fp: 0.0000e+00 - val_loss: 1.0000 - val_precision: 0.0000e+00 - val_recall: 0.0000e+00 - val_tn: 83701.0000 - val_tp: 0.0000e+00\n",
            "Epoch 18/20\n",
            "\u001b[1m66/66\u001b[0m \u001b[32m━━━━━━━━━━━━━━━━━━━━\u001b[0m\u001b[37m\u001b[0m \u001b[1m9s\u001b[0m 143ms/step - accuracy: 0.9752 - auc: 0.5801 - fn: 3361.9702 - fp: 0.0000e+00 - loss: 1.0002 - precision: 0.0000e+00 - recall: 0.0000e+00 - tn: 130326.1797 - tp: 0.0000e+00 - val_accuracy: 0.9749 - val_auc: 0.5854 - val_fn: 2153.0000 - val_fp: 0.0000e+00 - val_loss: 1.0000 - val_precision: 0.0000e+00 - val_recall: 0.0000e+00 - val_tn: 83701.0000 - val_tp: 0.0000e+00\n",
            "Epoch 19/20\n",
            "\u001b[1m66/66\u001b[0m \u001b[32m━━━━━━━━━━━━━━━━━━━━\u001b[0m\u001b[37m\u001b[0m \u001b[1m10s\u001b[0m 145ms/step - accuracy: 0.9753 - auc: 0.5793 - fn: 3332.6270 - fp: 0.0000e+00 - loss: 1.0002 - precision: 0.0000e+00 - recall: 0.0000e+00 - tn: 130355.5234 - tp: 0.0000e+00 - val_accuracy: 0.9749 - val_auc: 0.5854 - val_fn: 2153.0000 - val_fp: 0.0000e+00 - val_loss: 1.0000 - val_precision: 0.0000e+00 - val_recall: 0.0000e+00 - val_tn: 83701.0000 - val_tp: 0.0000e+00\n",
            "Epoch 20/20\n",
            "\u001b[1m66/66\u001b[0m \u001b[32m━━━━━━━━━━━━━━━━━━━━\u001b[0m\u001b[37m\u001b[0m \u001b[1m9s\u001b[0m 129ms/step - accuracy: 0.9746 - auc: 0.5777 - fn: 3412.5671 - fp: 0.0000e+00 - loss: 1.0002 - precision: 0.0000e+00 - recall: 0.0000e+00 - tn: 130275.5859 - tp: 0.0000e+00 - val_accuracy: 0.9749 - val_auc: 0.5854 - val_fn: 2153.0000 - val_fp: 0.0000e+00 - val_loss: 1.0000 - val_precision: 0.0000e+00 - val_recall: 0.0000e+00 - val_tn: 83701.0000 - val_tp: 0.0000e+00\n"
          ]
        },
        {
          "output_type": "display_data",
          "data": {
            "text/plain": [
              "\u001b[1mModel: \"sequential_5\"\u001b[0m\n"
            ],
            "text/html": [
              "<pre style=\"white-space:pre;overflow-x:auto;line-height:normal;font-family:Menlo,'DejaVu Sans Mono',consolas,'Courier New',monospace\"><span style=\"font-weight: bold\">Model: \"sequential_5\"</span>\n",
              "</pre>\n"
            ]
          },
          "metadata": {}
        },
        {
          "output_type": "display_data",
          "data": {
            "text/plain": [
              "┏━━━━━━━━━━━━━━━━━━━━━━━━━━━━━━━━━━━━━━┳━━━━━━━━━━━━━━━━━━━━━━━━━━━━━┳━━━━━━━━━━━━━━━━━┓\n",
              "┃\u001b[1m \u001b[0m\u001b[1mLayer (type)                        \u001b[0m\u001b[1m \u001b[0m┃\u001b[1m \u001b[0m\u001b[1mOutput Shape               \u001b[0m\u001b[1m \u001b[0m┃\u001b[1m \u001b[0m\u001b[1m        Param #\u001b[0m\u001b[1m \u001b[0m┃\n",
              "┡━━━━━━━━━━━━━━━━━━━━━━━━━━━━━━━━━━━━━━╇━━━━━━━━━━━━━━━━━━━━━━━━━━━━━╇━━━━━━━━━━━━━━━━━┩\n",
              "│ embedding_5 (\u001b[38;5;33mEmbedding\u001b[0m)              │ (\u001b[38;5;45mNone\u001b[0m, \u001b[38;5;34m1000\u001b[0m, \u001b[38;5;34m128\u001b[0m)           │       \u001b[38;5;34m1,280,000\u001b[0m │\n",
              "├──────────────────────────────────────┼─────────────────────────────┼─────────────────┤\n",
              "│ bidirectional_10 (\u001b[38;5;33mBidirectional\u001b[0m)     │ (\u001b[38;5;45mNone\u001b[0m, \u001b[38;5;34m1000\u001b[0m, \u001b[38;5;34m128\u001b[0m)           │          \u001b[38;5;34m98,816\u001b[0m │\n",
              "├──────────────────────────────────────┼─────────────────────────────┼─────────────────┤\n",
              "│ bidirectional_11 (\u001b[38;5;33mBidirectional\u001b[0m)     │ (\u001b[38;5;45mNone\u001b[0m, \u001b[38;5;34m64\u001b[0m)                  │          \u001b[38;5;34m41,216\u001b[0m │\n",
              "├──────────────────────────────────────┼─────────────────────────────┼─────────────────┤\n",
              "│ dense_5 (\u001b[38;5;33mDense\u001b[0m)                      │ (\u001b[38;5;45mNone\u001b[0m, \u001b[38;5;34m123\u001b[0m)                 │           \u001b[38;5;34m7,995\u001b[0m │\n",
              "└──────────────────────────────────────┴─────────────────────────────┴─────────────────┘\n"
            ],
            "text/html": [
              "<pre style=\"white-space:pre;overflow-x:auto;line-height:normal;font-family:Menlo,'DejaVu Sans Mono',consolas,'Courier New',monospace\">┏━━━━━━━━━━━━━━━━━━━━━━━━━━━━━━━━━━━━━━┳━━━━━━━━━━━━━━━━━━━━━━━━━━━━━┳━━━━━━━━━━━━━━━━━┓\n",
              "┃<span style=\"font-weight: bold\"> Layer (type)                         </span>┃<span style=\"font-weight: bold\"> Output Shape                </span>┃<span style=\"font-weight: bold\">         Param # </span>┃\n",
              "┡━━━━━━━━━━━━━━━━━━━━━━━━━━━━━━━━━━━━━━╇━━━━━━━━━━━━━━━━━━━━━━━━━━━━━╇━━━━━━━━━━━━━━━━━┩\n",
              "│ embedding_5 (<span style=\"color: #0087ff; text-decoration-color: #0087ff\">Embedding</span>)              │ (<span style=\"color: #00d7ff; text-decoration-color: #00d7ff\">None</span>, <span style=\"color: #00af00; text-decoration-color: #00af00\">1000</span>, <span style=\"color: #00af00; text-decoration-color: #00af00\">128</span>)           │       <span style=\"color: #00af00; text-decoration-color: #00af00\">1,280,000</span> │\n",
              "├──────────────────────────────────────┼─────────────────────────────┼─────────────────┤\n",
              "│ bidirectional_10 (<span style=\"color: #0087ff; text-decoration-color: #0087ff\">Bidirectional</span>)     │ (<span style=\"color: #00d7ff; text-decoration-color: #00d7ff\">None</span>, <span style=\"color: #00af00; text-decoration-color: #00af00\">1000</span>, <span style=\"color: #00af00; text-decoration-color: #00af00\">128</span>)           │          <span style=\"color: #00af00; text-decoration-color: #00af00\">98,816</span> │\n",
              "├──────────────────────────────────────┼─────────────────────────────┼─────────────────┤\n",
              "│ bidirectional_11 (<span style=\"color: #0087ff; text-decoration-color: #0087ff\">Bidirectional</span>)     │ (<span style=\"color: #00d7ff; text-decoration-color: #00d7ff\">None</span>, <span style=\"color: #00af00; text-decoration-color: #00af00\">64</span>)                  │          <span style=\"color: #00af00; text-decoration-color: #00af00\">41,216</span> │\n",
              "├──────────────────────────────────────┼─────────────────────────────┼─────────────────┤\n",
              "│ dense_5 (<span style=\"color: #0087ff; text-decoration-color: #0087ff\">Dense</span>)                      │ (<span style=\"color: #00d7ff; text-decoration-color: #00d7ff\">None</span>, <span style=\"color: #00af00; text-decoration-color: #00af00\">123</span>)                 │           <span style=\"color: #00af00; text-decoration-color: #00af00\">7,995</span> │\n",
              "└──────────────────────────────────────┴─────────────────────────────┴─────────────────┘\n",
              "</pre>\n"
            ]
          },
          "metadata": {}
        },
        {
          "output_type": "display_data",
          "data": {
            "text/plain": [
              "\u001b[1m Total params: \u001b[0m\u001b[38;5;34m4,284,083\u001b[0m (16.34 MB)\n"
            ],
            "text/html": [
              "<pre style=\"white-space:pre;overflow-x:auto;line-height:normal;font-family:Menlo,'DejaVu Sans Mono',consolas,'Courier New',monospace\"><span style=\"font-weight: bold\"> Total params: </span><span style=\"color: #00af00; text-decoration-color: #00af00\">4,284,083</span> (16.34 MB)\n",
              "</pre>\n"
            ]
          },
          "metadata": {}
        },
        {
          "output_type": "display_data",
          "data": {
            "text/plain": [
              "\u001b[1m Trainable params: \u001b[0m\u001b[38;5;34m1,428,027\u001b[0m (5.45 MB)\n"
            ],
            "text/html": [
              "<pre style=\"white-space:pre;overflow-x:auto;line-height:normal;font-family:Menlo,'DejaVu Sans Mono',consolas,'Courier New',monospace\"><span style=\"font-weight: bold\"> Trainable params: </span><span style=\"color: #00af00; text-decoration-color: #00af00\">1,428,027</span> (5.45 MB)\n",
              "</pre>\n"
            ]
          },
          "metadata": {}
        },
        {
          "output_type": "display_data",
          "data": {
            "text/plain": [
              "\u001b[1m Non-trainable params: \u001b[0m\u001b[38;5;34m0\u001b[0m (0.00 B)\n"
            ],
            "text/html": [
              "<pre style=\"white-space:pre;overflow-x:auto;line-height:normal;font-family:Menlo,'DejaVu Sans Mono',consolas,'Courier New',monospace\"><span style=\"font-weight: bold\"> Non-trainable params: </span><span style=\"color: #00af00; text-decoration-color: #00af00\">0</span> (0.00 B)\n",
              "</pre>\n"
            ]
          },
          "metadata": {}
        },
        {
          "output_type": "display_data",
          "data": {
            "text/plain": [
              "\u001b[1m Optimizer params: \u001b[0m\u001b[38;5;34m2,856,056\u001b[0m (10.89 MB)\n"
            ],
            "text/html": [
              "<pre style=\"white-space:pre;overflow-x:auto;line-height:normal;font-family:Menlo,'DejaVu Sans Mono',consolas,'Courier New',monospace\"><span style=\"font-weight: bold\"> Optimizer params: </span><span style=\"color: #00af00; text-decoration-color: #00af00\">2,856,056</span> (10.89 MB)\n",
              "</pre>\n"
            ]
          },
          "metadata": {}
        }
      ]
    },
    {
      "cell_type": "markdown",
      "source": [
        "##Reloading the model"
      ],
      "metadata": {
        "id": "QGPVSRqeqcQj"
      }
    },
    {
      "cell_type": "code",
      "source": [
        "model_6 = tf.keras.models.load_model('model_6.keras')\n",
        "with open('history_model_6.json') as f:\n",
        "    history_model_6 = json.load(f)"
      ],
      "metadata": {
        "id": "DlUaxUFPqnkU"
      },
      "execution_count": 62,
      "outputs": []
    },
    {
      "cell_type": "markdown",
      "source": [
        "##Training plots"
      ],
      "metadata": {
        "id": "kUzCyJunqs2F"
      }
    },
    {
      "cell_type": "code",
      "source": [
        "acc = history_model_6['accuracy']\n",
        "val_acc = history_model_6['val_accuracy']\n",
        "loss = history_model_6['loss']\n",
        "val_loss = history_model_6['val_loss']\n",
        "\n",
        "epochs = range(len(acc))\n",
        "\n",
        "\n",
        "plt.plot(epochs, acc, 'ro', label='Training acc')\n",
        "plt.plot(epochs, val_acc, 'b', label='Validation acc')\n",
        "plt.title('Model 6 Training and validation accuracy')\n",
        "plt.legend()\n",
        "\n",
        "plt.figure()\n",
        "\n",
        "plt.plot(epochs, loss, 'ro', label='Training loss')\n",
        "plt.plot(epochs, val_loss, 'b', label='Validation loss')\n",
        "plt.title('Model 6 training and validation loss')\n",
        "plt.legend()\n",
        "\n",
        "plt.show()"
      ],
      "metadata": {
        "colab": {
          "base_uri": "https://localhost:8080/",
          "height": 887
        },
        "id": "5bZatcIyqvMe",
        "outputId": "1ecb3ad5-0c0c-40e5-9b07-e16fa36c1c21"
      },
      "execution_count": 63,
      "outputs": [
        {
          "output_type": "display_data",
          "data": {
            "text/plain": [
              "<Figure size 640x480 with 1 Axes>"
            ],
            "image/png": "[encoded data removed]"
          },
          "metadata": {}
        },
        {
          "output_type": "display_data",
          "data": {
            "text/plain": [
              "<Figure size 640x480 with 1 Axes>"
            ],
            "image/png": "[encoded data removed]"
          },
          "metadata": {}
        }
      ]
    },
    {
      "cell_type": "markdown",
      "source": [
        "##Predictions"
      ],
      "metadata": {
        "id": "F6UcNlA3q6IK"
      }
    },
    {
      "cell_type": "code",
      "source": [
        "test_predictions = model_6.predict(X_test)\n",
        "print(test_predictions)"
      ],
      "metadata": {
        "colab": {
          "base_uri": "https://localhost:8080/"
        },
        "id": "XWvlGfAiqexl",
        "outputId": "5677d153-241f-4b65-e8ad-93cdd1dfcb1f"
      },
      "execution_count": 65,
      "outputs": [
        {
          "output_type": "stream",
          "name": "stdout",
          "text": [
            "\u001b[1m22/22\u001b[0m \u001b[32m━━━━━━━━━━━━━━━━━━━━\u001b[0m\u001b[37m\u001b[0m \u001b[1m3s\u001b[0m 101ms/step\n",
            "[[6.36738041e-05 2.45200383e-04 1.19311764e-04 ... 1.51677115e-04\n",
            "  1.47490398e-04 4.58955124e-04]\n",
            " [6.32444571e-05 2.43241433e-04 1.18368363e-04 ... 1.50324820e-04\n",
            "  1.46512015e-04 4.56071954e-04]\n",
            " [6.31823059e-05 2.42958413e-04 1.18233118e-04 ... 1.50127860e-04\n",
            "  1.46367631e-04 4.55647649e-04]\n",
            " ...\n",
            " [6.37594858e-05 2.45594420e-04 1.19498487e-04 ... 1.51944769e-04\n",
            "  1.47682906e-04 4.59531235e-04]\n",
            " [6.37179692e-05 2.45402713e-04 1.19407021e-04 ... 1.51814849e-04\n",
            "  1.47590283e-04 4.59259289e-04]\n",
            " [6.34516546e-05 2.44188792e-04 1.18826269e-04 ... 1.50976717e-04\n",
            "  1.46983715e-04 4.57473972e-04]]\n"
          ]
        }
      ]
    },
    {
      "cell_type": "markdown",
      "source": [
        "##Evaluating the model"
      ],
      "metadata": {
        "id": "v8K3pPZJrGIr"
      }
    },
    {
      "cell_type": "code",
      "source": [
        "model_6.evaluate(X_test, y_test)"
      ],
      "metadata": {
        "colab": {
          "base_uri": "https://localhost:8080/"
        },
        "id": "I-1Iz-berKg1",
        "outputId": "ac64fcce-14a4-4b84-a16e-7068f42275be"
      },
      "execution_count": 66,
      "outputs": [
        {
          "output_type": "stream",
          "name": "stdout",
          "text": [
            "\u001b[1m22/22\u001b[0m \u001b[32m━━━━━━━━━━━━━━━━━━━━\u001b[0m\u001b[37m\u001b[0m \u001b[1m4s\u001b[0m 55ms/step - accuracy: 0.9765 - auc: 0.5833 - fn: 1117.3914 - fp: 0.0000e+00 - loss: 1.0002 - precision: 0.0000e+00 - recall: 0.0000e+00 - tn: 45879.3047 - tp: 0.0000e+00\n"
          ]
        },
        {
          "output_type": "execute_result",
          "data": {
            "text/plain": [
              "[1.0000890493392944,\n",
              " 0.9760174751281738,\n",
              " 0.0,\n",
              " 0.0,\n",
              " 0.585196316242218,\n",
              " 0.0,\n",
              " 0.0,\n",
              " 83795.0,\n",
              " 2059.0]"
            ]
          },
          "metadata": {},
          "execution_count": 66
        }
      ]
    },
    {
      "cell_type": "markdown",
      "source": [
        "Accuracy of models 5 and 6 similiar to all other models"
      ],
      "metadata": {
        "id": "2JRG3yi2rtSg"
      }
    },
    {
      "cell_type": "markdown",
      "source": [
        "##Model 7 Changing loss function to categorical crossentropy"
      ],
      "metadata": {
        "id": "ATmRMBCTs5QR"
      }
    },
    {
      "cell_type": "code",
      "source": [
        "!pip install scikit-learn==1.2.2\n",
        "from sklearn.preprocessing import OneHotEncoder\n",
        "\n",
        "# Initialize the encoder\n",
        "encoder = OneHotEncoder(handle_unknown='ignore', sparse_output=False)\n",
        "\n",
        "# Reshape your labels to be 2D (required by OneHotEncoder)\n",
        "y_train_reshaped = np.array(y_train).reshape(-1, 1)\n",
        "\n",
        "# Fit and transform your labels\n",
        "y_train_encoded = encoder.fit_transform(y_train_reshaped)\n",
        "\n",
        "# Repeat the process for y_val and y_test\n",
        "y_val_reshaped = np.array(y_val).reshape(-1, 1)\n",
        "y_val_encoded = encoder.transform(y_val_reshaped)\n",
        "\n",
        "y_test_reshaped = np.array(y_test).reshape(-1, 1)\n",
        "y_test_encoded = encoder.transform(y_test_reshaped)"
      ],
      "metadata": {
        "colab": {
          "base_uri": "https://localhost:8080/",
          "height": 473
        },
        "id": "IHT8quJVtGMl",
        "outputId": "9de73bd4-95b7-4f5a-d5fa-b808964bbcdb"
      },
      "execution_count": 1,
      "outputs": [
        {
          "output_type": "stream",
          "name": "stdout",
          "text": [
            "Collecting scikit-learn==1.2.2\n",
            "  Downloading scikit_learn-1.2.2-cp310-cp310-manylinux_2_17_x86_64.manylinux2014_x86_64.whl.metadata (11 kB)\n",
            "Requirement already satisfied: numpy>=1.17.3 in /usr/local/lib/python3.10/dist-packages (from scikit-learn==1.2.2) (1.26.4)\n",
            "Requirement already satisfied: scipy>=1.3.2 in /usr/local/lib/python3.10/dist-packages (from scikit-learn==1.2.2) (1.13.1)\n",
            "Requirement already satisfied: joblib>=1.1.1 in /usr/local/lib/python3.10/dist-packages (from scikit-learn==1.2.2) (1.4.2)\n",
            "Requirement already satisfied: threadpoolctl>=2.0.0 in /usr/local/lib/python3.10/dist-packages (from scikit-learn==1.2.2) (3.5.0)\n",
            "Downloading scikit_learn-1.2.2-cp310-cp310-manylinux_2_17_x86_64.manylinux2014_x86_64.whl (9.6 MB)\n",
            "\u001b[2K   \u001b[90m━━━━━━━━━━━━━━━━━━━━━━━━━━━━━━━━━━━━━━━━\u001b[0m \u001b[32m9.6/9.6 MB\u001b[0m \u001b[31m21.6 MB/s\u001b[0m eta \u001b[36m0:00:00\u001b[0m\n",
            "\u001b[?25hInstalling collected packages: scikit-learn\n",
            "  Attempting uninstall: scikit-learn\n",
            "    Found existing installation: scikit-learn 1.3.2\n",
            "    Uninstalling scikit-learn-1.3.2:\n",
            "      Successfully uninstalled scikit-learn-1.3.2\n",
            "Successfully installed scikit-learn-1.2.2\n"
          ]
        },
        {
          "output_type": "error",
          "ename": "NameError",
          "evalue": "name 'np' is not defined",
          "traceback": [
            "\u001b[0;31m---------------------------------------------------------------------------\u001b[0m",
            "\u001b[0;31mNameError\u001b[0m                                 Traceback (most recent call last)",
            "\u001b[0;32m<ipython-input-1-5d085f6d7af8>\u001b[0m in \u001b[0;36m<cell line: 8>\u001b[0;34m()\u001b[0m\n\u001b[1;32m      6\u001b[0m \u001b[0;34m\u001b[0m\u001b[0m\n\u001b[1;32m      7\u001b[0m \u001b[0;31m# Reshape your labels to be 2D (required by OneHotEncoder)\u001b[0m\u001b[0;34m\u001b[0m\u001b[0;34m\u001b[0m\u001b[0m\n\u001b[0;32m----> 8\u001b[0;31m \u001b[0my_train_reshaped\u001b[0m \u001b[0;34m=\u001b[0m \u001b[0mnp\u001b[0m\u001b[0;34m.\u001b[0m\u001b[0marray\u001b[0m\u001b[0;34m(\u001b[0m\u001b[0my_train\u001b[0m\u001b[0;34m)\u001b[0m\u001b[0;34m.\u001b[0m\u001b[0mreshape\u001b[0m\u001b[0;34m(\u001b[0m\u001b[0;34m-\u001b[0m\u001b[0;36m1\u001b[0m\u001b[0;34m,\u001b[0m \u001b[0;36m1\u001b[0m\u001b[0;34m)\u001b[0m\u001b[0;34m\u001b[0m\u001b[0;34m\u001b[0m\u001b[0m\n\u001b[0m\u001b[1;32m      9\u001b[0m \u001b[0;34m\u001b[0m\u001b[0m\n\u001b[1;32m     10\u001b[0m \u001b[0;31m# Fit and transform your labels\u001b[0m\u001b[0;34m\u001b[0m\u001b[0;34m\u001b[0m\u001b[0m\n",
            "\u001b[0;31mNameError\u001b[0m: name 'np' is not defined"
          ]
        }
      ]
    }
  ]
}