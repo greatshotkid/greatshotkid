{
  "nbformat": 4,
  "nbformat_minor": 0,
  "metadata": {
    "colab": {
      "provenance": [],
      "gpuType": "T4",
      "authorship_tag": "ABX9TyP0KZEjkOxw2tkItL19xqWk",
      "include_colab_link": true
    },
    "kernelspec": {
      "name": "python3",
      "display_name": "Python 3"
    },
    "language_info": {
      "name": "python"
    },
    "accelerator": "GPU"
  },
  "cells": [
    {
      "cell_type": "markdown",
      "metadata": {
        "id": "view-in-github",
        "colab_type": "text"
      },
      "source": [
        "<a href=\"https://colab.research.google.com/github/greatshotkid/greatshotkid/blob/main/Unobias001(200824).ipynb\" target=\"_parent\"><img src=\"https://colab.research.google.com/assets/colab-badge.svg\" alt=\"Open In Colab\"/></a>"
      ]
    },
    {
      "cell_type": "markdown",
      "source": [
        "#  **Model 001, using simple bi-directional LSTM**"
      ],
      "metadata": {
        "id": "VL3gDM33yP9T"
      }
    },
    {
      "cell_type": "markdown",
      "source": [
        "## Importing dataset from google drive"
      ],
      "metadata": {
        "id": "Jt1l1H9LlumS"
      }
    },
    {
      "cell_type": "code",
      "source": [
        "from google.colab import drive\n",
        "drive.mount('/content/drive')"
      ],
      "metadata": {
        "colab": {
          "base_uri": "https://localhost:8080/"
        },
        "id": "3Hj2cMxNl7Si",
        "outputId": "d9e60fcd-c459-4aff-cb47-b30e1b1df258"
      },
      "execution_count": 2,
      "outputs": [
        {
          "output_type": "stream",
          "name": "stdout",
          "text": [
            "Mounted at /content/drive\n"
          ]
        }
      ]
    },
    {
      "cell_type": "markdown",
      "source": [
        "## Importing the zip file"
      ],
      "metadata": {
        "id": "qC2czDr2mMRg"
      }
    },
    {
      "cell_type": "code",
      "source": [
        "import zipfile\n",
        "zip_ref = zipfile.ZipFile(\"/content/drive/MyDrive/My Dataset.zip\", 'r')\n",
        "zip_ref.extractall(\"/content/dataset\")\n",
        "zip_ref.close()"
      ],
      "metadata": {
        "id": "MBa-YwwxmSPJ"
      },
      "execution_count": 3,
      "outputs": []
    },
    {
      "cell_type": "markdown",
      "source": [
        "## **Importing the required libraries**"
      ],
      "metadata": {
        "id": "h5CLcrSyx_jJ"
      }
    },
    {
      "cell_type": "code",
      "source": [
        "!pip install PyPDF2\n",
        "!pip install ftfy\n",
        "!pip install nltk\n",
        "import nltk\n",
        "!pip install ipython\n",
        "from IPython.display import HTML\n",
        "nltk.download('punkt')\n",
        "nltk.download('stopwords')\n",
        "import PyPDF2\n",
        "import ftfy\n",
        "from io import BytesIO\n",
        "import os\n",
        "import re\n",
        "import keras\n",
        "import string\n",
        "from sklearn.metrics import confusion_matrix\n",
        "from nltk.corpus import stopwords\n",
        "from nltk.tokenize import word_tokenize\n",
        "import numpy as np\n",
        "import tensorflow as tf\n",
        "import seaborn as sns\n",
        "from tensorflow.keras.metrics import AUC\n",
        "from tensorflow.keras.preprocessing.text import Tokenizer\n",
        "import json\n",
        "import pandas as pd\n",
        "import matplotlib.pyplot as plt\n",
        "from tensorflow.keras.models import Sequential\n",
        "from tensorflow.keras.layers import Dense, Embedding, LSTM, Bidirectional, Dropout\n",
        "from tensorflow.keras.optimizers import Adam\n",
        "from tensorflow.keras.callbacks import EarlyStopping\n",
        "from tensorflow.keras.metrics import Precision, Recall\n",
        "from keras.preprocessing.sequence import pad_sequences\n",
        "from sklearn.model_selection import train_test_split\n",
        "%matplotlib inline"
      ],
      "metadata": {
        "id": "FB40FhDtyLxC",
        "colab": {
          "base_uri": "https://localhost:8080/"
        },
        "outputId": "89b2a203-fe40-4f72-82a4-7b3937a5d8de"
      },
      "execution_count": 4,
      "outputs": [
        {
          "output_type": "stream",
          "name": "stdout",
          "text": [
            "Collecting PyPDF2\n",
            "  Downloading pypdf2-3.0.1-py3-none-any.whl.metadata (6.8 kB)\n",
            "Downloading pypdf2-3.0.1-py3-none-any.whl (232 kB)\n",
            "\u001b[?25l   \u001b[90m━━━━━━━━━━━━━━━━━━━━━━━━━━━━━━━━━━━━━━━━\u001b[0m \u001b[32m0.0/232.6 kB\u001b[0m \u001b[31m?\u001b[0m eta \u001b[36m-:--:--\u001b[0m\r\u001b[2K   \u001b[91m━━━━━━━━━━━━━━━━━━━━━━━━━━━━━\u001b[0m\u001b[91m╸\u001b[0m\u001b[90m━━━━━━━━━━\u001b[0m \u001b[32m174.1/232.6 kB\u001b[0m \u001b[31m5.0 MB/s\u001b[0m eta \u001b[36m0:00:01\u001b[0m\r\u001b[2K   \u001b[90m━━━━━━━━━━━━━━━━━━━━━━━━━━━━━━━━━━━━━━━━\u001b[0m \u001b[32m232.6/232.6 kB\u001b[0m \u001b[31m4.4 MB/s\u001b[0m eta \u001b[36m0:00:00\u001b[0m\n",
            "\u001b[?25hInstalling collected packages: PyPDF2\n",
            "Successfully installed PyPDF2-3.0.1\n",
            "Collecting ftfy\n",
            "  Downloading ftfy-6.2.3-py3-none-any.whl.metadata (7.8 kB)\n",
            "Requirement already satisfied: wcwidth<0.3.0,>=0.2.12 in /usr/local/lib/python3.10/dist-packages (from ftfy) (0.2.13)\n",
            "Downloading ftfy-6.2.3-py3-none-any.whl (43 kB)\n",
            "\u001b[2K   \u001b[90m━━━━━━━━━━━━━━━━━━━━━━━━━━━━━━━━━━━━━━━━\u001b[0m \u001b[32m43.0/43.0 kB\u001b[0m \u001b[31m1.9 MB/s\u001b[0m eta \u001b[36m0:00:00\u001b[0m\n",
            "\u001b[?25hInstalling collected packages: ftfy\n",
            "Successfully installed ftfy-6.2.3\n",
            "Requirement already satisfied: nltk in /usr/local/lib/python3.10/dist-packages (3.8.1)\n",
            "Requirement already satisfied: click in /usr/local/lib/python3.10/dist-packages (from nltk) (8.1.7)\n",
            "Requirement already satisfied: joblib in /usr/local/lib/python3.10/dist-packages (from nltk) (1.4.2)\n",
            "Requirement already satisfied: regex>=2021.8.3 in /usr/local/lib/python3.10/dist-packages (from nltk) (2024.5.15)\n",
            "Requirement already satisfied: tqdm in /usr/local/lib/python3.10/dist-packages (from nltk) (4.66.5)\n",
            "Requirement already satisfied: ipython in /usr/local/lib/python3.10/dist-packages (7.34.0)\n",
            "Requirement already satisfied: setuptools>=18.5 in /usr/local/lib/python3.10/dist-packages (from ipython) (71.0.4)\n",
            "Collecting jedi>=0.16 (from ipython)\n",
            "  Using cached jedi-0.19.1-py2.py3-none-any.whl.metadata (22 kB)\n",
            "Requirement already satisfied: decorator in /usr/local/lib/python3.10/dist-packages (from ipython) (4.4.2)\n",
            "Requirement already satisfied: pickleshare in /usr/local/lib/python3.10/dist-packages (from ipython) (0.7.5)\n",
            "Requirement already satisfied: traitlets>=4.2 in /usr/local/lib/python3.10/dist-packages (from ipython) (5.7.1)\n",
            "Requirement already satisfied: prompt-toolkit!=3.0.0,!=3.0.1,<3.1.0,>=2.0.0 in /usr/local/lib/python3.10/dist-packages (from ipython) (3.0.47)\n",
            "Requirement already satisfied: pygments in /usr/local/lib/python3.10/dist-packages (from ipython) (2.16.1)\n",
            "Requirement already satisfied: backcall in /usr/local/lib/python3.10/dist-packages (from ipython) (0.2.0)\n",
            "Requirement already satisfied: matplotlib-inline in /usr/local/lib/python3.10/dist-packages (from ipython) (0.1.7)\n",
            "Requirement already satisfied: pexpect>4.3 in /usr/local/lib/python3.10/dist-packages (from ipython) (4.9.0)\n",
            "Requirement already satisfied: parso<0.9.0,>=0.8.3 in /usr/local/lib/python3.10/dist-packages (from jedi>=0.16->ipython) (0.8.4)\n",
            "Requirement already satisfied: ptyprocess>=0.5 in /usr/local/lib/python3.10/dist-packages (from pexpect>4.3->ipython) (0.7.0)\n",
            "Requirement already satisfied: wcwidth in /usr/local/lib/python3.10/dist-packages (from prompt-toolkit!=3.0.0,!=3.0.1,<3.1.0,>=2.0.0->ipython) (0.2.13)\n",
            "Using cached jedi-0.19.1-py2.py3-none-any.whl (1.6 MB)\n",
            "Installing collected packages: jedi\n",
            "Successfully installed jedi-0.19.1\n"
          ]
        },
        {
          "output_type": "stream",
          "name": "stderr",
          "text": [
            "[nltk_data] Downloading package punkt to /root/nltk_data...\n",
            "[nltk_data]   Unzipping tokenizers/punkt.zip.\n",
            "[nltk_data] Downloading package stopwords to /root/nltk_data...\n",
            "[nltk_data]   Unzipping corpora/stopwords.zip.\n"
          ]
        }
      ]
    },
    {
      "cell_type": "markdown",
      "source": [
        "## **Creating some constarints**"
      ],
      "metadata": {
        "id": "y0TFLAYhy5q9"
      }
    },
    {
      "cell_type": "code",
      "source": [
        "vocab_size = 100000\n",
        "embedding_dim = 128\n",
        "max_sequence_length = 1000\n",
        "trunc_type='post'\n",
        "padding_type='post'\n",
        "oov_tok = \"<OOV>\"\n"
      ],
      "metadata": {
        "id": "a9DBsxAtzFo6"
      },
      "execution_count": 5,
      "outputs": []
    },
    {
      "cell_type": "code",
      "source": [
        "# Define the AUC metric outside the tf.function\n",
        "auc_metric = AUC(name='auc')\n",
        "\n",
        "METRICS = [\n",
        "    tf.keras.metrics.BinaryAccuracy(name='accuracy'),\n",
        "    tf.keras.metrics.Precision(name='precision'),\n",
        "    tf.keras.metrics.Recall(name='recall'),\n",
        "    # Pass the pre-defined AUC metric here\n",
        "    auc_metric,\n",
        "    tf.keras.metrics.TruePositives(name='tp'),\n",
        "    tf.keras.metrics.FalsePositives(name='fp'),\n",
        "    tf.keras.metrics.TrueNegatives(name='tn'),\n",
        "    tf.keras.metrics.FalseNegatives(name='fn'),\n",
        "]\n",
        "\n",
        "def fresh_metrics():\n",
        "    return [metric() for metric in METRICS]"
      ],
      "metadata": {
        "id": "j0Cts7mizOw7"
      },
      "execution_count": 6,
      "outputs": []
    },
    {
      "cell_type": "markdown",
      "source": [
        "## **Extracting text from the pdf CVs**"
      ],
      "metadata": {
        "id": "SYiPD60U4_UQ"
      }
    },
    {
      "cell_type": "code",
      "source": [
        "def extract_text_from_pdf(file_path):\n",
        "    text = \"\"\n",
        "    try:\n",
        "        with open(file_path, 'rb') as file:\n",
        "            reader = PyPDF2.PdfReader(file)\n",
        "            for page in reader.pages:\n",
        "              extracted_text = page.extract_text()\n",
        "              if extracted_text:\n",
        "                text += ftfy.fix_text(extracted_text) + \"\\n\"\n",
        "\n",
        "    except PyPDF2.errors.PdfReadError as e:\n",
        "        print(f\"Error reading PDF file {file_path}: {e}\")\n",
        "        return \"\" # Return an empty string if an error occurs\n",
        "    return text\n"
      ],
      "metadata": {
        "id": "_A9UDFE2byjo"
      },
      "execution_count": 7,
      "outputs": []
    },
    {
      "cell_type": "markdown",
      "source": [
        "## **Text preprocessing**"
      ],
      "metadata": {
        "id": "mxdWNIC3dQeu"
      }
    },
    {
      "cell_type": "code",
      "source": [
        "def preprocess_text(text):\n",
        "    # Lowercasing\n",
        "    text = text.lower()\n",
        "    # Removing punctuation\n",
        "    text = re.sub(f\"[{re.escape(string.punctuation)}]\", \"\", text)\n",
        "    # Tokenization\n",
        "    words = word_tokenize(text)\n",
        "    # Removing stop words\n",
        "    words = [word for word in words if word not in stopwords.words('english')]\n",
        "    return words"
      ],
      "metadata": {
        "id": "0YEaXWLedc4c"
      },
      "execution_count": 8,
      "outputs": []
    },
    {
      "cell_type": "markdown",
      "source": [
        "## Importing file paths using os module"
      ],
      "metadata": {
        "id": "1NZlCSkw2kRL"
      }
    },
    {
      "cell_type": "code",
      "source": [
        "# List of file paths\n",
        "pdf_file_paths = []\n",
        "\n",
        "\n",
        "\n",
        "# Example: List all files in a directory\n",
        "directory = '/content/dataset/My Dataset'\n",
        "pdf_file_paths = [os.path.join(directory, file) for file in os.listdir(directory) if file.endswith('.pdf')]\n",
        "\n",
        "#for path in pdf_file_paths:\n",
        "    #print(path)\n",
        "\n"
      ],
      "metadata": {
        "id": "a2iWItoq2zu9"
      },
      "execution_count": 9,
      "outputs": []
    },
    {
      "cell_type": "markdown",
      "source": [
        "## Converting text into integers using Tokenize and Vectorize"
      ],
      "metadata": {
        "id": "XNm9xJw7f7Gq"
      }
    },
    {
      "cell_type": "code",
      "source": [
        "\n",
        "# Extract and preprocess all CVs\n",
        "list_of_texts = [preprocess_text(extract_text_from_pdf(file_path)) for file_path in pdf_file_paths] # Call the two functions to extract and preprocess\n",
        "\n",
        "# Initialize the tokenizer\n",
        "tokenizer = Tokenizer(num_words=vocab_size)\n",
        "tokenizer.fit_on_texts(list_of_texts)  # list_of_texts is a list of preprocessed CVs\n",
        "\n",
        "# Convert text to sequences\n",
        "sequences = tokenizer.texts_to_sequences(list_of_texts)\n",
        "\n",
        "print(sequences[0])"
      ],
      "metadata": {
        "colab": {
          "base_uri": "https://localhost:8080/"
        },
        "id": "-5Bf_ZXpr0M8",
        "outputId": "b43e6f3f-7226-4c7e-f306-435275b2ca5e"
      },
      "execution_count": 10,
      "outputs": [
        {
          "output_type": "stream",
          "name": "stderr",
          "text": [
            "WARNING:PyPDF2._reader:Overwriting cache for 0 76\n",
            "WARNING:PyPDF2._reader:Overwriting cache for 0 48\n",
            "/usr/local/lib/python3.10/dist-packages/PyPDF2/_cmap.py:142: PdfReadWarning: Advanced encoding /SymbolSetEncoding not implemented yet\n",
            "  warnings.warn(\n",
            "/usr/local/lib/python3.10/dist-packages/PyPDF2/_cmap.py:142: PdfReadWarning: Advanced encoding /UniKS-UCS2-H not implemented yet\n",
            "  warnings.warn(\n",
            "WARNING:PyPDF2._reader:Overwriting cache for 0 51\n",
            "WARNING:PyPDF2._reader:Overwriting cache for 0 216\n"
          ]
        },
        {
          "output_type": "stream",
          "name": "stdout",
          "text": [
            "[501, 37, 47, 689, 9004, 11253, 703, 1578, 202, 34, 450, 3356, 2626, 58866, 86, 24, 1569, 2646, 463, 1258, 139, 77, 66, 29454, 142, 58867, 100, 843, 1621, 3, 67, 855, 13319, 961, 15405, 319, 632, 962, 11, 45, 20968, 632, 3, 2234, 2027, 16816, 37518, 63, 29455, 6048, 45, 12, 1890, 797, 84, 2737, 3677, 415, 4613, 2870, 28, 1983, 9304, 252, 789, 1848, 63, 136, 4988, 705, 713, 202, 1259, 1188, 7241, 2258, 45, 1916, 1658, 1515, 4766, 2871, 1433, 1983, 7, 46, 58868, 6163, 4084, 1380, 86, 740, 4038, 1904, 884, 233, 488, 290, 38, 2525, 513, 127, 14, 133, 656, 2489, 168, 41, 338, 7242, 852, 2738, 212, 727, 2408, 55, 37519, 24114, 55, 2739, 4180, 55, 925, 86, 55, 469, 8347, 469, 86, 925, 55, 13320, 55, 756, 4180, 55, 58869, 45, 136, 239, 597, 202, 34, 513, 1699, 4842, 12, 11, 11, 166, 95, 127, 14, 816, 3608, 656, 4540, 24115, 779, 396, 705, 29, 557, 226, 7, 58870, 1, 25, 925, 14288, 133, 24116, 86, 365, 28, 149, 389, 99, 5, 716, 119, 1, 1461, 1189, 48, 29456, 1461, 389, 99, 5, 183, 103, 29457, 3118, 879, 29457, 1461, 199, 103, 5, 247, 119, 29458, 2259, 29459, 277, 78, 93, 1578, 37520, 3764, 2800, 453, 4767, 1636, 25, 925, 14288, 133, 208, 1001, 925, 4, 3399, 381, 86, 24, 129, 1402, 1260, 95, 657, 129, 2820, 2423, 1947, 202, 129, 58, 2704, 215, 14, 458, 38, 129, 84, 657, 495, 202, 129, 8670, 1, 354, 187, 839, 742, 52, 1212, 61, 339, 58871, 52, 61, 936, 292, 83, 1531, 989, 633, 310, 2872, 1948, 3984, 1051, 17, 1269, 4291, 30, 931, 830, 4614, 507, 49, 17, 504, 4766, 214, 3400, 17, 746, 205, 233, 2704, 8, 840, 266, 101, 10, 24117, 20969, 8, 6, 462, 2177, 28, 410, 178, 6296, 164, 467, 83, 217, 24118, 4690, 129, 37521, 129, 1578, 1800, 29460, 429, 37522, 58872, 42, 37523, 6164, 1141, 993, 2083, 2339, 6164, 9005, 357, 42, 2872, 44, 29461, 1105, 330, 2351, 24118, 24116, 86, 365, 1578, 37520, 7043, 86, 129, 7650, 6049, 25, 570, 9305, 3609, 548, 1052, 3491, 8107, 3678, 208, 1340, 129, 214, 285, 2627, 3985, 129, 6050, 23, 52, 61, 129, 3765, 5252, 4348, 570, 168, 214, 2627, 3985, 129, 4416, 1538, 42, 29, 2759, 2704, 38, 56, 1022, 2672, 29, 2759, 1, 2705, 1311, 20, 168, 1, 6, 25, 381, 52, 1212, 2704, 30, 215, 180, 25, 86, 18408, 1197, 58873, 1013, 745, 975, 1229, 1827, 5686, 20, 86, 14, 3610, 46, 1904, 290, 1747, 1395, 966, 1326, 7044, 198, 29, 106, 24119, 713, 202, 1259, 24120, 58874, 48, 20970, 5811, 37524, 7651, 2997, 60, 14289, 68, 58875, 118, 8108, 58876, 111, 64, 7243, 888, 193, 29458, 2259, 29459, 277, 59, 93, 321, 96, 400, 96, 689, 9004, 11253, 37525, 2178, 1067, 29462, 37526, 24121, 5484, 58877, 3930, 28, 7436, 66, 29454, 142, 58878, 5, 502, 689, 11253, 37527, 58879, 337, 5, 58880, 898, 5, 7243, 856, 58881, 888, 16, 58882, 66, 29454, 37, 55, 31, 689, 58883, 11253, 1035, 31, 502, 58884, 37527, 13, 76, 2646, 463, 1258, 416, 185, 155, 58, 753, 139, 77, 128, 126, 65, 733, 115, 152, 55, 152, 524, 58885, 13, 224, 37528, 13, 649, 58886, 92, 224, 1335, 177, 179, 4843, 47, 551, 7437, 165, 427, 3537, 16817, 783, 15, 13, 92, 149, 16, 689, 9004, 11253, 29458, 2259, 29459, 277, 93, 93]\n"
          ]
        }
      ]
    },
    {
      "cell_type": "markdown",
      "source": [
        "##Defining the Keywords"
      ],
      "metadata": {
        "id": "UP_agX2EIW_3"
      }
    },
    {
      "cell_type": "code",
      "source": [
        "# Loading keywords from a target file\n",
        "with open('/content/drive/MyDrive/ITkeywords.txt', 'r') as file:\n",
        "    keywords = file.read().splitlines()\n",
        "\n",
        "# code below used to see if file has been imported\n",
        "# print(keywords)"
      ],
      "metadata": {
        "id": "LhfUd9j9IbfT"
      },
      "execution_count": 11,
      "outputs": []
    },
    {
      "cell_type": "markdown",
      "source": [
        "##Creating labels for keywords"
      ],
      "metadata": {
        "id": "ck2lCcNsTIM5"
      }
    },
    {
      "cell_type": "code",
      "source": [
        "# Create labels for each CV based on presence of keywords\n",
        "def create_labels(lists_of_texts, keywords):\n",
        "    labels = []\n",
        "    for text in lists_of_texts:\n",
        "        label = [1 if keyword in text else 0 for keyword in keywords]\n",
        "        labels.append(label)\n",
        "    return labels\n"
      ],
      "metadata": {
        "id": "EEbi1DbpTLqX"
      },
      "execution_count": 12,
      "outputs": []
    },
    {
      "cell_type": "markdown",
      "source": [
        "##Creating labels and adding padding"
      ],
      "metadata": {
        "id": "lb3_awH9CDrP"
      }
    },
    {
      "cell_type": "code",
      "source": [
        "#creating labels for each CV based on presence of keywords\n",
        "labels = create_labels(list_of_texts, keywords)\n",
        "\n",
        "# Pad sequences\n",
        "padded_sequences = pad_sequences(sequences, maxlen=max_sequence_length)\n",
        "\n",
        "# Inspect padded_sequences\n",
        "print(\"Unique values in padded_sequences:\", np.unique(padded_sequences))\n",
        "\n",
        "# Replace None or special padding tokens (if present) with 0\n",
        "# Assuming the padding token is None, adjust if it's different\n",
        "padded_sequences[padded_sequences == None] = 0\n",
        "\n",
        "print(padded_sequences[0])\n"
      ],
      "metadata": {
        "id": "icVKbqWvCHCu",
        "colab": {
          "base_uri": "https://localhost:8080/"
        },
        "outputId": "0e09692a-4226-42de-ca87-521a63631084"
      },
      "execution_count": 13,
      "outputs": [
        {
          "output_type": "stream",
          "name": "stdout",
          "text": [
            "Unique values in padded_sequences: [    0     1     2 ... 99997 99998 99999]\n",
            "[    0     0     0     0     0     0     0     0     0     0     0     0\n",
            "     0     0     0     0     0     0     0     0     0     0     0     0\n",
            "     0     0     0     0     0     0     0     0     0     0     0     0\n",
            "     0     0     0     0     0     0     0     0     0     0     0     0\n",
            "     0     0     0     0     0     0     0     0     0     0     0     0\n",
            "     0     0     0     0     0     0     0     0     0     0     0     0\n",
            "     0     0     0     0     0     0     0     0     0     0     0     0\n",
            "     0     0     0     0     0     0     0     0     0     0     0     0\n",
            "     0     0     0     0     0     0     0     0     0     0     0     0\n",
            "     0     0     0     0     0     0     0     0     0     0     0     0\n",
            "     0     0     0     0     0     0     0     0     0     0     0     0\n",
            "     0     0     0     0     0     0     0     0     0     0     0     0\n",
            "     0     0     0     0     0     0     0     0     0     0     0     0\n",
            "     0     0     0     0     0     0     0     0     0     0     0     0\n",
            "     0     0     0     0     0     0     0     0     0     0     0     0\n",
            "     0     0     0     0     0     0     0     0     0     0     0     0\n",
            "     0     0     0     0     0     0     0     0     0     0     0     0\n",
            "     0     0     0     0     0     0     0     0     0     0     0     0\n",
            "     0     0     0     0     0     0     0     0     0     0     0     0\n",
            "     0     0     0     0     0     0     0     0     0     0     0     0\n",
            "     0     0     0     0     0     0     0     0     0     0     0     0\n",
            "     0     0     0     0     0     0     0     0     0     0     0     0\n",
            "     0     0     0     0     0     0     0     0     0     0     0     0\n",
            "     0     0     0     0     0     0     0     0     0     0     0     0\n",
            "     0     0     0     0     0     0     0     0     0     0     0     0\n",
            "     0     0     0     0     0     0     0     0     0     0     0     0\n",
            "     0     0     0     0     0     0     0     0     0     0     0     0\n",
            "     0     0     0     0     0     0     0     0     0     0     0     0\n",
            "     0     0     0     0     0     0     0     0     0     0     0     0\n",
            "     0     0     0     0     0     0     0     0     0     0     0     0\n",
            "     0     0     0     0     0     0     0     0     0     0     0     0\n",
            "     0     0     0     0     0     0     0     0     0     0     0     0\n",
            "     0     0     0     0     0     0     0     0     0     0     0     0\n",
            "     0     0     0     0     0     0     0     0     0     0     0     0\n",
            "     0     0     0     0     0     0     0     0     0     0     0     0\n",
            "     0     0     0     0     0     0     0   501    37    47   689  9004\n",
            " 11253   703  1578   202    34   450  3356  2626 58866    86    24  1569\n",
            "  2646   463  1258   139    77    66 29454   142 58867   100   843  1621\n",
            "     3    67   855 13319   961 15405   319   632   962    11    45 20968\n",
            "   632     3  2234  2027 16816 37518    63 29455  6048    45    12  1890\n",
            "   797    84  2737  3677   415  4613  2870    28  1983  9304   252   789\n",
            "  1848    63   136  4988   705   713   202  1259  1188  7241  2258    45\n",
            "  1916  1658  1515  4766  2871  1433  1983     7    46 58868  6163  4084\n",
            "  1380    86   740  4038  1904   884   233   488   290    38  2525   513\n",
            "   127    14   133   656  2489   168    41   338  7242   852  2738   212\n",
            "   727  2408    55 37519 24114    55  2739  4180    55   925    86    55\n",
            "   469  8347   469    86   925    55 13320    55   756  4180    55 58869\n",
            "    45   136   239   597   202    34   513  1699  4842    12    11    11\n",
            "   166    95   127    14   816  3608   656  4540 24115   779   396   705\n",
            "    29   557   226     7 58870     1    25   925 14288   133 24116    86\n",
            "   365    28   149   389    99     5   716   119     1  1461  1189    48\n",
            " 29456  1461   389    99     5   183   103 29457  3118   879 29457  1461\n",
            "   199   103     5   247   119 29458  2259 29459   277    78    93  1578\n",
            " 37520  3764  2800   453  4767  1636    25   925 14288   133   208  1001\n",
            "   925     4  3399   381    86    24   129  1402  1260    95   657   129\n",
            "  2820  2423  1947   202   129    58  2704   215    14   458    38   129\n",
            "    84   657   495   202   129  8670     1   354   187   839   742    52\n",
            "  1212    61   339 58871    52    61   936   292    83  1531   989   633\n",
            "   310  2872  1948  3984  1051    17  1269  4291    30   931   830  4614\n",
            "   507    49    17   504  4766   214  3400    17   746   205   233  2704\n",
            "     8   840   266   101    10 24117 20969     8     6   462  2177    28\n",
            "   410   178  6296   164   467    83   217 24118  4690   129 37521   129\n",
            "  1578  1800 29460   429 37522 58872    42 37523  6164  1141   993  2083\n",
            "  2339  6164  9005   357    42  2872    44 29461  1105   330  2351 24118\n",
            " 24116    86   365  1578 37520  7043    86   129  7650  6049    25   570\n",
            "  9305  3609   548  1052  3491  8107  3678   208  1340   129   214   285\n",
            "  2627  3985   129  6050    23    52    61   129  3765  5252  4348   570\n",
            "   168   214  2627  3985   129  4416  1538    42    29  2759  2704    38\n",
            "    56  1022  2672    29  2759     1  2705  1311    20   168     1     6\n",
            "    25   381    52  1212  2704    30   215   180    25    86 18408  1197\n",
            " 58873  1013   745   975  1229  1827  5686    20    86    14  3610    46\n",
            "  1904   290  1747  1395   966  1326  7044   198    29   106 24119   713\n",
            "   202  1259 24120 58874    48 20970  5811 37524  7651  2997    60 14289\n",
            "    68 58875   118  8108 58876   111    64  7243   888   193 29458  2259\n",
            " 29459   277    59    93   321    96   400    96   689  9004 11253 37525\n",
            "  2178  1067 29462 37526 24121  5484 58877  3930    28  7436    66 29454\n",
            "   142 58878     5   502   689 11253 37527 58879   337     5 58880   898\n",
            "     5  7243   856 58881   888    16 58882    66 29454    37    55    31\n",
            "   689 58883 11253  1035    31   502 58884 37527    13    76  2646   463\n",
            "  1258   416   185   155    58   753   139    77   128   126    65   733\n",
            "   115   152    55   152   524 58885    13   224 37528    13   649 58886\n",
            "    92   224  1335   177   179  4843    47   551  7437   165   427  3537\n",
            " 16817   783    15    13    92   149    16   689  9004 11253 29458  2259\n",
            " 29459   277    93    93]\n"
          ]
        }
      ]
    },
    {
      "cell_type": "markdown",
      "source": [
        "## Creating training, testing and validation sets"
      ],
      "metadata": {
        "id": "RA7xlpEYE7UH"
      }
    },
    {
      "cell_type": "code",
      "source": [
        " # Split the data into training (80%) and testing (20%) sets\n",
        "X_train_full, X_test, y_train_full, y_test = train_test_split(\n",
        "    padded_sequences, labels, test_size=0.2, random_state=42\n",
        ")\n",
        "\n",
        "# Split the training set into training (75%) and validation (25%) sets\n",
        "X_train, X_val, y_train, y_val = train_test_split(\n",
        "    X_train_full, y_train_full, test_size=0.25, random_state=42\n",
        ")\n",
        "\n",
        "print(\"Shape of X_train:\", X_train.shape)\n",
        "print(\"First few samples of X_train:\", X_train[:2])\n",
        "print(len(X_train))\n",
        "print(X_train[1])\n",
        "print(y_train[1])\n"
      ],
      "metadata": {
        "colab": {
          "base_uri": "https://localhost:8080/"
        },
        "id": "aVnJ7sH9Fjdz",
        "outputId": "21a5c813-0111-4a2a-a2b9-ddbbff3d7af6"
      },
      "execution_count": 14,
      "outputs": [
        {
          "output_type": "stream",
          "name": "stdout",
          "text": [
            "Shape of X_train: (2091, 1000)\n",
            "First few samples of X_train: [[    0     0     0 ...   337   486  3787]\n",
            " [    0     0     0 ... 47624 47631 47631]]\n",
            "2091\n",
            "[    0     0     0     0     0     0     0     0     0     0     0     0\n",
            "     0     0     0     0     0     0     0     0     0     0     0     0\n",
            "     0     0     0     0     0     0     0     0     0     0     0     0\n",
            "     0     0     0     0     0     0     0     0     0     0     0     0\n",
            "     0     0     0     0     0     0     0     0     0     0     0     0\n",
            "     0     0     0     0     0     0     0     0     0     0     0     0\n",
            "     0     0     0     0     0     0     0     0     0     0     0     0\n",
            "     0     0     0     0     0     0     0     0     0     0     0     0\n",
            "     0     0     0     0     0     0     0     0     0     0     0     0\n",
            "     0     0     0     0     0     0     0     0     0     0     0     0\n",
            "     0     0     0     0     0     0     0     0     0     0     0     0\n",
            "     0     0     0     0     0     0     0     0     0     0     0     0\n",
            "     0     0     0     0     0     0     0     0     0     0     0     0\n",
            "     0     0     0     0     0     0     0     0     0     0     0     0\n",
            "     0     0     0     0     0     0     0     0     0     0     0     0\n",
            "     0     0     0     0     0     0     0     0     0     0     0     0\n",
            "     0     0     0     0     0     0     0     0     0     0     0     0\n",
            "     0     0     0     0     0     0     0     0     0     0     0     0\n",
            "     0     0     0     0     0     0     0     0     0     0     0     0\n",
            "     0     0     0     0     0     0     0     0     0     0     0     0\n",
            "     0     0     0     0     0     0     0     0     0     0     0     0\n",
            "     0     0     0     0     0     0     0     0     0     0     0     0\n",
            "     0     0     0     0     0     0     0     0     0     0     0     0\n",
            "     0     0     0     0     0     0     0     0     0     0     0     0\n",
            "     0     0     0     0     0     0     0     0     0     0     0     0\n",
            "     0     0     0     0     0     0     0     0     0     0     0     0\n",
            "     0     0     0     0     0     0     0     0     0     0     0     0\n",
            "     0     0     0     0     0     0     0     0     0     0     0     0\n",
            "     0     0     0     0     0     0     0     0     0     0     0     0\n",
            "     0     0     0     0     0     0     0     0     0     0     0     0\n",
            "     0     0     0     0     0     0     0     0     0     0     0     0\n",
            "     0     0     0     0     0     0     0     0     0     0     0     0\n",
            "  9494 34420  1129  1950 81097  1225   194  1266   970   750  1023  1356\n",
            "  1190  1126  1230  1203  1263  9505  3188  6623  1357  6199  6483  4945\n",
            "  9361  7802  8255  4483 10431  4636  7244 10776 81098 10776  8705 15963\n",
            "  8705  5945 10450  2611  6065 16874  9621 11095  3189  9306  4866  4719\n",
            "  2648 11814  6462  7891  6743  7907  9984  2947 12786 81099 14667 20405\n",
            "  7250  7438  5168  2723  7274  5930  3299  3548  7896  9182 10452 16618\n",
            "  4351  8735  4798 47623  3777  5705  3679  3415 10991 11500  7568 14764\n",
            "  9784  1869 25348 47624 11909 11910 14765 12897  7045  4469  9362  4142\n",
            "  9364  4142 47625  6625  1975 27597  1419 27598  1419  4147  9335  1419\n",
            "  2198  1419 20406  2749 12529  7694 12621  4418  9936 17538  8135 11298\n",
            "  4710 16619  4710 17677 16882 13374  2711  4260 11903 17182 39233 39234\n",
            "  7892  5499  6975  6304 21161 14411 12312 18176  2614 81100 15601 17021\n",
            "  6642  3611  9987 10064 11300 12575 10782 12576 15476  4306  9307  4364\n",
            "  4552  4364  7045 16885 15478  8165 16943 34421 81101  7922  8503  9260\n",
            "  5270  4365 14295  2155 18759  8166  4045  4638 10209 12788 15739  1932\n",
            "   120  4350 10702  1867  4190 10245  8167  7696  5130  1805  8708  6928\n",
            "  9751 12013  5656 81102  1045 13580 15973 27509  8223  1899  9053 10246\n",
            " 10465 27161  3502 19187  3502  2749  5373  3502  3648 12885  3502 15974\n",
            " 47626 21520  8736  2458 12623  9367 17185 14622  8709  7654 21753 11541\n",
            "  4615 21411  3987 12534  6919 10175  6919 18760  9755  1248 34422 81103\n",
            " 10248 10249  9494 34420  1129  1950  1225   194  1266   970   750  1023\n",
            "  1356  1190  1126  1230  1203  1263  9505  2275  5708 11873 10787  1659\n",
            " 12778  6732  2550  2648    60   708 27599   708    55 11991   708  1791\n",
            "  1791  3148  1791   807  3504   352  5729  5729   807  2884 17613   166\n",
            "  2786  3121  3121   807 14808  2935 16123  2935  2615 21149   708  1756\n",
            "  2060  4142  5709  8711  1320  2550  2648  5501  6903  1030  1881  1462\n",
            "   708   708  5599  1142  9828   708   510   708  8738  6316   858  5374\n",
            "  3940 12932  7925   109  2526  1627  3458  2325  6132  1320  1320     5\n",
            "  2117  1320  3148   771   708  3190  3492  4710 16619  7724  5879     5\n",
            " 10005  8342  6367 15021 31937 30893  6367 15021     5 29706  8025  4854\n",
            "  1306   235     5  4710 16619  9757  9984  2947  2657  4258     5  9621\n",
            " 11095  2657  4258     5  4866  4719  2458 14370  2186  8403   630 21558\n",
            "     5  9621 11095   582  6482  3211  6974  4710  4634  9752  4973  4483\n",
            " 10431  3925  3925  2460  8165 16943  7574  7720     5  8166  4045 81104\n",
            "  6065 16874  2051  4929  2016 29639  2051 21000 47627  5018 12312 18176\n",
            " 21740 10786  3095 12881  5055  8166  4045   520  5730 20407   395   894\n",
            "  8165 16943  5108 22347  1297  6781 15605 81105 13470 33718   476  8236\n",
            "  9621 11095  5019  2789 13876  5255 42642  9494 34420  1129  1950  1225\n",
            "   194  1266   970   750  1023  1356  1190  1126  1230  1203  1263  9505\n",
            "  2116  5089  3492  7519 24568 81106  6643  4552 11304  3211  6974  4973\n",
            "  2051  5709  1976  4782  5598  7451  6229 15656  7466  7738  8403 16620\n",
            "  5730  9895  4364  7627  9579 47628   838  1027 27574   995  6626  8166\n",
            "  4045  2711 47629   249  5358 81107  8166  4045  3609   307   249  3414\n",
            " 47630  8166  4045 11966   249  3299  7923  4351  8735 27600 22423   249\n",
            " 12715 81108  9621 11095   278 81109  6753    59  4072 81110  4710  4634\n",
            "  9752     5  5051    78 11504 30714  6642 14766     5 12165    78    59\n",
            "  1949  2077  1037  1419 27598  6571 22447  2179  3934   144  4350   677\n",
            "  4768  3934   144  1949  2077 19561  5325  4710 16619 11504  1852 13534\n",
            "  4710 16619  7524  6662  7250  7438 81111   166  7332 11271  3934   606\n",
            "  4351  1871  4638 81112  3123  7276 81113  6432  7000 13693 81114 81115\n",
            "  9621 81116  8236  4638 81117  3087  2874  2179  4710 16619  2146 17467\n",
            " 25348 47624 47631 47631]\n",
            "[0, 0, 0, 0, 0, 0, 0, 0, 0, 0, 0, 0, 0, 0, 0, 0, 0, 0, 0, 0, 0, 0, 0, 0, 0, 0, 0, 0, 0, 0, 0, 0, 0, 0, 0, 0, 0, 0, 0, 0, 0, 0, 0, 0, 0, 0, 0, 0, 0, 0, 0, 0, 0, 0, 0, 0, 0, 0, 0, 0, 0, 0, 0, 0, 0, 0, 0, 0, 0, 0, 0, 0, 0, 0, 0, 0, 0, 0, 0, 0, 0, 0, 0, 0, 0, 0, 0, 0, 0, 0, 0, 0, 0, 0, 0, 0, 0, 0, 0, 0, 0, 0, 0, 0, 0, 0, 0, 0, 0, 0, 0, 0, 0, 0, 0, 0, 0, 0, 0, 0, 0, 0, 0]\n"
          ]
        }
      ]
    },
    {
      "cell_type": "markdown",
      "source": [
        "##Handling None values in X_val"
      ],
      "metadata": {
        "id": "hgiNzFgfQ__a"
      }
    },
    {
      "cell_type": "code",
      "source": [
        "# Handle None values in X_val (replace with 0 for example)\n",
        "X_val = np.nan_to_num(X_val, nan=0.0)\n",
        "\n",
        "# Check if handling worked\n",
        "if np.any(np.isnan(X_val)):\n",
        "    print(\"X_val still contains None values.\")\n",
        "else:\n",
        "    print(\"X_val does not contain None values.\")\n"
      ],
      "metadata": {
        "colab": {
          "base_uri": "https://localhost:8080/"
        },
        "id": "BTi23xRqQ8O1",
        "outputId": "80ed52d7-3bfe-4515-ca49-fa1428259e9e"
      },
      "execution_count": 15,
      "outputs": [
        {
          "output_type": "stream",
          "name": "stdout",
          "text": [
            "X_val does not contain None values.\n"
          ]
        }
      ]
    },
    {
      "cell_type": "markdown",
      "source": [
        "## Building the model"
      ],
      "metadata": {
        "id": "dWX1EqFgOKB1"
      }
    },
    {
      "cell_type": "code",
      "source": [
        "model_1 = Sequential([\n",
        "    Embedding(vocab_size, embedding_dim),\n",
        "    Bidirectional(LSTM(64, return_sequences=True)),\n",
        "    Bidirectional(LSTM(32)),\n",
        "    Dense(len(keywords), activation='sigmoid')\n",
        "])\n",
        "\n"
      ],
      "metadata": {
        "id": "EQZlBHUTYb8q"
      },
      "execution_count": 16,
      "outputs": []
    },
    {
      "cell_type": "markdown",
      "source": [
        "##Compiling, training and saving the model"
      ],
      "metadata": {
        "id": "Dte9SAigZh_i"
      }
    },
    {
      "cell_type": "code",
      "source": [
        "#Compiling the model\n",
        "model_1.compile(\n",
        "    loss = 'binary_crossentropy',\n",
        "    optimizer = Adam(learning_rate=0.001),\n",
        "    metrics = METRICS\n",
        ")\n",
        "\n",
        "# Convert X_train, X_val, y_train, y_val to numpy arrays if they aren't already\n",
        "X_train = np.asarray(X_train, dtype=np.float32)\n",
        "X_val = np.asarray(X_val, dtype=np.float32)\n",
        "X_test = np.asarray(X_test, dtype=np.float32)\n",
        "y_train = np.asarray(y_train, dtype=np.float32) # Convert y_train to NumPy array\n",
        "y_val = np.asarray(y_val, dtype=np.float32)   # Convert y_val to NumPy array\n",
        "y_test = np.asarray(y_test, dtype=np.float32) # Convert y_test to NumPy array\n",
        "# Check and potentially adjust the batch size to be consistent\n",
        "batch_size = 17  # Or a smaller value if memory is an issue\n",
        "if X_train.shape[0] % batch_size != 0 or X_val.shape[0] % batch_size != 0:\n",
        "    print(\"Warning: Batch size does not divide evenly into the number of samples. Consider adjusting the batch size.\")\n",
        "\n",
        "#Training the model\n",
        "history_model_1 = model_1.fit(\n",
        "    X_train, y_train,\n",
        "    validation_data = (X_val, y_val),\n",
        "    epochs = 10,\n",
        "\n",
        ")\n",
        "\n",
        "#Saving the model\n",
        "model_1.save('model_1.keras')\n",
        "with open('history_model_1.json', 'w') as f:\n",
        "    json.dump(history_model_1.history, f)"
      ],
      "metadata": {
        "colab": {
          "base_uri": "https://localhost:8080/"
        },
        "id": "I2hutxw9jkdY",
        "outputId": "e16d640c-25b8-4d70-92b7-b3c175dd0158"
      },
      "execution_count": 17,
      "outputs": [
        {
          "output_type": "stream",
          "name": "stdout",
          "text": [
            "Warning: Batch size does not divide evenly into the number of samples. Consider adjusting the batch size.\n",
            "Epoch 1/10\n",
            "\u001b[1m66/66\u001b[0m \u001b[32m━━━━━━━━━━━━━━━━━━━━\u001b[0m\u001b[37m\u001b[0m \u001b[1m23s\u001b[0m 147ms/step - accuracy: 0.8144 - auc: 0.5846 - fn: 2755.7612 - fp: 15152.3730 - loss: 0.4644 - precision: 0.0323 - recall: 0.2099 - tn: 115260.3281 - tp: 519.6866 - val_accuracy: 0.9748 - val_auc: 0.8943 - val_fn: 1825.0000 - val_fp: 338.0000 - val_loss: 0.0935 - val_precision: 0.5158 - val_recall: 0.1648 - val_tn: 83331.0000 - val_tp: 360.0000\n",
            "Epoch 2/10\n",
            "\u001b[1m66/66\u001b[0m \u001b[32m━━━━━━━━━━━━━━━━━━━━\u001b[0m\u001b[37m\u001b[0m \u001b[1m10s\u001b[0m 152ms/step - accuracy: 0.9748 - auc: 0.9154 - fn: 2915.9553 - fp: 426.7015 - loss: 0.0872 - precision: 0.5051 - recall: 0.1403 - tn: 129906.0781 - tp: 439.4179 - val_accuracy: 0.9748 - val_auc: 0.9373 - val_fn: 1825.0000 - val_fp: 338.0000 - val_loss: 0.0791 - val_precision: 0.5158 - val_recall: 0.1648 - val_tn: 83331.0000 - val_tp: 360.0000\n",
            "Epoch 3/10\n",
            "\u001b[1m66/66\u001b[0m \u001b[32m━━━━━━━━━━━━━━━━━━━━\u001b[0m\u001b[37m\u001b[0m \u001b[1m10s\u001b[0m 151ms/step - accuracy: 0.9752 - auc: 0.9388 - fn: 2783.5076 - fp: 512.7164 - loss: 0.0769 - precision: 0.5102 - recall: 0.1635 - tn: 129850.1797 - tp: 541.7463 - val_accuracy: 0.9742 - val_auc: 0.9420 - val_fn: 1892.0000 - val_fp: 322.0000 - val_loss: 0.0755 - val_precision: 0.4764 - val_recall: 0.1341 - val_tn: 83347.0000 - val_tp: 293.0000\n",
            "Epoch 4/10\n",
            "\u001b[1m66/66\u001b[0m \u001b[32m━━━━━━━━━━━━━━━━━━━━\u001b[0m\u001b[37m\u001b[0m \u001b[1m9s\u001b[0m 139ms/step - accuracy: 0.9741 - auc: 0.9428 - fn: 3102.2837 - fp: 278.3134 - loss: 0.0761 - precision: 0.4867 - recall: 0.0702 - tn: 130013.8672 - tp: 293.6866 - val_accuracy: 0.9745 - val_auc: 0.9479 - val_fn: 2185.0000 - val_fp: 0.0000e+00 - val_loss: 0.0733 - val_precision: 0.0000e+00 - val_recall: 0.0000e+00 - val_tn: 83669.0000 - val_tp: 0.0000e+00\n",
            "Epoch 5/10\n",
            "\u001b[1m66/66\u001b[0m \u001b[32m━━━━━━━━━━━━━━━━━━━━\u001b[0m\u001b[37m\u001b[0m \u001b[1m9s\u001b[0m 140ms/step - accuracy: 0.9748 - auc: 0.9492 - fn: 3120.0000 - fp: 244.6716 - loss: 0.0720 - precision: 0.3635 - recall: 0.0517 - tn: 130086.3281 - tp: 237.1492 - val_accuracy: 0.9747 - val_auc: 0.9583 - val_fn: 2163.0000 - val_fp: 5.0000 - val_loss: 0.0684 - val_precision: 0.8148 - val_recall: 0.0101 - val_tn: 83664.0000 - val_tp: 22.0000\n",
            "Epoch 6/10\n",
            "\u001b[1m66/66\u001b[0m \u001b[32m━━━━━━━━━━━━━━━━━━━━\u001b[0m\u001b[37m\u001b[0m \u001b[1m10s\u001b[0m 144ms/step - accuracy: 0.9754 - auc: 0.9603 - fn: 3057.2986 - fp: 254.2537 - loss: 0.0660 - precision: 0.5254 - recall: 0.0621 - tn: 130113.5703 - tp: 263.0298 - val_accuracy: 0.9757 - val_auc: 0.9604 - val_fn: 2038.0000 - val_fp: 52.0000 - val_loss: 0.0653 - val_precision: 0.7387 - val_recall: 0.0673 - val_tn: 83617.0000 - val_tp: 147.0000\n",
            "Epoch 7/10\n",
            "\u001b[1m66/66\u001b[0m \u001b[32m━━━━━━━━━━━━━━━━━━━━\u001b[0m\u001b[37m\u001b[0m \u001b[1m9s\u001b[0m 144ms/step - accuracy: 0.9769 - auc: 0.9624 - fn: 2806.4329 - fp: 243.9104 - loss: 0.0627 - precision: 0.7195 - recall: 0.1360 - tn: 130111.2266 - tp: 526.5821 - val_accuracy: 0.9763 - val_auc: 0.9602 - val_fn: 1978.0000 - val_fp: 54.0000 - val_loss: 0.0643 - val_precision: 0.7931 - val_recall: 0.0947 - val_tn: 83615.0000 - val_tp: 207.0000\n",
            "Epoch 8/10\n",
            "\u001b[1m66/66\u001b[0m \u001b[32m━━━━━━━━━━━━━━━━━━━━\u001b[0m\u001b[37m\u001b[0m \u001b[1m9s\u001b[0m 133ms/step - accuracy: 0.9784 - auc: 0.9633 - fn: 2568.4775 - fp: 345.7910 - loss: 0.0603 - precision: 0.7202 - recall: 0.2097 - tn: 130022.6719 - tp: 751.2090 - val_accuracy: 0.9769 - val_auc: 0.9611 - val_fn: 1811.0000 - val_fp: 176.0000 - val_loss: 0.0633 - val_precision: 0.6800 - val_recall: 0.1712 - val_tn: 83493.0000 - val_tp: 374.0000\n",
            "Epoch 9/10\n",
            "\u001b[1m66/66\u001b[0m \u001b[32m━━━━━━━━━━━━━━━━━━━━\u001b[0m\u001b[37m\u001b[0m \u001b[1m11s\u001b[0m 149ms/step - accuracy: 0.9790 - auc: 0.9654 - fn: 2623.8059 - fp: 204.0298 - loss: 0.0584 - precision: 0.7889 - recall: 0.1899 - tn: 130207.7500 - tp: 652.5671 - val_accuracy: 0.9766 - val_auc: 0.9594 - val_fn: 1935.0000 - val_fp: 75.0000 - val_loss: 0.0635 - val_precision: 0.7692 - val_recall: 0.1144 - val_tn: 83594.0000 - val_tp: 250.0000\n",
            "Epoch 10/10\n",
            "\u001b[1m66/66\u001b[0m \u001b[32m━━━━━━━━━━━━━━━━━━━━\u001b[0m\u001b[37m\u001b[0m \u001b[1m10s\u001b[0m 149ms/step - accuracy: 0.9790 - auc: 0.9636 - fn: 2626.6716 - fp: 207.8060 - loss: 0.0584 - precision: 0.7852 - recall: 0.1847 - tn: 130216.4922 - tp: 637.1791 - val_accuracy: 0.9769 - val_auc: 0.9604 - val_fn: 1518.0000 - val_fp: 468.0000 - val_loss: 0.0621 - val_precision: 0.5877 - val_recall: 0.3053 - val_tn: 83201.0000 - val_tp: 667.0000\n"
          ]
        }
      ]
    },
    {
      "cell_type": "code",
      "source": [
        "model_1.summary()"
      ],
      "metadata": {
        "colab": {
          "base_uri": "https://localhost:8080/",
          "height": 273
        },
        "id": "C9OVnOtFad3F",
        "outputId": "43977353-74d7-45c2-f139-d1f22792977c"
      },
      "execution_count": 18,
      "outputs": [
        {
          "output_type": "display_data",
          "data": {
            "text/plain": [
              "\u001b[1mModel: \"sequential\"\u001b[0m\n"
            ],
            "text/html": [
              "<pre style=\"white-space:pre;overflow-x:auto;line-height:normal;font-family:Menlo,'DejaVu Sans Mono',consolas,'Courier New',monospace\"><span style=\"font-weight: bold\">Model: \"sequential\"</span>\n",
              "</pre>\n"
            ]
          },
          "metadata": {}
        },
        {
          "output_type": "display_data",
          "data": {
            "text/plain": [
              "┏━━━━━━━━━━━━━━━━━━━━━━━━━━━━━━━━━━━━━━┳━━━━━━━━━━━━━━━━━━━━━━━━━━━━━┳━━━━━━━━━━━━━━━━━┓\n",
              "┃\u001b[1m \u001b[0m\u001b[1mLayer (type)                        \u001b[0m\u001b[1m \u001b[0m┃\u001b[1m \u001b[0m\u001b[1mOutput Shape               \u001b[0m\u001b[1m \u001b[0m┃\u001b[1m \u001b[0m\u001b[1m        Param #\u001b[0m\u001b[1m \u001b[0m┃\n",
              "┡━━━━━━━━━━━━━━━━━━━━━━━━━━━━━━━━━━━━━━╇━━━━━━━━━━━━━━━━━━━━━━━━━━━━━╇━━━━━━━━━━━━━━━━━┩\n",
              "│ embedding (\u001b[38;5;33mEmbedding\u001b[0m)                │ (\u001b[38;5;45mNone\u001b[0m, \u001b[38;5;34m1000\u001b[0m, \u001b[38;5;34m128\u001b[0m)           │      \u001b[38;5;34m12,800,000\u001b[0m │\n",
              "├──────────────────────────────────────┼─────────────────────────────┼─────────────────┤\n",
              "│ bidirectional (\u001b[38;5;33mBidirectional\u001b[0m)        │ (\u001b[38;5;45mNone\u001b[0m, \u001b[38;5;34m1000\u001b[0m, \u001b[38;5;34m128\u001b[0m)           │          \u001b[38;5;34m98,816\u001b[0m │\n",
              "├──────────────────────────────────────┼─────────────────────────────┼─────────────────┤\n",
              "│ bidirectional_1 (\u001b[38;5;33mBidirectional\u001b[0m)      │ (\u001b[38;5;45mNone\u001b[0m, \u001b[38;5;34m64\u001b[0m)                  │          \u001b[38;5;34m41,216\u001b[0m │\n",
              "├──────────────────────────────────────┼─────────────────────────────┼─────────────────┤\n",
              "│ dense (\u001b[38;5;33mDense\u001b[0m)                        │ (\u001b[38;5;45mNone\u001b[0m, \u001b[38;5;34m123\u001b[0m)                 │           \u001b[38;5;34m7,995\u001b[0m │\n",
              "└──────────────────────────────────────┴─────────────────────────────┴─────────────────┘\n"
            ],
            "text/html": [
              "<pre style=\"white-space:pre;overflow-x:auto;line-height:normal;font-family:Menlo,'DejaVu Sans Mono',consolas,'Courier New',monospace\">┏━━━━━━━━━━━━━━━━━━━━━━━━━━━━━━━━━━━━━━┳━━━━━━━━━━━━━━━━━━━━━━━━━━━━━┳━━━━━━━━━━━━━━━━━┓\n",
              "┃<span style=\"font-weight: bold\"> Layer (type)                         </span>┃<span style=\"font-weight: bold\"> Output Shape                </span>┃<span style=\"font-weight: bold\">         Param # </span>┃\n",
              "┡━━━━━━━━━━━━━━━━━━━━━━━━━━━━━━━━━━━━━━╇━━━━━━━━━━━━━━━━━━━━━━━━━━━━━╇━━━━━━━━━━━━━━━━━┩\n",
              "│ embedding (<span style=\"color: #0087ff; text-decoration-color: #0087ff\">Embedding</span>)                │ (<span style=\"color: #00d7ff; text-decoration-color: #00d7ff\">None</span>, <span style=\"color: #00af00; text-decoration-color: #00af00\">1000</span>, <span style=\"color: #00af00; text-decoration-color: #00af00\">128</span>)           │      <span style=\"color: #00af00; text-decoration-color: #00af00\">12,800,000</span> │\n",
              "├──────────────────────────────────────┼─────────────────────────────┼─────────────────┤\n",
              "│ bidirectional (<span style=\"color: #0087ff; text-decoration-color: #0087ff\">Bidirectional</span>)        │ (<span style=\"color: #00d7ff; text-decoration-color: #00d7ff\">None</span>, <span style=\"color: #00af00; text-decoration-color: #00af00\">1000</span>, <span style=\"color: #00af00; text-decoration-color: #00af00\">128</span>)           │          <span style=\"color: #00af00; text-decoration-color: #00af00\">98,816</span> │\n",
              "├──────────────────────────────────────┼─────────────────────────────┼─────────────────┤\n",
              "│ bidirectional_1 (<span style=\"color: #0087ff; text-decoration-color: #0087ff\">Bidirectional</span>)      │ (<span style=\"color: #00d7ff; text-decoration-color: #00d7ff\">None</span>, <span style=\"color: #00af00; text-decoration-color: #00af00\">64</span>)                  │          <span style=\"color: #00af00; text-decoration-color: #00af00\">41,216</span> │\n",
              "├──────────────────────────────────────┼─────────────────────────────┼─────────────────┤\n",
              "│ dense (<span style=\"color: #0087ff; text-decoration-color: #0087ff\">Dense</span>)                        │ (<span style=\"color: #00d7ff; text-decoration-color: #00d7ff\">None</span>, <span style=\"color: #00af00; text-decoration-color: #00af00\">123</span>)                 │           <span style=\"color: #00af00; text-decoration-color: #00af00\">7,995</span> │\n",
              "└──────────────────────────────────────┴─────────────────────────────┴─────────────────┘\n",
              "</pre>\n"
            ]
          },
          "metadata": {}
        },
        {
          "output_type": "display_data",
          "data": {
            "text/plain": [
              "\u001b[1m Total params: \u001b[0m\u001b[38;5;34m38,844,083\u001b[0m (148.18 MB)\n"
            ],
            "text/html": [
              "<pre style=\"white-space:pre;overflow-x:auto;line-height:normal;font-family:Menlo,'DejaVu Sans Mono',consolas,'Courier New',monospace\"><span style=\"font-weight: bold\"> Total params: </span><span style=\"color: #00af00; text-decoration-color: #00af00\">38,844,083</span> (148.18 MB)\n",
              "</pre>\n"
            ]
          },
          "metadata": {}
        },
        {
          "output_type": "display_data",
          "data": {
            "text/plain": [
              "\u001b[1m Trainable params: \u001b[0m\u001b[38;5;34m12,948,027\u001b[0m (49.39 MB)\n"
            ],
            "text/html": [
              "<pre style=\"white-space:pre;overflow-x:auto;line-height:normal;font-family:Menlo,'DejaVu Sans Mono',consolas,'Courier New',monospace\"><span style=\"font-weight: bold\"> Trainable params: </span><span style=\"color: #00af00; text-decoration-color: #00af00\">12,948,027</span> (49.39 MB)\n",
              "</pre>\n"
            ]
          },
          "metadata": {}
        },
        {
          "output_type": "display_data",
          "data": {
            "text/plain": [
              "\u001b[1m Non-trainable params: \u001b[0m\u001b[38;5;34m0\u001b[0m (0.00 B)\n"
            ],
            "text/html": [
              "<pre style=\"white-space:pre;overflow-x:auto;line-height:normal;font-family:Menlo,'DejaVu Sans Mono',consolas,'Courier New',monospace\"><span style=\"font-weight: bold\"> Non-trainable params: </span><span style=\"color: #00af00; text-decoration-color: #00af00\">0</span> (0.00 B)\n",
              "</pre>\n"
            ]
          },
          "metadata": {}
        },
        {
          "output_type": "display_data",
          "data": {
            "text/plain": [
              "\u001b[1m Optimizer params: \u001b[0m\u001b[38;5;34m25,896,056\u001b[0m (98.79 MB)\n"
            ],
            "text/html": [
              "<pre style=\"white-space:pre;overflow-x:auto;line-height:normal;font-family:Menlo,'DejaVu Sans Mono',consolas,'Courier New',monospace\"><span style=\"font-weight: bold\"> Optimizer params: </span><span style=\"color: #00af00; text-decoration-color: #00af00\">25,896,056</span> (98.79 MB)\n",
              "</pre>\n"
            ]
          },
          "metadata": {}
        }
      ]
    },
    {
      "cell_type": "markdown",
      "source": [
        "##Reloading the model results"
      ],
      "metadata": {
        "id": "VXuYyxicYFgt"
      }
    },
    {
      "cell_type": "code",
      "source": [
        "model_1 = tf.keras.models.load_model('model_1.keras')\n",
        "with open('history_model_1.json') as f:\n",
        "    history_model_1 = json.load(f)"
      ],
      "metadata": {
        "id": "eqgYxK-1YI62"
      },
      "execution_count": 19,
      "outputs": []
    },
    {
      "cell_type": "markdown",
      "source": [
        "##Plotting the training history"
      ],
      "metadata": {
        "id": "Rrba6mTxNlqD"
      }
    },
    {
      "cell_type": "code",
      "source": [
        "acc = history_model_1['accuracy']\n",
        "val_acc = history_model_1['val_accuracy']\n",
        "loss = history_model_1['loss']\n",
        "val_loss = history_model_1['val_loss']\n",
        "\n",
        "epochs = range(len(acc))\n",
        "\n",
        "\n",
        "plt.plot(epochs, acc, 'ro', label='Training acc')\n",
        "plt.plot(epochs, val_acc, 'b', label='Validation acc')\n",
        "plt.title('Training and validation accuracy')\n",
        "plt.legend()\n",
        "\n",
        "plt.figure()\n",
        "\n",
        "plt.plot(epochs, loss, 'ro', label='Training loss')\n",
        "plt.plot(epochs, val_loss, 'b', label='Validation loss')\n",
        "plt.title('Example training and validation loss')\n",
        "plt.legend()\n",
        "\n",
        "plt.show()"
      ],
      "metadata": {
        "colab": {
          "base_uri": "https://localhost:8080/",
          "height": 887
        },
        "id": "JLF3MrnRNn1q",
        "outputId": "a7b58050-4068-4fac-9a67-b29b7009d521"
      },
      "execution_count": 20,
      "outputs": [
        {
          "output_type": "display_data",
          "data": {
            "text/plain": [
              "<Figure size 640x480 with 1 Axes>"
            ],
            "image/png": "[encoded data removed]"
          },
          "metadata": {}
        },
        {
          "output_type": "display_data",
          "data": {
            "text/plain": [
              "<Figure size 640x480 with 1 Axes>"
            ],
            "image/png": "[encoded data removed]"
          },
          "metadata": {}
        }
      ]
    },
    {
      "cell_type": "markdown",
      "source": [
        "## Evaluating model_1"
      ],
      "metadata": {
        "id": "OdWufqBqQH0y"
      }
    },
    {
      "cell_type": "code",
      "source": [
        "model_1.evaluate(X_test, y_test)"
      ],
      "metadata": {
        "colab": {
          "base_uri": "https://localhost:8080/"
        },
        "id": "dgSbioKxQKPC",
        "outputId": "a00b0a7a-4bac-4835-b015-014665630809"
      },
      "execution_count": 21,
      "outputs": [
        {
          "output_type": "stream",
          "name": "stdout",
          "text": [
            "\u001b[1m22/22\u001b[0m \u001b[32m━━━━━━━━━━━━━━━━━━━━\u001b[0m\u001b[37m\u001b[0m \u001b[1m2s\u001b[0m 59ms/step - accuracy: 0.9779 - auc: 0.9573 - fn: 820.3478 - fp: 225.7826 - loss: 0.0604 - precision: 0.5982 - recall: 0.2870 - tn: 45607.9141 - tp: 342.6522\n"
          ]
        },
        {
          "output_type": "execute_result",
          "data": {
            "text/plain": [
              "[0.06059335544705391,\n",
              " 0.9774150848388672,\n",
              " 0.5966542959213257,\n",
              " 0.2990218997001648,\n",
              " 0.9608260989189148,\n",
              " 642.0,\n",
              " 434.0,\n",
              " 83273.0,\n",
              " 1505.0]"
            ]
          },
          "metadata": {},
          "execution_count": 21
        }
      ]
    },
    {
      "cell_type": "markdown",
      "source": [
        "##Confusion Matrix"
      ],
      "metadata": {
        "id": "l8CxVa1mxE-Y"
      }
    },
    {
      "cell_type": "markdown",
      "source": [
        "##Predictions"
      ],
      "metadata": {
        "id": "Yw11N9XC2vo5"
      }
    },
    {
      "cell_type": "code",
      "source": [
        "test_predictions = model_1.predict(X_test)\n",
        "print(test_predictions)"
      ],
      "metadata": {
        "colab": {
          "base_uri": "https://localhost:8080/"
        },
        "id": "r17cVGsS2y1i",
        "outputId": "3b43feda-e61c-42ea-8630-899f9c2e0975"
      },
      "execution_count": 22,
      "outputs": [
        {
          "output_type": "stream",
          "name": "stdout",
          "text": [
            "\u001b[1m22/22\u001b[0m \u001b[32m━━━━━━━━━━━━━━━━━━━━\u001b[0m\u001b[37m\u001b[0m \u001b[1m2s\u001b[0m 83ms/step\n",
            "[[0.00070159 0.00284042 0.01519932 ... 0.00027917 0.0005312  0.00557074]\n",
            " [0.00069924 0.00283633 0.01517648 ... 0.00027833 0.00052958 0.00556142]\n",
            " [0.00070092 0.00283919 0.01519298 ... 0.00027893 0.00053071 0.00556807]\n",
            " ...\n",
            " [0.0007018  0.00284079 0.01520181 ... 0.00027925 0.00053133 0.00557158]\n",
            " [0.00069964 0.00283698 0.01518062 ... 0.00027848 0.00052986 0.00556282]\n",
            " [0.00070119 0.00283969 0.01519561 ... 0.00027903 0.00053092 0.00556916]]\n"
          ]
        }
      ]
    },
    {
      "cell_type": "markdown",
      "source": [
        "##Converting predictions to binary"
      ],
      "metadata": {
        "id": "2WzXaPOK2_8J"
      }
    },
    {
      "cell_type": "code",
      "source": [
        "binary_predictions = (test_predictions > 0.5).astype(int)"
      ],
      "metadata": {
        "id": "IeBqBpD83DbR"
      },
      "execution_count": 23,
      "outputs": []
    },
    {
      "cell_type": "markdown",
      "source": [
        "##Binary labels"
      ],
      "metadata": {
        "id": "UGbrtDeZ3KkG"
      }
    },
    {
      "cell_type": "code",
      "source": [
        "def words_to_binary(word_labels, keywords):\n",
        "  \"\"\"\n",
        "  Converts a list of word labels to binary labels.\n",
        "\n",
        "  Args:\n",
        "    word_labels: A list of lists, where each inner list contains indices of keywords present in a text.\n",
        "    keywords: A list of keywords.\n",
        "\n",
        "  Returns:\n",
        "    A list of lists, where each inner list contains binary labels (1 if the keyword is present, 0 otherwise).\n",
        "  \"\"\"\n",
        "  binary_labels = []\n",
        "  for labels in word_labels:\n",
        "    binary_row = [1 if i in labels else 0 for i in range(len(keywords))]\n",
        "    binary_labels.append(binary_row)\n",
        "  return binary_labels\n",
        "\n",
        "list_of_texts_test = X_test\n",
        "\n",
        "true_word_labels = create_labels(list_of_texts_test, keywords)  # Assuming you have a list_of_texts_test for test data\n",
        "true_binary_labels = words_to_binary(true_word_labels, keywords)\n",
        "true_binary_labels_array = np.array(true_binary_labels)"
      ],
      "metadata": {
        "id": "0TSQKfpE3NJV"
      },
      "execution_count": 24,
      "outputs": []
    },
    {
      "cell_type": "markdown",
      "source": [
        "##Creating confusion matrix"
      ],
      "metadata": {
        "id": "Ui8QWvn836Do"
      }
    },
    {
      "cell_type": "code",
      "source": [
        "cm = confusion_matrix(true_binary_labels_array.argmax(axis=1), binary_predictions.argmax(axis=1))\n",
        "\n",
        "plt.figure(figsize=(10, 7))\n",
        "sns.heatmap(cm, annot=True, fmt='g')\n",
        "plt.xlabel('Predicted labels')\n",
        "plt.ylabel('True labels')\n",
        "plt.show()"
      ],
      "metadata": {
        "colab": {
          "base_uri": "https://localhost:8080/",
          "height": 619
        },
        "id": "0OGt-Q9q3_mF",
        "outputId": "f51003c8-d9f1-4be6-9e07-ee30bd493dd7"
      },
      "execution_count": 25,
      "outputs": [
        {
          "output_type": "display_data",
          "data": {
            "text/plain": [
              "<Figure size 1000x700 with 2 Axes>"
            ],
            "image/png": "[encoded data removed]"
          },
          "metadata": {}
        }
      ]
    },
    {
      "cell_type": "markdown",
      "source": [
        "## Changing batch size"
      ],
      "metadata": {
        "id": "TWeEot3ErIyv"
      }
    },
    {
      "cell_type": "markdown",
      "source": [
        "###Model 2"
      ],
      "metadata": {
        "id": "AQNG6iihrXE1"
      }
    },
    {
      "cell_type": "code",
      "source": [
        "model_2 = Sequential([\n",
        "    Embedding(vocab_size, embedding_dim),\n",
        "    Bidirectional(LSTM(64, return_sequences=True)),\n",
        "    Bidirectional(LSTM(32)),\n",
        "    Dense(len(keywords), activation='sigmoid')\n",
        "])\n",
        "\n"
      ],
      "metadata": {
        "id": "QRfwQmFxrMrl"
      },
      "execution_count": 26,
      "outputs": []
    },
    {
      "cell_type": "markdown",
      "source": [
        "##Compiling, training and saving the model"
      ],
      "metadata": {
        "id": "sGKiGyE-ro64"
      }
    },
    {
      "cell_type": "code",
      "source": [
        "#Compiling the model\n",
        "model_2.compile(\n",
        "    loss = 'binary_crossentropy',\n",
        "    optimizer = Adam(learning_rate=0.001),\n",
        "    metrics = METRICS\n",
        "\n",
        ")\n",
        "\n",
        "# Convert X_train, X_val, y_train, y_val to numpy arrays if they aren't already\n",
        "X_train = np.asarray(X_train, dtype=np.float32)\n",
        "X_val = np.asarray(X_val, dtype=np.float32)\n",
        "X_test = np.asarray(X_test, dtype=np.float32)\n",
        "y_train = np.asarray(y_train, dtype=np.float32) # Convert y_train to NumPy array\n",
        "y_val = np.asarray(y_val, dtype=np.float32)   # Convert y_val to NumPy array\n",
        "y_test = np.asarray(y_test, dtype=np.float32) # Convert y_test to NumPy array\n",
        "# Check and potentially adjust the batch size to be consistent\n",
        "batch_size = 41  # Or a smaller value if memory is an issue\n",
        "if X_train.shape[0] % batch_size != 0 or X_val.shape[0] % batch_size != 0:\n",
        "    print(\"Warning: Batch size does not divide evenly into the number of samples. Consider adjusting the batch size.\")\n",
        "\n",
        "#Training the model\n",
        "history_model_2 = model_2.fit(\n",
        "    X_train, y_train,\n",
        "    validation_data = (X_val, y_val),\n",
        "    epochs = 10,\n",
        "\n",
        ")\n",
        "\n",
        "#Saving the model\n",
        "model_2.save('model_2.keras')\n",
        "with open('history_model_2.json', 'w') as f:\n",
        "    json.dump(history_model_2.history, f)"
      ],
      "metadata": {
        "colab": {
          "base_uri": "https://localhost:8080/"
        },
        "id": "4D-qCt5rrodU",
        "outputId": "6d072d73-39f1-4a26-d36d-1c2e136c830c"
      },
      "execution_count": 27,
      "outputs": [
        {
          "output_type": "stream",
          "name": "stdout",
          "text": [
            "Warning: Batch size does not divide evenly into the number of samples. Consider adjusting the batch size.\n",
            "Epoch 1/10\n",
            "\u001b[1m66/66\u001b[0m \u001b[32m━━━━━━━━━━━━━━━━━━━━\u001b[0m\u001b[37m\u001b[0m \u001b[1m16s\u001b[0m 164ms/step - accuracy: 0.9091 - auc: 0.7510 - fn: 4111.3433 - fp: 15092.0000 - loss: 0.4596 - precision: 0.0900 - recall: 0.2726 - tn: 198912.9062 - tp: 1425.8955 - val_accuracy: 0.9745 - val_auc: 0.9022 - val_fn: 2185.0000 - val_fp: 0.0000e+00 - val_loss: 0.0918 - val_precision: 0.0000e+00 - val_recall: 0.0000e+00 - val_tn: 83669.0000 - val_tp: 0.0000e+00\n",
            "Epoch 2/10\n",
            "\u001b[1m66/66\u001b[0m \u001b[32m━━━━━━━━━━━━━━━━━━━━\u001b[0m\u001b[37m\u001b[0m \u001b[1m9s\u001b[0m 135ms/step - accuracy: 0.9750 - auc: 0.9202 - fn: 2974.2090 - fp: 326.6866 - loss: 0.0862 - precision: 0.5302 - recall: 0.0938 - tn: 130009.9219 - tp: 377.3284 - val_accuracy: 0.9751 - val_auc: 0.9405 - val_fn: 2118.0000 - val_fp: 16.0000 - val_loss: 0.0782 - val_precision: 0.8072 - val_recall: 0.0307 - val_tn: 83653.0000 - val_tp: 67.0000\n",
            "Epoch 3/10\n",
            "\u001b[1m66/66\u001b[0m \u001b[32m━━━━━━━━━━━━━━━━━━━━\u001b[0m\u001b[37m\u001b[0m \u001b[1m10s\u001b[0m 147ms/step - accuracy: 0.9758 - auc: 0.9399 - fn: 3060.4775 - fp: 225.3284 - loss: 0.0751 - precision: 0.5769 - recall: 0.0574 - tn: 130141.4297 - tp: 260.9105 - val_accuracy: 0.9751 - val_auc: 0.9469 - val_fn: 2118.0000 - val_fp: 16.0000 - val_loss: 0.0742 - val_precision: 0.8072 - val_recall: 0.0307 - val_tn: 83653.0000 - val_tp: 67.0000\n",
            "Epoch 4/10\n",
            "\u001b[1m66/66\u001b[0m \u001b[32m━━━━━━━━━━━━━━━━━━━━\u001b[0m\u001b[37m\u001b[0m \u001b[1m10s\u001b[0m 144ms/step - accuracy: 0.9758 - auc: 0.9471 - fn: 3104.0896 - fp: 149.8358 - loss: 0.0717 - precision: 0.6242 - recall: 0.0518 - tn: 130236.7578 - tp: 197.4627 - val_accuracy: 0.9748 - val_auc: 0.9516 - val_fn: 1825.0000 - val_fp: 338.0000 - val_loss: 0.0707 - val_precision: 0.5158 - val_recall: 0.1648 - val_tn: 83331.0000 - val_tp: 360.0000\n",
            "Epoch 5/10\n",
            "\u001b[1m66/66\u001b[0m \u001b[32m━━━━━━━━━━━━━━━━━━━━\u001b[0m\u001b[37m\u001b[0m \u001b[1m11s\u001b[0m 155ms/step - accuracy: 0.9750 - auc: 0.9524 - fn: 3054.7761 - fp: 249.4627 - loss: 0.0702 - precision: 0.5510 - recall: 0.1092 - tn: 130068.5703 - tp: 315.3433 - val_accuracy: 0.9756 - val_auc: 0.9591 - val_fn: 2059.0000 - val_fp: 34.0000 - val_loss: 0.0671 - val_precision: 0.7875 - val_recall: 0.0577 - val_tn: 83635.0000 - val_tp: 126.0000\n",
            "Epoch 6/10\n",
            "\u001b[1m66/66\u001b[0m \u001b[32m━━━━━━━━━━━━━━━━━━━━\u001b[0m\u001b[37m\u001b[0m \u001b[1m20s\u001b[0m 144ms/step - accuracy: 0.9765 - auc: 0.9605 - fn: 2752.0598 - fp: 397.2388 - loss: 0.0646 - precision: 0.5810 - recall: 0.1648 - tn: 130007.9844 - tp: 530.8657 - val_accuracy: 0.9769 - val_auc: 0.9608 - val_fn: 1783.0000 - val_fp: 197.0000 - val_loss: 0.0649 - val_precision: 0.6711 - val_recall: 0.1840 - val_tn: 83472.0000 - val_tp: 402.0000\n",
            "Epoch 7/10\n",
            "\u001b[1m66/66\u001b[0m \u001b[32m━━━━━━━━━━━━━━━━━━━━\u001b[0m\u001b[37m\u001b[0m \u001b[1m9s\u001b[0m 143ms/step - accuracy: 0.9774 - auc: 0.9638 - fn: 2807.6418 - fp: 188.7164 - loss: 0.0628 - precision: 0.7400 - recall: 0.1610 - tn: 130151.1328 - tp: 540.6567 - val_accuracy: 0.9770 - val_auc: 0.9612 - val_fn: 1574.0000 - val_fp: 402.0000 - val_loss: 0.0627 - val_precision: 0.6032 - val_recall: 0.2796 - val_tn: 83267.0000 - val_tp: 611.0000\n",
            "Epoch 8/10\n",
            "\u001b[1m66/66\u001b[0m \u001b[32m━━━━━━━━━━━━━━━━━━━━\u001b[0m\u001b[37m\u001b[0m \u001b[1m11s\u001b[0m 161ms/step - accuracy: 0.9781 - auc: 0.9655 - fn: 2759.0598 - fp: 152.5224 - loss: 0.0592 - precision: 0.7652 - recall: 0.1639 - tn: 130245.8516 - tp: 530.7164 - val_accuracy: 0.9775 - val_auc: 0.9616 - val_fn: 1779.0000 - val_fp: 153.0000 - val_loss: 0.0620 - val_precision: 0.7263 - val_recall: 0.1858 - val_tn: 83516.0000 - val_tp: 406.0000\n",
            "Epoch 9/10\n",
            "\u001b[1m66/66\u001b[0m \u001b[32m━━━━━━━━━━━━━━━━━━━━\u001b[0m\u001b[37m\u001b[0m \u001b[1m19s\u001b[0m 141ms/step - accuracy: 0.9789 - auc: 0.9665 - fn: 2648.4329 - fp: 170.6119 - loss: 0.0581 - precision: 0.8022 - recall: 0.1958 - tn: 130231.4922 - tp: 637.6119 - val_accuracy: 0.9771 - val_auc: 0.9618 - val_fn: 1692.0000 - val_fp: 274.0000 - val_loss: 0.0618 - val_precision: 0.6428 - val_recall: 0.2256 - val_tn: 83395.0000 - val_tp: 493.0000\n",
            "Epoch 10/10\n",
            "\u001b[1m66/66\u001b[0m \u001b[32m━━━━━━━━━━━━━━━━━━━━\u001b[0m\u001b[37m\u001b[0m \u001b[1m10s\u001b[0m 144ms/step - accuracy: 0.9788 - auc: 0.9650 - fn: 2630.8208 - fp: 186.3284 - loss: 0.0578 - precision: 0.7782 - recall: 0.2014 - tn: 130213.3125 - tp: 657.6866 - val_accuracy: 0.9775 - val_auc: 0.9628 - val_fn: 1701.0000 - val_fp: 232.0000 - val_loss: 0.0611 - val_precision: 0.6760 - val_recall: 0.2215 - val_tn: 83437.0000 - val_tp: 484.0000\n"
          ]
        }
      ]
    },
    {
      "cell_type": "code",
      "source": [
        "model_2.summary()"
      ],
      "metadata": {
        "colab": {
          "base_uri": "https://localhost:8080/",
          "height": 273
        },
        "id": "tWzUDei-aPYa",
        "outputId": "1ac25846-c954-4092-886f-5ea87f1b996d"
      },
      "execution_count": 28,
      "outputs": [
        {
          "output_type": "display_data",
          "data": {
            "text/plain": [
              "\u001b[1mModel: \"sequential_1\"\u001b[0m\n"
            ],
            "text/html": [
              "<pre style=\"white-space:pre;overflow-x:auto;line-height:normal;font-family:Menlo,'DejaVu Sans Mono',consolas,'Courier New',monospace\"><span style=\"font-weight: bold\">Model: \"sequential_1\"</span>\n",
              "</pre>\n"
            ]
          },
          "metadata": {}
        },
        {
          "output_type": "display_data",
          "data": {
            "text/plain": [
              "┏━━━━━━━━━━━━━━━━━━━━━━━━━━━━━━━━━━━━━━┳━━━━━━━━━━━━━━━━━━━━━━━━━━━━━┳━━━━━━━━━━━━━━━━━┓\n",
              "┃\u001b[1m \u001b[0m\u001b[1mLayer (type)                        \u001b[0m\u001b[1m \u001b[0m┃\u001b[1m \u001b[0m\u001b[1mOutput Shape               \u001b[0m\u001b[1m \u001b[0m┃\u001b[1m \u001b[0m\u001b[1m        Param #\u001b[0m\u001b[1m \u001b[0m┃\n",
              "┡━━━━━━━━━━━━━━━━━━━━━━━━━━━━━━━━━━━━━━╇━━━━━━━━━━━━━━━━━━━━━━━━━━━━━╇━━━━━━━━━━━━━━━━━┩\n",
              "│ embedding_1 (\u001b[38;5;33mEmbedding\u001b[0m)              │ (\u001b[38;5;45mNone\u001b[0m, \u001b[38;5;34m1000\u001b[0m, \u001b[38;5;34m128\u001b[0m)           │      \u001b[38;5;34m12,800,000\u001b[0m │\n",
              "├──────────────────────────────────────┼─────────────────────────────┼─────────────────┤\n",
              "│ bidirectional_2 (\u001b[38;5;33mBidirectional\u001b[0m)      │ (\u001b[38;5;45mNone\u001b[0m, \u001b[38;5;34m1000\u001b[0m, \u001b[38;5;34m128\u001b[0m)           │          \u001b[38;5;34m98,816\u001b[0m │\n",
              "├──────────────────────────────────────┼─────────────────────────────┼─────────────────┤\n",
              "│ bidirectional_3 (\u001b[38;5;33mBidirectional\u001b[0m)      │ (\u001b[38;5;45mNone\u001b[0m, \u001b[38;5;34m64\u001b[0m)                  │          \u001b[38;5;34m41,216\u001b[0m │\n",
              "├──────────────────────────────────────┼─────────────────────────────┼─────────────────┤\n",
              "│ dense_1 (\u001b[38;5;33mDense\u001b[0m)                      │ (\u001b[38;5;45mNone\u001b[0m, \u001b[38;5;34m123\u001b[0m)                 │           \u001b[38;5;34m7,995\u001b[0m │\n",
              "└──────────────────────────────────────┴─────────────────────────────┴─────────────────┘\n"
            ],
            "text/html": [
              "<pre style=\"white-space:pre;overflow-x:auto;line-height:normal;font-family:Menlo,'DejaVu Sans Mono',consolas,'Courier New',monospace\">┏━━━━━━━━━━━━━━━━━━━━━━━━━━━━━━━━━━━━━━┳━━━━━━━━━━━━━━━━━━━━━━━━━━━━━┳━━━━━━━━━━━━━━━━━┓\n",
              "┃<span style=\"font-weight: bold\"> Layer (type)                         </span>┃<span style=\"font-weight: bold\"> Output Shape                </span>┃<span style=\"font-weight: bold\">         Param # </span>┃\n",
              "┡━━━━━━━━━━━━━━━━━━━━━━━━━━━━━━━━━━━━━━╇━━━━━━━━━━━━━━━━━━━━━━━━━━━━━╇━━━━━━━━━━━━━━━━━┩\n",
              "│ embedding_1 (<span style=\"color: #0087ff; text-decoration-color: #0087ff\">Embedding</span>)              │ (<span style=\"color: #00d7ff; text-decoration-color: #00d7ff\">None</span>, <span style=\"color: #00af00; text-decoration-color: #00af00\">1000</span>, <span style=\"color: #00af00; text-decoration-color: #00af00\">128</span>)           │      <span style=\"color: #00af00; text-decoration-color: #00af00\">12,800,000</span> │\n",
              "├──────────────────────────────────────┼─────────────────────────────┼─────────────────┤\n",
              "│ bidirectional_2 (<span style=\"color: #0087ff; text-decoration-color: #0087ff\">Bidirectional</span>)      │ (<span style=\"color: #00d7ff; text-decoration-color: #00d7ff\">None</span>, <span style=\"color: #00af00; text-decoration-color: #00af00\">1000</span>, <span style=\"color: #00af00; text-decoration-color: #00af00\">128</span>)           │          <span style=\"color: #00af00; text-decoration-color: #00af00\">98,816</span> │\n",
              "├──────────────────────────────────────┼─────────────────────────────┼─────────────────┤\n",
              "│ bidirectional_3 (<span style=\"color: #0087ff; text-decoration-color: #0087ff\">Bidirectional</span>)      │ (<span style=\"color: #00d7ff; text-decoration-color: #00d7ff\">None</span>, <span style=\"color: #00af00; text-decoration-color: #00af00\">64</span>)                  │          <span style=\"color: #00af00; text-decoration-color: #00af00\">41,216</span> │\n",
              "├──────────────────────────────────────┼─────────────────────────────┼─────────────────┤\n",
              "│ dense_1 (<span style=\"color: #0087ff; text-decoration-color: #0087ff\">Dense</span>)                      │ (<span style=\"color: #00d7ff; text-decoration-color: #00d7ff\">None</span>, <span style=\"color: #00af00; text-decoration-color: #00af00\">123</span>)                 │           <span style=\"color: #00af00; text-decoration-color: #00af00\">7,995</span> │\n",
              "└──────────────────────────────────────┴─────────────────────────────┴─────────────────┘\n",
              "</pre>\n"
            ]
          },
          "metadata": {}
        },
        {
          "output_type": "display_data",
          "data": {
            "text/plain": [
              "\u001b[1m Total params: \u001b[0m\u001b[38;5;34m38,844,083\u001b[0m (148.18 MB)\n"
            ],
            "text/html": [
              "<pre style=\"white-space:pre;overflow-x:auto;line-height:normal;font-family:Menlo,'DejaVu Sans Mono',consolas,'Courier New',monospace\"><span style=\"font-weight: bold\"> Total params: </span><span style=\"color: #00af00; text-decoration-color: #00af00\">38,844,083</span> (148.18 MB)\n",
              "</pre>\n"
            ]
          },
          "metadata": {}
        },
        {
          "output_type": "display_data",
          "data": {
            "text/plain": [
              "\u001b[1m Trainable params: \u001b[0m\u001b[38;5;34m12,948,027\u001b[0m (49.39 MB)\n"
            ],
            "text/html": [
              "<pre style=\"white-space:pre;overflow-x:auto;line-height:normal;font-family:Menlo,'DejaVu Sans Mono',consolas,'Courier New',monospace\"><span style=\"font-weight: bold\"> Trainable params: </span><span style=\"color: #00af00; text-decoration-color: #00af00\">12,948,027</span> (49.39 MB)\n",
              "</pre>\n"
            ]
          },
          "metadata": {}
        },
        {
          "output_type": "display_data",
          "data": {
            "text/plain": [
              "\u001b[1m Non-trainable params: \u001b[0m\u001b[38;5;34m0\u001b[0m (0.00 B)\n"
            ],
            "text/html": [
              "<pre style=\"white-space:pre;overflow-x:auto;line-height:normal;font-family:Menlo,'DejaVu Sans Mono',consolas,'Courier New',monospace\"><span style=\"font-weight: bold\"> Non-trainable params: </span><span style=\"color: #00af00; text-decoration-color: #00af00\">0</span> (0.00 B)\n",
              "</pre>\n"
            ]
          },
          "metadata": {}
        },
        {
          "output_type": "display_data",
          "data": {
            "text/plain": [
              "\u001b[1m Optimizer params: \u001b[0m\u001b[38;5;34m25,896,056\u001b[0m (98.79 MB)\n"
            ],
            "text/html": [
              "<pre style=\"white-space:pre;overflow-x:auto;line-height:normal;font-family:Menlo,'DejaVu Sans Mono',consolas,'Courier New',monospace\"><span style=\"font-weight: bold\"> Optimizer params: </span><span style=\"color: #00af00; text-decoration-color: #00af00\">25,896,056</span> (98.79 MB)\n",
              "</pre>\n"
            ]
          },
          "metadata": {}
        }
      ]
    },
    {
      "cell_type": "markdown",
      "source": [
        "##Reloading the model"
      ],
      "metadata": {
        "id": "cPwvYRnhvl6-"
      }
    },
    {
      "cell_type": "code",
      "source": [
        "model_2 = tf.keras.models.load_model('model_2.keras')\n",
        "with open('history_model_2.json') as f:\n",
        "    history_model_2 = json.load(f)"
      ],
      "metadata": {
        "id": "igQJRSBzw5wJ"
      },
      "execution_count": 29,
      "outputs": []
    },
    {
      "cell_type": "markdown",
      "source": [
        "##Plotting the training history"
      ],
      "metadata": {
        "id": "PLp0d2bLys_W"
      }
    },
    {
      "cell_type": "code",
      "source": [
        "acc = history_model_2['accuracy']\n",
        "val_acc = history_model_2['val_accuracy']\n",
        "loss = history_model_2['loss']\n",
        "val_loss = history_model_2['val_loss']\n",
        "\n",
        "epochs = range(len(acc))\n",
        "\n",
        "\n",
        "plt.plot(epochs, acc, 'ro', label='Training acc')\n",
        "plt.plot(epochs, val_acc, 'b', label='Validation acc')\n",
        "plt.title('Training and validation accuracy')\n",
        "plt.legend()\n",
        "\n",
        "plt.figure()\n",
        "\n",
        "plt.plot(epochs, loss, 'ro', label='Training loss')\n",
        "plt.plot(epochs, val_loss, 'b', label='Validation loss')\n",
        "plt.title('Model_2 training and validation loss')\n",
        "plt.legend()\n",
        "\n",
        "plt.show()"
      ],
      "metadata": {
        "colab": {
          "base_uri": "https://localhost:8080/",
          "height": 887
        },
        "id": "I_235uQJyxLg",
        "outputId": "d4420133-5d87-439c-aa7c-90a909923057"
      },
      "execution_count": 30,
      "outputs": [
        {
          "output_type": "display_data",
          "data": {
            "text/plain": [
              "<Figure size 640x480 with 1 Axes>"
            ],
            "image/png": "[encoded data removed]"
          },
          "metadata": {}
        },
        {
          "output_type": "display_data",
          "data": {
            "text/plain": [
              "<Figure size 640x480 with 1 Axes>"
            ],
            "image/png": "[encoded data removed]"
          },
          "metadata": {}
        }
      ]
    },
    {
      "cell_type": "markdown",
      "source": [
        "##Evaluting the model"
      ],
      "metadata": {
        "id": "BrbLvz6x0OTB"
      }
    },
    {
      "cell_type": "code",
      "source": [
        "model_2.evaluate(X_test, y_test)"
      ],
      "metadata": {
        "colab": {
          "base_uri": "https://localhost:8080/"
        },
        "id": "H0id0hRy0Qv2",
        "outputId": "5ccb4a09-5a6a-42d8-d011-53e5cd77005f"
      },
      "execution_count": 31,
      "outputs": [
        {
          "output_type": "stream",
          "name": "stdout",
          "text": [
            "\u001b[1m22/22\u001b[0m \u001b[32m━━━━━━━━━━━━━━━━━━━━\u001b[0m\u001b[37m\u001b[0m \u001b[1m2s\u001b[0m 57ms/step - accuracy: 0.9778 - auc: 0.9631 - fn: 950.8696 - fp: 90.9565 - loss: 0.0594 - precision: 0.6745 - recall: 0.1650 - tn: 45742.7383 - tp: 212.1304\n"
          ]
        },
        {
          "output_type": "execute_result",
          "data": {
            "text/plain": [
              "[0.059753719717264175,\n",
              " 0.9777179956436157,\n",
              " 0.695652186870575,\n",
              " 0.19375872611999512,\n",
              " 0.9636721611022949,\n",
              " 416.0,\n",
              " 182.0,\n",
              " 83525.0,\n",
              " 1731.0]"
            ]
          },
          "metadata": {},
          "execution_count": 31
        }
      ]
    },
    {
      "cell_type": "markdown",
      "source": [
        "##Predictions"
      ],
      "metadata": {
        "id": "z4EbzV2fizTB"
      }
    },
    {
      "cell_type": "code",
      "source": [
        "test_predictions = model_2.predict(X_test)\n",
        "print(test_predictions)\n"
      ],
      "metadata": {
        "colab": {
          "base_uri": "https://localhost:8080/"
        },
        "id": "Dpite9Aoi1Kp",
        "outputId": "0d9b6455-84e7-4a17-cd79-1b98a60ff21a"
      },
      "execution_count": 32,
      "outputs": [
        {
          "output_type": "stream",
          "name": "stdout",
          "text": [
            "\u001b[1m22/22\u001b[0m \u001b[32m━━━━━━━━━━━━━━━━━━━━\u001b[0m\u001b[37m\u001b[0m \u001b[1m2s\u001b[0m 72ms/step\n",
            "[[0.00048385 0.00280871 0.01439242 ... 0.00141956 0.00029918 0.00532598]\n",
            " [0.00048245 0.00280381 0.01436997 ... 0.0014156  0.00029824 0.00532015]\n",
            " [0.00048365 0.00280797 0.01438885 ... 0.00141901 0.00029904 0.00532505]\n",
            " ...\n",
            " [0.00048375 0.00280843 0.01439117 ... 0.00141934 0.00029913 0.00532557]\n",
            " [0.00048226 0.00280304 0.01436512 ... 0.00141502 0.00029812 0.00531899]\n",
            " [0.00048389 0.00280879 0.01439311 ... 0.00141968 0.00029921 0.00532619]]\n"
          ]
        }
      ]
    },
    {
      "cell_type": "markdown",
      "source": [
        "#Reduce number of LSTM modules"
      ],
      "metadata": {
        "id": "vXDkSZLvTwK7"
      }
    },
    {
      "cell_type": "markdown",
      "source": [
        "##Model 3"
      ],
      "metadata": {
        "id": "q8aeDaMLUIFm"
      }
    },
    {
      "cell_type": "code",
      "source": [
        "model_3 = Sequential([\n",
        "    Embedding(vocab_size, embedding_dim),\n",
        "    Bidirectional(LSTM(32, return_sequences=True)),\n",
        "    Bidirectional(LSTM(16)),\n",
        "    Dense(len(keywords), activation='sigmoid')\n",
        "])\n",
        "\n"
      ],
      "metadata": {
        "id": "JDrY45PeT6PO"
      },
      "execution_count": 33,
      "outputs": []
    },
    {
      "cell_type": "markdown",
      "source": [
        "##Compiling, training and saving the model"
      ],
      "metadata": {
        "id": "sXIntMcvULIc"
      }
    },
    {
      "cell_type": "code",
      "source": [
        "#Compiling the model\n",
        "model_3.compile(\n",
        "    loss = 'binary_crossentropy',\n",
        "    optimizer = Adam(learning_rate=0.001),\n",
        "    metrics = METRICS\n",
        "\n",
        ")\n",
        "\n",
        "# Convert X_train, X_val, y_train, y_val to numpy arrays if they aren't already\n",
        "X_train = np.asarray(X_train, dtype=np.float32)\n",
        "X_val = np.asarray(X_val, dtype=np.float32)\n",
        "X_test = np.asarray(X_test, dtype=np.float32)\n",
        "y_train = np.asarray(y_train, dtype=np.float32) # Convert y_train to NumPy array\n",
        "y_val = np.asarray(y_val, dtype=np.float32)   # Convert y_val to NumPy array\n",
        "y_test = np.asarray(y_test, dtype=np.float32) # Convert y_test to NumPy array\n",
        "# Check and potentially adjust the batch size to be consistent\n",
        "batch_size = 17  # Or a smaller value if memory is an issue\n",
        "if X_train.shape[0] % batch_size != 0 or X_val.shape[0] % batch_size != 0:\n",
        "    print(\"Warning: Batch size does not divide evenly into the number of samples. Consider adjusting the batch size.\")\n",
        "\n",
        "#Training the model\n",
        "history_model_3 = model_3.fit(\n",
        "    X_train, y_train,\n",
        "    validation_data = (X_val, y_val),\n",
        "    epochs = 10,\n",
        "\n",
        ")\n",
        "\n",
        "#Saving the model\n",
        "model_3.save('model_3.keras')\n",
        "with open('history_model_3.json', 'w') as f:\n",
        "    json.dump(history_model_3.history, f)"
      ],
      "metadata": {
        "colab": {
          "base_uri": "https://localhost:8080/"
        },
        "id": "Y0tqsU6yUQJs",
        "outputId": "ed8b40ff-9bdd-46b0-8a49-780df10647b1"
      },
      "execution_count": 34,
      "outputs": [
        {
          "output_type": "stream",
          "name": "stdout",
          "text": [
            "Warning: Batch size does not divide evenly into the number of samples. Consider adjusting the batch size.\n",
            "Epoch 1/10\n",
            "\u001b[1m66/66\u001b[0m \u001b[32m━━━━━━━━━━━━━━━━━━━━\u001b[0m\u001b[37m\u001b[0m \u001b[1m15s\u001b[0m 156ms/step - accuracy: 0.8794 - auc: 0.7160 - fn: 4179.3281 - fp: 21742.0742 - loss: 0.5611 - precision: 0.0607 - recall: 0.2481 - tn: 192315.2812 - tp: 1305.4626 - val_accuracy: 0.9748 - val_auc: 0.8204 - val_fn: 1825.0000 - val_fp: 338.0000 - val_loss: 0.1563 - val_precision: 0.5158 - val_recall: 0.1648 - val_tn: 83331.0000 - val_tp: 360.0000\n",
            "Epoch 2/10\n",
            "\u001b[1m66/66\u001b[0m \u001b[32m━━━━━━━━━━━━━━━━━━━━\u001b[0m\u001b[37m\u001b[0m \u001b[1m22s\u001b[0m 185ms/step - accuracy: 0.9755 - auc: 0.8502 - fn: 3016.7163 - fp: 266.1940 - loss: 0.1296 - precision: 0.4895 - recall: 0.0854 - tn: 130139.7031 - tp: 265.5373 - val_accuracy: 0.9748 - val_auc: 0.9163 - val_fn: 1825.0000 - val_fp: 338.0000 - val_loss: 0.0964 - val_precision: 0.5158 - val_recall: 0.1648 - val_tn: 83331.0000 - val_tp: 360.0000\n",
            "Epoch 3/10\n",
            "\u001b[1m66/66\u001b[0m \u001b[32m━━━━━━━━━━━━━━━━━━━━\u001b[0m\u001b[37m\u001b[0m \u001b[1m17s\u001b[0m 140ms/step - accuracy: 0.9751 - auc: 0.9231 - fn: 2773.0447 - fp: 520.7015 - loss: 0.0924 - precision: 0.5212 - recall: 0.1675 - tn: 129829.8359 - tp: 564.5671 - val_accuracy: 0.9745 - val_auc: 0.9337 - val_fn: 2185.0000 - val_fp: 0.0000e+00 - val_loss: 0.0847 - val_precision: 0.0000e+00 - val_recall: 0.0000e+00 - val_tn: 83669.0000 - val_tp: 0.0000e+00\n",
            "Epoch 4/10\n",
            "\u001b[1m66/66\u001b[0m \u001b[32m━━━━━━━━━━━━━━━━━━━━\u001b[0m\u001b[37m\u001b[0m \u001b[1m11s\u001b[0m 146ms/step - accuracy: 0.9743 - auc: 0.9339 - fn: 3186.6567 - fp: 189.9254 - loss: 0.0843 - precision: 0.3989 - recall: 0.0431 - tn: 130129.2500 - tp: 182.3134 - val_accuracy: 0.9748 - val_auc: 0.9422 - val_fn: 1825.0000 - val_fp: 338.0000 - val_loss: 0.0795 - val_precision: 0.5158 - val_recall: 0.1648 - val_tn: 83331.0000 - val_tp: 360.0000\n",
            "Epoch 5/10\n",
            "\u001b[1m66/66\u001b[0m \u001b[32m━━━━━━━━━━━━━━━━━━━━\u001b[0m\u001b[37m\u001b[0m \u001b[1m9s\u001b[0m 133ms/step - accuracy: 0.9754 - auc: 0.9448 - fn: 2779.7463 - fp: 516.1045 - loss: 0.0771 - precision: 0.5049 - recall: 0.1639 - tn: 129848.1797 - tp: 544.1194 - val_accuracy: 0.9751 - val_auc: 0.9516 - val_fn: 2118.0000 - val_fp: 16.0000 - val_loss: 0.0750 - val_precision: 0.8072 - val_recall: 0.0307 - val_tn: 83653.0000 - val_tp: 67.0000\n",
            "Epoch 6/10\n",
            "\u001b[1m66/66\u001b[0m \u001b[32m━━━━━━━━━━━━━━━━━━━━\u001b[0m\u001b[37m\u001b[0m \u001b[1m10s\u001b[0m 125ms/step - accuracy: 0.9759 - auc: 0.9529 - fn: 3174.5522 - fp: 46.7164 - loss: 0.0729 - precision: 0.7371 - recall: 0.0387 - tn: 130337.2500 - tp: 129.6269 - val_accuracy: 0.9758 - val_auc: 0.9554 - val_fn: 2049.0000 - val_fp: 31.0000 - val_loss: 0.0716 - val_precision: 0.8144 - val_recall: 0.0622 - val_tn: 83638.0000 - val_tp: 136.0000\n",
            "Epoch 7/10\n",
            "\u001b[1m66/66\u001b[0m \u001b[32m━━━━━━━━━━━━━━━━━━━━\u001b[0m\u001b[37m\u001b[0m \u001b[1m11s\u001b[0m 138ms/step - accuracy: 0.9756 - auc: 0.9571 - fn: 3064.5820 - fp: 187.7761 - loss: 0.0709 - precision: 0.6481 - recall: 0.0848 - tn: 130114.8984 - tp: 320.8955 - val_accuracy: 0.9762 - val_auc: 0.9568 - val_fn: 1993.0000 - val_fp: 48.0000 - val_loss: 0.0691 - val_precision: 0.8000 - val_recall: 0.0879 - val_tn: 83621.0000 - val_tp: 192.0000\n",
            "Epoch 8/10\n",
            "\u001b[1m66/66\u001b[0m \u001b[32m━━━━━━━━━━━━━━━━━━━━\u001b[0m\u001b[37m\u001b[0m \u001b[1m10s\u001b[0m 146ms/step - accuracy: 0.9759 - auc: 0.9598 - fn: 3120.3433 - fp: 57.3582 - loss: 0.0677 - precision: 0.7928 - recall: 0.0708 - tn: 130266.4141 - tp: 244.0298 - val_accuracy: 0.9763 - val_auc: 0.9588 - val_fn: 1654.0000 - val_fp: 379.0000 - val_loss: 0.0668 - val_precision: 0.5835 - val_recall: 0.2430 - val_tn: 83290.0000 - val_tp: 531.0000\n",
            "Epoch 9/10\n",
            "\u001b[1m66/66\u001b[0m \u001b[32m━━━━━━━━━━━━━━━━━━━━\u001b[0m\u001b[37m\u001b[0m \u001b[1m9s\u001b[0m 126ms/step - accuracy: 0.9768 - auc: 0.9617 - fn: 2824.2837 - fp: 218.7761 - loss: 0.0648 - precision: 0.6730 - recall: 0.1658 - tn: 130146.1797 - tp: 498.9105 - val_accuracy: 0.9768 - val_auc: 0.9602 - val_fn: 1578.0000 - val_fp: 418.0000 - val_loss: 0.0653 - val_precision: 0.5922 - val_recall: 0.2778 - val_tn: 83251.0000 - val_tp: 607.0000\n",
            "Epoch 10/10\n",
            "\u001b[1m66/66\u001b[0m \u001b[32m━━━━━━━━━━━━━━━━━━━━\u001b[0m\u001b[37m\u001b[0m \u001b[1m10s\u001b[0m 129ms/step - accuracy: 0.9771 - auc: 0.9625 - fn: 2798.4031 - fp: 181.2388 - loss: 0.0642 - precision: 0.7347 - recall: 0.1889 - tn: 130131.7188 - tp: 576.7910 - val_accuracy: 0.9770 - val_auc: 0.9607 - val_fn: 1819.0000 - val_fp: 154.0000 - val_loss: 0.0644 - val_precision: 0.7038 - val_recall: 0.1675 - val_tn: 83515.0000 - val_tp: 366.0000\n"
          ]
        }
      ]
    },
    {
      "cell_type": "code",
      "source": [
        "model_3.summary()\n"
      ],
      "metadata": {
        "colab": {
          "base_uri": "https://localhost:8080/",
          "height": 273
        },
        "id": "YfbRj_lnZ9MI",
        "outputId": "74c2966c-b2d5-4dc4-9def-d82566a89e09"
      },
      "execution_count": 35,
      "outputs": [
        {
          "output_type": "display_data",
          "data": {
            "text/plain": [
              "\u001b[1mModel: \"sequential_2\"\u001b[0m\n"
            ],
            "text/html": [
              "<pre style=\"white-space:pre;overflow-x:auto;line-height:normal;font-family:Menlo,'DejaVu Sans Mono',consolas,'Courier New',monospace\"><span style=\"font-weight: bold\">Model: \"sequential_2\"</span>\n",
              "</pre>\n"
            ]
          },
          "metadata": {}
        },
        {
          "output_type": "display_data",
          "data": {
            "text/plain": [
              "┏━━━━━━━━━━━━━━━━━━━━━━━━━━━━━━━━━━━━━━┳━━━━━━━━━━━━━━━━━━━━━━━━━━━━━┳━━━━━━━━━━━━━━━━━┓\n",
              "┃\u001b[1m \u001b[0m\u001b[1mLayer (type)                        \u001b[0m\u001b[1m \u001b[0m┃\u001b[1m \u001b[0m\u001b[1mOutput Shape               \u001b[0m\u001b[1m \u001b[0m┃\u001b[1m \u001b[0m\u001b[1m        Param #\u001b[0m\u001b[1m \u001b[0m┃\n",
              "┡━━━━━━━━━━━━━━━━━━━━━━━━━━━━━━━━━━━━━━╇━━━━━━━━━━━━━━━━━━━━━━━━━━━━━╇━━━━━━━━━━━━━━━━━┩\n",
              "│ embedding_2 (\u001b[38;5;33mEmbedding\u001b[0m)              │ (\u001b[38;5;45mNone\u001b[0m, \u001b[38;5;34m1000\u001b[0m, \u001b[38;5;34m128\u001b[0m)           │      \u001b[38;5;34m12,800,000\u001b[0m │\n",
              "├──────────────────────────────────────┼─────────────────────────────┼─────────────────┤\n",
              "│ bidirectional_4 (\u001b[38;5;33mBidirectional\u001b[0m)      │ (\u001b[38;5;45mNone\u001b[0m, \u001b[38;5;34m1000\u001b[0m, \u001b[38;5;34m64\u001b[0m)            │          \u001b[38;5;34m41,216\u001b[0m │\n",
              "├──────────────────────────────────────┼─────────────────────────────┼─────────────────┤\n",
              "│ bidirectional_5 (\u001b[38;5;33mBidirectional\u001b[0m)      │ (\u001b[38;5;45mNone\u001b[0m, \u001b[38;5;34m32\u001b[0m)                  │          \u001b[38;5;34m10,368\u001b[0m │\n",
              "├──────────────────────────────────────┼─────────────────────────────┼─────────────────┤\n",
              "│ dense_2 (\u001b[38;5;33mDense\u001b[0m)                      │ (\u001b[38;5;45mNone\u001b[0m, \u001b[38;5;34m123\u001b[0m)                 │           \u001b[38;5;34m4,059\u001b[0m │\n",
              "└──────────────────────────────────────┴─────────────────────────────┴─────────────────┘\n"
            ],
            "text/html": [
              "<pre style=\"white-space:pre;overflow-x:auto;line-height:normal;font-family:Menlo,'DejaVu Sans Mono',consolas,'Courier New',monospace\">┏━━━━━━━━━━━━━━━━━━━━━━━━━━━━━━━━━━━━━━┳━━━━━━━━━━━━━━━━━━━━━━━━━━━━━┳━━━━━━━━━━━━━━━━━┓\n",
              "┃<span style=\"font-weight: bold\"> Layer (type)                         </span>┃<span style=\"font-weight: bold\"> Output Shape                </span>┃<span style=\"font-weight: bold\">         Param # </span>┃\n",
              "┡━━━━━━━━━━━━━━━━━━━━━━━━━━━━━━━━━━━━━━╇━━━━━━━━━━━━━━━━━━━━━━━━━━━━━╇━━━━━━━━━━━━━━━━━┩\n",
              "│ embedding_2 (<span style=\"color: #0087ff; text-decoration-color: #0087ff\">Embedding</span>)              │ (<span style=\"color: #00d7ff; text-decoration-color: #00d7ff\">None</span>, <span style=\"color: #00af00; text-decoration-color: #00af00\">1000</span>, <span style=\"color: #00af00; text-decoration-color: #00af00\">128</span>)           │      <span style=\"color: #00af00; text-decoration-color: #00af00\">12,800,000</span> │\n",
              "├──────────────────────────────────────┼─────────────────────────────┼─────────────────┤\n",
              "│ bidirectional_4 (<span style=\"color: #0087ff; text-decoration-color: #0087ff\">Bidirectional</span>)      │ (<span style=\"color: #00d7ff; text-decoration-color: #00d7ff\">None</span>, <span style=\"color: #00af00; text-decoration-color: #00af00\">1000</span>, <span style=\"color: #00af00; text-decoration-color: #00af00\">64</span>)            │          <span style=\"color: #00af00; text-decoration-color: #00af00\">41,216</span> │\n",
              "├──────────────────────────────────────┼─────────────────────────────┼─────────────────┤\n",
              "│ bidirectional_5 (<span style=\"color: #0087ff; text-decoration-color: #0087ff\">Bidirectional</span>)      │ (<span style=\"color: #00d7ff; text-decoration-color: #00d7ff\">None</span>, <span style=\"color: #00af00; text-decoration-color: #00af00\">32</span>)                  │          <span style=\"color: #00af00; text-decoration-color: #00af00\">10,368</span> │\n",
              "├──────────────────────────────────────┼─────────────────────────────┼─────────────────┤\n",
              "│ dense_2 (<span style=\"color: #0087ff; text-decoration-color: #0087ff\">Dense</span>)                      │ (<span style=\"color: #00d7ff; text-decoration-color: #00d7ff\">None</span>, <span style=\"color: #00af00; text-decoration-color: #00af00\">123</span>)                 │           <span style=\"color: #00af00; text-decoration-color: #00af00\">4,059</span> │\n",
              "└──────────────────────────────────────┴─────────────────────────────┴─────────────────┘\n",
              "</pre>\n"
            ]
          },
          "metadata": {}
        },
        {
          "output_type": "display_data",
          "data": {
            "text/plain": [
              "\u001b[1m Total params: \u001b[0m\u001b[38;5;34m38,566,931\u001b[0m (147.12 MB)\n"
            ],
            "text/html": [
              "<pre style=\"white-space:pre;overflow-x:auto;line-height:normal;font-family:Menlo,'DejaVu Sans Mono',consolas,'Courier New',monospace\"><span style=\"font-weight: bold\"> Total params: </span><span style=\"color: #00af00; text-decoration-color: #00af00\">38,566,931</span> (147.12 MB)\n",
              "</pre>\n"
            ]
          },
          "metadata": {}
        },
        {
          "output_type": "display_data",
          "data": {
            "text/plain": [
              "\u001b[1m Trainable params: \u001b[0m\u001b[38;5;34m12,855,643\u001b[0m (49.04 MB)\n"
            ],
            "text/html": [
              "<pre style=\"white-space:pre;overflow-x:auto;line-height:normal;font-family:Menlo,'DejaVu Sans Mono',consolas,'Courier New',monospace\"><span style=\"font-weight: bold\"> Trainable params: </span><span style=\"color: #00af00; text-decoration-color: #00af00\">12,855,643</span> (49.04 MB)\n",
              "</pre>\n"
            ]
          },
          "metadata": {}
        },
        {
          "output_type": "display_data",
          "data": {
            "text/plain": [
              "\u001b[1m Non-trainable params: \u001b[0m\u001b[38;5;34m0\u001b[0m (0.00 B)\n"
            ],
            "text/html": [
              "<pre style=\"white-space:pre;overflow-x:auto;line-height:normal;font-family:Menlo,'DejaVu Sans Mono',consolas,'Courier New',monospace\"><span style=\"font-weight: bold\"> Non-trainable params: </span><span style=\"color: #00af00; text-decoration-color: #00af00\">0</span> (0.00 B)\n",
              "</pre>\n"
            ]
          },
          "metadata": {}
        },
        {
          "output_type": "display_data",
          "data": {
            "text/plain": [
              "\u001b[1m Optimizer params: \u001b[0m\u001b[38;5;34m25,711,288\u001b[0m (98.08 MB)\n"
            ],
            "text/html": [
              "<pre style=\"white-space:pre;overflow-x:auto;line-height:normal;font-family:Menlo,'DejaVu Sans Mono',consolas,'Courier New',monospace\"><span style=\"font-weight: bold\"> Optimizer params: </span><span style=\"color: #00af00; text-decoration-color: #00af00\">25,711,288</span> (98.08 MB)\n",
              "</pre>\n"
            ]
          },
          "metadata": {}
        }
      ]
    },
    {
      "cell_type": "markdown",
      "source": [
        "##Reloading the model"
      ],
      "metadata": {
        "id": "cJtyqlZMVO0T"
      }
    },
    {
      "cell_type": "code",
      "source": [
        "model_3 = tf.keras.models.load_model('model_3.keras')\n",
        "with open('history_model_3.json') as f:\n",
        "    history_model_3 = json.load(f)"
      ],
      "metadata": {
        "id": "xDUAV78hVW5F"
      },
      "execution_count": 36,
      "outputs": []
    },
    {
      "cell_type": "markdown",
      "source": [
        "##Plotting the training history"
      ],
      "metadata": {
        "id": "qSDq1eE4VtKQ"
      }
    },
    {
      "cell_type": "code",
      "source": [
        "acc = history_model_3['accuracy']\n",
        "val_acc = history_model_3['val_accuracy']\n",
        "loss = history_model_3['loss']\n",
        "val_loss = history_model_3['val_loss']\n",
        "\n",
        "epochs = range(len(acc))\n",
        "\n",
        "\n",
        "plt.plot(epochs, acc, 'ro', label='Training acc')\n",
        "plt.plot(epochs, val_acc, 'b', label='Validation acc')\n",
        "plt.title('Model 3 Training and validation accuracy')\n",
        "plt.legend()\n",
        "\n",
        "plt.figure()\n",
        "\n",
        "plt.plot(epochs, loss, 'ro', label='Training loss')\n",
        "plt.plot(epochs, val_loss, 'b', label='Validation loss')\n",
        "plt.title('Model 3 training and validation loss')\n",
        "plt.legend()\n",
        "\n",
        "plt.show()"
      ],
      "metadata": {
        "colab": {
          "base_uri": "https://localhost:8080/",
          "height": 887
        },
        "id": "3DpQpviKVwCF",
        "outputId": "1f09c6af-cfd5-4e2c-ad8e-f237b1fcc51d"
      },
      "execution_count": 37,
      "outputs": [
        {
          "output_type": "display_data",
          "data": {
            "text/plain": [
              "<Figure size 640x480 with 1 Axes>"
            ],
            "image/png": "[encoded data removed]"
          },
          "metadata": {}
        },
        {
          "output_type": "display_data",
          "data": {
            "text/plain": [
              "<Figure size 640x480 with 1 Axes>"
            ],
            "image/png": "[encoded data removed]"
          },
          "metadata": {}
        }
      ]
    },
    {
      "cell_type": "markdown",
      "source": [
        "##Evaluating the model"
      ],
      "metadata": {
        "id": "pG6wJ_QVY1yC"
      }
    },
    {
      "cell_type": "code",
      "source": [
        "model_3.evaluate(X_test, y_test)"
      ],
      "metadata": {
        "colab": {
          "base_uri": "https://localhost:8080/"
        },
        "id": "rid-G-lgY4A3",
        "outputId": "91b5a183-4036-4a67-f15e-145d2fdf08d9"
      },
      "execution_count": 38,
      "outputs": [
        {
          "output_type": "stream",
          "name": "stdout",
          "text": [
            "\u001b[1m22/22\u001b[0m \u001b[32m━━━━━━━━━━━━━━━━━━━━\u001b[0m\u001b[37m\u001b[0m \u001b[1m4s\u001b[0m 108ms/step - accuracy: 0.9777 - auc: 0.9608 - fn: 1014.9130 - fp: 39.1739 - loss: 0.0624 - precision: 0.7784 - recall: 0.1156 - tn: 45794.5234 - tp: 148.0870\n"
          ]
        },
        {
          "output_type": "execute_result",
          "data": {
            "text/plain": [
              "[0.0631379783153534,\n",
              " 0.9773802757263184,\n",
              " 0.7704485654830933,\n",
              " 0.13600373268127441,\n",
              " 0.9616761803627014,\n",
              " 292.0,\n",
              " 87.0,\n",
              " 83620.0,\n",
              " 1855.0]"
            ]
          },
          "metadata": {},
          "execution_count": 38
        }
      ]
    },
    {
      "cell_type": "markdown",
      "source": [
        "##Predictions"
      ],
      "metadata": {
        "id": "opPvfdeXj7uE"
      }
    },
    {
      "cell_type": "code",
      "source": [
        "test_predictions = model_3.predict(X_test)\n",
        "print(test_predictions)"
      ],
      "metadata": {
        "colab": {
          "base_uri": "https://localhost:8080/"
        },
        "id": "fdqcfsrfj9xY",
        "outputId": "60d1948e-a477-4fd1-ad9b-c7958fc21e37"
      },
      "execution_count": 39,
      "outputs": [
        {
          "output_type": "stream",
          "name": "stdout",
          "text": [
            "\u001b[1m22/22\u001b[0m \u001b[32m━━━━━━━━━━━━━━━━━━━━\u001b[0m\u001b[37m\u001b[0m \u001b[1m2s\u001b[0m 85ms/step\n",
            "[[0.00322142 0.00686486 0.01444887 ... 0.00164467 0.00145649 0.00755946]\n",
            " [0.0031933  0.0068025  0.01435952 ... 0.00162506 0.00144204 0.0075237 ]\n",
            " [0.00321395 0.00684865 0.01442523 ... 0.00163946 0.00145268 0.0075502 ]\n",
            " ...\n",
            " [0.00321959 0.00686088 0.01444303 ... 0.00164334 0.00145554 0.00755747]\n",
            " [0.00321125 0.00684149 0.01441585 ... 0.00163731 0.00145115 0.00754598]\n",
            " [0.00321768 0.00685664 0.01443687 ... 0.00164202 0.00145458 0.00755488]]\n"
          ]
        }
      ]
    },
    {
      "cell_type": "markdown",
      "source": [
        "#Increasing batch size"
      ],
      "metadata": {
        "id": "v4puQlvYY-Ee"
      }
    },
    {
      "cell_type": "markdown",
      "source": [
        "##Model 4\n"
      ],
      "metadata": {
        "id": "yspA7Q8FZCxC"
      }
    },
    {
      "cell_type": "code",
      "source": [
        "model_4 = Sequential([\n",
        "    Embedding(vocab_size, embedding_dim),\n",
        "    Bidirectional(LSTM(32, return_sequences=True)),\n",
        "    Bidirectional(LSTM(16)),\n",
        "    Dense(len(keywords), activation='sigmoid')\n",
        "])"
      ],
      "metadata": {
        "id": "ZR6JvEoPZEp1"
      },
      "execution_count": 40,
      "outputs": []
    },
    {
      "cell_type": "markdown",
      "source": [
        "##Compiling, training and saving the model"
      ],
      "metadata": {
        "id": "_hsy-tKeazdk"
      }
    },
    {
      "cell_type": "code",
      "source": [
        "#Compiling the model\n",
        "model_4.compile(\n",
        "    loss = 'binary_crossentropy',\n",
        "    optimizer = Adam(learning_rate=0.001),\n",
        "    metrics = METRICS\n",
        "\n",
        ")\n",
        "\n",
        "# Convert X_train, X_val, y_train, y_val to numpy arrays if they aren't already\n",
        "X_train = np.asarray(X_train, dtype=np.float32)\n",
        "X_val = np.asarray(X_val, dtype=np.float32)\n",
        "X_test = np.asarray(X_test, dtype=np.float32)\n",
        "y_train = np.asarray(y_train, dtype=np.float32) # Convert y_train to NumPy array\n",
        "y_val = np.asarray(y_val, dtype=np.float32)   # Convert y_val to NumPy array\n",
        "y_test = np.asarray(y_test, dtype=np.float32) # Convert y_test to NumPy array\n",
        "# Check and potentially adjust the batch size to be consistent\n",
        "batch_size = 41  # Or a smaller value if memory is an issue\n",
        "if X_train.shape[0] % batch_size != 0 or X_val.shape[0] % batch_size != 0:\n",
        "    print(\"Warning: Batch size does not divide evenly into the number of samples. Consider adjusting the batch size.\")\n",
        "\n",
        "#Training the model\n",
        "history_model_4 = model_4.fit(\n",
        "    X_train, y_train,\n",
        "    validation_data = (X_val, y_val),\n",
        "    epochs = 10,\n",
        "\n",
        ")\n",
        "\n",
        "#Saving the model\n",
        "model_4.save('model_4.keras')\n",
        "with open('history_model_4.json', 'w') as f:\n",
        "    json.dump(history_model_4.history, f)\n",
        "\n",
        "model_4.summary()"
      ],
      "metadata": {
        "colab": {
          "base_uri": "https://localhost:8080/",
          "height": 657
        },
        "id": "bS_KSkYUa4TE",
        "outputId": "bc82d860-86a2-41bc-ad9f-c1ac3d7d4aca"
      },
      "execution_count": 41,
      "outputs": [
        {
          "output_type": "stream",
          "name": "stdout",
          "text": [
            "Warning: Batch size does not divide evenly into the number of samples. Consider adjusting the batch size.\n",
            "Epoch 1/10\n",
            "\u001b[1m66/66\u001b[0m \u001b[32m━━━━━━━━━━━━━━━━━━━━\u001b[0m\u001b[37m\u001b[0m \u001b[1m15s\u001b[0m 145ms/step - accuracy: 0.8917 - auc: 0.7142 - fn: 4134.9404 - fp: 19137.2090 - loss: 0.5596 - precision: 0.0684 - recall: 0.2486 - tn: 194899.7188 - tp: 1370.2836 - val_accuracy: 0.9748 - val_auc: 0.7295 - val_fn: 1825.0000 - val_fp: 338.0000 - val_loss: 0.1592 - val_precision: 0.5158 - val_recall: 0.1648 - val_tn: 83331.0000 - val_tp: 360.0000\n",
            "Epoch 2/10\n",
            "\u001b[1m66/66\u001b[0m \u001b[32m━━━━━━━━━━━━━━━━━━━━\u001b[0m\u001b[37m\u001b[0m \u001b[1m10s\u001b[0m 140ms/step - accuracy: 0.9750 - auc: 0.8058 - fn: 2807.7014 - fp: 521.9552 - loss: 0.1331 - precision: 0.5016 - recall: 0.1595 - tn: 129826.9219 - tp: 531.5671 - val_accuracy: 0.9748 - val_auc: 0.9107 - val_fn: 1825.0000 - val_fp: 338.0000 - val_loss: 0.0981 - val_precision: 0.5158 - val_recall: 0.1648 - val_tn: 83331.0000 - val_tp: 360.0000\n",
            "Epoch 3/10\n",
            "\u001b[1m66/66\u001b[0m \u001b[32m━━━━━━━━━━━━━━━━━━━━\u001b[0m\u001b[37m\u001b[0m \u001b[1m9s\u001b[0m 142ms/step - accuracy: 0.9751 - auc: 0.9190 - fn: 2767.3284 - fp: 533.7463 - loss: 0.0932 - precision: 0.5063 - recall: 0.1646 - tn: 129833.9219 - tp: 553.1492 - val_accuracy: 0.9748 - val_auc: 0.9347 - val_fn: 1825.0000 - val_fp: 338.0000 - val_loss: 0.0857 - val_precision: 0.5158 - val_recall: 0.1648 - val_tn: 83331.0000 - val_tp: 360.0000\n",
            "Epoch 4/10\n",
            "\u001b[1m66/66\u001b[0m \u001b[32m━━━━━━━━━━━━━━━━━━━━\u001b[0m\u001b[37m\u001b[0m \u001b[1m9s\u001b[0m 126ms/step - accuracy: 0.9754 - auc: 0.9355 - fn: 2725.8059 - fp: 524.8358 - loss: 0.0834 - precision: 0.5218 - recall: 0.1706 - tn: 129875.4453 - tp: 562.0597 - val_accuracy: 0.9748 - val_auc: 0.9422 - val_fn: 1825.0000 - val_fp: 338.0000 - val_loss: 0.0805 - val_precision: 0.5158 - val_recall: 0.1648 - val_tn: 83331.0000 - val_tp: 360.0000\n",
            "Epoch 5/10\n",
            "\u001b[1m66/66\u001b[0m \u001b[32m━━━━━━━━━━━━━━━━━━━━\u001b[0m\u001b[37m\u001b[0m \u001b[1m10s\u001b[0m 156ms/step - accuracy: 0.9747 - auc: 0.9412 - fn: 2976.1492 - fp: 358.8358 - loss: 0.0800 - precision: 0.5032 - recall: 0.1018 - tn: 129984.8672 - tp: 368.2985 - val_accuracy: 0.9748 - val_auc: 0.9453 - val_fn: 1825.0000 - val_fp: 338.0000 - val_loss: 0.0773 - val_precision: 0.5158 - val_recall: 0.1648 - val_tn: 83331.0000 - val_tp: 360.0000\n",
            "Epoch 6/10\n",
            "\u001b[1m66/66\u001b[0m \u001b[32m━━━━━━━━━━━━━━━━━━━━\u001b[0m\u001b[37m\u001b[0m \u001b[1m21s\u001b[0m 160ms/step - accuracy: 0.9752 - auc: 0.9473 - fn: 2763.8359 - fp: 512.1642 - loss: 0.0754 - precision: 0.5111 - recall: 0.1633 - tn: 129876.9531 - tp: 535.1940 - val_accuracy: 0.9750 - val_auc: 0.9560 - val_fn: 2099.0000 - val_fp: 48.0000 - val_loss: 0.0732 - val_precision: 0.6418 - val_recall: 0.0394 - val_tn: 83621.0000 - val_tp: 86.0000\n",
            "Epoch 7/10\n",
            "\u001b[1m66/66\u001b[0m \u001b[32m━━━━━━━━━━━━━━━━━━━━\u001b[0m\u001b[37m\u001b[0m \u001b[1m20s\u001b[0m 147ms/step - accuracy: 0.9747 - auc: 0.9575 - fn: 3063.2837 - fp: 281.4179 - loss: 0.0722 - precision: 0.5857 - recall: 0.0893 - tn: 130014.7734 - tp: 328.6716 - val_accuracy: 0.9751 - val_auc: 0.9576 - val_fn: 2107.0000 - val_fp: 31.0000 - val_loss: 0.0701 - val_precision: 0.7156 - val_recall: 0.0357 - val_tn: 83638.0000 - val_tp: 78.0000\n",
            "Epoch 8/10\n",
            "\u001b[1m66/66\u001b[0m \u001b[32m━━━━━━━━━━━━━━━━━━━━\u001b[0m\u001b[37m\u001b[0m \u001b[1m10s\u001b[0m 144ms/step - accuracy: 0.9755 - auc: 0.9595 - fn: 3166.0298 - fp: 62.8955 - loss: 0.0675 - precision: 0.6855 - recall: 0.0376 - tn: 130329.7344 - tp: 129.4925 - val_accuracy: 0.9750 - val_auc: 0.9585 - val_fn: 1781.0000 - val_fp: 369.0000 - val_loss: 0.0677 - val_precision: 0.5226 - val_recall: 0.1849 - val_tn: 83300.0000 - val_tp: 404.0000\n",
            "Epoch 9/10\n",
            "\u001b[1m66/66\u001b[0m \u001b[32m━━━━━━━━━━━━━━━━━━━━\u001b[0m\u001b[37m\u001b[0m \u001b[1m10s\u001b[0m 140ms/step - accuracy: 0.9760 - auc: 0.9620 - fn: 2778.9851 - fp: 384.3284 - loss: 0.0657 - precision: 0.5833 - recall: 0.1800 - tn: 129968.9219 - tp: 555.9105 - val_accuracy: 0.9763 - val_auc: 0.9598 - val_fn: 1958.0000 - val_fp: 76.0000 - val_loss: 0.0663 - val_precision: 0.7492 - val_recall: 0.1039 - val_tn: 83593.0000 - val_tp: 227.0000\n",
            "Epoch 10/10\n",
            "\u001b[1m66/66\u001b[0m \u001b[32m━━━━━━━━━━━━━━━━━━━━\u001b[0m\u001b[37m\u001b[0m \u001b[1m8s\u001b[0m 124ms/step - accuracy: 0.9781 - auc: 0.9627 - fn: 2878.4031 - fp: 59.6418 - loss: 0.0631 - precision: 0.8881 - recall: 0.1308 - tn: 130314.0000 - tp: 436.1045 - val_accuracy: 0.9768 - val_auc: 0.9607 - val_fn: 1929.0000 - val_fp: 61.0000 - val_loss: 0.0651 - val_precision: 0.8076 - val_recall: 0.1172 - val_tn: 83608.0000 - val_tp: 256.0000\n"
          ]
        },
        {
          "output_type": "display_data",
          "data": {
            "text/plain": [
              "\u001b[1mModel: \"sequential_3\"\u001b[0m\n"
            ],
            "text/html": [
              "<pre style=\"white-space:pre;overflow-x:auto;line-height:normal;font-family:Menlo,'DejaVu Sans Mono',consolas,'Courier New',monospace\"><span style=\"font-weight: bold\">Model: \"sequential_3\"</span>\n",
              "</pre>\n"
            ]
          },
          "metadata": {}
        },
        {
          "output_type": "display_data",
          "data": {
            "text/plain": [
              "┏━━━━━━━━━━━━━━━━━━━━━━━━━━━━━━━━━━━━━━┳━━━━━━━━━━━━━━━━━━━━━━━━━━━━━┳━━━━━━━━━━━━━━━━━┓\n",
              "┃\u001b[1m \u001b[0m\u001b[1mLayer (type)                        \u001b[0m\u001b[1m \u001b[0m┃\u001b[1m \u001b[0m\u001b[1mOutput Shape               \u001b[0m\u001b[1m \u001b[0m┃\u001b[1m \u001b[0m\u001b[1m        Param #\u001b[0m\u001b[1m \u001b[0m┃\n",
              "┡━━━━━━━━━━━━━━━━━━━━━━━━━━━━━━━━━━━━━━╇━━━━━━━━━━━━━━━━━━━━━━━━━━━━━╇━━━━━━━━━━━━━━━━━┩\n",
              "│ embedding_3 (\u001b[38;5;33mEmbedding\u001b[0m)              │ (\u001b[38;5;45mNone\u001b[0m, \u001b[38;5;34m1000\u001b[0m, \u001b[38;5;34m128\u001b[0m)           │      \u001b[38;5;34m12,800,000\u001b[0m │\n",
              "├──────────────────────────────────────┼─────────────────────────────┼─────────────────┤\n",
              "│ bidirectional_6 (\u001b[38;5;33mBidirectional\u001b[0m)      │ (\u001b[38;5;45mNone\u001b[0m, \u001b[38;5;34m1000\u001b[0m, \u001b[38;5;34m64\u001b[0m)            │          \u001b[38;5;34m41,216\u001b[0m │\n",
              "├──────────────────────────────────────┼─────────────────────────────┼─────────────────┤\n",
              "│ bidirectional_7 (\u001b[38;5;33mBidirectional\u001b[0m)      │ (\u001b[38;5;45mNone\u001b[0m, \u001b[38;5;34m32\u001b[0m)                  │          \u001b[38;5;34m10,368\u001b[0m │\n",
              "├──────────────────────────────────────┼─────────────────────────────┼─────────────────┤\n",
              "│ dense_3 (\u001b[38;5;33mDense\u001b[0m)                      │ (\u001b[38;5;45mNone\u001b[0m, \u001b[38;5;34m123\u001b[0m)                 │           \u001b[38;5;34m4,059\u001b[0m │\n",
              "└──────────────────────────────────────┴─────────────────────────────┴─────────────────┘\n"
            ],
            "text/html": [
              "<pre style=\"white-space:pre;overflow-x:auto;line-height:normal;font-family:Menlo,'DejaVu Sans Mono',consolas,'Courier New',monospace\">┏━━━━━━━━━━━━━━━━━━━━━━━━━━━━━━━━━━━━━━┳━━━━━━━━━━━━━━━━━━━━━━━━━━━━━┳━━━━━━━━━━━━━━━━━┓\n",
              "┃<span style=\"font-weight: bold\"> Layer (type)                         </span>┃<span style=\"font-weight: bold\"> Output Shape                </span>┃<span style=\"font-weight: bold\">         Param # </span>┃\n",
              "┡━━━━━━━━━━━━━━━━━━━━━━━━━━━━━━━━━━━━━━╇━━━━━━━━━━━━━━━━━━━━━━━━━━━━━╇━━━━━━━━━━━━━━━━━┩\n",
              "│ embedding_3 (<span style=\"color: #0087ff; text-decoration-color: #0087ff\">Embedding</span>)              │ (<span style=\"color: #00d7ff; text-decoration-color: #00d7ff\">None</span>, <span style=\"color: #00af00; text-decoration-color: #00af00\">1000</span>, <span style=\"color: #00af00; text-decoration-color: #00af00\">128</span>)           │      <span style=\"color: #00af00; text-decoration-color: #00af00\">12,800,000</span> │\n",
              "├──────────────────────────────────────┼─────────────────────────────┼─────────────────┤\n",
              "│ bidirectional_6 (<span style=\"color: #0087ff; text-decoration-color: #0087ff\">Bidirectional</span>)      │ (<span style=\"color: #00d7ff; text-decoration-color: #00d7ff\">None</span>, <span style=\"color: #00af00; text-decoration-color: #00af00\">1000</span>, <span style=\"color: #00af00; text-decoration-color: #00af00\">64</span>)            │          <span style=\"color: #00af00; text-decoration-color: #00af00\">41,216</span> │\n",
              "├──────────────────────────────────────┼─────────────────────────────┼─────────────────┤\n",
              "│ bidirectional_7 (<span style=\"color: #0087ff; text-decoration-color: #0087ff\">Bidirectional</span>)      │ (<span style=\"color: #00d7ff; text-decoration-color: #00d7ff\">None</span>, <span style=\"color: #00af00; text-decoration-color: #00af00\">32</span>)                  │          <span style=\"color: #00af00; text-decoration-color: #00af00\">10,368</span> │\n",
              "├──────────────────────────────────────┼─────────────────────────────┼─────────────────┤\n",
              "│ dense_3 (<span style=\"color: #0087ff; text-decoration-color: #0087ff\">Dense</span>)                      │ (<span style=\"color: #00d7ff; text-decoration-color: #00d7ff\">None</span>, <span style=\"color: #00af00; text-decoration-color: #00af00\">123</span>)                 │           <span style=\"color: #00af00; text-decoration-color: #00af00\">4,059</span> │\n",
              "└──────────────────────────────────────┴─────────────────────────────┴─────────────────┘\n",
              "</pre>\n"
            ]
          },
          "metadata": {}
        },
        {
          "output_type": "display_data",
          "data": {
            "text/plain": [
              "\u001b[1m Total params: \u001b[0m\u001b[38;5;34m38,566,931\u001b[0m (147.12 MB)\n"
            ],
            "text/html": [
              "<pre style=\"white-space:pre;overflow-x:auto;line-height:normal;font-family:Menlo,'DejaVu Sans Mono',consolas,'Courier New',monospace\"><span style=\"font-weight: bold\"> Total params: </span><span style=\"color: #00af00; text-decoration-color: #00af00\">38,566,931</span> (147.12 MB)\n",
              "</pre>\n"
            ]
          },
          "metadata": {}
        },
        {
          "output_type": "display_data",
          "data": {
            "text/plain": [
              "\u001b[1m Trainable params: \u001b[0m\u001b[38;5;34m12,855,643\u001b[0m (49.04 MB)\n"
            ],
            "text/html": [
              "<pre style=\"white-space:pre;overflow-x:auto;line-height:normal;font-family:Menlo,'DejaVu Sans Mono',consolas,'Courier New',monospace\"><span style=\"font-weight: bold\"> Trainable params: </span><span style=\"color: #00af00; text-decoration-color: #00af00\">12,855,643</span> (49.04 MB)\n",
              "</pre>\n"
            ]
          },
          "metadata": {}
        },
        {
          "output_type": "display_data",
          "data": {
            "text/plain": [
              "\u001b[1m Non-trainable params: \u001b[0m\u001b[38;5;34m0\u001b[0m (0.00 B)\n"
            ],
            "text/html": [
              "<pre style=\"white-space:pre;overflow-x:auto;line-height:normal;font-family:Menlo,'DejaVu Sans Mono',consolas,'Courier New',monospace\"><span style=\"font-weight: bold\"> Non-trainable params: </span><span style=\"color: #00af00; text-decoration-color: #00af00\">0</span> (0.00 B)\n",
              "</pre>\n"
            ]
          },
          "metadata": {}
        },
        {
          "output_type": "display_data",
          "data": {
            "text/plain": [
              "\u001b[1m Optimizer params: \u001b[0m\u001b[38;5;34m25,711,288\u001b[0m (98.08 MB)\n"
            ],
            "text/html": [
              "<pre style=\"white-space:pre;overflow-x:auto;line-height:normal;font-family:Menlo,'DejaVu Sans Mono',consolas,'Courier New',monospace\"><span style=\"font-weight: bold\"> Optimizer params: </span><span style=\"color: #00af00; text-decoration-color: #00af00\">25,711,288</span> (98.08 MB)\n",
              "</pre>\n"
            ]
          },
          "metadata": {}
        }
      ]
    },
    {
      "cell_type": "markdown",
      "source": [
        "##Reloading the model"
      ],
      "metadata": {
        "id": "R8kBAGipcHZH"
      }
    },
    {
      "cell_type": "code",
      "source": [
        "model_4 = tf.keras.models.load_model('model_4.keras')\n",
        "with open('history_model_4.json') as f:\n",
        "    history_model_4 = json.load(f)"
      ],
      "metadata": {
        "id": "6A140EiNcLfs"
      },
      "execution_count": 42,
      "outputs": []
    },
    {
      "cell_type": "markdown",
      "source": [
        "##Plotting the training history"
      ],
      "metadata": {
        "id": "5dPJWcKGcdM5"
      }
    },
    {
      "cell_type": "code",
      "source": [
        "acc = history_model_4['accuracy']\n",
        "val_acc = history_model_4['val_accuracy']\n",
        "loss = history_model_4['loss']\n",
        "val_loss = history_model_4['val_loss']\n",
        "\n",
        "epochs = range(len(acc))\n",
        "\n",
        "\n",
        "plt.plot(epochs, acc, 'ro', label='Training acc')\n",
        "plt.plot(epochs, val_acc, 'b', label='Validation acc')\n",
        "plt.title('Model 4 Training and validation accuracy')\n",
        "plt.legend()\n",
        "\n",
        "plt.figure()\n",
        "\n",
        "plt.plot(epochs, loss, 'ro', label='Training loss')\n",
        "plt.plot(epochs, val_loss, 'b', label='Validation loss')\n",
        "plt.title('Model 4 training and validation loss')\n",
        "plt.legend()\n",
        "\n",
        "plt.show()"
      ],
      "metadata": {
        "colab": {
          "base_uri": "https://localhost:8080/",
          "height": 887
        },
        "id": "o8Lx0th3cgf1",
        "outputId": "c1914e47-4336-45ec-ab26-617287a0e46a"
      },
      "execution_count": 43,
      "outputs": [
        {
          "output_type": "display_data",
          "data": {
            "text/plain": [
              "<Figure size 640x480 with 1 Axes>"
            ],
            "image/png": "[encoded data removed]"
          },
          "metadata": {}
        },
        {
          "output_type": "display_data",
          "data": {
            "text/plain": [
              "<Figure size 640x480 with 1 Axes>"
            ],
            "image/png": "[encoded data removed]"
          },
          "metadata": {}
        }
      ]
    },
    {
      "cell_type": "markdown",
      "source": [
        "##Evaluating the model"
      ],
      "metadata": {
        "id": "z4HQP5oec9j4"
      }
    },
    {
      "cell_type": "code",
      "source": [
        "model_4.evaluate(X_test, y_test)"
      ],
      "metadata": {
        "colab": {
          "base_uri": "https://localhost:8080/"
        },
        "id": "SXaXuQ5Ec_4K",
        "outputId": "74d950a7-0dc3-4baa-98ce-bdc2e05d9d61"
      },
      "execution_count": 44,
      "outputs": [
        {
          "output_type": "stream",
          "name": "stdout",
          "text": [
            "\u001b[1m22/22\u001b[0m \u001b[32m━━━━━━━━━━━━━━━━━━━━\u001b[0m\u001b[37m\u001b[0m \u001b[1m2s\u001b[0m 55ms/step - accuracy: 0.9774 - auc: 0.9605 - fn: 1042.7391 - fp: 25.1739 - loss: 0.0632 - precision: 0.8264 - recall: 0.0898 - tn: 45808.5234 - tp: 120.2609\n"
          ]
        },
        {
          "output_type": "execute_result",
          "data": {
            "text/plain": [
              "[0.06391024589538574,\n",
              " 0.9771938323974609,\n",
              " 0.8203389644622803,\n",
              " 0.11271541565656662,\n",
              " 0.9615594148635864,\n",
              " 242.0,\n",
              " 53.0,\n",
              " 83654.0,\n",
              " 1905.0]"
            ]
          },
          "metadata": {},
          "execution_count": 44
        }
      ]
    },
    {
      "cell_type": "markdown",
      "source": [
        "##Predictions"
      ],
      "metadata": {
        "id": "2jHZwRtjkoL3"
      }
    },
    {
      "cell_type": "code",
      "source": [
        "test_predictions = model_4.predict(X_test)\n",
        "print(test_predictions)"
      ],
      "metadata": {
        "colab": {
          "base_uri": "https://localhost:8080/"
        },
        "id": "v72hKOWhkqBe",
        "outputId": "f7610e31-7778-4d30-a9f7-58608ebc8f7f"
      },
      "execution_count": 45,
      "outputs": [
        {
          "output_type": "stream",
          "name": "stdout",
          "text": [
            "\u001b[1m22/22\u001b[0m \u001b[32m━━━━━━━━━━━━━━━━━━━━\u001b[0m\u001b[37m\u001b[0m \u001b[1m2s\u001b[0m 61ms/step\n",
            "[[0.00110653 0.0068836  0.01459596 ... 0.00270272 0.00143525 0.0108916 ]\n",
            " [0.00108948 0.00682141 0.01446387 ... 0.00266973 0.00141206 0.01082727]\n",
            " [0.00110176 0.00686611 0.01455906 ... 0.0026935  0.00142873 0.01087349]\n",
            " ...\n",
            " [0.00110642 0.00688339 0.01459545 ... 0.00270267 0.00143511 0.01089126]\n",
            " [0.00110026 0.00686033 0.01454707 ... 0.00269043 0.00142668 0.01086623]\n",
            " [0.00110343 0.0068723  0.01457255 ... 0.00269671 0.00143104 0.01087969]]\n"
          ]
        }
      ]
    },
    {
      "cell_type": "markdown",
      "source": [
        "##Comparing the four models"
      ],
      "metadata": {
        "id": "giySMjD7eCeH"
      }
    },
    {
      "cell_type": "code",
      "source": [
        "model_1.evaluate(X_test, y_test)\n",
        "model_2.evaluate(X_test, y_test)\n",
        "model_3.evaluate(X_test, y_test)\n",
        "model_4.evaluate(X_test, y_test)"
      ],
      "metadata": {
        "colab": {
          "base_uri": "https://localhost:8080/"
        },
        "id": "ARiU-hnZk3Ea",
        "outputId": "c326bec8-d73c-4849-a574-87f9415ca2cd"
      },
      "execution_count": 46,
      "outputs": [
        {
          "output_type": "stream",
          "name": "stdout",
          "text": [
            "\u001b[1m22/22\u001b[0m \u001b[32m━━━━━━━━━━━━━━━━━━━━\u001b[0m\u001b[37m\u001b[0m \u001b[1m1s\u001b[0m 61ms/step - accuracy: 0.9779 - auc: 0.9573 - fn: 820.3478 - fp: 225.7826 - loss: 0.0604 - precision: 0.5982 - recall: 0.2870 - tn: 45607.9141 - tp: 342.6522\n",
            "\u001b[1m22/22\u001b[0m \u001b[32m━━━━━━━━━━━━━━━━━━━━\u001b[0m\u001b[37m\u001b[0m \u001b[1m2s\u001b[0m 71ms/step - accuracy: 0.9778 - auc: 0.9631 - fn: 950.8696 - fp: 90.9565 - loss: 0.0594 - precision: 0.6745 - recall: 0.1650 - tn: 45742.7383 - tp: 212.1304\n",
            "\u001b[1m22/22\u001b[0m \u001b[32m━━━━━━━━━━━━━━━━━━━━\u001b[0m\u001b[37m\u001b[0m \u001b[1m2s\u001b[0m 70ms/step - accuracy: 0.9777 - auc: 0.9608 - fn: 1014.9130 - fp: 39.1739 - loss: 0.0624 - precision: 0.7784 - recall: 0.1156 - tn: 45794.5234 - tp: 148.0870\n",
            "\u001b[1m22/22\u001b[0m \u001b[32m━━━━━━━━━━━━━━━━━━━━\u001b[0m\u001b[37m\u001b[0m \u001b[1m1s\u001b[0m 47ms/step - accuracy: 0.9774 - auc: 0.9605 - fn: 1042.7391 - fp: 25.1739 - loss: 0.0632 - precision: 0.8264 - recall: 0.0898 - tn: 45808.5234 - tp: 120.2609\n"
          ]
        },
        {
          "output_type": "execute_result",
          "data": {
            "text/plain": [
              "[0.06391024589538574,\n",
              " 0.9771938323974609,\n",
              " 0.8203389644622803,\n",
              " 0.11271541565656662,\n",
              " 0.9615594148635864,\n",
              " 242.0,\n",
              " 53.0,\n",
              " 83654.0,\n",
              " 1905.0]"
            ]
          },
          "metadata": {},
          "execution_count": 46
        }
      ]
    },
    {
      "cell_type": "markdown",
      "source": [
        "As can be see from the above the four models all perform very similarly however the more complex models of 1 and 2 have better loss functions.\n",
        "\n",
        "For the next model I will change the loss function from binary crossentropy to hinge loss.\n",
        "This should result encourage the model to not only make correct predictions but also be confident in those predictions"
      ],
      "metadata": {
        "id": "8R4SK-B-lEi-"
      }
    },
    {
      "cell_type": "markdown",
      "source": [
        "##Model 5"
      ],
      "metadata": {
        "id": "4v77Dj5Ol9YP"
      }
    },
    {
      "cell_type": "code",
      "source": [
        "model_5 = Sequential([\n",
        "    Embedding(vocab_size, embedding_dim),\n",
        "    Bidirectional(LSTM(64, return_sequences=True)),\n",
        "    Bidirectional(LSTM(32)),\n",
        "    Dense(len(keywords), activation='sigmoid')\n",
        "])"
      ],
      "metadata": {
        "id": "ecMTiwnyl_ox"
      },
      "execution_count": 47,
      "outputs": []
    },
    {
      "cell_type": "markdown",
      "source": [
        "##Compiling, training and saving the model"
      ],
      "metadata": {
        "id": "nWOHODMsmK1j"
      }
    },
    {
      "cell_type": "code",
      "source": [
        "#Compiling the model\n",
        "model_5.compile(\n",
        "    loss = 'hinge',\n",
        "    optimizer = 'adam',\n",
        "    metrics = METRICS\n",
        "\n",
        ")\n",
        "\n",
        "# Convert X_train, X_val, y_train, y_val to numpy arrays if they aren't already\n",
        "X_train = np.asarray(X_train, dtype=np.float32)\n",
        "X_val = np.asarray(X_val, dtype=np.float32)\n",
        "X_test = np.asarray(X_test, dtype=np.float32)\n",
        "y_train = np.asarray(y_train, dtype=np.float32) # Convert y_train to NumPy array\n",
        "y_val = np.asarray(y_val, dtype=np.float32)   # Convert y_val to NumPy array\n",
        "y_test = np.asarray(y_test, dtype=np.float32) # Convert y_test to NumPy array\n",
        "# Check and potentially adjust the batch size to be consistent\n",
        "batch_size = 41  # Or a smaller value if memory is an issue\n",
        "if X_train.shape[0] % batch_size != 0 or X_val.shape[0] % batch_size != 0:\n",
        "    print(\"Warning: Batch size does not divide evenly into the number of samples. Consider adjusting the batch size.\")\n",
        "\n",
        "#Training the model\n",
        "history_model_5 = model_5.fit(\n",
        "    X_train, y_train,\n",
        "    validation_data = (X_val, y_val),\n",
        "    epochs = 10,\n",
        "\n",
        ")\n",
        "\n",
        "#Saving the model\n",
        "model_5.save('model_5.keras')\n",
        "with open('history_model_5.json', 'w') as f:\n",
        "    json.dump(history_model_5.history, f)"
      ],
      "metadata": {
        "colab": {
          "base_uri": "https://localhost:8080/"
        },
        "id": "Byw2VJ3nmQSj",
        "outputId": "d3dd752d-b5de-4e30-a322-328367b62969"
      },
      "execution_count": 48,
      "outputs": [
        {
          "output_type": "stream",
          "name": "stdout",
          "text": [
            "Warning: Batch size does not divide evenly into the number of samples. Consider adjusting the batch size.\n",
            "Epoch 1/10\n",
            "\u001b[1m66/66\u001b[0m \u001b[32m━━━━━━━━━━━━━━━━━━━━\u001b[0m\u001b[37m\u001b[0m \u001b[1m20s\u001b[0m 178ms/step - accuracy: 0.9133 - auc: 0.7360 - fn: 4479.7612 - fp: 13765.4922 - loss: 1.3221 - precision: 0.0745 - recall: 0.1986 - tn: 200193.8906 - tp: 1103.0000 - val_accuracy: 0.9748 - val_auc: 0.7123 - val_fn: 1825.0000 - val_fp: 338.0000 - val_loss: 1.0193 - val_precision: 0.5158 - val_recall: 0.1648 - val_tn: 83331.0000 - val_tp: 360.0000\n",
            "Epoch 2/10\n",
            "\u001b[1m66/66\u001b[0m \u001b[32m━━━━━━━━━━━━━━━━━━━━\u001b[0m\u001b[37m\u001b[0m \u001b[1m17s\u001b[0m 145ms/step - accuracy: 0.9754 - auc: 0.7081 - fn: 2739.8657 - fp: 522.2687 - loss: 1.0140 - precision: 0.5259 - recall: 0.1711 - tn: 129861.3906 - tp: 564.6269 - val_accuracy: 0.9748 - val_auc: 0.6752 - val_fn: 1825.0000 - val_fp: 338.0000 - val_loss: 1.0065 - val_precision: 0.5158 - val_recall: 0.1648 - val_tn: 83331.0000 - val_tp: 360.0000\n",
            "Epoch 3/10\n",
            "\u001b[1m66/66\u001b[0m \u001b[32m━━━━━━━━━━━━━━━━━━━━\u001b[0m\u001b[37m\u001b[0m \u001b[1m11s\u001b[0m 160ms/step - accuracy: 0.9761 - auc: 0.6695 - fn: 2656.8208 - fp: 530.4926 - loss: 1.0056 - precision: 0.5142 - recall: 0.1733 - tn: 129944.4297 - tp: 556.4030 - val_accuracy: 0.9748 - val_auc: 0.7069 - val_fn: 1825.0000 - val_fp: 338.0000 - val_loss: 1.0036 - val_precision: 0.5158 - val_recall: 0.1648 - val_tn: 83331.0000 - val_tp: 360.0000\n",
            "Epoch 4/10\n",
            "\u001b[1m66/66\u001b[0m \u001b[32m━━━━━━━━━━━━━━━━━━━━\u001b[0m\u001b[37m\u001b[0m \u001b[1m19s\u001b[0m 144ms/step - accuracy: 0.9753 - auc: 0.6504 - fn: 2761.9702 - fp: 527.7612 - loss: 1.0033 - precision: 0.5104 - recall: 0.1673 - tn: 129839.2812 - tp: 559.1343 - val_accuracy: 0.9748 - val_auc: 0.6082 - val_fn: 1825.0000 - val_fp: 338.0000 - val_loss: 1.0023 - val_precision: 0.5158 - val_recall: 0.1648 - val_tn: 83331.0000 - val_tp: 360.0000\n",
            "Epoch 5/10\n",
            "\u001b[1m66/66\u001b[0m \u001b[32m━━━━━━━━━━━━━━━━━━━━\u001b[0m\u001b[37m\u001b[0m \u001b[1m10s\u001b[0m 149ms/step - accuracy: 0.9759 - auc: 0.5976 - fn: 2710.5671 - fp: 528.1194 - loss: 1.0021 - precision: 0.5161 - recall: 0.1725 - tn: 129890.6875 - tp: 558.7761 - val_accuracy: 0.9748 - val_auc: 0.5804 - val_fn: 1825.0000 - val_fp: 338.0000 - val_loss: 1.0016 - val_precision: 0.5158 - val_recall: 0.1648 - val_tn: 83331.0000 - val_tp: 360.0000\n",
            "Epoch 6/10\n",
            "\u001b[1m66/66\u001b[0m \u001b[32m━━━━━━━━━━━━━━━━━━━━\u001b[0m\u001b[37m\u001b[0m \u001b[1m10s\u001b[0m 141ms/step - accuracy: 0.9746 - auc: 0.5798 - fn: 2843.7910 - fp: 523.8060 - loss: 1.0015 - precision: 0.5169 - recall: 0.1636 - tn: 129757.4609 - tp: 563.0895 - val_accuracy: 0.9748 - val_auc: 0.5804 - val_fn: 1825.0000 - val_fp: 338.0000 - val_loss: 1.0012 - val_precision: 0.5158 - val_recall: 0.1648 - val_tn: 83331.0000 - val_tp: 360.0000\n",
            "Epoch 7/10\n",
            "\u001b[1m66/66\u001b[0m \u001b[32m━━━━━━━━━━━━━━━━━━━━\u001b[0m\u001b[37m\u001b[0m \u001b[1m9s\u001b[0m 129ms/step - accuracy: 0.9760 - auc: 0.5849 - fn: 2729.2090 - fp: 523.4926 - loss: 1.0010 - precision: 0.5197 - recall: 0.1738 - tn: 129872.0469 - tp: 563.4030 - val_accuracy: 0.9748 - val_auc: 0.5803 - val_fn: 1825.0000 - val_fp: 338.0000 - val_loss: 1.0009 - val_precision: 0.5158 - val_recall: 0.1648 - val_tn: 83331.0000 - val_tp: 360.0000\n",
            "Epoch 8/10\n",
            "\u001b[1m66/66\u001b[0m \u001b[32m━━━━━━━━━━━━━━━━━━━━\u001b[0m\u001b[37m\u001b[0m \u001b[1m11s\u001b[0m 139ms/step - accuracy: 0.9758 - auc: 0.5829 - fn: 2694.4924 - fp: 535.3731 - loss: 1.0009 - precision: 0.5076 - recall: 0.1700 - tn: 129906.7578 - tp: 551.5224 - val_accuracy: 0.9748 - val_auc: 0.5804 - val_fn: 1825.0000 - val_fp: 338.0000 - val_loss: 1.0007 - val_precision: 0.5158 - val_recall: 0.1648 - val_tn: 83331.0000 - val_tp: 360.0000\n",
            "Epoch 9/10\n",
            "\u001b[1m66/66\u001b[0m \u001b[32m━━━━━━━━━━━━━━━━━━━━\u001b[0m\u001b[37m\u001b[0m \u001b[1m10s\u001b[0m 143ms/step - accuracy: 0.9759 - auc: 0.5841 - fn: 2729.6121 - fp: 527.2388 - loss: 1.0006 - precision: 0.5162 - recall: 0.1723 - tn: 129871.6406 - tp: 559.6567 - val_accuracy: 0.9748 - val_auc: 0.5804 - val_fn: 1825.0000 - val_fp: 338.0000 - val_loss: 1.0005 - val_precision: 0.5158 - val_recall: 0.1648 - val_tn: 83331.0000 - val_tp: 360.0000\n",
            "Epoch 10/10\n",
            "\u001b[1m66/66\u001b[0m \u001b[32m━━━━━━━━━━━━━━━━━━━━\u001b[0m\u001b[37m\u001b[0m \u001b[1m11s\u001b[0m 161ms/step - accuracy: 0.9748 - auc: 0.5783 - fn: 2800.9851 - fp: 539.7015 - loss: 1.0008 - precision: 0.4954 - recall: 0.1608 - tn: 129800.2656 - tp: 547.1940 - val_accuracy: 0.9748 - val_auc: 0.5804 - val_fn: 1825.0000 - val_fp: 338.0000 - val_loss: 1.0004 - val_precision: 0.5158 - val_recall: 0.1648 - val_tn: 83331.0000 - val_tp: 360.0000\n"
          ]
        }
      ]
    },
    {
      "cell_type": "code",
      "source": [
        "model_5.summary()"
      ],
      "metadata": {
        "colab": {
          "base_uri": "https://localhost:8080/",
          "height": 273
        },
        "id": "8vT9GGTEnNao",
        "outputId": "e05f0b59-7be2-47d4-db17-8757a693d929"
      },
      "execution_count": 49,
      "outputs": [
        {
          "output_type": "display_data",
          "data": {
            "text/plain": [
              "\u001b[1mModel: \"sequential_4\"\u001b[0m\n"
            ],
            "text/html": [
              "<pre style=\"white-space:pre;overflow-x:auto;line-height:normal;font-family:Menlo,'DejaVu Sans Mono',consolas,'Courier New',monospace\"><span style=\"font-weight: bold\">Model: \"sequential_4\"</span>\n",
              "</pre>\n"
            ]
          },
          "metadata": {}
        },
        {
          "output_type": "display_data",
          "data": {
            "text/plain": [
              "┏━━━━━━━━━━━━━━━━━━━━━━━━━━━━━━━━━━━━━━┳━━━━━━━━━━━━━━━━━━━━━━━━━━━━━┳━━━━━━━━━━━━━━━━━┓\n",
              "┃\u001b[1m \u001b[0m\u001b[1mLayer (type)                        \u001b[0m\u001b[1m \u001b[0m┃\u001b[1m \u001b[0m\u001b[1mOutput Shape               \u001b[0m\u001b[1m \u001b[0m┃\u001b[1m \u001b[0m\u001b[1m        Param #\u001b[0m\u001b[1m \u001b[0m┃\n",
              "┡━━━━━━━━━━━━━━━━━━━━━━━━━━━━━━━━━━━━━━╇━━━━━━━━━━━━━━━━━━━━━━━━━━━━━╇━━━━━━━━━━━━━━━━━┩\n",
              "│ embedding_4 (\u001b[38;5;33mEmbedding\u001b[0m)              │ (\u001b[38;5;45mNone\u001b[0m, \u001b[38;5;34m1000\u001b[0m, \u001b[38;5;34m128\u001b[0m)           │      \u001b[38;5;34m12,800,000\u001b[0m │\n",
              "├──────────────────────────────────────┼─────────────────────────────┼─────────────────┤\n",
              "│ bidirectional_8 (\u001b[38;5;33mBidirectional\u001b[0m)      │ (\u001b[38;5;45mNone\u001b[0m, \u001b[38;5;34m1000\u001b[0m, \u001b[38;5;34m128\u001b[0m)           │          \u001b[38;5;34m98,816\u001b[0m │\n",
              "├──────────────────────────────────────┼─────────────────────────────┼─────────────────┤\n",
              "│ bidirectional_9 (\u001b[38;5;33mBidirectional\u001b[0m)      │ (\u001b[38;5;45mNone\u001b[0m, \u001b[38;5;34m64\u001b[0m)                  │          \u001b[38;5;34m41,216\u001b[0m │\n",
              "├──────────────────────────────────────┼─────────────────────────────┼─────────────────┤\n",
              "│ dense_4 (\u001b[38;5;33mDense\u001b[0m)                      │ (\u001b[38;5;45mNone\u001b[0m, \u001b[38;5;34m123\u001b[0m)                 │           \u001b[38;5;34m7,995\u001b[0m │\n",
              "└──────────────────────────────────────┴─────────────────────────────┴─────────────────┘\n"
            ],
            "text/html": [
              "<pre style=\"white-space:pre;overflow-x:auto;line-height:normal;font-family:Menlo,'DejaVu Sans Mono',consolas,'Courier New',monospace\">┏━━━━━━━━━━━━━━━━━━━━━━━━━━━━━━━━━━━━━━┳━━━━━━━━━━━━━━━━━━━━━━━━━━━━━┳━━━━━━━━━━━━━━━━━┓\n",
              "┃<span style=\"font-weight: bold\"> Layer (type)                         </span>┃<span style=\"font-weight: bold\"> Output Shape                </span>┃<span style=\"font-weight: bold\">         Param # </span>┃\n",
              "┡━━━━━━━━━━━━━━━━━━━━━━━━━━━━━━━━━━━━━━╇━━━━━━━━━━━━━━━━━━━━━━━━━━━━━╇━━━━━━━━━━━━━━━━━┩\n",
              "│ embedding_4 (<span style=\"color: #0087ff; text-decoration-color: #0087ff\">Embedding</span>)              │ (<span style=\"color: #00d7ff; text-decoration-color: #00d7ff\">None</span>, <span style=\"color: #00af00; text-decoration-color: #00af00\">1000</span>, <span style=\"color: #00af00; text-decoration-color: #00af00\">128</span>)           │      <span style=\"color: #00af00; text-decoration-color: #00af00\">12,800,000</span> │\n",
              "├──────────────────────────────────────┼─────────────────────────────┼─────────────────┤\n",
              "│ bidirectional_8 (<span style=\"color: #0087ff; text-decoration-color: #0087ff\">Bidirectional</span>)      │ (<span style=\"color: #00d7ff; text-decoration-color: #00d7ff\">None</span>, <span style=\"color: #00af00; text-decoration-color: #00af00\">1000</span>, <span style=\"color: #00af00; text-decoration-color: #00af00\">128</span>)           │          <span style=\"color: #00af00; text-decoration-color: #00af00\">98,816</span> │\n",
              "├──────────────────────────────────────┼─────────────────────────────┼─────────────────┤\n",
              "│ bidirectional_9 (<span style=\"color: #0087ff; text-decoration-color: #0087ff\">Bidirectional</span>)      │ (<span style=\"color: #00d7ff; text-decoration-color: #00d7ff\">None</span>, <span style=\"color: #00af00; text-decoration-color: #00af00\">64</span>)                  │          <span style=\"color: #00af00; text-decoration-color: #00af00\">41,216</span> │\n",
              "├──────────────────────────────────────┼─────────────────────────────┼─────────────────┤\n",
              "│ dense_4 (<span style=\"color: #0087ff; text-decoration-color: #0087ff\">Dense</span>)                      │ (<span style=\"color: #00d7ff; text-decoration-color: #00d7ff\">None</span>, <span style=\"color: #00af00; text-decoration-color: #00af00\">123</span>)                 │           <span style=\"color: #00af00; text-decoration-color: #00af00\">7,995</span> │\n",
              "└──────────────────────────────────────┴─────────────────────────────┴─────────────────┘\n",
              "</pre>\n"
            ]
          },
          "metadata": {}
        },
        {
          "output_type": "display_data",
          "data": {
            "text/plain": [
              "\u001b[1m Total params: \u001b[0m\u001b[38;5;34m38,844,083\u001b[0m (148.18 MB)\n"
            ],
            "text/html": [
              "<pre style=\"white-space:pre;overflow-x:auto;line-height:normal;font-family:Menlo,'DejaVu Sans Mono',consolas,'Courier New',monospace\"><span style=\"font-weight: bold\"> Total params: </span><span style=\"color: #00af00; text-decoration-color: #00af00\">38,844,083</span> (148.18 MB)\n",
              "</pre>\n"
            ]
          },
          "metadata": {}
        },
        {
          "output_type": "display_data",
          "data": {
            "text/plain": [
              "\u001b[1m Trainable params: \u001b[0m\u001b[38;5;34m12,948,027\u001b[0m (49.39 MB)\n"
            ],
            "text/html": [
              "<pre style=\"white-space:pre;overflow-x:auto;line-height:normal;font-family:Menlo,'DejaVu Sans Mono',consolas,'Courier New',monospace\"><span style=\"font-weight: bold\"> Trainable params: </span><span style=\"color: #00af00; text-decoration-color: #00af00\">12,948,027</span> (49.39 MB)\n",
              "</pre>\n"
            ]
          },
          "metadata": {}
        },
        {
          "output_type": "display_data",
          "data": {
            "text/plain": [
              "\u001b[1m Non-trainable params: \u001b[0m\u001b[38;5;34m0\u001b[0m (0.00 B)\n"
            ],
            "text/html": [
              "<pre style=\"white-space:pre;overflow-x:auto;line-height:normal;font-family:Menlo,'DejaVu Sans Mono',consolas,'Courier New',monospace\"><span style=\"font-weight: bold\"> Non-trainable params: </span><span style=\"color: #00af00; text-decoration-color: #00af00\">0</span> (0.00 B)\n",
              "</pre>\n"
            ]
          },
          "metadata": {}
        },
        {
          "output_type": "display_data",
          "data": {
            "text/plain": [
              "\u001b[1m Optimizer params: \u001b[0m\u001b[38;5;34m25,896,056\u001b[0m (98.79 MB)\n"
            ],
            "text/html": [
              "<pre style=\"white-space:pre;overflow-x:auto;line-height:normal;font-family:Menlo,'DejaVu Sans Mono',consolas,'Courier New',monospace\"><span style=\"font-weight: bold\"> Optimizer params: </span><span style=\"color: #00af00; text-decoration-color: #00af00\">25,896,056</span> (98.79 MB)\n",
              "</pre>\n"
            ]
          },
          "metadata": {}
        }
      ]
    },
    {
      "cell_type": "markdown",
      "source": [
        "##Reloading the model"
      ],
      "metadata": {
        "id": "3QV9O7rSnWYU"
      }
    },
    {
      "cell_type": "code",
      "source": [
        "model_5 = tf.keras.models.load_model('model_5.keras')\n",
        "with open('history_model_5.json') as f:\n",
        "    history_model_5 = json.load(f)"
      ],
      "metadata": {
        "id": "ULYn6c6pnb8K"
      },
      "execution_count": 50,
      "outputs": []
    },
    {
      "cell_type": "markdown",
      "source": [
        "##Plotting the training"
      ],
      "metadata": {
        "id": "w53CYp5SnhpS"
      }
    },
    {
      "cell_type": "code",
      "source": [
        "acc = history_model_5['accuracy']\n",
        "val_acc = history_model_5['val_accuracy']\n",
        "loss = history_model_5['loss']\n",
        "val_loss = history_model_5['val_loss']\n",
        "\n",
        "epochs = range(len(acc))\n",
        "\n",
        "\n",
        "plt.plot(epochs, acc, 'ro', label='Training acc')\n",
        "plt.plot(epochs, val_acc, 'b', label='Validation acc')\n",
        "plt.title('Model 5 Training and validation accuracy')\n",
        "plt.legend()\n",
        "\n",
        "plt.figure()\n",
        "\n",
        "plt.plot(epochs, loss, 'ro', label='Training loss')\n",
        "plt.plot(epochs, val_loss, 'b', label='Validation loss')\n",
        "plt.title('Model 5 training and validation loss')\n",
        "plt.legend()\n",
        "\n",
        "plt.show()"
      ],
      "metadata": {
        "colab": {
          "base_uri": "https://localhost:8080/",
          "height": 887
        },
        "id": "btTL71tJnkvf",
        "outputId": "4111de2d-dafc-4963-ba71-f4074ce2998f"
      },
      "execution_count": 51,
      "outputs": [
        {
          "output_type": "display_data",
          "data": {
            "text/plain": [
              "<Figure size 640x480 with 1 Axes>"
            ],
            "image/png": "[encoded data removed]"
          },
          "metadata": {}
        },
        {
          "output_type": "display_data",
          "data": {
            "text/plain": [
              "<Figure size 640x480 with 1 Axes>"
            ],
            "image/png": "[encoded data removed]"
          },
          "metadata": {}
        }
      ]
    },
    {
      "cell_type": "markdown",
      "source": [
        "##Evaluating the model"
      ],
      "metadata": {
        "id": "IPuuyJ5wn6--"
      }
    },
    {
      "cell_type": "code",
      "source": [
        "model_5.evaluate(X_test, y_test)"
      ],
      "metadata": {
        "colab": {
          "base_uri": "https://localhost:8080/"
        },
        "id": "0-Vf2L3_oA4M",
        "outputId": "72e94c7f-93a9-4182-e051-962e2fee6fc5"
      },
      "execution_count": 52,
      "outputs": [
        {
          "output_type": "stream",
          "name": "stdout",
          "text": [
            "\u001b[1m22/22\u001b[0m \u001b[32m━━━━━━━━━━━━━━━━━━━━\u001b[0m\u001b[37m\u001b[0m \u001b[1m3s\u001b[0m 78ms/step - accuracy: 0.9760 - auc: 0.5857 - fn: 965.9565 - fp: 185.0435 - loss: 1.0003 - precision: 0.5246 - recall: 0.1754 - tn: 45648.6523 - tp: 197.0435\n"
          ]
        },
        {
          "output_type": "execute_result",
          "data": {
            "text/plain": [
              "[1.000578761100769,\n",
              " 0.9750623106956482,\n",
              " 0.5042979717254639,\n",
              " 0.16394969820976257,\n",
              " 0.5799081325531006,\n",
              " 352.0,\n",
              " 346.0,\n",
              " 83361.0,\n",
              " 1795.0]"
            ]
          },
          "metadata": {},
          "execution_count": 52
        }
      ]
    },
    {
      "cell_type": "markdown",
      "source": [
        "##Predictions"
      ],
      "metadata": {
        "id": "iv7v9Le3oKmE"
      }
    },
    {
      "cell_type": "code",
      "source": [
        "test_predictions = model_5.predict(X_test)\n",
        "print(test_predictions)"
      ],
      "metadata": {
        "colab": {
          "base_uri": "https://localhost:8080/"
        },
        "id": "D8zzjc8JoMG7",
        "outputId": "ac88ef39-bf39-4bbe-d6e5-26dea14ba52d"
      },
      "execution_count": 53,
      "outputs": [
        {
          "output_type": "stream",
          "name": "stdout",
          "text": [
            "\u001b[1m22/22\u001b[0m \u001b[32m━━━━━━━━━━━━━━━━━━━━\u001b[0m\u001b[37m\u001b[0m \u001b[1m2s\u001b[0m 61ms/step\n",
            "[[0.00062869 0.00115904 0.00087886 ... 0.00033717 0.00050517 0.00092546]\n",
            " [0.00062702 0.00115638 0.00087653 ... 0.00033598 0.00050385 0.00092289]\n",
            " [0.0006282  0.00115825 0.00087816 ... 0.00033681 0.00050477 0.00092473]\n",
            " ...\n",
            " [0.00062861 0.00115888 0.00087874 ... 0.0003371  0.0005051  0.00092535]\n",
            " [0.00062812 0.00115812 0.00087806 ... 0.00033676 0.00050472 0.00092464]\n",
            " [0.00062837 0.00115853 0.00087838 ... 0.00033695 0.00050492 0.00092497]]\n"
          ]
        }
      ]
    },
    {
      "cell_type": "markdown",
      "source": [
        "##Model 6 - training for 20 epochs"
      ],
      "metadata": {
        "id": "dYdrdFVbock6"
      }
    },
    {
      "cell_type": "code",
      "source": [
        "model_6 = Sequential([\n",
        "    Embedding(vocab_size, embedding_dim),\n",
        "    Bidirectional(LSTM(64, return_sequences=True)),\n",
        "    Bidirectional(LSTM(32)),\n",
        "    Dense(len(keywords), activation='sigmoid')\n",
        "])"
      ],
      "metadata": {
        "id": "yhzT9P-kognZ"
      },
      "execution_count": 54,
      "outputs": []
    },
    {
      "cell_type": "markdown",
      "source": [
        "##Compiling, training and saving the model"
      ],
      "metadata": {
        "id": "1qfePvSjouDa"
      }
    },
    {
      "cell_type": "code",
      "source": [
        "#Compiling the model\n",
        "model_6.compile(\n",
        "    loss = 'hinge',\n",
        "    optimizer = 'adam',\n",
        "    metrics = METRICS\n",
        "\n",
        ")\n",
        "\n",
        "# Convert X_train, X_val, y_train, y_val to numpy arrays if they aren't already\n",
        "X_train = np.asarray(X_train, dtype=np.float32)\n",
        "X_val = np.asarray(X_val, dtype=np.float32)\n",
        "X_test = np.asarray(X_test, dtype=np.float32)\n",
        "y_train = np.asarray(y_train, dtype=np.float32) # Convert y_train to NumPy array\n",
        "y_val = np.asarray(y_val, dtype=np.float32)   # Convert y_val to NumPy array\n",
        "y_test = np.asarray(y_test, dtype=np.float32) # Convert y_test to NumPy array\n",
        "# Check and potentially adjust the batch size to be consistent\n",
        "batch_size = 41  # Or a smaller value if memory is an issue\n",
        "if X_train.shape[0] % batch_size != 0 or X_val.shape[0] % batch_size != 0:\n",
        "    print(\"Warning: Batch size does not divide evenly into the number of samples. Consider adjusting the batch size.\")\n",
        "\n",
        "#Training the model\n",
        "history_model_6 = model_6.fit(\n",
        "    X_train, y_train,\n",
        "    validation_data = (X_val, y_val),\n",
        "    epochs = 20,\n",
        "\n",
        ")\n",
        "\n",
        "#Saving the model\n",
        "model_6.save('model_6.keras')\n",
        "with open('history_model_6.json', 'w') as f:\n",
        "    json.dump(history_model_6.history, f)\n",
        "\n",
        "model_6.summary()"
      ],
      "metadata": {
        "colab": {
          "base_uri": "https://localhost:8080/",
          "height": 1000
        },
        "id": "uThdYKv1oyK2",
        "outputId": "89d8d14a-0b09-4ffa-fc9c-7951cf33ad0f"
      },
      "execution_count": 55,
      "outputs": [
        {
          "output_type": "stream",
          "name": "stdout",
          "text": [
            "Warning: Batch size does not divide evenly into the number of samples. Consider adjusting the batch size.\n",
            "Epoch 1/20\n",
            "\u001b[1m66/66\u001b[0m \u001b[32m━━━━━━━━━━━━━━━━━━━━\u001b[0m\u001b[37m\u001b[0m \u001b[1m16s\u001b[0m 163ms/step - accuracy: 0.9089 - auc: 0.5754 - fn: 4292.8062 - fp: 14878.8809 - loss: 1.3191 - precision: 0.0731 - recall: 0.2160 - tn: 199218.3125 - tp: 1152.1493 - val_accuracy: 0.9748 - val_auc: 0.6108 - val_fn: 1825.0000 - val_fp: 338.0000 - val_loss: 1.0198 - val_precision: 0.5158 - val_recall: 0.1648 - val_tn: 83331.0000 - val_tp: 360.0000\n",
            "Epoch 2/20\n",
            "\u001b[1m66/66\u001b[0m \u001b[32m━━━━━━━━━━━━━━━━━━━━\u001b[0m\u001b[37m\u001b[0m \u001b[1m9s\u001b[0m 143ms/step - accuracy: 0.9754 - auc: 0.6009 - fn: 2773.7463 - fp: 529.6567 - loss: 1.0145 - precision: 0.5107 - recall: 0.1679 - tn: 129827.5078 - tp: 557.2388 - val_accuracy: 0.9748 - val_auc: 0.5887 - val_fn: 1825.0000 - val_fp: 338.0000 - val_loss: 1.0067 - val_precision: 0.5158 - val_recall: 0.1648 - val_tn: 83331.0000 - val_tp: 360.0000\n",
            "Epoch 3/20\n",
            "\u001b[1m66/66\u001b[0m \u001b[32m━━━━━━━━━━━━━━━━━━━━\u001b[0m\u001b[37m\u001b[0m \u001b[1m9s\u001b[0m 136ms/step - accuracy: 0.9763 - auc: 0.6128 - fn: 2681.0149 - fp: 531.0000 - loss: 1.0059 - precision: 0.5052 - recall: 0.1730 - tn: 129920.2422 - tp: 555.8955 - val_accuracy: 0.9748 - val_auc: 0.5567 - val_fn: 1825.0000 - val_fp: 338.0000 - val_loss: 1.0037 - val_precision: 0.5158 - val_recall: 0.1648 - val_tn: 83331.0000 - val_tp: 360.0000\n",
            "Epoch 4/20\n",
            "\u001b[1m66/66\u001b[0m \u001b[32m━━━━━━━━━━━━━━━━━━━━\u001b[0m\u001b[37m\u001b[0m \u001b[1m11s\u001b[0m 146ms/step - accuracy: 0.9755 - auc: 0.5563 - fn: 2765.3433 - fp: 532.4926 - loss: 1.0035 - precision: 0.5023 - recall: 0.1665 - tn: 129835.9141 - tp: 554.4030 - val_accuracy: 0.9748 - val_auc: 0.5768 - val_fn: 1825.0000 - val_fp: 338.0000 - val_loss: 1.0024 - val_precision: 0.5158 - val_recall: 0.1648 - val_tn: 83331.0000 - val_tp: 360.0000\n",
            "Epoch 5/20\n",
            "\u001b[1m66/66\u001b[0m \u001b[32m━━━━━━━━━━━━━━━━━━━━\u001b[0m\u001b[37m\u001b[0m \u001b[1m10s\u001b[0m 149ms/step - accuracy: 0.9745 - auc: 0.5800 - fn: 2859.4924 - fp: 520.0597 - loss: 1.0020 - precision: 0.5257 - recall: 0.1651 - tn: 129741.7578 - tp: 566.8358 - val_accuracy: 0.9748 - val_auc: 0.5804 - val_fn: 1825.0000 - val_fp: 338.0000 - val_loss: 1.0016 - val_precision: 0.5158 - val_recall: 0.1648 - val_tn: 83331.0000 - val_tp: 360.0000\n",
            "Epoch 6/20\n",
            "\u001b[1m66/66\u001b[0m \u001b[32m━━━━━━━━━━━━━━━━━━━━\u001b[0m\u001b[37m\u001b[0m \u001b[1m9s\u001b[0m 133ms/step - accuracy: 0.9752 - auc: 0.5805 - fn: 2771.8359 - fp: 536.5373 - loss: 1.0017 - precision: 0.5055 - recall: 0.1652 - tn: 129829.4141 - tp: 550.3582 - val_accuracy: 0.9748 - val_auc: 0.5803 - val_fn: 1825.0000 - val_fp: 338.0000 - val_loss: 1.0012 - val_precision: 0.5158 - val_recall: 0.1648 - val_tn: 83331.0000 - val_tp: 360.0000\n",
            "Epoch 7/20\n",
            "\u001b[1m66/66\u001b[0m \u001b[32m━━━━━━━━━━━━━━━━━━━━\u001b[0m\u001b[37m\u001b[0m \u001b[1m10s\u001b[0m 145ms/step - accuracy: 0.9755 - auc: 0.5819 - fn: 2759.4924 - fp: 529.6119 - loss: 1.0012 - precision: 0.5090 - recall: 0.1679 - tn: 129841.7578 - tp: 557.2836 - val_accuracy: 0.9748 - val_auc: 0.5804 - val_fn: 1825.0000 - val_fp: 338.0000 - val_loss: 1.0009 - val_precision: 0.5158 - val_recall: 0.1648 - val_tn: 83331.0000 - val_tp: 360.0000\n",
            "Epoch 8/20\n",
            "\u001b[1m66/66\u001b[0m \u001b[32m━━━━━━━━━━━━━━━━━━━━\u001b[0m\u001b[37m\u001b[0m \u001b[1m10s\u001b[0m 142ms/step - accuracy: 0.9748 - auc: 0.5805 - fn: 2790.8955 - fp: 525.1194 - loss: 1.0008 - precision: 0.5174 - recall: 0.1651 - tn: 129810.3594 - tp: 561.7761 - val_accuracy: 0.9748 - val_auc: 0.5804 - val_fn: 1825.0000 - val_fp: 338.0000 - val_loss: 1.0007 - val_precision: 0.5158 - val_recall: 0.1648 - val_tn: 83331.0000 - val_tp: 360.0000\n",
            "Epoch 9/20\n",
            "\u001b[1m66/66\u001b[0m \u001b[32m━━━━━━━━━━━━━━━━━━━━\u001b[0m\u001b[37m\u001b[0m \u001b[1m10s\u001b[0m 158ms/step - accuracy: 0.9756 - auc: 0.5847 - fn: 2757.3284 - fp: 523.6418 - loss: 1.0004 - precision: 0.5293 - recall: 0.1733 - tn: 129843.9219 - tp: 563.2537 - val_accuracy: 0.9748 - val_auc: 0.5804 - val_fn: 1825.0000 - val_fp: 338.0000 - val_loss: 1.0005 - val_precision: 0.5158 - val_recall: 0.1648 - val_tn: 83331.0000 - val_tp: 360.0000\n",
            "Epoch 10/20\n",
            "\u001b[1m66/66\u001b[0m \u001b[32m━━━━━━━━━━━━━━━━━━━━\u001b[0m\u001b[37m\u001b[0m \u001b[1m20s\u001b[0m 144ms/step - accuracy: 0.9751 - auc: 0.5831 - fn: 2788.2239 - fp: 522.1791 - loss: 1.0002 - precision: 0.5320 - recall: 0.1701 - tn: 129813.0312 - tp: 564.7164 - val_accuracy: 0.9748 - val_auc: 0.5804 - val_fn: 1825.0000 - val_fp: 338.0000 - val_loss: 1.0004 - val_precision: 0.5158 - val_recall: 0.1648 - val_tn: 83331.0000 - val_tp: 360.0000\n",
            "Epoch 11/20\n",
            "\u001b[1m66/66\u001b[0m \u001b[32m━━━━━━━━━━━━━━━━━━━━\u001b[0m\u001b[37m\u001b[0m \u001b[1m10s\u001b[0m 143ms/step - accuracy: 0.9759 - auc: 0.5840 - fn: 2707.8208 - fp: 533.4179 - loss: 1.0004 - precision: 0.5140 - recall: 0.1720 - tn: 129893.4297 - tp: 553.4776 - val_accuracy: 0.9748 - val_auc: 0.5804 - val_fn: 1825.0000 - val_fp: 338.0000 - val_loss: 1.0003 - val_precision: 0.5158 - val_recall: 0.1648 - val_tn: 83331.0000 - val_tp: 360.0000\n",
            "Epoch 12/20\n",
            "\u001b[1m66/66\u001b[0m \u001b[32m━━━━━━━━━━━━━━━━━━━━\u001b[0m\u001b[37m\u001b[0m \u001b[1m10s\u001b[0m 143ms/step - accuracy: 0.9746 - auc: 0.5802 - fn: 2843.7014 - fp: 523.9552 - loss: 1.0002 - precision: 0.5188 - recall: 0.1643 - tn: 129757.5547 - tp: 562.9403 - val_accuracy: 0.9748 - val_auc: 0.5804 - val_fn: 1825.0000 - val_fp: 338.0000 - val_loss: 1.0002 - val_precision: 0.5158 - val_recall: 0.1648 - val_tn: 83331.0000 - val_tp: 360.0000\n",
            "Epoch 13/20\n",
            "\u001b[1m66/66\u001b[0m \u001b[32m━━━━━━━━━━━━━━━━━━━━\u001b[0m\u001b[37m\u001b[0m \u001b[1m9s\u001b[0m 135ms/step - accuracy: 0.9762 - auc: 0.5819 - fn: 2668.9402 - fp: 549.3284 - loss: 1.0007 - precision: 0.4869 - recall: 0.1682 - tn: 129932.3125 - tp: 537.5671 - val_accuracy: 0.9748 - val_auc: 0.5804 - val_fn: 1825.0000 - val_fp: 338.0000 - val_loss: 1.0002 - val_precision: 0.5158 - val_recall: 0.1648 - val_tn: 83331.0000 - val_tp: 360.0000\n",
            "Epoch 14/20\n",
            "\u001b[1m66/66\u001b[0m \u001b[32m━━━━━━━━━━━━━━━━━━━━\u001b[0m\u001b[37m\u001b[0m \u001b[1m11s\u001b[0m 145ms/step - accuracy: 0.9754 - auc: 0.5820 - fn: 2779.0447 - fp: 531.7612 - loss: 1.0002 - precision: 0.5107 - recall: 0.1681 - tn: 129822.2109 - tp: 555.1343 - val_accuracy: 0.9748 - val_auc: 0.5804 - val_fn: 1825.0000 - val_fp: 338.0000 - val_loss: 1.0001 - val_precision: 0.5158 - val_recall: 0.1648 - val_tn: 83331.0000 - val_tp: 360.0000\n",
            "Epoch 15/20\n",
            "\u001b[1m66/66\u001b[0m \u001b[32m━━━━━━━━━━━━━━━━━━━━\u001b[0m\u001b[37m\u001b[0m \u001b[1m10s\u001b[0m 149ms/step - accuracy: 0.9757 - auc: 0.5854 - fn: 2739.5374 - fp: 522.0298 - loss: 0.9998 - precision: 0.5351 - recall: 0.1747 - tn: 129861.7188 - tp: 564.8657 - val_accuracy: 0.9748 - val_auc: 0.5804 - val_fn: 1825.0000 - val_fp: 338.0000 - val_loss: 1.0001 - val_precision: 0.5158 - val_recall: 0.1648 - val_tn: 83331.0000 - val_tp: 360.0000\n",
            "Epoch 16/20\n",
            "\u001b[1m66/66\u001b[0m \u001b[32m━━━━━━━━━━━━━━━━━━━━\u001b[0m\u001b[37m\u001b[0m \u001b[1m9s\u001b[0m 135ms/step - accuracy: 0.9747 - auc: 0.5803 - fn: 2790.0896 - fp: 528.0298 - loss: 1.0001 - precision: 0.5165 - recall: 0.1647 - tn: 129811.1641 - tp: 558.8657 - val_accuracy: 0.9748 - val_auc: 0.5804 - val_fn: 1825.0000 - val_fp: 338.0000 - val_loss: 1.0001 - val_precision: 0.5158 - val_recall: 0.1648 - val_tn: 83331.0000 - val_tp: 360.0000\n",
            "Epoch 17/20\n",
            "\u001b[1m66/66\u001b[0m \u001b[32m━━━━━━━━━━━━━━━━━━━━\u001b[0m\u001b[37m\u001b[0m \u001b[1m10s\u001b[0m 129ms/step - accuracy: 0.9750 - auc: 0.5794 - fn: 2749.0149 - fp: 539.3582 - loss: 1.0003 - precision: 0.4998 - recall: 0.1629 - tn: 129852.2422 - tp: 547.5373 - val_accuracy: 0.9748 - val_auc: 0.5804 - val_fn: 1825.0000 - val_fp: 338.0000 - val_loss: 1.0000 - val_precision: 0.5158 - val_recall: 0.1648 - val_tn: 83331.0000 - val_tp: 360.0000\n",
            "Epoch 18/20\n",
            "\u001b[1m66/66\u001b[0m \u001b[32m━━━━━━━━━━━━━━━━━━━━\u001b[0m\u001b[37m\u001b[0m \u001b[1m11s\u001b[0m 149ms/step - accuracy: 0.9751 - auc: 0.5803 - fn: 2783.0896 - fp: 535.9552 - loss: 1.0002 - precision: 0.5053 - recall: 0.1648 - tn: 129818.1641 - tp: 550.9403 - val_accuracy: 0.9748 - val_auc: 0.5804 - val_fn: 1825.0000 - val_fp: 338.0000 - val_loss: 1.0000 - val_precision: 0.5158 - val_recall: 0.1648 - val_tn: 83331.0000 - val_tp: 360.0000\n",
            "Epoch 19/20\n",
            "\u001b[1m66/66\u001b[0m \u001b[32m━━━━━━━━━━━━━━━━━━━━\u001b[0m\u001b[37m\u001b[0m \u001b[1m11s\u001b[0m 158ms/step - accuracy: 0.9755 - auc: 0.5841 - fn: 2689.8508 - fp: 525.1194 - loss: 0.9998 - precision: 0.5267 - recall: 0.1721 - tn: 129911.4062 - tp: 561.7761 - val_accuracy: 0.9748 - val_auc: 0.5804 - val_fn: 1825.0000 - val_fp: 338.0000 - val_loss: 1.0000 - val_precision: 0.5158 - val_recall: 0.1648 - val_tn: 83331.0000 - val_tp: 360.0000\n",
            "Epoch 20/20\n",
            "\u001b[1m66/66\u001b[0m \u001b[32m━━━━━━━━━━━━━━━━━━━━\u001b[0m\u001b[37m\u001b[0m \u001b[1m19s\u001b[0m 134ms/step - accuracy: 0.9756 - auc: 0.5830 - fn: 2724.1492 - fp: 524.8657 - loss: 1.0000 - precision: 0.5149 - recall: 0.1701 - tn: 129877.1016 - tp: 562.0298 - val_accuracy: 0.9748 - val_auc: 0.5804 - val_fn: 1825.0000 - val_fp: 338.0000 - val_loss: 1.0000 - val_precision: 0.5158 - val_recall: 0.1648 - val_tn: 83331.0000 - val_tp: 360.0000\n"
          ]
        },
        {
          "output_type": "display_data",
          "data": {
            "text/plain": [
              "\u001b[1mModel: \"sequential_5\"\u001b[0m\n"
            ],
            "text/html": [
              "<pre style=\"white-space:pre;overflow-x:auto;line-height:normal;font-family:Menlo,'DejaVu Sans Mono',consolas,'Courier New',monospace\"><span style=\"font-weight: bold\">Model: \"sequential_5\"</span>\n",
              "</pre>\n"
            ]
          },
          "metadata": {}
        },
        {
          "output_type": "display_data",
          "data": {
            "text/plain": [
              "┏━━━━━━━━━━━━━━━━━━━━━━━━━━━━━━━━━━━━━━┳━━━━━━━━━━━━━━━━━━━━━━━━━━━━━┳━━━━━━━━━━━━━━━━━┓\n",
              "┃\u001b[1m \u001b[0m\u001b[1mLayer (type)                        \u001b[0m\u001b[1m \u001b[0m┃\u001b[1m \u001b[0m\u001b[1mOutput Shape               \u001b[0m\u001b[1m \u001b[0m┃\u001b[1m \u001b[0m\u001b[1m        Param #\u001b[0m\u001b[1m \u001b[0m┃\n",
              "┡━━━━━━━━━━━━━━━━━━━━━━━━━━━━━━━━━━━━━━╇━━━━━━━━━━━━━━━━━━━━━━━━━━━━━╇━━━━━━━━━━━━━━━━━┩\n",
              "│ embedding_5 (\u001b[38;5;33mEmbedding\u001b[0m)              │ (\u001b[38;5;45mNone\u001b[0m, \u001b[38;5;34m1000\u001b[0m, \u001b[38;5;34m128\u001b[0m)           │      \u001b[38;5;34m12,800,000\u001b[0m │\n",
              "├──────────────────────────────────────┼─────────────────────────────┼─────────────────┤\n",
              "│ bidirectional_10 (\u001b[38;5;33mBidirectional\u001b[0m)     │ (\u001b[38;5;45mNone\u001b[0m, \u001b[38;5;34m1000\u001b[0m, \u001b[38;5;34m128\u001b[0m)           │          \u001b[38;5;34m98,816\u001b[0m │\n",
              "├──────────────────────────────────────┼─────────────────────────────┼─────────────────┤\n",
              "│ bidirectional_11 (\u001b[38;5;33mBidirectional\u001b[0m)     │ (\u001b[38;5;45mNone\u001b[0m, \u001b[38;5;34m64\u001b[0m)                  │          \u001b[38;5;34m41,216\u001b[0m │\n",
              "├──────────────────────────────────────┼─────────────────────────────┼─────────────────┤\n",
              "│ dense_5 (\u001b[38;5;33mDense\u001b[0m)                      │ (\u001b[38;5;45mNone\u001b[0m, \u001b[38;5;34m123\u001b[0m)                 │           \u001b[38;5;34m7,995\u001b[0m │\n",
              "└──────────────────────────────────────┴─────────────────────────────┴─────────────────┘\n"
            ],
            "text/html": [
              "<pre style=\"white-space:pre;overflow-x:auto;line-height:normal;font-family:Menlo,'DejaVu Sans Mono',consolas,'Courier New',monospace\">┏━━━━━━━━━━━━━━━━━━━━━━━━━━━━━━━━━━━━━━┳━━━━━━━━━━━━━━━━━━━━━━━━━━━━━┳━━━━━━━━━━━━━━━━━┓\n",
              "┃<span style=\"font-weight: bold\"> Layer (type)                         </span>┃<span style=\"font-weight: bold\"> Output Shape                </span>┃<span style=\"font-weight: bold\">         Param # </span>┃\n",
              "┡━━━━━━━━━━━━━━━━━━━━━━━━━━━━━━━━━━━━━━╇━━━━━━━━━━━━━━━━━━━━━━━━━━━━━╇━━━━━━━━━━━━━━━━━┩\n",
              "│ embedding_5 (<span style=\"color: #0087ff; text-decoration-color: #0087ff\">Embedding</span>)              │ (<span style=\"color: #00d7ff; text-decoration-color: #00d7ff\">None</span>, <span style=\"color: #00af00; text-decoration-color: #00af00\">1000</span>, <span style=\"color: #00af00; text-decoration-color: #00af00\">128</span>)           │      <span style=\"color: #00af00; text-decoration-color: #00af00\">12,800,000</span> │\n",
              "├──────────────────────────────────────┼─────────────────────────────┼─────────────────┤\n",
              "│ bidirectional_10 (<span style=\"color: #0087ff; text-decoration-color: #0087ff\">Bidirectional</span>)     │ (<span style=\"color: #00d7ff; text-decoration-color: #00d7ff\">None</span>, <span style=\"color: #00af00; text-decoration-color: #00af00\">1000</span>, <span style=\"color: #00af00; text-decoration-color: #00af00\">128</span>)           │          <span style=\"color: #00af00; text-decoration-color: #00af00\">98,816</span> │\n",
              "├──────────────────────────────────────┼─────────────────────────────┼─────────────────┤\n",
              "│ bidirectional_11 (<span style=\"color: #0087ff; text-decoration-color: #0087ff\">Bidirectional</span>)     │ (<span style=\"color: #00d7ff; text-decoration-color: #00d7ff\">None</span>, <span style=\"color: #00af00; text-decoration-color: #00af00\">64</span>)                  │          <span style=\"color: #00af00; text-decoration-color: #00af00\">41,216</span> │\n",
              "├──────────────────────────────────────┼─────────────────────────────┼─────────────────┤\n",
              "│ dense_5 (<span style=\"color: #0087ff; text-decoration-color: #0087ff\">Dense</span>)                      │ (<span style=\"color: #00d7ff; text-decoration-color: #00d7ff\">None</span>, <span style=\"color: #00af00; text-decoration-color: #00af00\">123</span>)                 │           <span style=\"color: #00af00; text-decoration-color: #00af00\">7,995</span> │\n",
              "└──────────────────────────────────────┴─────────────────────────────┴─────────────────┘\n",
              "</pre>\n"
            ]
          },
          "metadata": {}
        },
        {
          "output_type": "display_data",
          "data": {
            "text/plain": [
              "\u001b[1m Total params: \u001b[0m\u001b[38;5;34m38,844,083\u001b[0m (148.18 MB)\n"
            ],
            "text/html": [
              "<pre style=\"white-space:pre;overflow-x:auto;line-height:normal;font-family:Menlo,'DejaVu Sans Mono',consolas,'Courier New',monospace\"><span style=\"font-weight: bold\"> Total params: </span><span style=\"color: #00af00; text-decoration-color: #00af00\">38,844,083</span> (148.18 MB)\n",
              "</pre>\n"
            ]
          },
          "metadata": {}
        },
        {
          "output_type": "display_data",
          "data": {
            "text/plain": [
              "\u001b[1m Trainable params: \u001b[0m\u001b[38;5;34m12,948,027\u001b[0m (49.39 MB)\n"
            ],
            "text/html": [
              "<pre style=\"white-space:pre;overflow-x:auto;line-height:normal;font-family:Menlo,'DejaVu Sans Mono',consolas,'Courier New',monospace\"><span style=\"font-weight: bold\"> Trainable params: </span><span style=\"color: #00af00; text-decoration-color: #00af00\">12,948,027</span> (49.39 MB)\n",
              "</pre>\n"
            ]
          },
          "metadata": {}
        },
        {
          "output_type": "display_data",
          "data": {
            "text/plain": [
              "\u001b[1m Non-trainable params: \u001b[0m\u001b[38;5;34m0\u001b[0m (0.00 B)\n"
            ],
            "text/html": [
              "<pre style=\"white-space:pre;overflow-x:auto;line-height:normal;font-family:Menlo,'DejaVu Sans Mono',consolas,'Courier New',monospace\"><span style=\"font-weight: bold\"> Non-trainable params: </span><span style=\"color: #00af00; text-decoration-color: #00af00\">0</span> (0.00 B)\n",
              "</pre>\n"
            ]
          },
          "metadata": {}
        },
        {
          "output_type": "display_data",
          "data": {
            "text/plain": [
              "\u001b[1m Optimizer params: \u001b[0m\u001b[38;5;34m25,896,056\u001b[0m (98.79 MB)\n"
            ],
            "text/html": [
              "<pre style=\"white-space:pre;overflow-x:auto;line-height:normal;font-family:Menlo,'DejaVu Sans Mono',consolas,'Courier New',monospace\"><span style=\"font-weight: bold\"> Optimizer params: </span><span style=\"color: #00af00; text-decoration-color: #00af00\">25,896,056</span> (98.79 MB)\n",
              "</pre>\n"
            ]
          },
          "metadata": {}
        }
      ]
    },
    {
      "cell_type": "markdown",
      "source": [
        "##Reloading the model"
      ],
      "metadata": {
        "id": "QGPVSRqeqcQj"
      }
    },
    {
      "cell_type": "code",
      "source": [
        "model_6 = tf.keras.models.load_model('model_6.keras')\n",
        "with open('history_model_6.json') as f:\n",
        "    history_model_6 = json.load(f)"
      ],
      "metadata": {
        "id": "DlUaxUFPqnkU"
      },
      "execution_count": 56,
      "outputs": []
    },
    {
      "cell_type": "markdown",
      "source": [
        "##Training plots"
      ],
      "metadata": {
        "id": "kUzCyJunqs2F"
      }
    },
    {
      "cell_type": "code",
      "source": [
        "acc = history_model_6['accuracy']\n",
        "val_acc = history_model_6['val_accuracy']\n",
        "loss = history_model_6['loss']\n",
        "val_loss = history_model_6['val_loss']\n",
        "\n",
        "epochs = range(len(acc))\n",
        "\n",
        "\n",
        "plt.plot(epochs, acc, 'ro', label='Training acc')\n",
        "plt.plot(epochs, val_acc, 'b', label='Validation acc')\n",
        "plt.title('Model 6 Training and validation accuracy')\n",
        "plt.legend()\n",
        "\n",
        "plt.figure()\n",
        "\n",
        "plt.plot(epochs, loss, 'ro', label='Training loss')\n",
        "plt.plot(epochs, val_loss, 'b', label='Validation loss')\n",
        "plt.title('Model 6 training and validation loss')\n",
        "plt.legend()\n",
        "\n",
        "plt.show()"
      ],
      "metadata": {
        "colab": {
          "base_uri": "https://localhost:8080/",
          "height": 887
        },
        "id": "5bZatcIyqvMe",
        "outputId": "759a8dd3-81ec-4a5a-85f2-6fa53120d447"
      },
      "execution_count": 57,
      "outputs": [
        {
          "output_type": "display_data",
          "data": {
            "text/plain": [
              "<Figure size 640x480 with 1 Axes>"
            ],
            "image/png": "[encoded data removed]"
          },
          "metadata": {}
        },
        {
          "output_type": "display_data",
          "data": {
            "text/plain": [
              "<Figure size 640x480 with 1 Axes>"
            ],
            "image/png": "[encoded data removed]"
          },
          "metadata": {}
        }
      ]
    },
    {
      "cell_type": "markdown",
      "source": [
        "##Predictions"
      ],
      "metadata": {
        "id": "F6UcNlA3q6IK"
      }
    },
    {
      "cell_type": "code",
      "source": [
        "test_predictions = model_6.predict(X_test)\n",
        "print(test_predictions)"
      ],
      "metadata": {
        "colab": {
          "base_uri": "https://localhost:8080/"
        },
        "id": "XWvlGfAiqexl",
        "outputId": "ef6704f8-934e-425c-a811-397afb71a03a"
      },
      "execution_count": 58,
      "outputs": [
        {
          "output_type": "stream",
          "name": "stdout",
          "text": [
            "\u001b[1m22/22\u001b[0m \u001b[32m━━━━━━━━━━━━━━━━━━━━\u001b[0m\u001b[37m\u001b[0m \u001b[1m2s\u001b[0m 64ms/step\n",
            "[[0.00016351 0.00024929 0.00024764 ... 0.00011284 0.00026686 0.0001453 ]\n",
            " [0.00016308 0.00024866 0.00024708 ... 0.00011254 0.00026618 0.00014492]\n",
            " [0.00016347 0.00024923 0.00024758 ... 0.00011281 0.0002668  0.00014527]\n",
            " ...\n",
            " [0.00016349 0.00024928 0.00024762 ... 0.00011284 0.00026685 0.00014529]\n",
            " [0.00016341 0.00024915 0.00024752 ... 0.00011278 0.00026671 0.00014522]\n",
            " [0.00016345 0.00024921 0.00024757 ... 0.00011281 0.00026678 0.00014525]]\n"
          ]
        }
      ]
    },
    {
      "cell_type": "markdown",
      "source": [
        "##Evaluating the model"
      ],
      "metadata": {
        "id": "v8K3pPZJrGIr"
      }
    },
    {
      "cell_type": "code",
      "source": [
        "model_6.evaluate(X_test, y_test)"
      ],
      "metadata": {
        "colab": {
          "base_uri": "https://localhost:8080/"
        },
        "id": "I-1Iz-berKg1",
        "outputId": "baba5a0e-b33b-4bd8-d55c-60704533ffd0"
      },
      "execution_count": 59,
      "outputs": [
        {
          "output_type": "stream",
          "name": "stdout",
          "text": [
            "\u001b[1m22/22\u001b[0m \u001b[32m━━━━━━━━━━━━━━━━━━━━\u001b[0m\u001b[37m\u001b[0m \u001b[1m2s\u001b[0m 59ms/step - accuracy: 0.9760 - auc: 0.5857 - fn: 965.9565 - fp: 185.0435 - loss: 0.9998 - precision: 0.5246 - recall: 0.1754 - tn: 45648.6523 - tp: 197.0435\n"
          ]
        },
        {
          "output_type": "execute_result",
          "data": {
            "text/plain": [
              "[1.000143051147461,\n",
              " 0.9750623106956482,\n",
              " 0.5042979717254639,\n",
              " 0.16394969820976257,\n",
              " 0.5799081325531006,\n",
              " 352.0,\n",
              " 346.0,\n",
              " 83361.0,\n",
              " 1795.0]"
            ]
          },
          "metadata": {},
          "execution_count": 59
        }
      ]
    },
    {
      "cell_type": "markdown",
      "source": [
        "Accuracy of models 5 and 6 similiar to all other models"
      ],
      "metadata": {
        "id": "2JRG3yi2rtSg"
      }
    },
    {
      "cell_type": "markdown",
      "source": [
        "##Model 7 Changing loss function to categorical crossentropy"
      ],
      "metadata": {
        "id": "ATmRMBCTs5QR"
      }
    },
    {
      "cell_type": "code",
      "source": [
        "!pip install scikit-learn==1.2.2\n",
        "from sklearn.preprocessing import OneHotEncoder\n",
        "\n",
        "# Initialize the encoder\n",
        "encoder = OneHotEncoder(handle_unknown='ignore', sparse_output=False)\n",
        "\n",
        "# Reshape your labels to be 2D (required by OneHotEncoder)\n",
        "y_train_reshaped = np.array(y_train).reshape(-1, 1)\n",
        "\n",
        "# Fit and transform your labels\n",
        "y_train_encoded = encoder.fit_transform(y_train_reshaped)\n",
        "\n",
        "# Repeat the process for y_val and y_test\n",
        "y_val_reshaped = np.array(y_val).reshape(-1, 1)\n",
        "y_val_encoded = encoder.transform(y_val_reshaped)\n",
        "\n",
        "y_test_reshaped = np.array(y_test).reshape(-1, 1)\n",
        "y_test_encoded = encoder.transform(y_test_reshaped)"
      ],
      "metadata": {
        "colab": {
          "base_uri": "https://localhost:8080/",
          "height": 473
        },
        "id": "IHT8quJVtGMl",
        "outputId": "9de73bd4-95b7-4f5a-d5fa-b808964bbcdb"
      },
      "execution_count": null,
      "outputs": [
        {
          "output_type": "stream",
          "name": "stdout",
          "text": [
            "Collecting scikit-learn==1.2.2\n",
            "  Downloading scikit_learn-1.2.2-cp310-cp310-manylinux_2_17_x86_64.manylinux2014_x86_64.whl.metadata (11 kB)\n",
            "Requirement already satisfied: numpy>=1.17.3 in /usr/local/lib/python3.10/dist-packages (from scikit-learn==1.2.2) (1.26.4)\n",
            "Requirement already satisfied: scipy>=1.3.2 in /usr/local/lib/python3.10/dist-packages (from scikit-learn==1.2.2) (1.13.1)\n",
            "Requirement already satisfied: joblib>=1.1.1 in /usr/local/lib/python3.10/dist-packages (from scikit-learn==1.2.2) (1.4.2)\n",
            "Requirement already satisfied: threadpoolctl>=2.0.0 in /usr/local/lib/python3.10/dist-packages (from scikit-learn==1.2.2) (3.5.0)\n",
            "Downloading scikit_learn-1.2.2-cp310-cp310-manylinux_2_17_x86_64.manylinux2014_x86_64.whl (9.6 MB)\n",
            "\u001b[2K   \u001b[90m━━━━━━━━━━━━━━━━━━━━━━━━━━━━━━━━━━━━━━━━\u001b[0m \u001b[32m9.6/9.6 MB\u001b[0m \u001b[31m21.6 MB/s\u001b[0m eta \u001b[36m0:00:00\u001b[0m\n",
            "\u001b[?25hInstalling collected packages: scikit-learn\n",
            "  Attempting uninstall: scikit-learn\n",
            "    Found existing installation: scikit-learn 1.3.2\n",
            "    Uninstalling scikit-learn-1.3.2:\n",
            "      Successfully uninstalled scikit-learn-1.3.2\n",
            "Successfully installed scikit-learn-1.2.2\n"
          ]
        },
        {
          "output_type": "error",
          "ename": "NameError",
          "evalue": "name 'np' is not defined",
          "traceback": [
            "\u001b[0;31m---------------------------------------------------------------------------\u001b[0m",
            "\u001b[0;31mNameError\u001b[0m                                 Traceback (most recent call last)",
            "\u001b[0;32m<ipython-input-1-5d085f6d7af8>\u001b[0m in \u001b[0;36m<cell line: 8>\u001b[0;34m()\u001b[0m\n\u001b[1;32m      6\u001b[0m \u001b[0;34m\u001b[0m\u001b[0m\n\u001b[1;32m      7\u001b[0m \u001b[0;31m# Reshape your labels to be 2D (required by OneHotEncoder)\u001b[0m\u001b[0;34m\u001b[0m\u001b[0;34m\u001b[0m\u001b[0m\n\u001b[0;32m----> 8\u001b[0;31m \u001b[0my_train_reshaped\u001b[0m \u001b[0;34m=\u001b[0m \u001b[0mnp\u001b[0m\u001b[0;34m.\u001b[0m\u001b[0marray\u001b[0m\u001b[0;34m(\u001b[0m\u001b[0my_train\u001b[0m\u001b[0;34m)\u001b[0m\u001b[0;34m.\u001b[0m\u001b[0mreshape\u001b[0m\u001b[0;34m(\u001b[0m\u001b[0;34m-\u001b[0m\u001b[0;36m1\u001b[0m\u001b[0;34m,\u001b[0m \u001b[0;36m1\u001b[0m\u001b[0;34m)\u001b[0m\u001b[0;34m\u001b[0m\u001b[0;34m\u001b[0m\u001b[0m\n\u001b[0m\u001b[1;32m      9\u001b[0m \u001b[0;34m\u001b[0m\u001b[0m\n\u001b[1;32m     10\u001b[0m \u001b[0;31m# Fit and transform your labels\u001b[0m\u001b[0;34m\u001b[0m\u001b[0;34m\u001b[0m\u001b[0m\n",
            "\u001b[0;31mNameError\u001b[0m: name 'np' is not defined"
          ]
        }
      ]
    }
  ]
}