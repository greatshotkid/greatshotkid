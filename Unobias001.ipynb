{
  "nbformat": 4,
  "nbformat_minor": 0,
  "metadata": {
    "colab": {
      "provenance": [],
      "authorship_tag": "ABX9TyM9rZ1igTDlk/73YGn/7FuQ",
      "include_colab_link": true
    },
    "kernelspec": {
      "name": "python3",
      "display_name": "Python 3"
    },
    "language_info": {
      "name": "python"
    }
  },
  "cells": [
    {
      "cell_type": "markdown",
      "metadata": {
        "id": "view-in-github",
        "colab_type": "text"
      },
      "source": [
        "<a href=\"https://colab.research.google.com/github/greatshotkid/greatshotkid/blob/main/Unobias001.ipynb\" target=\"_parent\"><img src=\"https://colab.research.google.com/assets/colab-badge.svg\" alt=\"Open In Colab\"/></a>"
      ]
    },
    {
      "cell_type": "markdown",
      "source": [
        "#** Model 001, using simple bi-directional LSTM**"
      ],
      "metadata": {
        "id": "VL3gDM33yP9T"
      }
    },
    {
      "cell_type": "markdown",
      "source": [
        "## **Importing the required libraries**"
      ],
      "metadata": {
        "id": "h5CLcrSyx_jJ"
      }
    },
    {
      "cell_type": "code",
      "source": [
        "!pip install pdfplumber\n",
        "import re\n",
        "import string\n",
        "from nltk.corpus import stopwords\n",
        "from nltk.tokenize import word_tokenize\n",
        "import numpy as np\n",
        "import tensorflow as tf\n",
        "import json\n",
        "import pdfplumber\n",
        "import pandas as pd\n",
        "import matplotlib.pyplot as plt\n",
        "from tensorflow.keras.models import Sequential\n",
        "from tensorflow.keras.layers import Dense, Embedding, LSTM\n",
        "%matplotlib inline"
      ],
      "metadata": {
        "id": "FB40FhDtyLxC",
        "colab": {
          "base_uri": "https://localhost:8080/"
        },
        "outputId": "25b03fc8-58aa-4ca9-f016-31390391455b"
      },
      "execution_count": 16,
      "outputs": [
        {
          "output_type": "stream",
          "name": "stdout",
          "text": [
            "Requirement already satisfied: pdfplumber in /usr/local/lib/python3.10/dist-packages (0.11.2)\n",
            "Requirement already satisfied: pdfminer.six==20231228 in /usr/local/lib/python3.10/dist-packages (from pdfplumber) (20231228)\n",
            "Requirement already satisfied: Pillow>=9.1 in /usr/local/lib/python3.10/dist-packages (from pdfplumber) (9.4.0)\n",
            "Requirement already satisfied: pypdfium2>=4.18.0 in /usr/local/lib/python3.10/dist-packages (from pdfplumber) (4.30.0)\n",
            "Requirement already satisfied: charset-normalizer>=2.0.0 in /usr/local/lib/python3.10/dist-packages (from pdfminer.six==20231228->pdfplumber) (3.3.2)\n",
            "Requirement already satisfied: cryptography>=36.0.0 in /usr/local/lib/python3.10/dist-packages (from pdfminer.six==20231228->pdfplumber) (42.0.8)\n",
            "Requirement already satisfied: cffi>=1.12 in /usr/local/lib/python3.10/dist-packages (from cryptography>=36.0.0->pdfminer.six==20231228->pdfplumber) (1.16.0)\n",
            "Requirement already satisfied: pycparser in /usr/local/lib/python3.10/dist-packages (from cffi>=1.12->cryptography>=36.0.0->pdfminer.six==20231228->pdfplumber) (2.22)\n"
          ]
        }
      ]
    },
    {
      "cell_type": "markdown",
      "source": [
        "## **Creating some constarints**"
      ],
      "metadata": {
        "id": "y0TFLAYhy5q9"
      }
    },
    {
      "cell_type": "code",
      "source": [
        "#EMBEDDING_LEN = 32  # The length of the word embedding vector\n",
        "#BATCH_SIZE = 128"
      ],
      "metadata": {
        "id": "a9DBsxAtzFo6"
      },
      "execution_count": null,
      "outputs": []
    },
    {
      "cell_type": "code",
      "source": [
        "METRICS = [\n",
        "      lambda : tf.keras.metrics.TruePositives(name='tp'),\n",
        "      lambda : tf.keras.metrics.FalsePositives(name='fp'),\n",
        "      lambda : tf.keras.metrics.TrueNegatives(name='tn'),\n",
        "      lambda : tf.keras.metrics.FalseNegatives(name='fn'),\n",
        "\n",
        "      lambda : tf.keras.metrics.BinaryAccuracy(name='accuracy'),\n",
        "      lambda : tf.keras.metrics.Precision(name='precision'),\n",
        "      lambda : tf.keras.metrics.Recall(name='recall'),\n",
        "]\n",
        "\n",
        "def fresh_metrics():\n",
        "    return [metric() for metric in METRICS]"
      ],
      "metadata": {
        "id": "j0Cts7mizOw7"
      },
      "execution_count": 17,
      "outputs": []
    },
    {
      "cell_type": "markdown",
      "source": [
        "## **Extracting text from the pdf CVs**"
      ],
      "metadata": {
        "id": "SYiPD60U4_UQ"
      }
    },
    {
      "cell_type": "code",
      "source": [
        "def extract_text_from_pdf(file_path):\n",
        "    text = \"\"\n",
        "    with pdfplumber.open(file_path) as pdf:\n",
        "        for page in pdf.pages:\n",
        "            text += page.extract_text() + \"\\n\"\n",
        "    return text"
      ],
      "metadata": {
        "id": "_A9UDFE2byjo"
      },
      "execution_count": 19,
      "outputs": []
    },
    {
      "cell_type": "markdown",
      "source": [
        "## **Text preprocessing**"
      ],
      "metadata": {
        "id": "mxdWNIC3dQeu"
      }
    },
    {
      "cell_type": "code",
      "source": [
        "def preprocess_text(text):\n",
        "    # Lowercasing\n",
        "    text = text.lower()\n",
        "    # Removing punctuation\n",
        "    text = re.sub(f\"[{re.escape(string.punctuation)}]\", \"\", text)\n",
        "    # Tokenization\n",
        "    words = word_tokenize(text)\n",
        "    # Removing stop words\n",
        "    words = [word for word in words if word not in stopwords.words('english')]\n",
        "    return words"
      ],
      "metadata": {
        "id": "0YEaXWLedc4c"
      },
      "execution_count": 20,
      "outputs": []
    },
    {
      "cell_type": "code",
      "source": [],
      "metadata": {
        "id": "KXFXiKbEf9dx"
      },
      "execution_count": null,
      "outputs": []
    }
  ]
}