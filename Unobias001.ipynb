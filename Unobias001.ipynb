{
  "nbformat": 4,
  "nbformat_minor": 0,
  "metadata": {
    "colab": {
      "provenance": [],
      "gpuType": "T4",
      "authorship_tag": "ABX9TyPv/YQNcWcWjDu0FZ/qFEUd",
      "include_colab_link": true
    },
    "kernelspec": {
      "name": "python3",
      "display_name": "Python 3"
    },
    "language_info": {
      "name": "python"
    },
    "accelerator": "GPU"
  },
  "cells": [
    {
      "cell_type": "markdown",
      "metadata": {
        "id": "view-in-github",
        "colab_type": "text"
      },
      "source": [
        "<a href=\"https://colab.research.google.com/github/greatshotkid/greatshotkid/blob/main/Unobias001.ipynb\" target=\"_parent\"><img src=\"https://colab.research.google.com/assets/colab-badge.svg\" alt=\"Open In Colab\"/></a>"
      ]
    },
    {
      "cell_type": "markdown",
      "source": [
        "#  **Model 001, using simple bi-directional LSTM**"
      ],
      "metadata": {
        "id": "VL3gDM33yP9T"
      }
    },
    {
      "cell_type": "markdown",
      "source": [
        "## Importing dataset from google drive"
      ],
      "metadata": {
        "id": "Jt1l1H9LlumS"
      }
    },
    {
      "cell_type": "code",
      "source": [
        "from google.colab import drive\n",
        "drive.mount('/content/drive')"
      ],
      "metadata": {
        "colab": {
          "base_uri": "https://localhost:8080/"
        },
        "id": "3Hj2cMxNl7Si",
        "outputId": "afd4aabf-d29e-4ffe-e607-99ad1e2bbb59"
      },
      "execution_count": 1,
      "outputs": [
        {
          "output_type": "stream",
          "name": "stdout",
          "text": [
            "Mounted at /content/drive\n"
          ]
        }
      ]
    },
    {
      "cell_type": "markdown",
      "source": [
        "## Importing the zip file"
      ],
      "metadata": {
        "id": "qC2czDr2mMRg"
      }
    },
    {
      "cell_type": "code",
      "source": [
        "import zipfile\n",
        "zip_ref = zipfile.ZipFile(\"/content/drive/MyDrive/My Dataset.zip\", 'r')\n",
        "zip_ref.extractall(\"/content/dataset\")\n",
        "zip_ref.close()"
      ],
      "metadata": {
        "id": "MBa-YwwxmSPJ"
      },
      "execution_count": 2,
      "outputs": []
    },
    {
      "cell_type": "markdown",
      "source": [
        "## **Importing the required libraries**"
      ],
      "metadata": {
        "id": "h5CLcrSyx_jJ"
      }
    },
    {
      "cell_type": "code",
      "source": [
        "!pip install PyPDF2\n",
        "!pip install ftfy\n",
        "!pip install nltk\n",
        "import nltk\n",
        "nltk.download('punkt')\n",
        "nltk.download('stopwords')\n",
        "import PyPDF2\n",
        "import ftfy\n",
        "from io import BytesIO\n",
        "import os\n",
        "import re\n",
        "import string\n",
        "from nltk.corpus import stopwords\n",
        "from nltk.tokenize import word_tokenize\n",
        "import numpy as np\n",
        "import tensorflow as tf\n",
        "from tensorflow.keras.metrics import AUC\n",
        "from tensorflow.keras.preprocessing.text import Tokenizer\n",
        "import json\n",
        "import pandas as pd\n",
        "import matplotlib.pyplot as plt\n",
        "from tensorflow.keras.models import Sequential\n",
        "from tensorflow.keras.layers import Dense, Embedding, LSTM, Bidirectional, Dropout\n",
        "from tensorflow.keras.optimizers import Adam\n",
        "from tensorflow.keras.callbacks import EarlyStopping\n",
        "from tensorflow.keras.metrics import Precision, Recall\n",
        "from keras.preprocessing.sequence import pad_sequences\n",
        "from sklearn.model_selection import train_test_split\n",
        "%matplotlib inline"
      ],
      "metadata": {
        "id": "FB40FhDtyLxC",
        "colab": {
          "base_uri": "https://localhost:8080/"
        },
        "outputId": "6d639893-6766-499b-9b4a-83c5e35d836a"
      },
      "execution_count": 3,
      "outputs": [
        {
          "output_type": "stream",
          "name": "stdout",
          "text": [
            "Collecting PyPDF2\n",
            "  Downloading pypdf2-3.0.1-py3-none-any.whl.metadata (6.8 kB)\n",
            "Downloading pypdf2-3.0.1-py3-none-any.whl (232 kB)\n",
            "\u001b[?25l   \u001b[90m━━━━━━━━━━━━━━━━━━━━━━━━━━━━━━━━━━━━━━━━\u001b[0m \u001b[32m0.0/232.6 kB\u001b[0m \u001b[31m?\u001b[0m eta \u001b[36m-:--:--\u001b[0m\r\u001b[2K   \u001b[90m━━━━━━━━━━━━━━━━━━━━━━━━━━━━━━━━━━━━━━━━\u001b[0m \u001b[32m232.6/232.6 kB\u001b[0m \u001b[31m6.9 MB/s\u001b[0m eta \u001b[36m0:00:00\u001b[0m\n",
            "\u001b[?25hInstalling collected packages: PyPDF2\n",
            "Successfully installed PyPDF2-3.0.1\n",
            "Collecting ftfy\n",
            "  Downloading ftfy-6.2.3-py3-none-any.whl.metadata (7.8 kB)\n",
            "Requirement already satisfied: wcwidth<0.3.0,>=0.2.12 in /usr/local/lib/python3.10/dist-packages (from ftfy) (0.2.13)\n",
            "Downloading ftfy-6.2.3-py3-none-any.whl (43 kB)\n",
            "\u001b[2K   \u001b[90m━━━━━━━━━━━━━━━━━━━━━━━━━━━━━━━━━━━━━━━━\u001b[0m \u001b[32m43.0/43.0 kB\u001b[0m \u001b[31m3.4 MB/s\u001b[0m eta \u001b[36m0:00:00\u001b[0m\n",
            "\u001b[?25hInstalling collected packages: ftfy\n",
            "Successfully installed ftfy-6.2.3\n",
            "Requirement already satisfied: nltk in /usr/local/lib/python3.10/dist-packages (3.8.1)\n",
            "Requirement already satisfied: click in /usr/local/lib/python3.10/dist-packages (from nltk) (8.1.7)\n",
            "Requirement already satisfied: joblib in /usr/local/lib/python3.10/dist-packages (from nltk) (1.4.2)\n",
            "Requirement already satisfied: regex>=2021.8.3 in /usr/local/lib/python3.10/dist-packages (from nltk) (2024.5.15)\n",
            "Requirement already satisfied: tqdm in /usr/local/lib/python3.10/dist-packages (from nltk) (4.66.5)\n"
          ]
        },
        {
          "output_type": "stream",
          "name": "stderr",
          "text": [
            "[nltk_data] Downloading package punkt to /root/nltk_data...\n",
            "[nltk_data]   Unzipping tokenizers/punkt.zip.\n",
            "[nltk_data] Downloading package stopwords to /root/nltk_data...\n",
            "[nltk_data]   Unzipping corpora/stopwords.zip.\n"
          ]
        }
      ]
    },
    {
      "cell_type": "markdown",
      "source": [
        "## **Creating some constarints**"
      ],
      "metadata": {
        "id": "y0TFLAYhy5q9"
      }
    },
    {
      "cell_type": "code",
      "source": [
        "vocab_size = 10000\n",
        "embedding_dim = 128\n",
        "max_sequence_length = 1000\n",
        "trunc_type='post'\n",
        "padding_type='post'\n",
        "oov_tok = \"<OOV>\"\n"
      ],
      "metadata": {
        "id": "a9DBsxAtzFo6"
      },
      "execution_count": 4,
      "outputs": []
    },
    {
      "cell_type": "code",
      "source": [
        "# Define the AUC metric outside the tf.function\n",
        "auc_metric = AUC(name='auc')\n",
        "\n",
        "METRICS = [\n",
        "    tf.keras.metrics.BinaryAccuracy(name='accuracy'),\n",
        "    tf.keras.metrics.Precision(name='precision'),\n",
        "    tf.keras.metrics.Recall(name='recall'),\n",
        "    # Pass the pre-defined AUC metric here\n",
        "    auc_metric,\n",
        "    tf.keras.metrics.TruePositives(name='tp'),\n",
        "    tf.keras.metrics.FalsePositives(name='fp'),\n",
        "    tf.keras.metrics.TrueNegatives(name='tn'),\n",
        "    tf.keras.metrics.FalseNegatives(name='fn'),\n",
        "]\n",
        "\n",
        "def fresh_metrics():\n",
        "    return [metric() for metric in METRICS]"
      ],
      "metadata": {
        "id": "j0Cts7mizOw7"
      },
      "execution_count": 5,
      "outputs": []
    },
    {
      "cell_type": "markdown",
      "source": [
        "## **Extracting text from the pdf CVs**"
      ],
      "metadata": {
        "id": "SYiPD60U4_UQ"
      }
    },
    {
      "cell_type": "code",
      "source": [
        "def extract_text_from_pdf(file_path):\n",
        "    text = \"\"\n",
        "    try:\n",
        "        with open(file_path, 'rb') as file:\n",
        "            reader = PyPDF2.PdfReader(file)\n",
        "            for page in reader.pages:\n",
        "              extracted_text = page.extract_text()\n",
        "              if extracted_text:\n",
        "                text += ftfy.fix_text(extracted_text) + \"\\n\"\n",
        "\n",
        "    except PyPDF2.errors.PdfReadError as e:\n",
        "        print(f\"Error reading PDF file {file_path}: {e}\")\n",
        "        return \"\" # Return an empty string if an error occurs\n",
        "    return text\n"
      ],
      "metadata": {
        "id": "_A9UDFE2byjo"
      },
      "execution_count": 6,
      "outputs": []
    },
    {
      "cell_type": "markdown",
      "source": [
        "## **Text preprocessing**"
      ],
      "metadata": {
        "id": "mxdWNIC3dQeu"
      }
    },
    {
      "cell_type": "code",
      "source": [
        "def preprocess_text(text):\n",
        "    # Lowercasing\n",
        "    text = text.lower()\n",
        "    # Removing punctuation\n",
        "    text = re.sub(f\"[{re.escape(string.punctuation)}]\", \"\", text)\n",
        "    # Tokenization\n",
        "    words = word_tokenize(text)\n",
        "    # Removing stop words\n",
        "    words = [word for word in words if word not in stopwords.words('english')]\n",
        "    return words"
      ],
      "metadata": {
        "id": "0YEaXWLedc4c"
      },
      "execution_count": 7,
      "outputs": []
    },
    {
      "cell_type": "markdown",
      "source": [
        "## Importing file paths using os module"
      ],
      "metadata": {
        "id": "1NZlCSkw2kRL"
      }
    },
    {
      "cell_type": "code",
      "source": [
        "# List of file paths\n",
        "pdf_file_paths = []\n",
        "\n",
        "\n",
        "\n",
        "# Example: List all files in a directory\n",
        "directory = '/content/dataset/My Dataset'\n",
        "pdf_file_paths = [os.path.join(directory, file) for file in os.listdir(directory) if file.endswith('.pdf')]\n",
        "\n",
        "#for path in pdf_file_paths:\n",
        "    #print(path)\n",
        "\n"
      ],
      "metadata": {
        "id": "a2iWItoq2zu9"
      },
      "execution_count": 8,
      "outputs": []
    },
    {
      "cell_type": "markdown",
      "source": [
        "## Converting text into integers using Tokenize and Vectorize"
      ],
      "metadata": {
        "id": "XNm9xJw7f7Gq"
      }
    },
    {
      "cell_type": "code",
      "source": [
        "\n",
        "# Extract and preprocess all CVs\n",
        "list_of_texts = [preprocess_text(extract_text_from_pdf(file_path)) for file_path in pdf_file_paths] # Call the two functions to extract and preprocess\n",
        "\n",
        "# Initialize the tokenizer\n",
        "tokenizer = Tokenizer(num_words=vocab_size)\n",
        "tokenizer.fit_on_texts(list_of_texts)  # list_of_texts is a list of preprocessed CVs\n",
        "\n",
        "# Convert text to sequences\n",
        "sequences = tokenizer.texts_to_sequences(list_of_texts)"
      ],
      "metadata": {
        "colab": {
          "base_uri": "https://localhost:8080/"
        },
        "id": "-5Bf_ZXpr0M8",
        "outputId": "700ff2f4-627a-4afd-9dcb-b27955355b41"
      },
      "execution_count": 9,
      "outputs": [
        {
          "output_type": "stream",
          "name": "stderr",
          "text": [
            "WARNING:PyPDF2._reader:Overwriting cache for 0 76\n",
            "/usr/local/lib/python3.10/dist-packages/PyPDF2/_cmap.py:142: PdfReadWarning: Advanced encoding /SymbolSetEncoding not implemented yet\n",
            "  warnings.warn(\n",
            "WARNING:PyPDF2._reader:Overwriting cache for 0 48\n",
            "WARNING:PyPDF2._reader:Overwriting cache for 0 51\n",
            "/usr/local/lib/python3.10/dist-packages/PyPDF2/_cmap.py:142: PdfReadWarning: Advanced encoding /UniKS-UCS2-H not implemented yet\n",
            "  warnings.warn(\n",
            "WARNING:PyPDF2._reader:Overwriting cache for 0 216\n"
          ]
        }
      ]
    },
    {
      "cell_type": "markdown",
      "source": [
        "##Defining the Keywords"
      ],
      "metadata": {
        "id": "UP_agX2EIW_3"
      }
    },
    {
      "cell_type": "code",
      "source": [
        "# Loading keywords from a target file\n",
        "with open('/content/drive/MyDrive/ITkeywords.txt', 'r') as file:\n",
        "    keywords = file.read().splitlines()\n",
        "\n",
        "# code below used to see if file has been imported\n",
        "# print(keywords)"
      ],
      "metadata": {
        "id": "LhfUd9j9IbfT"
      },
      "execution_count": 10,
      "outputs": []
    },
    {
      "cell_type": "markdown",
      "source": [
        "##Creating labels for keywords"
      ],
      "metadata": {
        "id": "ck2lCcNsTIM5"
      }
    },
    {
      "cell_type": "code",
      "source": [
        "# Create labels for each CV based on presence of keywords\n",
        "def create_labels(lists_of_texts, keywords):\n",
        "    labels = []\n",
        "    for text in lists_of_texts:\n",
        "        label = [1 if keyword in text else 0 for keyword in keywords]\n",
        "        labels.append(label)\n",
        "    return labels"
      ],
      "metadata": {
        "id": "EEbi1DbpTLqX"
      },
      "execution_count": 11,
      "outputs": []
    },
    {
      "cell_type": "markdown",
      "source": [
        "##Creating labels and adding padding"
      ],
      "metadata": {
        "id": "lb3_awH9CDrP"
      }
    },
    {
      "cell_type": "code",
      "source": [
        "#creating labels for each CV based on presence of keywords\n",
        "labels = create_labels(list_of_texts, keywords)\n",
        "\n",
        "# Pad sequences\n",
        "padded_sequences = pad_sequences(sequences, maxlen=max_sequence_length)\n",
        "\n",
        "# Inspect padded_sequences\n",
        "print(\"Unique values in padded_sequences:\", np.unique(padded_sequences))\n",
        "\n",
        "# Replace None or special padding tokens (if present) with 0\n",
        "# Assuming the padding token is None, adjust if it's different\n",
        "padded_sequences[padded_sequences == None] = 0\n"
      ],
      "metadata": {
        "id": "icVKbqWvCHCu",
        "colab": {
          "base_uri": "https://localhost:8080/"
        },
        "outputId": "6d2f9bdb-7d27-4f19-ab5c-97837dc832c7"
      },
      "execution_count": 24,
      "outputs": [
        {
          "output_type": "stream",
          "name": "stdout",
          "text": [
            "Unique values in padded_sequences: [   0    1    2 ... 9997 9998 9999]\n"
          ]
        }
      ]
    },
    {
      "cell_type": "markdown",
      "source": [
        "## Creating training, testing and validation sets"
      ],
      "metadata": {
        "id": "RA7xlpEYE7UH"
      }
    },
    {
      "cell_type": "code",
      "source": [
        " # Split the data into training (80%) and testing (20%) sets\n",
        " X_train, X_test, y_train, y_test = train_test_split(padded_sequences, labels, test_size=0.2, random_state=42)\n",
        "\n",
        " # Split the training set into training (75%) and validation (25%) sets\n",
        "X_train, X_val, y_train, y_val = train_test_split(X_train, y_train, test_size=0.25, random_state=42)\n",
        "\n",
        "\n",
        "print(\"Shape of X_train:\", X_train.shape)\n",
        "print(\"First few samples of X_train:\", X_train[:2])\n",
        "print(len(X_train))"
      ],
      "metadata": {
        "colab": {
          "base_uri": "https://localhost:8080/"
        },
        "id": "aVnJ7sH9Fjdz",
        "outputId": "b0347431-4fa4-4574-b4c7-b867d4a67ce5"
      },
      "execution_count": 14,
      "outputs": [
        {
          "output_type": "stream",
          "name": "stdout",
          "text": [
            "Shape of X_train: (2091, 1000)\n",
            "First few samples of X_train: [[   0    0    0 ...   64  137 2061]\n",
            " [   0    0    0 ...   12  297 3888]]\n",
            "2091\n"
          ]
        }
      ]
    },
    {
      "cell_type": "markdown",
      "source": [
        "## Building the model"
      ],
      "metadata": {
        "id": "dWX1EqFgOKB1"
      }
    },
    {
      "cell_type": "code",
      "source": [
        "model_1 = Sequential([\n",
        "    Embedding(vocab_size, embedding_dim),\n",
        "    Bidirectional(LSTM(64, return_sequences=True)),\n",
        "    Bidirectional(LSTM(32)),\n",
        "    Dense(len(keywords), activation='sigmoid')\n",
        "])\n",
        "\n",
        "model_1.summary()"
      ],
      "metadata": {
        "colab": {
          "base_uri": "https://localhost:8080/",
          "height": 257
        },
        "id": "EQZlBHUTYb8q",
        "outputId": "bce4cadb-07f3-49a0-b8ad-aca4dc881da8"
      },
      "execution_count": 15,
      "outputs": [
        {
          "output_type": "display_data",
          "data": {
            "text/plain": [
              "\u001b[1mModel: \"sequential\"\u001b[0m\n"
            ],
            "text/html": [
              "<pre style=\"white-space:pre;overflow-x:auto;line-height:normal;font-family:Menlo,'DejaVu Sans Mono',consolas,'Courier New',monospace\"><span style=\"font-weight: bold\">Model: \"sequential\"</span>\n",
              "</pre>\n"
            ]
          },
          "metadata": {}
        },
        {
          "output_type": "display_data",
          "data": {
            "text/plain": [
              "┏━━━━━━━━━━━━━━━━━━━━━━━━━━━━━━━━━━━━━━┳━━━━━━━━━━━━━━━━━━━━━━━━━━━━━┳━━━━━━━━━━━━━━━━━┓\n",
              "┃\u001b[1m \u001b[0m\u001b[1mLayer (type)                        \u001b[0m\u001b[1m \u001b[0m┃\u001b[1m \u001b[0m\u001b[1mOutput Shape               \u001b[0m\u001b[1m \u001b[0m┃\u001b[1m \u001b[0m\u001b[1m        Param #\u001b[0m\u001b[1m \u001b[0m┃\n",
              "┡━━━━━━━━━━━━━━━━━━━━━━━━━━━━━━━━━━━━━━╇━━━━━━━━━━━━━━━━━━━━━━━━━━━━━╇━━━━━━━━━━━━━━━━━┩\n",
              "│ embedding (\u001b[38;5;33mEmbedding\u001b[0m)                │ ?                           │     \u001b[38;5;34m0\u001b[0m (unbuilt) │\n",
              "├──────────────────────────────────────┼─────────────────────────────┼─────────────────┤\n",
              "│ bidirectional (\u001b[38;5;33mBidirectional\u001b[0m)        │ ?                           │     \u001b[38;5;34m0\u001b[0m (unbuilt) │\n",
              "├──────────────────────────────────────┼─────────────────────────────┼─────────────────┤\n",
              "│ bidirectional_1 (\u001b[38;5;33mBidirectional\u001b[0m)      │ ?                           │     \u001b[38;5;34m0\u001b[0m (unbuilt) │\n",
              "├──────────────────────────────────────┼─────────────────────────────┼─────────────────┤\n",
              "│ dense (\u001b[38;5;33mDense\u001b[0m)                        │ ?                           │     \u001b[38;5;34m0\u001b[0m (unbuilt) │\n",
              "└──────────────────────────────────────┴─────────────────────────────┴─────────────────┘\n"
            ],
            "text/html": [
              "<pre style=\"white-space:pre;overflow-x:auto;line-height:normal;font-family:Menlo,'DejaVu Sans Mono',consolas,'Courier New',monospace\">┏━━━━━━━━━━━━━━━━━━━━━━━━━━━━━━━━━━━━━━┳━━━━━━━━━━━━━━━━━━━━━━━━━━━━━┳━━━━━━━━━━━━━━━━━┓\n",
              "┃<span style=\"font-weight: bold\"> Layer (type)                         </span>┃<span style=\"font-weight: bold\"> Output Shape                </span>┃<span style=\"font-weight: bold\">         Param # </span>┃\n",
              "┡━━━━━━━━━━━━━━━━━━━━━━━━━━━━━━━━━━━━━━╇━━━━━━━━━━━━━━━━━━━━━━━━━━━━━╇━━━━━━━━━━━━━━━━━┩\n",
              "│ embedding (<span style=\"color: #0087ff; text-decoration-color: #0087ff\">Embedding</span>)                │ ?                           │     <span style=\"color: #00af00; text-decoration-color: #00af00\">0</span> (unbuilt) │\n",
              "├──────────────────────────────────────┼─────────────────────────────┼─────────────────┤\n",
              "│ bidirectional (<span style=\"color: #0087ff; text-decoration-color: #0087ff\">Bidirectional</span>)        │ ?                           │     <span style=\"color: #00af00; text-decoration-color: #00af00\">0</span> (unbuilt) │\n",
              "├──────────────────────────────────────┼─────────────────────────────┼─────────────────┤\n",
              "│ bidirectional_1 (<span style=\"color: #0087ff; text-decoration-color: #0087ff\">Bidirectional</span>)      │ ?                           │     <span style=\"color: #00af00; text-decoration-color: #00af00\">0</span> (unbuilt) │\n",
              "├──────────────────────────────────────┼─────────────────────────────┼─────────────────┤\n",
              "│ dense (<span style=\"color: #0087ff; text-decoration-color: #0087ff\">Dense</span>)                        │ ?                           │     <span style=\"color: #00af00; text-decoration-color: #00af00\">0</span> (unbuilt) │\n",
              "└──────────────────────────────────────┴─────────────────────────────┴─────────────────┘\n",
              "</pre>\n"
            ]
          },
          "metadata": {}
        },
        {
          "output_type": "display_data",
          "data": {
            "text/plain": [
              "\u001b[1m Total params: \u001b[0m\u001b[38;5;34m0\u001b[0m (0.00 B)\n"
            ],
            "text/html": [
              "<pre style=\"white-space:pre;overflow-x:auto;line-height:normal;font-family:Menlo,'DejaVu Sans Mono',consolas,'Courier New',monospace\"><span style=\"font-weight: bold\"> Total params: </span><span style=\"color: #00af00; text-decoration-color: #00af00\">0</span> (0.00 B)\n",
              "</pre>\n"
            ]
          },
          "metadata": {}
        },
        {
          "output_type": "display_data",
          "data": {
            "text/plain": [
              "\u001b[1m Trainable params: \u001b[0m\u001b[38;5;34m0\u001b[0m (0.00 B)\n"
            ],
            "text/html": [
              "<pre style=\"white-space:pre;overflow-x:auto;line-height:normal;font-family:Menlo,'DejaVu Sans Mono',consolas,'Courier New',monospace\"><span style=\"font-weight: bold\"> Trainable params: </span><span style=\"color: #00af00; text-decoration-color: #00af00\">0</span> (0.00 B)\n",
              "</pre>\n"
            ]
          },
          "metadata": {}
        },
        {
          "output_type": "display_data",
          "data": {
            "text/plain": [
              "\u001b[1m Non-trainable params: \u001b[0m\u001b[38;5;34m0\u001b[0m (0.00 B)\n"
            ],
            "text/html": [
              "<pre style=\"white-space:pre;overflow-x:auto;line-height:normal;font-family:Menlo,'DejaVu Sans Mono',consolas,'Courier New',monospace\"><span style=\"font-weight: bold\"> Non-trainable params: </span><span style=\"color: #00af00; text-decoration-color: #00af00\">0</span> (0.00 B)\n",
              "</pre>\n"
            ]
          },
          "metadata": {}
        }
      ]
    },
    {
      "cell_type": "markdown",
      "source": [
        "##Handling None values in X_val"
      ],
      "metadata": {
        "id": "hgiNzFgfQ__a"
      }
    },
    {
      "cell_type": "code",
      "source": [
        "# Handle None values in X_val (replace with 0 for example)\n",
        "X_val = np.nan_to_num(X_val, nan=0.0)\n",
        "\n",
        "# Check if handling worked\n",
        "if np.any(np.isnan(X_val)):\n",
        "    print(\"X_val still contains None values.\")\n",
        "else:\n",
        "    print(\"X_val does not contain None values.\")\n"
      ],
      "metadata": {
        "colab": {
          "base_uri": "https://localhost:8080/"
        },
        "id": "BTi23xRqQ8O1",
        "outputId": "6eadd0f0-6c46-4f81-89de-e4b6742e4205"
      },
      "execution_count": 22,
      "outputs": [
        {
          "output_type": "stream",
          "name": "stdout",
          "text": [
            "X_val does not contain None values.\n"
          ]
        }
      ]
    },
    {
      "cell_type": "markdown",
      "source": [
        "##Compiling, training and saving the model"
      ],
      "metadata": {
        "id": "Dte9SAigZh_i"
      }
    },
    {
      "cell_type": "code",
      "source": [
        "#Compiling the model\n",
        "model_1.compile(\n",
        "    loss = 'binary_crossentropy',\n",
        "    optimizer = Adam(learning_rate=0.001),\n",
        "    metrics = METRICS\n",
        ")\n",
        "\n",
        "# Convert X_train, X_val, y_train, y_val to numpy arrays if they aren't already\n",
        "X_train = np.asarray(X_train, dtype=np.float32)\n",
        "X_val = np.asarray(X_val, dtype=np.float32)\n",
        "X_test = np.asarray(X_test, dtype=np.float32)\n",
        "y_train = np.asarray(y_train, dtype=np.float32) # Convert y_train to NumPy array\n",
        "y_val = np.asarray(y_val, dtype=np.float32)   # Convert y_val to NumPy array\n",
        "y_test = np.asarray(y_test, dtype=np.float32) # Convert y_test to NumPy array\n",
        "# Check and potentially adjust the batch size to be consistent\n",
        "batch_size = 17  # Or a smaller value if memory is an issue\n",
        "if X_train.shape[0] % batch_size != 0 or X_val.shape[0] % batch_size != 0:\n",
        "    print(\"Warning: Batch size does not divide evenly into the number of samples. Consider adjusting the batch size.\")\n",
        "\n",
        "#Training the model\n",
        "history_model_1 = model_1.fit(\n",
        "    X_train, y_train,\n",
        "    validation_data = (X_val, y_val),\n",
        "    epochs = 10,\n",
        "\n",
        ")\n",
        "\n",
        "#Saving the model\n",
        "model_1.save('model_1.keras')\n",
        "with open('history_model_1.json', 'w') as f:\n",
        "    json.dump(history_model_1.history, f)"
      ],
      "metadata": {
        "colab": {
          "base_uri": "https://localhost:8080/"
        },
        "id": "I2hutxw9jkdY",
        "outputId": "d21d0fcb-3bc8-47e7-f656-c14f89af6ffe"
      },
      "execution_count": 34,
      "outputs": [
        {
          "output_type": "stream",
          "name": "stdout",
          "text": [
            "Warning: Batch size does not divide evenly into the number of samples. Consider adjusting the batch size.\n",
            "Epoch 1/10\n",
            "\u001b[1m66/66\u001b[0m \u001b[32m━━━━━━━━━━━━━━━━━━━━\u001b[0m\u001b[37m\u001b[0m \u001b[1m17s\u001b[0m 171ms/step - accuracy: 0.9809 - auc: 0.9723 - fn: 2228.8059 - fp: 327.7164 - loss: 0.0513 - precision: 0.7740 - recall: 0.3322 - tn: 130019.5703 - tp: 1112.0597 - val_accuracy: 0.9799 - val_auc: 0.9652 - val_fn: 1471.0000 - val_fp: 251.0000 - val_loss: 0.0530 - val_precision: 0.6514 - val_recall: 0.2418 - val_tn: 83663.0000 - val_tp: 469.0000\n",
            "Epoch 2/10\n",
            "\u001b[1m66/66\u001b[0m \u001b[32m━━━━━━━━━━━━━━━━━━━━\u001b[0m\u001b[37m\u001b[0m \u001b[1m9s\u001b[0m 130ms/step - accuracy: 0.9802 - auc: 0.9728 - fn: 2259.1194 - fp: 342.1045 - loss: 0.0516 - precision: 0.7605 - recall: 0.3224 - tn: 129995.7734 - tp: 1091.1493 - val_accuracy: 0.9800 - val_auc: 0.9640 - val_fn: 1363.0000 - val_fp: 355.0000 - val_loss: 0.0525 - val_precision: 0.6191 - val_recall: 0.2974 - val_tn: 83559.0000 - val_tp: 577.0000\n",
            "Epoch 3/10\n",
            "\u001b[1m66/66\u001b[0m \u001b[32m━━━━━━━━━━━━━━━━━━━━\u001b[0m\u001b[37m\u001b[0m \u001b[1m11s\u001b[0m 140ms/step - accuracy: 0.9805 - auc: 0.9746 - fn: 2129.3879 - fp: 434.0895 - loss: 0.0514 - precision: 0.7466 - recall: 0.3845 - tn: 129807.2812 - tp: 1317.3881 - val_accuracy: 0.9804 - val_auc: 0.9664 - val_fn: 1364.0000 - val_fp: 319.0000 - val_loss: 0.0515 - val_precision: 0.6436 - val_recall: 0.2969 - val_tn: 83595.0000 - val_tp: 576.0000\n",
            "Epoch 4/10\n",
            "\u001b[1m66/66\u001b[0m \u001b[32m━━━━━━━━━━━━━━━━━━━━\u001b[0m\u001b[37m\u001b[0m \u001b[1m10s\u001b[0m 158ms/step - accuracy: 0.9812 - auc: 0.9766 - fn: 2060.3730 - fp: 438.6418 - loss: 0.0496 - precision: 0.7518 - recall: 0.3971 - tn: 129830.9141 - tp: 1358.2239 - val_accuracy: 0.9806 - val_auc: 0.9653 - val_fn: 1317.0000 - val_fp: 351.0000 - val_loss: 0.0515 - val_precision: 0.6396 - val_recall: 0.3211 - val_tn: 83563.0000 - val_tp: 623.0000\n",
            "Epoch 5/10\n",
            "\u001b[1m66/66\u001b[0m \u001b[32m━━━━━━━━━━━━━━━━━━━━\u001b[0m\u001b[37m\u001b[0m \u001b[1m19s\u001b[0m 127ms/step - accuracy: 0.9821 - auc: 0.9764 - fn: 2046.5970 - fp: 387.2985 - loss: 0.0476 - precision: 0.7731 - recall: 0.3885 - tn: 129954.0625 - tp: 1300.1940 - val_accuracy: 0.9809 - val_auc: 0.9664 - val_fn: 1334.0000 - val_fp: 304.0000 - val_loss: 0.0513 - val_precision: 0.6659 - val_recall: 0.3124 - val_tn: 83610.0000 - val_tp: 606.0000\n",
            "Epoch 6/10\n",
            "\u001b[1m66/66\u001b[0m \u001b[32m━━━━━━━━━━━━━━━━━━━━\u001b[0m\u001b[37m\u001b[0m \u001b[1m10s\u001b[0m 146ms/step - accuracy: 0.9824 - auc: 0.9795 - fn: 1906.9552 - fp: 430.8209 - loss: 0.0472 - precision: 0.7914 - recall: 0.4580 - tn: 129770.0312 - tp: 1580.3433 - val_accuracy: 0.9811 - val_auc: 0.9660 - val_fn: 1238.0000 - val_fp: 384.0000 - val_loss: 0.0507 - val_precision: 0.6464 - val_recall: 0.3619 - val_tn: 83530.0000 - val_tp: 702.0000\n",
            "Epoch 7/10\n",
            "\u001b[1m66/66\u001b[0m \u001b[32m━━━━━━━━━━━━━━━━━━━━\u001b[0m\u001b[37m\u001b[0m \u001b[1m11s\u001b[0m 154ms/step - accuracy: 0.9828 - auc: 0.9782 - fn: 1844.3732 - fp: 448.9254 - loss: 0.0469 - precision: 0.7719 - recall: 0.4465 - tn: 129869.0781 - tp: 1525.7761 - val_accuracy: 0.9810 - val_auc: 0.9666 - val_fn: 1273.0000 - val_fp: 359.0000 - val_loss: 0.0508 - val_precision: 0.6501 - val_recall: 0.3438 - val_tn: 83555.0000 - val_tp: 667.0000\n",
            "Epoch 8/10\n",
            "\u001b[1m66/66\u001b[0m \u001b[32m━━━━━━━━━━━━━━━━━━━━\u001b[0m\u001b[37m\u001b[0m \u001b[1m19s\u001b[0m 130ms/step - accuracy: 0.9832 - auc: 0.9803 - fn: 1793.2985 - fp: 477.9105 - loss: 0.0445 - precision: 0.7541 - recall: 0.4567 - tn: 129905.8516 - tp: 1511.0896 - val_accuracy: 0.9817 - val_auc: 0.9676 - val_fn: 1242.0000 - val_fp: 327.0000 - val_loss: 0.0500 - val_precision: 0.6810 - val_recall: 0.3598 - val_tn: 83587.0000 - val_tp: 698.0000\n",
            "Epoch 9/10\n",
            "\u001b[1m66/66\u001b[0m \u001b[32m━━━━━━━━━━━━━━━━━━━━\u001b[0m\u001b[37m\u001b[0m \u001b[1m11s\u001b[0m 147ms/step - accuracy: 0.9826 - auc: 0.9807 - fn: 1812.2836 - fp: 471.9851 - loss: 0.0460 - precision: 0.7679 - recall: 0.4624 - tn: 129847.1484 - tp: 1556.7313 - val_accuracy: 0.9811 - val_auc: 0.9684 - val_fn: 1179.0000 - val_fp: 445.0000 - val_loss: 0.0505 - val_precision: 0.6310 - val_recall: 0.3923 - val_tn: 83469.0000 - val_tp: 761.0000\n",
            "Epoch 10/10\n",
            "\u001b[1m66/66\u001b[0m \u001b[32m━━━━━━━━━━━━━━━━━━━━\u001b[0m\u001b[37m\u001b[0m \u001b[1m10s\u001b[0m 146ms/step - accuracy: 0.9838 - auc: 0.9820 - fn: 1756.1642 - fp: 486.8955 - loss: 0.0435 - precision: 0.7817 - recall: 0.4920 - tn: 129760.9219 - tp: 1684.1642 - val_accuracy: 0.9814 - val_auc: 0.9674 - val_fn: 1224.0000 - val_fp: 372.0000 - val_loss: 0.0504 - val_precision: 0.6581 - val_recall: 0.3691 - val_tn: 83542.0000 - val_tp: 716.0000\n"
          ]
        }
      ]
    },
    {
      "cell_type": "markdown",
      "source": [
        "##Plotting the training history"
      ],
      "metadata": {
        "id": "Rrba6mTxNlqD"
      }
    },
    {
      "cell_type": "code",
      "source": [
        "acc = history_model_1.history['accuracy']\n",
        "val_acc = history_model_1.history['val_accuracy']\n",
        "loss = history_model_1.history['loss']\n",
        "val_loss = history_model_1.history['val_loss']\n",
        "\n",
        "epochs = range(len(acc))\n",
        "\n",
        "plt.plot(epochs, acc, 'ro', label='Training acc')\n",
        "plt.plot(epochs, val_acc, 'b', label='Validation acc')\n",
        "plt.title('Training and validation accuracy')\n",
        "plt.legend()\n",
        "\n",
        "plt.figure()\n",
        "\n",
        "plt.plot(epochs, loss, 'ro', label='Training loss')\n",
        "plt.plot(epochs, val_loss, 'b', label='Validation loss')\n",
        "plt.title('Example training and validation loss')\n",
        "plt.legend()\n",
        "\n",
        "plt.show()"
      ],
      "metadata": {
        "colab": {
          "base_uri": "https://localhost:8080/",
          "height": 887
        },
        "id": "JLF3MrnRNn1q",
        "outputId": "a28814a2-a380-40e1-a263-f72f4068428b"
      },
      "execution_count": 35,
      "outputs": [
        {
          "output_type": "display_data",
          "data": {
            "text/plain": [
              "<Figure size 640x480 with 1 Axes>"
            ],
            "image/png": "[encoded data removed]"
          },
          "metadata": {}
        },
        {
          "output_type": "display_data",
          "data": {
            "text/plain": [
              "<Figure size 640x480 with 1 Axes>"
            ],
            "image/png": "[encoded data removed]"
          },
          "metadata": {}
        }
      ]
    },
    {
      "cell_type": "markdown",
      "source": [
        "## Evaluating model_1"
      ],
      "metadata": {
        "id": "OdWufqBqQH0y"
      }
    },
    {
      "cell_type": "code",
      "source": [
        "model_1.evaluate(X_test, y_test)"
      ],
      "metadata": {
        "colab": {
          "base_uri": "https://localhost:8080/"
        },
        "id": "dgSbioKxQKPC",
        "outputId": "9c2e03db-85c2-4f84-e4ba-40e2917e389c"
      },
      "execution_count": 36,
      "outputs": [
        {
          "output_type": "stream",
          "name": "stdout",
          "text": [
            "\u001b[1m22/22\u001b[0m \u001b[32m━━━━━━━━━━━━━━━━━━━━\u001b[0m\u001b[37m\u001b[0m \u001b[1m1s\u001b[0m 59ms/step - accuracy: 0.9805 - auc: 0.9646 - fn: 728.6957 - fp: 187.0870 - loss: 0.0543 - precision: 0.7083 - recall: 0.3853 - tn: 45608.3477 - tp: 472.5652\n"
          ]
        },
        {
          "output_type": "execute_result",
          "data": {
            "text/plain": [
              "[0.054526254534721375,\n",
              " 0.9804902672767639,\n",
              " 0.7269790172576904,\n",
              " 0.40232452750205994,\n",
              " 0.9670177698135376,\n",
              " 900.0,\n",
              " 338.0,\n",
              " 83279.0,\n",
              " 1337.0]"
            ]
          },
          "metadata": {},
          "execution_count": 36
        }
      ]
    }
  ]
}