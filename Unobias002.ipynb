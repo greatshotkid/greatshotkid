{
  "nbformat": 4,
  "nbformat_minor": 0,
  "metadata": {
    "colab": {
      "provenance": [],
      "gpuType": "T4",
      "authorship_tag": "ABX9TyO2Y3ZYS3DvDsdyKjiqTA30",
      "include_colab_link": true
    },
    "kernelspec": {
      "name": "python3",
      "display_name": "Python 3"
    },
    "language_info": {
      "name": "python"
    },
    "accelerator": "GPU"
  },
  "cells": [
    {
      "cell_type": "markdown",
      "metadata": {
        "id": "view-in-github",
        "colab_type": "text"
      },
      "source": [
        "<a href=\"https://colab.research.google.com/github/greatshotkid/greatshotkid/blob/main/Unobias002.ipynb\" target=\"_parent\"><img src=\"https://colab.research.google.com/assets/colab-badge.svg\" alt=\"Open In Colab\"/></a>"
      ]
    },
    {
      "cell_type": "markdown",
      "source": [
        "#  **Model 001, using simple bi-directional LSTM**"
      ],
      "metadata": {
        "id": "VL3gDM33yP9T"
      }
    },
    {
      "cell_type": "markdown",
      "source": [
        "## Importing dataset from google drive"
      ],
      "metadata": {
        "id": "Jt1l1H9LlumS"
      }
    },
    {
      "cell_type": "code",
      "source": [
        "from google.colab import drive\n",
        "drive.mount('/content/drive')"
      ],
      "metadata": {
        "colab": {
          "base_uri": "https://localhost:8080/"
        },
        "id": "3Hj2cMxNl7Si",
        "outputId": "5febe0ea-c870-45b6-8e2c-3e8264425b92"
      },
      "execution_count": 1,
      "outputs": [
        {
          "output_type": "stream",
          "name": "stdout",
          "text": [
            "Mounted at /content/drive\n"
          ]
        }
      ]
    },
    {
      "cell_type": "markdown",
      "source": [
        "## Importing the zip file"
      ],
      "metadata": {
        "id": "qC2czDr2mMRg"
      }
    },
    {
      "cell_type": "code",
      "source": [
        "import zipfile\n",
        "zip_ref = zipfile.ZipFile(\"/content/drive/MyDrive/My Dataset.zip\", 'r')\n",
        "zip_ref.extractall(\"/content/dataset\")\n",
        "zip_ref.close()"
      ],
      "metadata": {
        "id": "MBa-YwwxmSPJ"
      },
      "execution_count": 2,
      "outputs": []
    },
    {
      "cell_type": "markdown",
      "source": [
        "## **Importing the required libraries**"
      ],
      "metadata": {
        "id": "h5CLcrSyx_jJ"
      }
    },
    {
      "cell_type": "code",
      "source": [
        "!pip install PyPDF2\n",
        "!pip install ftfy\n",
        "!pip install nltk\n",
        "import nltk\n",
        "!pip install ipython\n",
        "from IPython.display import HTML\n",
        "nltk.download('punkt')\n",
        "nltk.download('stopwords')\n",
        "import PyPDF2\n",
        "import ftfy\n",
        "from io import BytesIO\n",
        "import os\n",
        "import re\n",
        "import keras\n",
        "import string\n",
        "from sklearn.metrics import confusion_matrix\n",
        "from nltk.corpus import stopwords\n",
        "from nltk.tokenize import word_tokenize\n",
        "import numpy as np\n",
        "import tensorflow as tf\n",
        "import seaborn as sns\n",
        "from tensorflow.keras.layers import Reshape\n",
        "from tensorflow.keras.metrics import AUC\n",
        "from tensorflow.keras.preprocessing.text import Tokenizer\n",
        "import json\n",
        "import pandas as pd\n",
        "import matplotlib.pyplot as plt\n",
        "from tensorflow.keras.models import Sequential\n",
        "from tensorflow.keras.layers import Dense, Embedding, LSTM, Bidirectional, Flatten, Dropout\n",
        "from tensorflow.keras.optimizers import Adam\n",
        "from tensorflow.keras.callbacks import EarlyStopping\n",
        "from tensorflow.keras.metrics import Precision, Recall\n",
        "from keras.preprocessing.sequence import pad_sequences\n",
        "from sklearn.model_selection import train_test_split\n",
        "%matplotlib inline"
      ],
      "metadata": {
        "id": "FB40FhDtyLxC",
        "colab": {
          "base_uri": "https://localhost:8080/"
        },
        "outputId": "e9787d06-30ae-428b-99ad-4cb7b0c9cc43"
      },
      "execution_count": 83,
      "outputs": [
        {
          "output_type": "stream",
          "name": "stdout",
          "text": [
            "Requirement already satisfied: PyPDF2 in /usr/local/lib/python3.10/dist-packages (3.0.1)\n",
            "Requirement already satisfied: ftfy in /usr/local/lib/python3.10/dist-packages (6.2.3)\n",
            "Requirement already satisfied: wcwidth<0.3.0,>=0.2.12 in /usr/local/lib/python3.10/dist-packages (from ftfy) (0.2.13)\n",
            "Requirement already satisfied: nltk in /usr/local/lib/python3.10/dist-packages (3.8.1)\n",
            "Requirement already satisfied: click in /usr/local/lib/python3.10/dist-packages (from nltk) (8.1.7)\n",
            "Requirement already satisfied: joblib in /usr/local/lib/python3.10/dist-packages (from nltk) (1.4.2)\n",
            "Requirement already satisfied: regex>=2021.8.3 in /usr/local/lib/python3.10/dist-packages (from nltk) (2024.5.15)\n",
            "Requirement already satisfied: tqdm in /usr/local/lib/python3.10/dist-packages (from nltk) (4.66.5)\n",
            "Requirement already satisfied: ipython in /usr/local/lib/python3.10/dist-packages (7.34.0)\n",
            "Requirement already satisfied: setuptools>=18.5 in /usr/local/lib/python3.10/dist-packages (from ipython) (71.0.4)\n",
            "Requirement already satisfied: jedi>=0.16 in /usr/local/lib/python3.10/dist-packages (from ipython) (0.19.1)\n",
            "Requirement already satisfied: decorator in /usr/local/lib/python3.10/dist-packages (from ipython) (4.4.2)\n",
            "Requirement already satisfied: pickleshare in /usr/local/lib/python3.10/dist-packages (from ipython) (0.7.5)\n",
            "Requirement already satisfied: traitlets>=4.2 in /usr/local/lib/python3.10/dist-packages (from ipython) (5.7.1)\n",
            "Requirement already satisfied: prompt-toolkit!=3.0.0,!=3.0.1,<3.1.0,>=2.0.0 in /usr/local/lib/python3.10/dist-packages (from ipython) (3.0.47)\n",
            "Requirement already satisfied: pygments in /usr/local/lib/python3.10/dist-packages (from ipython) (2.16.1)\n",
            "Requirement already satisfied: backcall in /usr/local/lib/python3.10/dist-packages (from ipython) (0.2.0)\n",
            "Requirement already satisfied: matplotlib-inline in /usr/local/lib/python3.10/dist-packages (from ipython) (0.1.7)\n",
            "Requirement already satisfied: pexpect>4.3 in /usr/local/lib/python3.10/dist-packages (from ipython) (4.9.0)\n",
            "Requirement already satisfied: parso<0.9.0,>=0.8.3 in /usr/local/lib/python3.10/dist-packages (from jedi>=0.16->ipython) (0.8.4)\n",
            "Requirement already satisfied: ptyprocess>=0.5 in /usr/local/lib/python3.10/dist-packages (from pexpect>4.3->ipython) (0.7.0)\n",
            "Requirement already satisfied: wcwidth in /usr/local/lib/python3.10/dist-packages (from prompt-toolkit!=3.0.0,!=3.0.1,<3.1.0,>=2.0.0->ipython) (0.2.13)\n"
          ]
        },
        {
          "output_type": "stream",
          "name": "stderr",
          "text": [
            "[nltk_data] Downloading package punkt to /root/nltk_data...\n",
            "[nltk_data]   Package punkt is already up-to-date!\n",
            "[nltk_data] Downloading package stopwords to /root/nltk_data...\n",
            "[nltk_data]   Package stopwords is already up-to-date!\n"
          ]
        }
      ]
    },
    {
      "cell_type": "markdown",
      "source": [
        "## **Creating some constarints**"
      ],
      "metadata": {
        "id": "y0TFLAYhy5q9"
      }
    },
    {
      "cell_type": "code",
      "source": [
        "vocab_size = 10000\n",
        "embedding_dim = 128\n",
        "max_sequence_length = 1000\n",
        "trunc_type='post'\n",
        "padding_type='post'\n",
        "oov_tok = \"<OOV>\"\n"
      ],
      "metadata": {
        "id": "a9DBsxAtzFo6"
      },
      "execution_count": 4,
      "outputs": []
    },
    {
      "cell_type": "code",
      "source": [
        "# Define the AUC metric outside the tf.function\n",
        "auc_metric = AUC(name='auc')\n",
        "\n",
        "METRICS = [\n",
        "    tf.keras.metrics.BinaryAccuracy(name='accuracy'),\n",
        "    tf.keras.metrics.Precision(name='precision'),\n",
        "    tf.keras.metrics.Recall(name='recall'),\n",
        "    # Pass the pre-defined AUC metric here\n",
        "    auc_metric,\n",
        "    tf.keras.metrics.TruePositives(name='tp'),\n",
        "    tf.keras.metrics.FalsePositives(name='fp'),\n",
        "    tf.keras.metrics.TrueNegatives(name='tn'),\n",
        "    tf.keras.metrics.FalseNegatives(name='fn'),\n",
        "]\n",
        "\n",
        "def fresh_metrics():\n",
        "    return [metric() for metric in METRICS]"
      ],
      "metadata": {
        "id": "j0Cts7mizOw7"
      },
      "execution_count": 5,
      "outputs": []
    },
    {
      "cell_type": "markdown",
      "source": [
        "## **Extracting text from the pdf CVs**"
      ],
      "metadata": {
        "id": "SYiPD60U4_UQ"
      }
    },
    {
      "cell_type": "code",
      "source": [
        "def extract_text_from_pdf(file_path):\n",
        "    text = \"\"\n",
        "    try:\n",
        "        with open(file_path, 'rb') as file:\n",
        "            reader = PyPDF2.PdfReader(file)\n",
        "            for page in reader.pages:\n",
        "              extracted_text = page.extract_text()\n",
        "              if extracted_text:\n",
        "                text += ftfy.fix_text(extracted_text) + \"\\n\"\n",
        "\n",
        "    except PyPDF2.errors.PdfReadError as e:\n",
        "        print(f\"Error reading PDF file {file_path}: {e}\")\n",
        "        return \"\" # Return an empty string if an error occurs\n",
        "    return text\n"
      ],
      "metadata": {
        "id": "_A9UDFE2byjo"
      },
      "execution_count": 123,
      "outputs": []
    },
    {
      "cell_type": "markdown",
      "source": [
        "## **Text preprocessing**"
      ],
      "metadata": {
        "id": "mxdWNIC3dQeu"
      }
    },
    {
      "cell_type": "code",
      "source": [
        "def preprocess_text(text):\n",
        "    # Lowercasing\n",
        "    text = text.lower()\n",
        "    # Removing punctuation\n",
        "    text = re.sub(f\"[{re.escape(string.punctuation)}]\", \"\", text)\n",
        "    # Tokenization\n",
        "    words = word_tokenize(text)\n",
        "    # Removing stop words\n",
        "    words = [word for word in words if word not in stopwords.words('english')]\n",
        "    return words"
      ],
      "metadata": {
        "id": "0YEaXWLedc4c"
      },
      "execution_count": 124,
      "outputs": []
    },
    {
      "cell_type": "markdown",
      "source": [
        "## Importing file paths using os module"
      ],
      "metadata": {
        "id": "1NZlCSkw2kRL"
      }
    },
    {
      "cell_type": "code",
      "source": [
        "# List of file paths\n",
        "pdf_file_paths = []\n",
        "\n",
        "\n",
        "\n",
        "# Example: List all files in a directory\n",
        "directory = '/content/dataset/My Dataset'\n",
        "pdf_file_paths = [os.path.join(directory, file) for file in os.listdir(directory) if file.endswith('.pdf')]\n",
        "\n",
        "#for path in pdf_file_paths:\n",
        "    #print(path)\n",
        "\n"
      ],
      "metadata": {
        "id": "a2iWItoq2zu9"
      },
      "execution_count": 125,
      "outputs": []
    },
    {
      "cell_type": "markdown",
      "source": [
        "## Converting text into integers using Tokenize and Vectorize"
      ],
      "metadata": {
        "id": "XNm9xJw7f7Gq"
      }
    },
    {
      "cell_type": "code",
      "source": [
        "\n",
        "# Extract and preprocess all CVs\n",
        "list_of_texts = [preprocess_text(extract_text_from_pdf(file_path)) for file_path in pdf_file_paths] # Call the two functions to extract and preprocess\n",
        "\n",
        "# Initialize the tokenizer\n",
        "tokenizer = Tokenizer(num_words=vocab_size)\n",
        "tokenizer.fit_on_texts(list_of_texts)  # list_of_texts is a list of preprocessed CVs\n",
        "\n",
        "# Convert text to sequences\n",
        "sequences = tokenizer.texts_to_sequences(list_of_texts)\n",
        "\n",
        "print(sequences[0])"
      ],
      "metadata": {
        "colab": {
          "base_uri": "https://localhost:8080/"
        },
        "id": "-5Bf_ZXpr0M8",
        "outputId": "2c39f918-fd27-4764-eb10-49f3233f5314"
      },
      "execution_count": 126,
      "outputs": [
        {
          "output_type": "stream",
          "name": "stderr",
          "text": [
            "/usr/local/lib/python3.10/dist-packages/PyPDF2/_cmap.py:142: PdfReadWarning: Advanced encoding /SymbolSetEncoding not implemented yet\n",
            "  warnings.warn(\n",
            "WARNING:PyPDF2._reader:Overwriting cache for 0 216\n",
            "/usr/local/lib/python3.10/dist-packages/PyPDF2/_cmap.py:142: PdfReadWarning: Advanced encoding /UniKS-UCS2-H not implemented yet\n",
            "  warnings.warn(\n",
            "WARNING:PyPDF2._reader:Overwriting cache for 0 76\n",
            "WARNING:PyPDF2._reader:Overwriting cache for 0 48\n",
            "WARNING:PyPDF2._reader:Overwriting cache for 0 51\n"
          ]
        },
        {
          "output_type": "stream",
          "name": "stdout",
          "text": [
            "[626, 171, 1391, 331, 2573, 2723, 3723, 3, 916, 70, 62, 467, 3209, 231, 5686, 323, 504, 1346, 9720, 209, 11, 1088, 920, 2339, 2672, 5079, 3677, 1380, 252, 2340, 2125, 462, 1380, 3, 14, 814, 1380, 2126, 2820, 3210, 3537, 63, 9004, 69, 1380, 212, 2611, 2929, 3, 5687, 6, 360, 1707, 1218, 727, 4084, 111, 64, 81, 3236, 1531, 1022, 1182, 2489, 81, 193, 2469, 4, 515, 4469, 1022, 70, 206, 1734, 910, 4540, 81, 111, 64, 137, 5252, 151, 151, 746, 102, 239, 597, 68, 20, 1734, 910, 7436, 2574, 1, 1088, 920, 414, 227, 892, 270, 73, 4469, 1734, 910, 4540, 1531, 892, 270, 73, 910, 2275, 2574, 1, 1088, 920, 766, 921, 1099, 267, 62, 2575, 191, 4348, 904, 1497, 1725, 1725, 2286, 2339, 1794, 2434, 72, 384, 221, 40, 437, 105, 162, 260, 37, 136, 31, 229, 31, 6722, 229, 4238, 5811, 1599, 31, 570, 185, 683, 2779, 139, 77, 13, 76, 9304, 697, 1258, 400, 96, 171, 1391, 6723, 451, 331, 350, 985, 920, 3324, 7437, 6724, 4910, 5484, 88, 1658, 1947, 746, 3324, 1781, 88, 2435, 2673, 9721, 109, 940, 8347, 789, 4349, 3023, 1219, 104, 804, 7043, 68, 20, 451, 4038, 451, 177, 179, 170, 883, 47, 427, 12, 2447, 415, 2592, 883, 923, 92, 13, 277, 59]\n"
          ]
        }
      ]
    },
    {
      "cell_type": "markdown",
      "source": [
        "##Defining the Keywords"
      ],
      "metadata": {
        "id": "UP_agX2EIW_3"
      }
    },
    {
      "cell_type": "code",
      "source": [
        "# Loading keywords from a target file\n",
        "with open('/content/drive/MyDrive/ITkeywords.txt', 'r') as file:\n",
        "    keywords = file.read().splitlines()\n",
        "\n",
        "# code below used to see if file has been imported\n",
        "# print(keywords)"
      ],
      "metadata": {
        "id": "LhfUd9j9IbfT"
      },
      "execution_count": 127,
      "outputs": []
    },
    {
      "cell_type": "markdown",
      "source": [
        "##Creating labels for keywords"
      ],
      "metadata": {
        "id": "ck2lCcNsTIM5"
      }
    },
    {
      "cell_type": "code",
      "source": [
        "# Create labels for each CV based on presence of keywords\n",
        "def create_labels(lists_of_texts, keywords, tokenizer):\n",
        "    labels = []\n",
        "    #print(\"Entering create_labels function\")\n",
        "    for text in lists_of_texts:\n",
        "        try:\n",
        "            # Convert word indices back to strings\n",
        "            words = [tokenizer.index_word.get(index, '') for index in text]\n",
        "\n",
        "            # Join the words back into a string\n",
        "            text_string = ' '.join(words)\n",
        "\n",
        "            # Print the type of text_string\n",
        "            #print(\"Type of text_string:\", type(text_string))\n",
        "\n",
        "            label = [1 if keyword in text_string else 0 for keyword in keywords]\n",
        "            labels.append(label)\n",
        "        except Exception as e:\n",
        "            print(\"Error occurred:\", e)\n",
        "    return labels\n",
        ""
      ],
      "metadata": {
        "id": "EEbi1DbpTLqX"
      },
      "execution_count": 153,
      "outputs": []
    },
    {
      "cell_type": "markdown",
      "source": [
        "##Creating labels and adding padding"
      ],
      "metadata": {
        "id": "lb3_awH9CDrP"
      }
    },
    {
      "cell_type": "code",
      "source": [
        "#creating labels for each CV based on presence of keywords\n",
        "labels = create_labels(list_of_texts, keywords, tokenizer)\n",
        "print(\"Called create_labels function\")\n",
        "# Pad sequences\n",
        "padded_sequences = pad_sequences(sequences, maxlen=max_sequence_length)\n",
        "\n",
        "# Inspect padded_sequences\n",
        "print(\"Unique values in padded_sequences:\", np.unique(padded_sequences))\n",
        "\n",
        "# Replace None or special padding tokens (if present) with 0\n",
        "# Assuming the padding token is None, adjust if it's different\n",
        "padded_sequences[padded_sequences == None] = 0\n",
        "\n",
        "print(padded_sequences[0])\n"
      ],
      "metadata": {
        "id": "icVKbqWvCHCu",
        "colab": {
          "base_uri": "https://localhost:8080/"
        },
        "outputId": "732f4986-17af-4852-a3ce-2c6c882b0259"
      },
      "execution_count": 154,
      "outputs": [
        {
          "output_type": "stream",
          "name": "stdout",
          "text": [
            "Called create_labels function\n",
            "Unique values in padded_sequences: [   0    1    2 ... 9997 9998 9999]\n",
            "[   0    0    0    0    0    0    0    0    0    0    0    0    0    0\n",
            "    0    0    0    0    0    0    0    0    0    0    0    0    0    0\n",
            "    0    0    0    0    0    0    0    0    0    0    0    0    0    0\n",
            "    0    0    0    0    0    0    0    0    0    0    0    0    0    0\n",
            "    0    0    0    0    0    0    0    0    0    0    0    0    0    0\n",
            "    0    0    0    0    0    0    0    0    0    0    0    0    0    0\n",
            "    0    0    0    0    0    0    0    0    0    0    0    0    0    0\n",
            "    0    0    0    0    0    0    0    0    0    0    0    0    0    0\n",
            "    0    0    0    0    0    0    0    0    0    0    0    0    0    0\n",
            "    0    0    0    0    0    0    0    0    0    0    0    0    0    0\n",
            "    0    0    0    0    0    0    0    0    0    0    0    0    0    0\n",
            "    0    0    0    0    0    0    0    0    0    0    0    0    0    0\n",
            "    0    0    0    0    0    0    0    0    0    0    0    0    0    0\n",
            "    0    0    0    0    0    0    0    0    0    0    0    0    0    0\n",
            "    0    0    0    0    0    0    0    0    0    0    0    0    0    0\n",
            "    0    0    0    0    0    0    0    0    0    0    0    0    0    0\n",
            "    0    0    0    0    0    0    0    0    0    0    0    0    0    0\n",
            "    0    0    0    0    0    0    0    0    0    0    0    0    0    0\n",
            "    0    0    0    0    0    0    0    0    0    0    0    0    0    0\n",
            "    0    0    0    0    0    0    0    0    0    0    0    0    0    0\n",
            "    0    0    0    0    0    0    0    0    0    0    0    0    0    0\n",
            "    0    0    0    0    0    0    0    0    0    0    0    0    0    0\n",
            "    0    0    0    0    0    0    0    0    0    0    0    0    0    0\n",
            "    0    0    0    0    0    0    0    0    0    0    0    0    0    0\n",
            "    0    0    0    0    0    0    0    0    0    0    0    0    0    0\n",
            "    0    0    0    0    0    0    0    0    0    0    0    0    0    0\n",
            "    0    0    0    0    0    0    0    0    0    0    0    0    0    0\n",
            "    0    0    0    0    0    0    0    0    0    0    0    0    0    0\n",
            "    0    0    0    0    0    0    0    0    0    0    0    0    0    0\n",
            "    0    0    0    0    0    0    0    0    0    0    0    0    0    0\n",
            "    0    0    0    0    0    0    0    0    0    0    0    0    0    0\n",
            "    0    0    0    0    0    0    0    0    0    0    0    0    0    0\n",
            "    0    0    0    0    0    0    0    0    0    0    0    0    0    0\n",
            "    0    0    0    0    0    0    0    0    0    0    0    0    0    0\n",
            "    0    0    0    0    0    0    0    0    0    0    0    0    0    0\n",
            "    0    0    0    0    0    0    0    0    0    0    0    0    0    0\n",
            "    0    0    0    0    0    0    0    0    0    0    0    0    0    0\n",
            "    0    0    0    0    0    0    0    0    0    0    0    0    0    0\n",
            "    0    0    0    0    0    0    0    0    0    0    0    0    0    0\n",
            "    0    0    0    0    0    0    0    0    0    0    0    0    0    0\n",
            "    0    0    0    0    0    0    0    0    0    0    0    0    0    0\n",
            "    0    0    0    0    0    0    0    0    0    0    0    0    0    0\n",
            "    0    0    0    0    0    0    0    0    0    0    0    0    0    0\n",
            "    0    0    0    0    0    0    0    0    0    0    0    0    0    0\n",
            "    0    0    0    0    0    0    0    0    0    0    0    0    0    0\n",
            "    0    0    0    0    0    0    0    0    0    0    0    0    0    0\n",
            "    0    0    0    0    0    0    0    0    0    0    0    0    0    0\n",
            "    0    0    0    0    0    0    0    0    0    0    0    0    0    0\n",
            "    0    0    0    0    0    0    0    0    0    0    0    0    0    0\n",
            "    0    0    0    0    0    0    0    0    0    0    0    0    0    0\n",
            "    0    0    0    0    0    0    0    0    0    0    0    0    0    0\n",
            "    0    0    0    0    0    0    0    0    0    0    0    0    0    0\n",
            "    0    0    0    0    0    0    0    0    0    0    0    0    0    0\n",
            "    0    0    0    0    0    0    0    0    0    0    0    0    0    0\n",
            "    0    0    0    0    0    0    0    0    0    0    0    0    0    0\n",
            "    0    0    0    0    0    0    0    0    0    0    0    0    0  626\n",
            "  171 1391  331 2573 2723 3723    3  916   70   62  467 3209  231 5686\n",
            "  323  504 1346 9720  209   11 1088  920 2339 2672 5079 3677 1380  252\n",
            " 2340 2125  462 1380    3   14  814 1380 2126 2820 3210 3537   63 9004\n",
            "   69 1380  212 2611 2929    3 5687    6  360 1707 1218  727 4084  111\n",
            "   64   81 3236 1531 1022 1182 2489   81  193 2469    4  515 4469 1022\n",
            "   70  206 1734  910 4540   81  111   64  137 5252  151  151  746  102\n",
            "  239  597   68   20 1734  910 7436 2574    1 1088  920  414  227  892\n",
            "  270   73 4469 1734  910 4540 1531  892  270   73  910 2275 2574    1\n",
            " 1088  920  766  921 1099  267   62 2575  191 4348  904 1497 1725 1725\n",
            " 2286 2339 1794 2434   72  384  221   40  437  105  162  260   37  136\n",
            "   31  229   31 6722  229 4238 5811 1599   31  570  185  683 2779  139\n",
            "   77   13   76 9304  697 1258  400   96  171 1391 6723  451  331  350\n",
            "  985  920 3324 7437 6724 4910 5484   88 1658 1947  746 3324 1781   88\n",
            " 2435 2673 9721  109  940 8347  789 4349 3023 1219  104  804 7043   68\n",
            "   20  451 4038  451  177  179  170  883   47  427   12 2447  415 2592\n",
            "  883  923   92   13  277   59]\n"
          ]
        }
      ]
    },
    {
      "cell_type": "markdown",
      "source": [
        "## Creating training, testing and validation sets"
      ],
      "metadata": {
        "id": "RA7xlpEYE7UH"
      }
    },
    {
      "cell_type": "code",
      "source": [
        " # Split the data into training (80%) and testing (20%) sets\n",
        "X_train_full, X_test, y_train_full, y_test = train_test_split(\n",
        "    padded_sequences, labels, test_size=0.2, random_state=42\n",
        ")\n",
        "\n",
        "# Split the training set into training (75%) and validation (25%) sets\n",
        "X_train, X_val, y_train, y_val = train_test_split(\n",
        "    X_train_full, y_train_full, test_size=0.25, random_state=42\n",
        ")\n",
        "\n",
        "print(\"Shape of X_train:\", X_train.shape)\n",
        "print(\"First few samples of X_train:\", X_train[:2])\n",
        "print(len(X_train))\n",
        "print(X_train[1])\n",
        "print(y_train[1])\n"
      ],
      "metadata": {
        "colab": {
          "base_uri": "https://localhost:8080/"
        },
        "id": "aVnJ7sH9Fjdz",
        "outputId": "3606997b-184b-4f1f-a998-b5893d28bb83"
      },
      "execution_count": 155,
      "outputs": [
        {
          "output_type": "stream",
          "name": "stdout",
          "text": [
            "Shape of X_train: (2091, 1000)\n",
            "First few samples of X_train: [[   0    0    0 ...  357    6  436]\n",
            " [   0    0    0 ...   92 2062   13]]\n",
            "2091\n",
            "[   0    0    0    0    0    0    0    0    0    0    0    0    0    0\n",
            "    0    0    0    0    0    0    0    0    0    0    0    0    0    0\n",
            "    0    0    0    0    0    0    0    0    0    0    0    0    0    0\n",
            "    0    0    0    0    0    0    0    0    0    0    0    0    0    0\n",
            "    0    0    0    0    0    0    0    0    0    0    0    0    0    0\n",
            "    0    0    0    0    0    0    0    0    0    0    0    0    0    0\n",
            "    0    0    0    0    0    0    0    0    0    0    0    0    0    0\n",
            "    0    0    0    0    0    0    0    0    0    0    0    0    0    0\n",
            "    0    0    0    0    0    0    0    0    0    0    0    0    0    0\n",
            "    0    0    0    0    0    0    0    0    0    0    0    0    0    0\n",
            "    0    0    0    0    0    0    0    0    0    0    0    0    0    0\n",
            "    0    0    0    0    0    0    0    0    0    0    0    0    0    0\n",
            "    0    0    0    0    0    0    0    0    0    0    0    0    0    0\n",
            "    0    0    0    0    0    0    0    0    0    0    0    0    0    0\n",
            "    0    0    0    0    0    0    0    0    0    0    0    0    0    0\n",
            "    0    0    0    0    0    0    0    0    0    0    0    0    0    0\n",
            "    0    0    0    0    0    0    0    0    0    0    0    0    0    0\n",
            "    0    0    0    0    0    0    0    0    0    0    0    0    0    0\n",
            "    0    0    0    0    0    0    0    0    0    0    0    0    0    0\n",
            "    0    0    0    0    0    0    0    0    0    0    0    0    0    0\n",
            "    0    0    0    0    0    0    0    0    0    0    0    0    0    0\n",
            "    0    0    0    0    0    0    0    0    0    0    0    0    0    0\n",
            "    0    0    0    0    0    0    0    0    0    0    0    0    0    0\n",
            "    0    0    0    0    0    0    0    0    0    0    0    0    0    0\n",
            "    0    0    0    0    0    0    0    0    0    0    0    0    0    0\n",
            "    0    0    0    0    0    0    0    0    0    0    0    0    0    0\n",
            "    0    0    0    0    0    0    0    0    0    0    0    0    0    0\n",
            "    0    0    0    0    0    0    0    0    0    0    0    0    0    0\n",
            "    0    0    0    0    0    0    0    0    0    0    0    0    0    0\n",
            "    0    0    0    0    0    0    0    0    0    0    0    0    0    0\n",
            "    0    0    0    0    0    0    0    0    0    0    0    0    0    0\n",
            "    0    0    0    0    0    0    0    0    0    0    0    0    0    0\n",
            "    0    0    0    0    0    0    0    0    0    0    0    0    0    0\n",
            "    0    0    0    0    0    0    0    0    0    0    0    0    0    0\n",
            "    0    0    0    0    0    0    0    0    0    0    0    0    0    0\n",
            "    0    0    0    0    0    0    0    0    0    0    0    0    0    0\n",
            "    0    0    0    0    0    0    0    0    0    0    0    0    0    0\n",
            "    0    0    0    0    0    0    0    0    0    0    0    0    0    0\n",
            "    0    0    0    0    0    0    0    0    0    0    0    0    0    0\n",
            "    0    0    0    0    0    0    0    0    0    0    0    0    0    0\n",
            "    0    0    0    0    0    0    0    0    0    0    0    0    0    0\n",
            "    0    0    0    0    0    0    0    0    0    0    0    0    0    0\n",
            "    0    0    0    0    0    0    0    0    0    0    0    0    0    0\n",
            "    0    0    0    0    0    0    0    0    0    0    0    0    0    0\n",
            "    0    0    0    0    0    0    0    0    0    0    0    0    0    0\n",
            "    0    0    0    0    0    0    0    0    0    0    0    0    0    0\n",
            "    0    0    0    0    0    0    0    0    0    0    0    0    0    0\n",
            "    0    0    0    0    0    0    0    0    0    0    0    0    0    0\n",
            "    0    0    0    0    0    0    0    0    0    0    0    0    0    0\n",
            "    0    0    0    0    0    0    0    0    0    0    0    0    0    0\n",
            "    0    0    0    0    0    0    0    0    0    0    0    0    0    0\n",
            "    0    0    0    0    0    0    0    0    0    0    0    0    0    0\n",
            "    0    0    0    0    0    0    0    0    0    0    0    0    0    0\n",
            "    0    0    0    0    0    0    0    0    0    0    0    0    0 8358\n",
            "   20   66 2543  142  114  100  843  319   84  616 2504   12 2481  617\n",
            "   63  253   63  198  106 9259  847   81  795  121   78   68   20   97\n",
            " 1991 8627  245 2633 3118   59 1482  599 1098   64  227  105   93 1482\n",
            "  599 1098   64  227  144   29   11  342    9  126  162 2731 3011  660\n",
            "  419  127 3304 9105  127  191 3598   69    4  887 4656  316   68    4\n",
            " 1547 2292    1  105  206 2329  721   68    4  887  269  243  518  257\n",
            "  974 1605  695   20   90   20   68 8627    4  887  667  760  278  137\n",
            "  518 2311 1432   50  721   48  720 2506    4  528  649  655  528 2423\n",
            "    4 1261 8062 2292    1   25 1034 7407  833 7329  175  458 1029 1605\n",
            " 2889 4888  839   37 3861    4 9260 1036 1155 1819    4 2586  463   28\n",
            "  695 1826  417    4 1839  488  620  658  286 1614    4 7791   40  112\n",
            "    4 4144 4871 8884    4 5066   57  596 8627  226  611    4 2061    4\n",
            "  476   52    6  350    4  863 2957    4  664  116 5263    4 1457  343\n",
            "  985 1350   69    4 1085 2413 2220   93   85    4  670 6284 1311 1320\n",
            " 1672 1875    4 1088   57 5619 2673 2753  670   56  226  129   37  136\n",
            "  416  185   13   76  229   31  139   77   96 3979  581 8060 1968 3722\n",
            "  267  127  126   65  267  963 1065  115 1160  963 1065  177  170   47\n",
            "  165   74   12   92 2062   13]\n",
            "[0, 0, 0, 0, 0, 0, 0, 0, 0, 0, 0, 0, 0, 0, 0, 0, 0, 0, 0, 0, 0, 0, 0, 0, 0, 0, 0, 0, 0, 0, 0, 0, 0, 0, 0, 0, 0, 0, 0, 0, 0, 0, 0, 0, 0, 0, 0, 0, 0, 0, 0, 0, 0, 0, 0, 0, 0, 0, 0, 0, 0, 0, 0, 0, 0, 0, 0, 0, 0, 0, 0, 0, 0, 0, 0, 0, 0, 0, 0, 0, 0, 0, 0, 0, 0, 0, 0, 0, 0, 0, 0, 0, 0, 0, 0, 0, 0, 0, 0, 0, 0, 0, 0, 0, 0, 0, 0, 0, 0, 0, 0, 0, 0, 0, 0, 0, 0, 0, 0, 0, 0, 0, 0]\n"
          ]
        }
      ]
    },
    {
      "cell_type": "markdown",
      "source": [
        "##Handling None values in X_val"
      ],
      "metadata": {
        "id": "hgiNzFgfQ__a"
      }
    },
    {
      "cell_type": "code",
      "source": [
        "# Handle None values in X_val (replace with 0 for example)\n",
        "X_val = np.nan_to_num(X_val, nan=0.0)\n",
        "\n",
        "# Check if handling worked\n",
        "if np.any(np.isnan(X_val)):\n",
        "    print(\"X_val still contains None values.\")\n",
        "else:\n",
        "    print(\"X_val does not contain None values.\")\n"
      ],
      "metadata": {
        "colab": {
          "base_uri": "https://localhost:8080/"
        },
        "id": "BTi23xRqQ8O1",
        "outputId": "b64ee68c-9ae7-4599-d33f-fa96e239230d"
      },
      "execution_count": 156,
      "outputs": [
        {
          "output_type": "stream",
          "name": "stdout",
          "text": [
            "X_val does not contain None values.\n"
          ]
        }
      ]
    },
    {
      "cell_type": "markdown",
      "source": [
        "## Building the model"
      ],
      "metadata": {
        "id": "dWX1EqFgOKB1"
      }
    },
    {
      "cell_type": "code",
      "source": [
        "model_1 = Sequential([\n",
        "    Embedding(vocab_size, embedding_dim),\n",
        "    Bidirectional(LSTM(64, return_sequences=True)),\n",
        "    Bidirectional(LSTM(32)),\n",
        "    Dense(len(keywords), activation='sigmoid')\n",
        "])\n",
        "\n"
      ],
      "metadata": {
        "id": "EQZlBHUTYb8q"
      },
      "execution_count": 157,
      "outputs": []
    },
    {
      "cell_type": "markdown",
      "source": [
        "##Compiling, training and saving the model"
      ],
      "metadata": {
        "id": "Dte9SAigZh_i"
      }
    },
    {
      "cell_type": "code",
      "source": [
        "#Compiling the model\n",
        "model_1.compile(\n",
        "    loss = 'binary_crossentropy',\n",
        "    optimizer = Adam(learning_rate=0.001),\n",
        "    metrics = METRICS\n",
        ")\n",
        "\n",
        "# Convert X_train, X_val, y_train, y_val to numpy arrays if they aren't already\n",
        "X_train = np.asarray(X_train, dtype=np.float32)\n",
        "X_val = np.asarray(X_val, dtype=np.float32)\n",
        "X_test = np.asarray(X_test, dtype=np.float32)\n",
        "y_train = np.asarray(y_train, dtype=np.float32) # Convert y_train to NumPy array\n",
        "y_val = np.asarray(y_val, dtype=np.float32)   # Convert y_val to NumPy array\n",
        "y_test = np.asarray(y_test, dtype=np.float32) # Convert y_test to NumPy array\n",
        "# Check and potentially adjust the batch size to be consistent\n",
        "batch_size = 17  # Or a smaller value if memory is an issue\n",
        "if X_train.shape[0] % batch_size != 0 or X_val.shape[0] % batch_size != 0:\n",
        "    print(\"Warning: Batch size does not divide evenly into the number of samples. Consider adjusting the batch size.\")\n",
        "\n",
        "#Training the model\n",
        "history_model_1 = model_1.fit(\n",
        "    X_train, y_train,\n",
        "    validation_data = (X_val, y_val),\n",
        "    epochs = 10,\n",
        "\n",
        ")\n",
        "\n",
        "#Saving the model\n",
        "model_1.save('model_1.keras')\n",
        "with open('history_model_1.json', 'w') as f:\n",
        "    json.dump(history_model_1.history, f)"
      ],
      "metadata": {
        "colab": {
          "base_uri": "https://localhost:8080/"
        },
        "id": "I2hutxw9jkdY",
        "outputId": "27987fa4-a74f-49de-ffec-6ee6752b981a"
      },
      "execution_count": 158,
      "outputs": [
        {
          "output_type": "stream",
          "name": "stdout",
          "text": [
            "Warning: Batch size does not divide evenly into the number of samples. Consider adjusting the batch size.\n",
            "Epoch 1/10\n",
            "\u001b[1m66/66\u001b[0m \u001b[32m━━━━━━━━━━━━━━━━━━━━\u001b[0m\u001b[37m\u001b[0m \u001b[1m15s\u001b[0m 137ms/step - accuracy: 0.9295 - auc: 0.3626 - fn: 1653.0000 - fp: 12734.5820 - loss: 0.4389 - precision: 0.0313 - recall: 0.1805 - tn: 204790.5625 - tp: 364.0000 - val_accuracy: 1.0000 - val_auc: 0.0000e+00 - val_fn: 0.0000e+00 - val_fp: 0.0000e+00 - val_loss: 0.0281 - val_precision: 0.0000e+00 - val_recall: 0.0000e+00 - val_tn: 85854.0000 - val_tp: 0.0000e+00\n",
            "Epoch 2/10\n",
            "\u001b[1m66/66\u001b[0m \u001b[32m━━━━━━━━━━━━━━━━━━━━\u001b[0m\u001b[37m\u001b[0m \u001b[1m9s\u001b[0m 140ms/step - accuracy: 1.0000 - auc: 0.0000e+00 - fn: 0.0000e+00 - fp: 0.0000e+00 - loss: 0.0208 - precision: 0.0000e+00 - recall: 0.0000e+00 - tn: 133688.1562 - tp: 0.0000e+00 - val_accuracy: 1.0000 - val_auc: 0.0000e+00 - val_fn: 0.0000e+00 - val_fp: 0.0000e+00 - val_loss: 0.0100 - val_precision: 0.0000e+00 - val_recall: 0.0000e+00 - val_tn: 85854.0000 - val_tp: 0.0000e+00\n",
            "Epoch 3/10\n",
            "\u001b[1m66/66\u001b[0m \u001b[32m━━━━━━━━━━━━━━━━━━━━\u001b[0m\u001b[37m\u001b[0m \u001b[1m10s\u001b[0m 140ms/step - accuracy: 1.0000 - auc: 0.0000e+00 - fn: 0.0000e+00 - fp: 0.0000e+00 - loss: 0.0086 - precision: 0.0000e+00 - recall: 0.0000e+00 - tn: 133688.1562 - tp: 0.0000e+00 - val_accuracy: 1.0000 - val_auc: 0.0000e+00 - val_fn: 0.0000e+00 - val_fp: 0.0000e+00 - val_loss: 0.0057 - val_precision: 0.0000e+00 - val_recall: 0.0000e+00 - val_tn: 85854.0000 - val_tp: 0.0000e+00\n",
            "Epoch 4/10\n",
            "\u001b[1m66/66\u001b[0m \u001b[32m━━━━━━━━━━━━━━━━━━━━\u001b[0m\u001b[37m\u001b[0m \u001b[1m9s\u001b[0m 125ms/step - accuracy: 1.0000 - auc: 0.0000e+00 - fn: 0.0000e+00 - fp: 0.0000e+00 - loss: 0.0051 - precision: 0.0000e+00 - recall: 0.0000e+00 - tn: 133688.1562 - tp: 0.0000e+00 - val_accuracy: 1.0000 - val_auc: 0.0000e+00 - val_fn: 0.0000e+00 - val_fp: 0.0000e+00 - val_loss: 0.0038 - val_precision: 0.0000e+00 - val_recall: 0.0000e+00 - val_tn: 85854.0000 - val_tp: 0.0000e+00\n",
            "Epoch 5/10\n",
            "\u001b[1m66/66\u001b[0m \u001b[32m━━━━━━━━━━━━━━━━━━━━\u001b[0m\u001b[37m\u001b[0m \u001b[1m10s\u001b[0m 122ms/step - accuracy: 1.0000 - auc: 0.0000e+00 - fn: 0.0000e+00 - fp: 0.0000e+00 - loss: 0.0035 - precision: 0.0000e+00 - recall: 0.0000e+00 - tn: 133688.1562 - tp: 0.0000e+00 - val_accuracy: 1.0000 - val_auc: 0.0000e+00 - val_fn: 0.0000e+00 - val_fp: 0.0000e+00 - val_loss: 0.0028 - val_precision: 0.0000e+00 - val_recall: 0.0000e+00 - val_tn: 85854.0000 - val_tp: 0.0000e+00\n",
            "Epoch 6/10\n",
            "\u001b[1m66/66\u001b[0m \u001b[32m━━━━━━━━━━━━━━━━━━━━\u001b[0m\u001b[37m\u001b[0m \u001b[1m9s\u001b[0m 140ms/step - accuracy: 1.0000 - auc: 0.0000e+00 - fn: 0.0000e+00 - fp: 0.0000e+00 - loss: 0.0026 - precision: 0.0000e+00 - recall: 0.0000e+00 - tn: 133688.1562 - tp: 0.0000e+00 - val_accuracy: 1.0000 - val_auc: 0.0000e+00 - val_fn: 0.0000e+00 - val_fp: 0.0000e+00 - val_loss: 0.0021 - val_precision: 0.0000e+00 - val_recall: 0.0000e+00 - val_tn: 85854.0000 - val_tp: 0.0000e+00\n",
            "Epoch 7/10\n",
            "\u001b[1m66/66\u001b[0m \u001b[32m━━━━━━━━━━━━━━━━━━━━\u001b[0m\u001b[37m\u001b[0m \u001b[1m11s\u001b[0m 155ms/step - accuracy: 1.0000 - auc: 0.0000e+00 - fn: 0.0000e+00 - fp: 0.0000e+00 - loss: 0.0020 - precision: 0.0000e+00 - recall: 0.0000e+00 - tn: 133688.1562 - tp: 0.0000e+00 - val_accuracy: 1.0000 - val_auc: 0.0000e+00 - val_fn: 0.0000e+00 - val_fp: 0.0000e+00 - val_loss: 0.0017 - val_precision: 0.0000e+00 - val_recall: 0.0000e+00 - val_tn: 85854.0000 - val_tp: 0.0000e+00\n",
            "Epoch 8/10\n",
            "\u001b[1m66/66\u001b[0m \u001b[32m━━━━━━━━━━━━━━━━━━━━\u001b[0m\u001b[37m\u001b[0m \u001b[1m8s\u001b[0m 121ms/step - accuracy: 1.0000 - auc: 0.0000e+00 - fn: 0.0000e+00 - fp: 0.0000e+00 - loss: 0.0016 - precision: 0.0000e+00 - recall: 0.0000e+00 - tn: 133688.1562 - tp: 0.0000e+00 - val_accuracy: 1.0000 - val_auc: 0.0000e+00 - val_fn: 0.0000e+00 - val_fp: 0.0000e+00 - val_loss: 0.0014 - val_precision: 0.0000e+00 - val_recall: 0.0000e+00 - val_tn: 85854.0000 - val_tp: 0.0000e+00\n",
            "Epoch 9/10\n",
            "\u001b[1m66/66\u001b[0m \u001b[32m━━━━━━━━━━━━━━━━━━━━\u001b[0m\u001b[37m\u001b[0m \u001b[1m11s\u001b[0m 127ms/step - accuracy: 1.0000 - auc: 0.0000e+00 - fn: 0.0000e+00 - fp: 0.0000e+00 - loss: 0.0013 - precision: 0.0000e+00 - recall: 0.0000e+00 - tn: 133688.1562 - tp: 0.0000e+00 - val_accuracy: 1.0000 - val_auc: 0.0000e+00 - val_fn: 0.0000e+00 - val_fp: 0.0000e+00 - val_loss: 0.0011 - val_precision: 0.0000e+00 - val_recall: 0.0000e+00 - val_tn: 85854.0000 - val_tp: 0.0000e+00\n",
            "Epoch 10/10\n",
            "\u001b[1m66/66\u001b[0m \u001b[32m━━━━━━━━━━━━━━━━━━━━\u001b[0m\u001b[37m\u001b[0m \u001b[1m9s\u001b[0m 135ms/step - accuracy: 1.0000 - auc: 0.0000e+00 - fn: 0.0000e+00 - fp: 0.0000e+00 - loss: 0.0011 - precision: 0.0000e+00 - recall: 0.0000e+00 - tn: 133688.1562 - tp: 0.0000e+00 - val_accuracy: 1.0000 - val_auc: 0.0000e+00 - val_fn: 0.0000e+00 - val_fp: 0.0000e+00 - val_loss: 9.7283e-04 - val_precision: 0.0000e+00 - val_recall: 0.0000e+00 - val_tn: 85854.0000 - val_tp: 0.0000e+00\n"
          ]
        }
      ]
    },
    {
      "cell_type": "code",
      "source": [
        "model_1.summary()"
      ],
      "metadata": {
        "colab": {
          "base_uri": "https://localhost:8080/",
          "height": 273
        },
        "id": "C9OVnOtFad3F",
        "outputId": "17a2d2cd-1ed9-47ce-a2a1-38b2a13b6cab"
      },
      "execution_count": 159,
      "outputs": [
        {
          "output_type": "display_data",
          "data": {
            "text/plain": [
              "\u001b[1mModel: \"sequential_12\"\u001b[0m\n"
            ],
            "text/html": [
              "<pre style=\"white-space:pre;overflow-x:auto;line-height:normal;font-family:Menlo,'DejaVu Sans Mono',consolas,'Courier New',monospace\"><span style=\"font-weight: bold\">Model: \"sequential_12\"</span>\n",
              "</pre>\n"
            ]
          },
          "metadata": {}
        },
        {
          "output_type": "display_data",
          "data": {
            "text/plain": [
              "┏━━━━━━━━━━━━━━━━━━━━━━━━━━━━━━━━━━━━━━┳━━━━━━━━━━━━━━━━━━━━━━━━━━━━━┳━━━━━━━━━━━━━━━━━┓\n",
              "┃\u001b[1m \u001b[0m\u001b[1mLayer (type)                        \u001b[0m\u001b[1m \u001b[0m┃\u001b[1m \u001b[0m\u001b[1mOutput Shape               \u001b[0m\u001b[1m \u001b[0m┃\u001b[1m \u001b[0m\u001b[1m        Param #\u001b[0m\u001b[1m \u001b[0m┃\n",
              "┡━━━━━━━━━━━━━━━━━━━━━━━━━━━━━━━━━━━━━━╇━━━━━━━━━━━━━━━━━━━━━━━━━━━━━╇━━━━━━━━━━━━━━━━━┩\n",
              "│ embedding_15 (\u001b[38;5;33mEmbedding\u001b[0m)             │ (\u001b[38;5;45mNone\u001b[0m, \u001b[38;5;34m1000\u001b[0m, \u001b[38;5;34m128\u001b[0m)           │       \u001b[38;5;34m1,280,000\u001b[0m │\n",
              "├──────────────────────────────────────┼─────────────────────────────┼─────────────────┤\n",
              "│ bidirectional_22 (\u001b[38;5;33mBidirectional\u001b[0m)     │ (\u001b[38;5;45mNone\u001b[0m, \u001b[38;5;34m1000\u001b[0m, \u001b[38;5;34m128\u001b[0m)           │          \u001b[38;5;34m98,816\u001b[0m │\n",
              "├──────────────────────────────────────┼─────────────────────────────┼─────────────────┤\n",
              "│ bidirectional_23 (\u001b[38;5;33mBidirectional\u001b[0m)     │ (\u001b[38;5;45mNone\u001b[0m, \u001b[38;5;34m64\u001b[0m)                  │          \u001b[38;5;34m41,216\u001b[0m │\n",
              "├──────────────────────────────────────┼─────────────────────────────┼─────────────────┤\n",
              "│ dense_10 (\u001b[38;5;33mDense\u001b[0m)                     │ (\u001b[38;5;45mNone\u001b[0m, \u001b[38;5;34m123\u001b[0m)                 │           \u001b[38;5;34m7,995\u001b[0m │\n",
              "└──────────────────────────────────────┴─────────────────────────────┴─────────────────┘\n"
            ],
            "text/html": [
              "<pre style=\"white-space:pre;overflow-x:auto;line-height:normal;font-family:Menlo,'DejaVu Sans Mono',consolas,'Courier New',monospace\">┏━━━━━━━━━━━━━━━━━━━━━━━━━━━━━━━━━━━━━━┳━━━━━━━━━━━━━━━━━━━━━━━━━━━━━┳━━━━━━━━━━━━━━━━━┓\n",
              "┃<span style=\"font-weight: bold\"> Layer (type)                         </span>┃<span style=\"font-weight: bold\"> Output Shape                </span>┃<span style=\"font-weight: bold\">         Param # </span>┃\n",
              "┡━━━━━━━━━━━━━━━━━━━━━━━━━━━━━━━━━━━━━━╇━━━━━━━━━━━━━━━━━━━━━━━━━━━━━╇━━━━━━━━━━━━━━━━━┩\n",
              "│ embedding_15 (<span style=\"color: #0087ff; text-decoration-color: #0087ff\">Embedding</span>)             │ (<span style=\"color: #00d7ff; text-decoration-color: #00d7ff\">None</span>, <span style=\"color: #00af00; text-decoration-color: #00af00\">1000</span>, <span style=\"color: #00af00; text-decoration-color: #00af00\">128</span>)           │       <span style=\"color: #00af00; text-decoration-color: #00af00\">1,280,000</span> │\n",
              "├──────────────────────────────────────┼─────────────────────────────┼─────────────────┤\n",
              "│ bidirectional_22 (<span style=\"color: #0087ff; text-decoration-color: #0087ff\">Bidirectional</span>)     │ (<span style=\"color: #00d7ff; text-decoration-color: #00d7ff\">None</span>, <span style=\"color: #00af00; text-decoration-color: #00af00\">1000</span>, <span style=\"color: #00af00; text-decoration-color: #00af00\">128</span>)           │          <span style=\"color: #00af00; text-decoration-color: #00af00\">98,816</span> │\n",
              "├──────────────────────────────────────┼─────────────────────────────┼─────────────────┤\n",
              "│ bidirectional_23 (<span style=\"color: #0087ff; text-decoration-color: #0087ff\">Bidirectional</span>)     │ (<span style=\"color: #00d7ff; text-decoration-color: #00d7ff\">None</span>, <span style=\"color: #00af00; text-decoration-color: #00af00\">64</span>)                  │          <span style=\"color: #00af00; text-decoration-color: #00af00\">41,216</span> │\n",
              "├──────────────────────────────────────┼─────────────────────────────┼─────────────────┤\n",
              "│ dense_10 (<span style=\"color: #0087ff; text-decoration-color: #0087ff\">Dense</span>)                     │ (<span style=\"color: #00d7ff; text-decoration-color: #00d7ff\">None</span>, <span style=\"color: #00af00; text-decoration-color: #00af00\">123</span>)                 │           <span style=\"color: #00af00; text-decoration-color: #00af00\">7,995</span> │\n",
              "└──────────────────────────────────────┴─────────────────────────────┴─────────────────┘\n",
              "</pre>\n"
            ]
          },
          "metadata": {}
        },
        {
          "output_type": "display_data",
          "data": {
            "text/plain": [
              "\u001b[1m Total params: \u001b[0m\u001b[38;5;34m4,284,083\u001b[0m (16.34 MB)\n"
            ],
            "text/html": [
              "<pre style=\"white-space:pre;overflow-x:auto;line-height:normal;font-family:Menlo,'DejaVu Sans Mono',consolas,'Courier New',monospace\"><span style=\"font-weight: bold\"> Total params: </span><span style=\"color: #00af00; text-decoration-color: #00af00\">4,284,083</span> (16.34 MB)\n",
              "</pre>\n"
            ]
          },
          "metadata": {}
        },
        {
          "output_type": "display_data",
          "data": {
            "text/plain": [
              "\u001b[1m Trainable params: \u001b[0m\u001b[38;5;34m1,428,027\u001b[0m (5.45 MB)\n"
            ],
            "text/html": [
              "<pre style=\"white-space:pre;overflow-x:auto;line-height:normal;font-family:Menlo,'DejaVu Sans Mono',consolas,'Courier New',monospace\"><span style=\"font-weight: bold\"> Trainable params: </span><span style=\"color: #00af00; text-decoration-color: #00af00\">1,428,027</span> (5.45 MB)\n",
              "</pre>\n"
            ]
          },
          "metadata": {}
        },
        {
          "output_type": "display_data",
          "data": {
            "text/plain": [
              "\u001b[1m Non-trainable params: \u001b[0m\u001b[38;5;34m0\u001b[0m (0.00 B)\n"
            ],
            "text/html": [
              "<pre style=\"white-space:pre;overflow-x:auto;line-height:normal;font-family:Menlo,'DejaVu Sans Mono',consolas,'Courier New',monospace\"><span style=\"font-weight: bold\"> Non-trainable params: </span><span style=\"color: #00af00; text-decoration-color: #00af00\">0</span> (0.00 B)\n",
              "</pre>\n"
            ]
          },
          "metadata": {}
        },
        {
          "output_type": "display_data",
          "data": {
            "text/plain": [
              "\u001b[1m Optimizer params: \u001b[0m\u001b[38;5;34m2,856,056\u001b[0m (10.89 MB)\n"
            ],
            "text/html": [
              "<pre style=\"white-space:pre;overflow-x:auto;line-height:normal;font-family:Menlo,'DejaVu Sans Mono',consolas,'Courier New',monospace\"><span style=\"font-weight: bold\"> Optimizer params: </span><span style=\"color: #00af00; text-decoration-color: #00af00\">2,856,056</span> (10.89 MB)\n",
              "</pre>\n"
            ]
          },
          "metadata": {}
        }
      ]
    },
    {
      "cell_type": "markdown",
      "source": [
        "##Reloading the model results"
      ],
      "metadata": {
        "id": "VXuYyxicYFgt"
      }
    },
    {
      "cell_type": "code",
      "source": [
        "model_1 = tf.keras.models.load_model('model_1.keras')\n",
        "with open('history_model_1.json') as f:\n",
        "    history_model_1 = json.load(f)"
      ],
      "metadata": {
        "id": "eqgYxK-1YI62"
      },
      "execution_count": 160,
      "outputs": []
    },
    {
      "cell_type": "markdown",
      "source": [
        "##Plotting the training history"
      ],
      "metadata": {
        "id": "Rrba6mTxNlqD"
      }
    },
    {
      "cell_type": "code",
      "source": [
        "acc = history_model_1['accuracy']\n",
        "val_acc = history_model_1['val_accuracy']\n",
        "loss = history_model_1['loss']\n",
        "val_loss = history_model_1['val_loss']\n",
        "\n",
        "epochs = range(len(acc))\n",
        "\n",
        "\n",
        "plt.plot(epochs, acc, 'ro', label='Training acc')\n",
        "plt.plot(epochs, val_acc, 'b', label='Validation acc')\n",
        "plt.title('Training and validation accuracy')\n",
        "plt.legend()\n",
        "\n",
        "plt.figure()\n",
        "\n",
        "plt.plot(epochs, loss, 'ro', label='Training loss')\n",
        "plt.plot(epochs, val_loss, 'b', label='Validation loss')\n",
        "plt.title('Example training and validation loss')\n",
        "plt.legend()\n",
        "\n",
        "plt.show()"
      ],
      "metadata": {
        "colab": {
          "base_uri": "https://localhost:8080/",
          "height": 887
        },
        "id": "JLF3MrnRNn1q",
        "outputId": "3564f609-5709-420f-b7f4-ad9d9ead80c1"
      },
      "execution_count": 161,
      "outputs": [
        {
          "output_type": "display_data",
          "data": {
            "text/plain": [
              "<Figure size 640x480 with 1 Axes>"
            ],
            "image/png": "[encoded data removed]"
          },
          "metadata": {}
        },
        {
          "output_type": "display_data",
          "data": {
            "text/plain": [
              "<Figure size 640x480 with 1 Axes>"
            ],
            "image/png": "[encoded data removed]"
          },
          "metadata": {}
        }
      ]
    },
    {
      "cell_type": "markdown",
      "source": [
        "## Evaluating model_1"
      ],
      "metadata": {
        "id": "OdWufqBqQH0y"
      }
    },
    {
      "cell_type": "code",
      "source": [
        "model_1.evaluate(X_test, y_test)"
      ],
      "metadata": {
        "colab": {
          "base_uri": "https://localhost:8080/"
        },
        "id": "dgSbioKxQKPC",
        "outputId": "b0c9eaf1-91b7-42be-dccc-cfe827c4320a"
      },
      "execution_count": 162,
      "outputs": [
        {
          "output_type": "stream",
          "name": "stdout",
          "text": [
            "\u001b[1m22/22\u001b[0m \u001b[32m━━━━━━━━━━━━━━━━━━━━\u001b[0m\u001b[37m\u001b[0m \u001b[1m3s\u001b[0m 90ms/step - accuracy: 1.0000 - auc: 0.0000e+00 - fn: 0.0000e+00 - fp: 0.0000e+00 - loss: 9.7299e-04 - precision: 0.0000e+00 - recall: 0.0000e+00 - tn: 46996.6953 - tp: 0.0000e+00\n"
          ]
        },
        {
          "output_type": "execute_result",
          "data": {
            "text/plain": [
              "[0.0009735625353641808, 1.0, 0.0, 0.0, 0.0, 0.0, 0.0, 85854.0, 0.0]"
            ]
          },
          "metadata": {},
          "execution_count": 162
        }
      ]
    },
    {
      "cell_type": "markdown",
      "source": [
        "##Confusion Matrix"
      ],
      "metadata": {
        "id": "l8CxVa1mxE-Y"
      }
    },
    {
      "cell_type": "markdown",
      "source": [
        "##Predictions"
      ],
      "metadata": {
        "id": "Yw11N9XC2vo5"
      }
    },
    {
      "cell_type": "code",
      "source": [
        "test_predictions = model_1.predict(X_test)\n",
        "print(test_predictions)"
      ],
      "metadata": {
        "colab": {
          "base_uri": "https://localhost:8080/"
        },
        "id": "r17cVGsS2y1i",
        "outputId": "a9feb232-fc67-4049-cc37-6bb72a18e0c4"
      },
      "execution_count": 163,
      "outputs": [
        {
          "output_type": "stream",
          "name": "stdout",
          "text": [
            "\u001b[1m22/22\u001b[0m \u001b[32m━━━━━━━━━━━━━━━━━━━━\u001b[0m\u001b[37m\u001b[0m \u001b[1m2s\u001b[0m 61ms/step\n",
            "[[0.00062187 0.00085425 0.00107694 ... 0.00056285 0.00096765 0.00049877]\n",
            " [0.00064874 0.00089786 0.00112091 ... 0.00059046 0.00102029 0.00052801]\n",
            " [0.00062178 0.00085412 0.00107674 ... 0.00056276 0.00096749 0.00049869]\n",
            " ...\n",
            " [0.00062214 0.00085461 0.00107742 ... 0.00056308 0.00096808 0.00049898]\n",
            " [0.00064794 0.00089661 0.00111952 ... 0.00058957 0.00101857 0.00052712]\n",
            " [0.00062137 0.00085355 0.001076   ... 0.00056239 0.00096686 0.00049838]]\n"
          ]
        }
      ]
    },
    {
      "cell_type": "markdown",
      "source": [
        "##Converting predictions to binary"
      ],
      "metadata": {
        "id": "2WzXaPOK2_8J"
      }
    },
    {
      "cell_type": "code",
      "source": [
        "binary_predictions = (test_predictions > 0.5).astype(int)"
      ],
      "metadata": {
        "id": "IeBqBpD83DbR"
      },
      "execution_count": 164,
      "outputs": []
    },
    {
      "cell_type": "markdown",
      "source": [
        "##Binary labels"
      ],
      "metadata": {
        "id": "UGbrtDeZ3KkG"
      }
    },
    {
      "cell_type": "code",
      "source": [
        "def words_to_binary(word_labels, keywords):\n",
        "  \"\"\"\n",
        "  Converts a list of word labels to binary labels.\n",
        "\n",
        "  Args:\n",
        "    word_labels: A list of lists, where each inner list contains indices of keywords present in a text.\n",
        "    keywords: A list of keywords.\n",
        "\n",
        "  Returns:\n",
        "    A list of lists, where each inner list contains binary labels (1 if the keyword is present, 0 otherwise).\n",
        "  \"\"\"\n",
        "  binary_labels = []\n",
        "  for labels in word_labels:\n",
        "    binary_row = [1 if i in labels else 0 for i in range(len(keywords))]\n",
        "    binary_labels.append(binary_row)\n",
        "  return binary_labels\n",
        "\n",
        "list_of_texts_test = X_test\n",
        "\n",
        "true_word_labels = create_labels(list_of_texts_test, keywords, tokenizer)\n",
        "true_binary_labels = words_to_binary(true_word_labels, keywords,)\n",
        "true_binary_labels_array = np.array(true_binary_labels)"
      ],
      "metadata": {
        "id": "0TSQKfpE3NJV"
      },
      "execution_count": 167,
      "outputs": []
    },
    {
      "cell_type": "markdown",
      "source": [
        "##Creating confusion matrix"
      ],
      "metadata": {
        "id": "Ui8QWvn836Do"
      }
    },
    {
      "cell_type": "code",
      "source": [
        "cm = confusion_matrix(true_binary_labels_array.argmax(axis=1), binary_predictions.argmax(axis=1))\n",
        "\n",
        "plt.figure(figsize=(10, 7))\n",
        "sns.heatmap(cm, annot=True, fmt='g')\n",
        "plt.xlabel('Predicted labels')\n",
        "plt.ylabel('True labels')\n",
        "plt.show()"
      ],
      "metadata": {
        "colab": {
          "base_uri": "https://localhost:8080/",
          "height": 619
        },
        "id": "0OGt-Q9q3_mF",
        "outputId": "b20919d1-9649-4d33-edb5-d35562c6f967"
      },
      "execution_count": 168,
      "outputs": [
        {
          "output_type": "display_data",
          "data": {
            "text/plain": [
              "<Figure size 1000x700 with 2 Axes>"
            ],
            "image/png": "[encoded data removed]"
          },
          "metadata": {}
        }
      ]
    },
    {
      "cell_type": "markdown",
      "source": [
        "## Changing batch size"
      ],
      "metadata": {
        "id": "TWeEot3ErIyv"
      }
    },
    {
      "cell_type": "markdown",
      "source": [
        "###Model 2"
      ],
      "metadata": {
        "id": "AQNG6iihrXE1"
      }
    },
    {
      "cell_type": "code",
      "source": [
        "model_2 = Sequential([\n",
        "    Embedding(vocab_size, embedding_dim),\n",
        "    Bidirectional(LSTM(64, return_sequences=True)),\n",
        "    Bidirectional(LSTM(32)),\n",
        "    Dense(len(keywords), activation='sigmoid')\n",
        "])\n",
        "\n"
      ],
      "metadata": {
        "id": "QRfwQmFxrMrl"
      },
      "execution_count": 25,
      "outputs": []
    },
    {
      "cell_type": "markdown",
      "source": [
        "##Compiling, training and saving the model"
      ],
      "metadata": {
        "id": "sGKiGyE-ro64"
      }
    },
    {
      "cell_type": "code",
      "source": [
        "#Compiling the model\n",
        "model_2.compile(\n",
        "    loss = 'binary_crossentropy',\n",
        "    optimizer = Adam(learning_rate=0.001),\n",
        "    metrics = METRICS\n",
        "\n",
        ")\n",
        "\n",
        "# Convert X_train, X_val, y_train, y_val to numpy arrays if they aren't already\n",
        "X_train = np.asarray(X_train, dtype=np.float32)\n",
        "X_val = np.asarray(X_val, dtype=np.float32)\n",
        "X_test = np.asarray(X_test, dtype=np.float32)\n",
        "y_train = np.asarray(y_train, dtype=np.float32) # Convert y_train to NumPy array\n",
        "y_val = np.asarray(y_val, dtype=np.float32)   # Convert y_val to NumPy array\n",
        "y_test = np.asarray(y_test, dtype=np.float32) # Convert y_test to NumPy array\n",
        "# Check and potentially adjust the batch size to be consistent\n",
        "batch_size = 41  # Or a smaller value if memory is an issue\n",
        "if X_train.shape[0] % batch_size != 0 or X_val.shape[0] % batch_size != 0:\n",
        "    print(\"Warning: Batch size does not divide evenly into the number of samples. Consider adjusting the batch size.\")\n",
        "\n",
        "#Training the model\n",
        "history_model_2 = model_2.fit(\n",
        "    X_train, y_train,\n",
        "    validation_data = (X_val, y_val),\n",
        "    epochs = 10,\n",
        "\n",
        ")\n",
        "\n",
        "#Saving the model\n",
        "model_2.save('model_2.keras')\n",
        "with open('history_model_2.json', 'w') as f:\n",
        "    json.dump(history_model_2.history, f)"
      ],
      "metadata": {
        "colab": {
          "base_uri": "https://localhost:8080/"
        },
        "id": "4D-qCt5rrodU",
        "outputId": "08df7065-d89a-43a6-efc7-45a6745e7259"
      },
      "execution_count": 26,
      "outputs": [
        {
          "output_type": "stream",
          "name": "stdout",
          "text": [
            "Warning: Batch size does not divide evenly into the number of samples. Consider adjusting the batch size.\n",
            "Epoch 1/10\n",
            "\u001b[1m66/66\u001b[0m \u001b[32m━━━━━━━━━━━━━━━━━━━━\u001b[0m\u001b[37m\u001b[0m \u001b[1m14s\u001b[0m 150ms/step - accuracy: 0.9212 - auc: 0.7319 - fn: 4521.8359 - fp: 12066.8955 - loss: 0.4692 - precision: 0.0767 - recall: 0.1890 - tn: 201997.9375 - tp: 955.4776 - val_accuracy: 0.9769 - val_auc: 0.9191 - val_fn: 1653.0000 - val_fp: 334.0000 - val_loss: 0.0850 - val_precision: 0.5215 - val_recall: 0.1805 - val_tn: 83503.0000 - val_tp: 364.0000\n",
            "Epoch 2/10\n",
            "\u001b[1m66/66\u001b[0m \u001b[32m━━━━━━━━━━━━━━━━━━━━\u001b[0m\u001b[37m\u001b[0m \u001b[1m9s\u001b[0m 137ms/step - accuracy: 0.9750 - auc: 0.9244 - fn: 3029.4031 - fp: 369.0000 - loss: 0.0838 - precision: 0.4874 - recall: 0.1200 - tn: 129949.8984 - tp: 339.8507 - val_accuracy: 0.9769 - val_auc: 0.9476 - val_fn: 1653.0000 - val_fp: 334.0000 - val_loss: 0.0715 - val_precision: 0.5215 - val_recall: 0.1805 - val_tn: 83503.0000 - val_tp: 364.0000\n",
            "Epoch 3/10\n",
            "\u001b[1m66/66\u001b[0m \u001b[32m━━━━━━━━━━━━━━━━━━━━\u001b[0m\u001b[37m\u001b[0m \u001b[1m10s\u001b[0m 130ms/step - accuracy: 0.9745 - auc: 0.9457 - fn: 3109.6716 - fp: 318.0597 - loss: 0.0758 - precision: 0.5037 - recall: 0.1077 - tn: 129941.4141 - tp: 319.0000 - val_accuracy: 0.9769 - val_auc: 0.9531 - val_fn: 1653.0000 - val_fp: 334.0000 - val_loss: 0.0675 - val_precision: 0.5215 - val_recall: 0.1805 - val_tn: 83503.0000 - val_tp: 364.0000\n",
            "Epoch 4/10\n",
            "\u001b[1m66/66\u001b[0m \u001b[32m━━━━━━━━━━━━━━━━━━━━\u001b[0m\u001b[37m\u001b[0m \u001b[1m10s\u001b[0m 128ms/step - accuracy: 0.9747 - auc: 0.9486 - fn: 3058.0747 - fp: 312.8806 - loss: 0.0728 - precision: 0.5171 - recall: 0.1135 - tn: 129985.1172 - tp: 332.0746 - val_accuracy: 0.9772 - val_auc: 0.9567 - val_fn: 1614.0000 - val_fp: 345.0000 - val_loss: 0.0651 - val_precision: 0.5388 - val_recall: 0.1998 - val_tn: 83492.0000 - val_tp: 403.0000\n",
            "Epoch 5/10\n",
            "\u001b[1m66/66\u001b[0m \u001b[32m━━━━━━━━━━━━━━━━━━━━\u001b[0m\u001b[37m\u001b[0m \u001b[1m11s\u001b[0m 132ms/step - accuracy: 0.9757 - auc: 0.9553 - fn: 2989.8508 - fp: 277.3582 - loss: 0.0687 - precision: 0.5781 - recall: 0.1360 - tn: 130017.1484 - tp: 403.7910 - val_accuracy: 0.9775 - val_auc: 0.9615 - val_fn: 1574.0000 - val_fp: 355.0000 - val_loss: 0.0625 - val_precision: 0.5551 - val_recall: 0.2196 - val_tn: 83482.0000 - val_tp: 443.0000\n",
            "Epoch 6/10\n",
            "\u001b[1m66/66\u001b[0m \u001b[32m━━━━━━━━━━━━━━━━━━━━\u001b[0m\u001b[37m\u001b[0m \u001b[1m10s\u001b[0m 138ms/step - accuracy: 0.9758 - auc: 0.9620 - fn: 2868.2239 - fp: 372.3881 - loss: 0.0651 - precision: 0.5793 - recall: 0.1726 - tn: 129919.0469 - tp: 528.4926 - val_accuracy: 0.9774 - val_auc: 0.9630 - val_fn: 1876.0000 - val_fp: 62.0000 - val_loss: 0.0603 - val_precision: 0.6946 - val_recall: 0.0699 - val_tn: 83775.0000 - val_tp: 141.0000\n",
            "Epoch 7/10\n",
            "\u001b[1m66/66\u001b[0m \u001b[32m━━━━━━━━━━━━━━━━━━━━\u001b[0m\u001b[37m\u001b[0m \u001b[1m10s\u001b[0m 147ms/step - accuracy: 0.9774 - auc: 0.9613 - fn: 2809.7761 - fp: 265.0448 - loss: 0.0619 - precision: 0.6376 - recall: 0.1212 - tn: 130132.1484 - tp: 481.1791 - val_accuracy: 0.9784 - val_auc: 0.9628 - val_fn: 1801.0000 - val_fp: 51.0000 - val_loss: 0.0592 - val_precision: 0.8090 - val_recall: 0.1071 - val_tn: 83786.0000 - val_tp: 216.0000\n",
            "Epoch 8/10\n",
            "\u001b[1m66/66\u001b[0m \u001b[32m━━━━━━━━━━━━━━━━━━━━\u001b[0m\u001b[37m\u001b[0m \u001b[1m9s\u001b[0m 128ms/step - accuracy: 0.9775 - auc: 0.9640 - fn: 2605.0598 - fp: 365.3881 - loss: 0.0615 - precision: 0.6844 - recall: 0.2251 - tn: 129953.0312 - tp: 764.6716 - val_accuracy: 0.9785 - val_auc: 0.9633 - val_fn: 1729.0000 - val_fp: 119.0000 - val_loss: 0.0590 - val_precision: 0.7076 - val_recall: 0.1428 - val_tn: 83718.0000 - val_tp: 288.0000\n",
            "Epoch 9/10\n",
            "\u001b[1m66/66\u001b[0m \u001b[32m━━━━━━━━━━━━━━━━━━━━\u001b[0m\u001b[37m\u001b[0m \u001b[1m9s\u001b[0m 137ms/step - accuracy: 0.9778 - auc: 0.9656 - fn: 2765.4775 - fp: 164.7761 - loss: 0.0618 - precision: 0.8088 - recall: 0.2030 - tn: 130089.4062 - tp: 668.4926 - val_accuracy: 0.9785 - val_auc: 0.9628 - val_fn: 1739.0000 - val_fp: 109.0000 - val_loss: 0.0584 - val_precision: 0.7183 - val_recall: 0.1378 - val_tn: 83728.0000 - val_tp: 278.0000\n",
            "Epoch 10/10\n",
            "\u001b[1m66/66\u001b[0m \u001b[32m━━━━━━━━━━━━━━━━━━━━\u001b[0m\u001b[37m\u001b[0m \u001b[1m11s\u001b[0m 143ms/step - accuracy: 0.9780 - auc: 0.9605 - fn: 2745.7761 - fp: 190.5075 - loss: 0.0621 - precision: 0.7955 - recall: 0.1825 - tn: 130085.8828 - tp: 665.9850 - val_accuracy: 0.9786 - val_auc: 0.9627 - val_fn: 1755.0000 - val_fp: 83.0000 - val_loss: 0.0579 - val_precision: 0.7594 - val_recall: 0.1299 - val_tn: 83754.0000 - val_tp: 262.0000\n"
          ]
        }
      ]
    },
    {
      "cell_type": "code",
      "source": [
        "model_2.summary()"
      ],
      "metadata": {
        "colab": {
          "base_uri": "https://localhost:8080/",
          "height": 273
        },
        "id": "tWzUDei-aPYa",
        "outputId": "54d253ea-41dd-4ecc-a117-c868f9c2a702"
      },
      "execution_count": 27,
      "outputs": [
        {
          "output_type": "display_data",
          "data": {
            "text/plain": [
              "\u001b[1mModel: \"sequential_1\"\u001b[0m\n"
            ],
            "text/html": [
              "<pre style=\"white-space:pre;overflow-x:auto;line-height:normal;font-family:Menlo,'DejaVu Sans Mono',consolas,'Courier New',monospace\"><span style=\"font-weight: bold\">Model: \"sequential_1\"</span>\n",
              "</pre>\n"
            ]
          },
          "metadata": {}
        },
        {
          "output_type": "display_data",
          "data": {
            "text/plain": [
              "┏━━━━━━━━━━━━━━━━━━━━━━━━━━━━━━━━━━━━━━┳━━━━━━━━━━━━━━━━━━━━━━━━━━━━━┳━━━━━━━━━━━━━━━━━┓\n",
              "┃\u001b[1m \u001b[0m\u001b[1mLayer (type)                        \u001b[0m\u001b[1m \u001b[0m┃\u001b[1m \u001b[0m\u001b[1mOutput Shape               \u001b[0m\u001b[1m \u001b[0m┃\u001b[1m \u001b[0m\u001b[1m        Param #\u001b[0m\u001b[1m \u001b[0m┃\n",
              "┡━━━━━━━━━━━━━━━━━━━━━━━━━━━━━━━━━━━━━━╇━━━━━━━━━━━━━━━━━━━━━━━━━━━━━╇━━━━━━━━━━━━━━━━━┩\n",
              "│ embedding_1 (\u001b[38;5;33mEmbedding\u001b[0m)              │ (\u001b[38;5;45mNone\u001b[0m, \u001b[38;5;34m1000\u001b[0m, \u001b[38;5;34m128\u001b[0m)           │       \u001b[38;5;34m1,280,000\u001b[0m │\n",
              "├──────────────────────────────────────┼─────────────────────────────┼─────────────────┤\n",
              "│ bidirectional_2 (\u001b[38;5;33mBidirectional\u001b[0m)      │ (\u001b[38;5;45mNone\u001b[0m, \u001b[38;5;34m1000\u001b[0m, \u001b[38;5;34m128\u001b[0m)           │          \u001b[38;5;34m98,816\u001b[0m │\n",
              "├──────────────────────────────────────┼─────────────────────────────┼─────────────────┤\n",
              "│ bidirectional_3 (\u001b[38;5;33mBidirectional\u001b[0m)      │ (\u001b[38;5;45mNone\u001b[0m, \u001b[38;5;34m64\u001b[0m)                  │          \u001b[38;5;34m41,216\u001b[0m │\n",
              "├──────────────────────────────────────┼─────────────────────────────┼─────────────────┤\n",
              "│ dense_1 (\u001b[38;5;33mDense\u001b[0m)                      │ (\u001b[38;5;45mNone\u001b[0m, \u001b[38;5;34m123\u001b[0m)                 │           \u001b[38;5;34m7,995\u001b[0m │\n",
              "└──────────────────────────────────────┴─────────────────────────────┴─────────────────┘\n"
            ],
            "text/html": [
              "<pre style=\"white-space:pre;overflow-x:auto;line-height:normal;font-family:Menlo,'DejaVu Sans Mono',consolas,'Courier New',monospace\">┏━━━━━━━━━━━━━━━━━━━━━━━━━━━━━━━━━━━━━━┳━━━━━━━━━━━━━━━━━━━━━━━━━━━━━┳━━━━━━━━━━━━━━━━━┓\n",
              "┃<span style=\"font-weight: bold\"> Layer (type)                         </span>┃<span style=\"font-weight: bold\"> Output Shape                </span>┃<span style=\"font-weight: bold\">         Param # </span>┃\n",
              "┡━━━━━━━━━━━━━━━━━━━━━━━━━━━━━━━━━━━━━━╇━━━━━━━━━━━━━━━━━━━━━━━━━━━━━╇━━━━━━━━━━━━━━━━━┩\n",
              "│ embedding_1 (<span style=\"color: #0087ff; text-decoration-color: #0087ff\">Embedding</span>)              │ (<span style=\"color: #00d7ff; text-decoration-color: #00d7ff\">None</span>, <span style=\"color: #00af00; text-decoration-color: #00af00\">1000</span>, <span style=\"color: #00af00; text-decoration-color: #00af00\">128</span>)           │       <span style=\"color: #00af00; text-decoration-color: #00af00\">1,280,000</span> │\n",
              "├──────────────────────────────────────┼─────────────────────────────┼─────────────────┤\n",
              "│ bidirectional_2 (<span style=\"color: #0087ff; text-decoration-color: #0087ff\">Bidirectional</span>)      │ (<span style=\"color: #00d7ff; text-decoration-color: #00d7ff\">None</span>, <span style=\"color: #00af00; text-decoration-color: #00af00\">1000</span>, <span style=\"color: #00af00; text-decoration-color: #00af00\">128</span>)           │          <span style=\"color: #00af00; text-decoration-color: #00af00\">98,816</span> │\n",
              "├──────────────────────────────────────┼─────────────────────────────┼─────────────────┤\n",
              "│ bidirectional_3 (<span style=\"color: #0087ff; text-decoration-color: #0087ff\">Bidirectional</span>)      │ (<span style=\"color: #00d7ff; text-decoration-color: #00d7ff\">None</span>, <span style=\"color: #00af00; text-decoration-color: #00af00\">64</span>)                  │          <span style=\"color: #00af00; text-decoration-color: #00af00\">41,216</span> │\n",
              "├──────────────────────────────────────┼─────────────────────────────┼─────────────────┤\n",
              "│ dense_1 (<span style=\"color: #0087ff; text-decoration-color: #0087ff\">Dense</span>)                      │ (<span style=\"color: #00d7ff; text-decoration-color: #00d7ff\">None</span>, <span style=\"color: #00af00; text-decoration-color: #00af00\">123</span>)                 │           <span style=\"color: #00af00; text-decoration-color: #00af00\">7,995</span> │\n",
              "└──────────────────────────────────────┴─────────────────────────────┴─────────────────┘\n",
              "</pre>\n"
            ]
          },
          "metadata": {}
        },
        {
          "output_type": "display_data",
          "data": {
            "text/plain": [
              "\u001b[1m Total params: \u001b[0m\u001b[38;5;34m4,284,083\u001b[0m (16.34 MB)\n"
            ],
            "text/html": [
              "<pre style=\"white-space:pre;overflow-x:auto;line-height:normal;font-family:Menlo,'DejaVu Sans Mono',consolas,'Courier New',monospace\"><span style=\"font-weight: bold\"> Total params: </span><span style=\"color: #00af00; text-decoration-color: #00af00\">4,284,083</span> (16.34 MB)\n",
              "</pre>\n"
            ]
          },
          "metadata": {}
        },
        {
          "output_type": "display_data",
          "data": {
            "text/plain": [
              "\u001b[1m Trainable params: \u001b[0m\u001b[38;5;34m1,428,027\u001b[0m (5.45 MB)\n"
            ],
            "text/html": [
              "<pre style=\"white-space:pre;overflow-x:auto;line-height:normal;font-family:Menlo,'DejaVu Sans Mono',consolas,'Courier New',monospace\"><span style=\"font-weight: bold\"> Trainable params: </span><span style=\"color: #00af00; text-decoration-color: #00af00\">1,428,027</span> (5.45 MB)\n",
              "</pre>\n"
            ]
          },
          "metadata": {}
        },
        {
          "output_type": "display_data",
          "data": {
            "text/plain": [
              "\u001b[1m Non-trainable params: \u001b[0m\u001b[38;5;34m0\u001b[0m (0.00 B)\n"
            ],
            "text/html": [
              "<pre style=\"white-space:pre;overflow-x:auto;line-height:normal;font-family:Menlo,'DejaVu Sans Mono',consolas,'Courier New',monospace\"><span style=\"font-weight: bold\"> Non-trainable params: </span><span style=\"color: #00af00; text-decoration-color: #00af00\">0</span> (0.00 B)\n",
              "</pre>\n"
            ]
          },
          "metadata": {}
        },
        {
          "output_type": "display_data",
          "data": {
            "text/plain": [
              "\u001b[1m Optimizer params: \u001b[0m\u001b[38;5;34m2,856,056\u001b[0m (10.89 MB)\n"
            ],
            "text/html": [
              "<pre style=\"white-space:pre;overflow-x:auto;line-height:normal;font-family:Menlo,'DejaVu Sans Mono',consolas,'Courier New',monospace\"><span style=\"font-weight: bold\"> Optimizer params: </span><span style=\"color: #00af00; text-decoration-color: #00af00\">2,856,056</span> (10.89 MB)\n",
              "</pre>\n"
            ]
          },
          "metadata": {}
        }
      ]
    },
    {
      "cell_type": "markdown",
      "source": [
        "##Reloading the model"
      ],
      "metadata": {
        "id": "cPwvYRnhvl6-"
      }
    },
    {
      "cell_type": "code",
      "source": [
        "model_2 = tf.keras.models.load_model('model_2.keras')\n",
        "with open('history_model_2.json') as f:\n",
        "    history_model_2 = json.load(f)"
      ],
      "metadata": {
        "id": "igQJRSBzw5wJ"
      },
      "execution_count": 28,
      "outputs": []
    },
    {
      "cell_type": "markdown",
      "source": [
        "##Plotting the training history"
      ],
      "metadata": {
        "id": "PLp0d2bLys_W"
      }
    },
    {
      "cell_type": "code",
      "source": [
        "acc = history_model_2['accuracy']\n",
        "val_acc = history_model_2['val_accuracy']\n",
        "loss = history_model_2['loss']\n",
        "val_loss = history_model_2['val_loss']\n",
        "\n",
        "epochs = range(len(acc))\n",
        "\n",
        "\n",
        "plt.plot(epochs, acc, 'ro', label='Training acc')\n",
        "plt.plot(epochs, val_acc, 'b', label='Validation acc')\n",
        "plt.title('Training and validation accuracy')\n",
        "plt.legend()\n",
        "\n",
        "plt.figure()\n",
        "\n",
        "plt.plot(epochs, loss, 'ro', label='Training loss')\n",
        "plt.plot(epochs, val_loss, 'b', label='Validation loss')\n",
        "plt.title('Model_2 training and validation loss')\n",
        "plt.legend()\n",
        "\n",
        "plt.show()"
      ],
      "metadata": {
        "colab": {
          "base_uri": "https://localhost:8080/",
          "height": 887
        },
        "id": "I_235uQJyxLg",
        "outputId": "48a84327-8dba-4cd1-fc09-0e4375d7456b"
      },
      "execution_count": 29,
      "outputs": [
        {
          "output_type": "display_data",
          "data": {
            "text/plain": [
              "<Figure size 640x480 with 1 Axes>"
            ],
            "image/png": "[encoded data removed]"
          },
          "metadata": {}
        },
        {
          "output_type": "display_data",
          "data": {
            "text/plain": [
              "<Figure size 640x480 with 1 Axes>"
            ],
            "image/png": "[encoded data removed]"
          },
          "metadata": {}
        }
      ]
    },
    {
      "cell_type": "markdown",
      "source": [
        "##Evaluting the model"
      ],
      "metadata": {
        "id": "BrbLvz6x0OTB"
      }
    },
    {
      "cell_type": "code",
      "source": [
        "model_2.evaluate(X_test, y_test)"
      ],
      "metadata": {
        "colab": {
          "base_uri": "https://localhost:8080/"
        },
        "id": "H0id0hRy0Qv2",
        "outputId": "4631c4d0-c6e3-47dd-b49c-44f245ef0485"
      },
      "execution_count": 30,
      "outputs": [
        {
          "output_type": "stream",
          "name": "stdout",
          "text": [
            "\u001b[1m22/22\u001b[0m \u001b[32m━━━━━━━━━━━━━━━━━━━━\u001b[0m\u001b[37m\u001b[0m \u001b[1m5s\u001b[0m 106ms/step - accuracy: 0.9785 - auc: 0.9652 - fn: 972.5217 - fp: 43.0870 - loss: 0.0574 - precision: 0.7576 - recall: 0.1160 - tn: 45839.4336 - tp: 141.6522\n"
          ]
        },
        {
          "output_type": "execute_result",
          "data": {
            "text/plain": [
              "[0.05934750288724899,\n",
              " 0.9776948094367981,\n",
              " 0.761904776096344,\n",
              " 0.14988289773464203,\n",
              " 0.965412437915802,\n",
              " 320.0,\n",
              " 100.0,\n",
              " 83619.0,\n",
              " 1815.0]"
            ]
          },
          "metadata": {},
          "execution_count": 30
        }
      ]
    },
    {
      "cell_type": "markdown",
      "source": [
        "##Predictions"
      ],
      "metadata": {
        "id": "z4EbzV2fizTB"
      }
    },
    {
      "cell_type": "code",
      "source": [
        "test_predictions = model_2.predict(X_test)\n",
        "print(test_predictions)\n"
      ],
      "metadata": {
        "colab": {
          "base_uri": "https://localhost:8080/"
        },
        "id": "Dpite9Aoi1Kp",
        "outputId": "7e105f23-e739-4f5b-de90-77b7cadb0b43"
      },
      "execution_count": 31,
      "outputs": [
        {
          "output_type": "stream",
          "name": "stdout",
          "text": [
            "\u001b[1m22/22\u001b[0m \u001b[32m━━━━━━━━━━━━━━━━━━━━\u001b[0m\u001b[37m\u001b[0m \u001b[1m2s\u001b[0m 86ms/step\n",
            "[[0.00062664 0.0026392  0.01853721 ... 0.00088726 0.00037226 0.00459081]\n",
            " [0.00126098 0.00557938 0.0283946  ... 0.00096397 0.00097472 0.00976034]\n",
            " [0.00062682 0.00263979 0.01854123 ... 0.00088757 0.00037236 0.00459166]\n",
            " ...\n",
            " [0.00062703 0.00264051 0.01854532 ... 0.00088794 0.00037247 0.00459266]\n",
            " [0.00177523 0.02034626 0.03468076 ... 0.00116342 0.00186837 0.04329537]\n",
            " [0.00062583 0.00263668 0.01852562 ... 0.00088603 0.00037184 0.00458726]]\n"
          ]
        }
      ]
    },
    {
      "cell_type": "markdown",
      "source": [
        "#Reduce number of LSTM modules"
      ],
      "metadata": {
        "id": "vXDkSZLvTwK7"
      }
    },
    {
      "cell_type": "markdown",
      "source": [
        "##Model 3"
      ],
      "metadata": {
        "id": "q8aeDaMLUIFm"
      }
    },
    {
      "cell_type": "code",
      "source": [
        "model_3 = Sequential([\n",
        "    Embedding(vocab_size, embedding_dim),\n",
        "    Bidirectional(LSTM(32, return_sequences=True)),\n",
        "    Bidirectional(LSTM(16)),\n",
        "    Dense(len(keywords), activation='sigmoid')\n",
        "])\n",
        "\n"
      ],
      "metadata": {
        "id": "JDrY45PeT6PO"
      },
      "execution_count": 32,
      "outputs": []
    },
    {
      "cell_type": "markdown",
      "source": [
        "##Compiling, training and saving the model"
      ],
      "metadata": {
        "id": "sXIntMcvULIc"
      }
    },
    {
      "cell_type": "code",
      "source": [
        "#Compiling the model\n",
        "model_3.compile(\n",
        "    loss = 'binary_crossentropy',\n",
        "    optimizer = Adam(learning_rate=0.001),\n",
        "    metrics = METRICS\n",
        "\n",
        ")\n",
        "\n",
        "# Convert X_train, X_val, y_train, y_val to numpy arrays if they aren't already\n",
        "X_train = np.asarray(X_train, dtype=np.float32)\n",
        "X_val = np.asarray(X_val, dtype=np.float32)\n",
        "X_test = np.asarray(X_test, dtype=np.float32)\n",
        "y_train = np.asarray(y_train, dtype=np.float32) # Convert y_train to NumPy array\n",
        "y_val = np.asarray(y_val, dtype=np.float32)   # Convert y_val to NumPy array\n",
        "y_test = np.asarray(y_test, dtype=np.float32) # Convert y_test to NumPy array\n",
        "# Check and potentially adjust the batch size to be consistent\n",
        "batch_size = 17  # Or a smaller value if memory is an issue\n",
        "if X_train.shape[0] % batch_size != 0 or X_val.shape[0] % batch_size != 0:\n",
        "    print(\"Warning: Batch size does not divide evenly into the number of samples. Consider adjusting the batch size.\")\n",
        "\n",
        "#Training the model\n",
        "history_model_3 = model_3.fit(\n",
        "    X_train, y_train,\n",
        "    validation_data = (X_val, y_val),\n",
        "    epochs = 10,\n",
        "\n",
        ")\n",
        "\n",
        "#Saving the model\n",
        "model_3.save('model_3.keras')\n",
        "with open('history_model_3.json', 'w') as f:\n",
        "    json.dump(history_model_3.history, f)"
      ],
      "metadata": {
        "colab": {
          "base_uri": "https://localhost:8080/"
        },
        "id": "Y0tqsU6yUQJs",
        "outputId": "7d4af1fd-b541-4fc0-911f-843bd714a539"
      },
      "execution_count": 33,
      "outputs": [
        {
          "output_type": "stream",
          "name": "stdout",
          "text": [
            "Warning: Batch size does not divide evenly into the number of samples. Consider adjusting the batch size.\n",
            "Epoch 1/10\n",
            "\u001b[1m66/66\u001b[0m \u001b[32m━━━━━━━━━━━━━━━━━━━━\u001b[0m\u001b[37m\u001b[0m \u001b[1m14s\u001b[0m 142ms/step - accuracy: 0.8888 - auc: 0.7026 - fn: 4437.3281 - fp: 19579.3281 - loss: 0.5687 - precision: 0.0491 - recall: 0.1826 - tn: 194553.3438 - tp: 972.1492 - val_accuracy: 0.9768 - val_auc: 0.8011 - val_fn: 1979.0000 - val_fp: 12.0000 - val_loss: 0.1539 - val_precision: 0.7600 - val_recall: 0.0188 - val_tn: 83825.0000 - val_tp: 38.0000\n",
            "Epoch 2/10\n",
            "\u001b[1m66/66\u001b[0m \u001b[32m━━━━━━━━━━━━━━━━━━━━\u001b[0m\u001b[37m\u001b[0m \u001b[1m9s\u001b[0m 134ms/step - accuracy: 0.9739 - auc: 0.8349 - fn: 3151.7463 - fp: 315.4478 - loss: 0.1343 - precision: 0.5685 - recall: 0.0919 - tn: 129871.6406 - tp: 349.3134 - val_accuracy: 0.9769 - val_auc: 0.9243 - val_fn: 1653.0000 - val_fp: 333.0000 - val_loss: 0.0911 - val_precision: 0.5222 - val_recall: 0.1805 - val_tn: 83504.0000 - val_tp: 364.0000\n",
            "Epoch 3/10\n",
            "\u001b[1m66/66\u001b[0m \u001b[32m━━━━━━━━━━━━━━━━━━━━\u001b[0m\u001b[37m\u001b[0m \u001b[1m9s\u001b[0m 121ms/step - accuracy: 0.9740 - auc: 0.9197 - fn: 2939.6418 - fp: 482.9552 - loss: 0.0945 - precision: 0.5175 - recall: 0.1533 - tn: 129746.7500 - tp: 518.8060 - val_accuracy: 0.9765 - val_auc: 0.9398 - val_fn: 2017.0000 - val_fp: 0.0000e+00 - val_loss: 0.0793 - val_precision: 0.0000e+00 - val_recall: 0.0000e+00 - val_tn: 83837.0000 - val_tp: 0.0000e+00\n",
            "Epoch 4/10\n",
            "\u001b[1m66/66\u001b[0m \u001b[32m━━━━━━━━━━━━━━━━━━━━\u001b[0m\u001b[37m\u001b[0m \u001b[1m10s\u001b[0m 116ms/step - accuracy: 0.9749 - auc: 0.9393 - fn: 3322.4626 - fp: 16.1791 - loss: 0.0825 - precision: 0.6359 - recall: 0.0121 - tn: 130294.2656 - tp: 55.2388 - val_accuracy: 0.9769 - val_auc: 0.9492 - val_fn: 1653.0000 - val_fp: 334.0000 - val_loss: 0.0737 - val_precision: 0.5215 - val_recall: 0.1805 - val_tn: 83503.0000 - val_tp: 364.0000\n",
            "Epoch 5/10\n",
            "\u001b[1m66/66\u001b[0m \u001b[32m━━━━━━━━━━━━━━━━━━━━\u001b[0m\u001b[37m\u001b[0m \u001b[1m9s\u001b[0m 133ms/step - accuracy: 0.9742 - auc: 0.9486 - fn: 3001.2537 - fp: 399.1194 - loss: 0.0793 - precision: 0.5291 - recall: 0.1411 - tn: 129842.8516 - tp: 444.9254 - val_accuracy: 0.9768 - val_auc: 0.9577 - val_fn: 1979.0000 - val_fp: 12.0000 - val_loss: 0.0691 - val_precision: 0.7600 - val_recall: 0.0188 - val_tn: 83825.0000 - val_tp: 38.0000\n",
            "Epoch 6/10\n",
            "\u001b[1m66/66\u001b[0m \u001b[32m━━━━━━━━━━━━━━━━━━━━\u001b[0m\u001b[37m\u001b[0m \u001b[1m11s\u001b[0m 148ms/step - accuracy: 0.9757 - auc: 0.9550 - fn: 3223.2388 - fp: 61.9403 - loss: 0.0719 - precision: 0.7656 - recall: 0.0330 - tn: 130269.9141 - tp: 133.0597 - val_accuracy: 0.9772 - val_auc: 0.9572 - val_fn: 1618.0000 - val_fp: 336.0000 - val_loss: 0.0661 - val_precision: 0.5429 - val_recall: 0.1978 - val_tn: 83501.0000 - val_tp: 399.0000\n",
            "Epoch 7/10\n",
            "\u001b[1m66/66\u001b[0m \u001b[32m━━━━━━━━━━━━━━━━━━━━\u001b[0m\u001b[37m\u001b[0m \u001b[1m8s\u001b[0m 116ms/step - accuracy: 0.9750 - auc: 0.9577 - fn: 3059.6418 - fp: 219.9403 - loss: 0.0708 - precision: 0.6333 - recall: 0.1362 - tn: 130007.4297 - tp: 401.1343 - val_accuracy: 0.9775 - val_auc: 0.9598 - val_fn: 1906.0000 - val_fp: 23.0000 - val_loss: 0.0638 - val_precision: 0.8284 - val_recall: 0.0550 - val_tn: 83814.0000 - val_tp: 111.0000\n",
            "Epoch 8/10\n",
            "\u001b[1m66/66\u001b[0m \u001b[32m━━━━━━━━━━━━━━━━━━━━\u001b[0m\u001b[37m\u001b[0m \u001b[1m11s\u001b[0m 125ms/step - accuracy: 0.9765 - auc: 0.9595 - fn: 3108.2686 - fp: 30.1343 - loss: 0.0674 - precision: 0.9134 - recall: 0.0890 - tn: 130237.3906 - tp: 312.3582 - val_accuracy: 0.9781 - val_auc: 0.9610 - val_fn: 1524.0000 - val_fp: 356.0000 - val_loss: 0.0621 - val_precision: 0.5807 - val_recall: 0.2444 - val_tn: 83481.0000 - val_tp: 493.0000\n",
            "Epoch 9/10\n",
            "\u001b[1m66/66\u001b[0m \u001b[32m━━━━━━━━━━━━━━━━━━━━\u001b[0m\u001b[37m\u001b[0m \u001b[1m11s\u001b[0m 160ms/step - accuracy: 0.9768 - auc: 0.9616 - fn: 2938.1792 - fp: 162.9403 - loss: 0.0652 - precision: 0.7358 - recall: 0.1734 - tn: 130030.9688 - tp: 556.0597 - val_accuracy: 0.9782 - val_auc: 0.9620 - val_fn: 1817.0000 - val_fp: 55.0000 - val_loss: 0.0610 - val_precision: 0.7843 - val_recall: 0.0992 - val_tn: 83782.0000 - val_tp: 200.0000\n",
            "Epoch 10/10\n",
            "\u001b[1m66/66\u001b[0m \u001b[32m━━━━━━━━━━━━━━━━━━━━\u001b[0m\u001b[37m\u001b[0m \u001b[1m18s\u001b[0m 117ms/step - accuracy: 0.9776 - auc: 0.9615 - fn: 2871.9104 - fp: 80.1194 - loss: 0.0641 - precision: 0.8453 - recall: 0.1368 - tn: 130258.9844 - tp: 477.1343 - val_accuracy: 0.9783 - val_auc: 0.9618 - val_fn: 1828.0000 - val_fp: 38.0000 - val_loss: 0.0604 - val_precision: 0.8326 - val_recall: 0.0937 - val_tn: 83799.0000 - val_tp: 189.0000\n"
          ]
        }
      ]
    },
    {
      "cell_type": "code",
      "source": [
        "model_3.summary()\n"
      ],
      "metadata": {
        "colab": {
          "base_uri": "https://localhost:8080/",
          "height": 273
        },
        "id": "YfbRj_lnZ9MI",
        "outputId": "b9db1669-54cf-423f-8b95-4b9f70a3df24"
      },
      "execution_count": 34,
      "outputs": [
        {
          "output_type": "display_data",
          "data": {
            "text/plain": [
              "\u001b[1mModel: \"sequential_2\"\u001b[0m\n"
            ],
            "text/html": [
              "<pre style=\"white-space:pre;overflow-x:auto;line-height:normal;font-family:Menlo,'DejaVu Sans Mono',consolas,'Courier New',monospace\"><span style=\"font-weight: bold\">Model: \"sequential_2\"</span>\n",
              "</pre>\n"
            ]
          },
          "metadata": {}
        },
        {
          "output_type": "display_data",
          "data": {
            "text/plain": [
              "┏━━━━━━━━━━━━━━━━━━━━━━━━━━━━━━━━━━━━━━┳━━━━━━━━━━━━━━━━━━━━━━━━━━━━━┳━━━━━━━━━━━━━━━━━┓\n",
              "┃\u001b[1m \u001b[0m\u001b[1mLayer (type)                        \u001b[0m\u001b[1m \u001b[0m┃\u001b[1m \u001b[0m\u001b[1mOutput Shape               \u001b[0m\u001b[1m \u001b[0m┃\u001b[1m \u001b[0m\u001b[1m        Param #\u001b[0m\u001b[1m \u001b[0m┃\n",
              "┡━━━━━━━━━━━━━━━━━━━━━━━━━━━━━━━━━━━━━━╇━━━━━━━━━━━━━━━━━━━━━━━━━━━━━╇━━━━━━━━━━━━━━━━━┩\n",
              "│ embedding_2 (\u001b[38;5;33mEmbedding\u001b[0m)              │ (\u001b[38;5;45mNone\u001b[0m, \u001b[38;5;34m1000\u001b[0m, \u001b[38;5;34m128\u001b[0m)           │       \u001b[38;5;34m1,280,000\u001b[0m │\n",
              "├──────────────────────────────────────┼─────────────────────────────┼─────────────────┤\n",
              "│ bidirectional_4 (\u001b[38;5;33mBidirectional\u001b[0m)      │ (\u001b[38;5;45mNone\u001b[0m, \u001b[38;5;34m1000\u001b[0m, \u001b[38;5;34m64\u001b[0m)            │          \u001b[38;5;34m41,216\u001b[0m │\n",
              "├──────────────────────────────────────┼─────────────────────────────┼─────────────────┤\n",
              "│ bidirectional_5 (\u001b[38;5;33mBidirectional\u001b[0m)      │ (\u001b[38;5;45mNone\u001b[0m, \u001b[38;5;34m32\u001b[0m)                  │          \u001b[38;5;34m10,368\u001b[0m │\n",
              "├──────────────────────────────────────┼─────────────────────────────┼─────────────────┤\n",
              "│ dense_2 (\u001b[38;5;33mDense\u001b[0m)                      │ (\u001b[38;5;45mNone\u001b[0m, \u001b[38;5;34m123\u001b[0m)                 │           \u001b[38;5;34m4,059\u001b[0m │\n",
              "└──────────────────────────────────────┴─────────────────────────────┴─────────────────┘\n"
            ],
            "text/html": [
              "<pre style=\"white-space:pre;overflow-x:auto;line-height:normal;font-family:Menlo,'DejaVu Sans Mono',consolas,'Courier New',monospace\">┏━━━━━━━━━━━━━━━━━━━━━━━━━━━━━━━━━━━━━━┳━━━━━━━━━━━━━━━━━━━━━━━━━━━━━┳━━━━━━━━━━━━━━━━━┓\n",
              "┃<span style=\"font-weight: bold\"> Layer (type)                         </span>┃<span style=\"font-weight: bold\"> Output Shape                </span>┃<span style=\"font-weight: bold\">         Param # </span>┃\n",
              "┡━━━━━━━━━━━━━━━━━━━━━━━━━━━━━━━━━━━━━━╇━━━━━━━━━━━━━━━━━━━━━━━━━━━━━╇━━━━━━━━━━━━━━━━━┩\n",
              "│ embedding_2 (<span style=\"color: #0087ff; text-decoration-color: #0087ff\">Embedding</span>)              │ (<span style=\"color: #00d7ff; text-decoration-color: #00d7ff\">None</span>, <span style=\"color: #00af00; text-decoration-color: #00af00\">1000</span>, <span style=\"color: #00af00; text-decoration-color: #00af00\">128</span>)           │       <span style=\"color: #00af00; text-decoration-color: #00af00\">1,280,000</span> │\n",
              "├──────────────────────────────────────┼─────────────────────────────┼─────────────────┤\n",
              "│ bidirectional_4 (<span style=\"color: #0087ff; text-decoration-color: #0087ff\">Bidirectional</span>)      │ (<span style=\"color: #00d7ff; text-decoration-color: #00d7ff\">None</span>, <span style=\"color: #00af00; text-decoration-color: #00af00\">1000</span>, <span style=\"color: #00af00; text-decoration-color: #00af00\">64</span>)            │          <span style=\"color: #00af00; text-decoration-color: #00af00\">41,216</span> │\n",
              "├──────────────────────────────────────┼─────────────────────────────┼─────────────────┤\n",
              "│ bidirectional_5 (<span style=\"color: #0087ff; text-decoration-color: #0087ff\">Bidirectional</span>)      │ (<span style=\"color: #00d7ff; text-decoration-color: #00d7ff\">None</span>, <span style=\"color: #00af00; text-decoration-color: #00af00\">32</span>)                  │          <span style=\"color: #00af00; text-decoration-color: #00af00\">10,368</span> │\n",
              "├──────────────────────────────────────┼─────────────────────────────┼─────────────────┤\n",
              "│ dense_2 (<span style=\"color: #0087ff; text-decoration-color: #0087ff\">Dense</span>)                      │ (<span style=\"color: #00d7ff; text-decoration-color: #00d7ff\">None</span>, <span style=\"color: #00af00; text-decoration-color: #00af00\">123</span>)                 │           <span style=\"color: #00af00; text-decoration-color: #00af00\">4,059</span> │\n",
              "└──────────────────────────────────────┴─────────────────────────────┴─────────────────┘\n",
              "</pre>\n"
            ]
          },
          "metadata": {}
        },
        {
          "output_type": "display_data",
          "data": {
            "text/plain": [
              "\u001b[1m Total params: \u001b[0m\u001b[38;5;34m4,006,931\u001b[0m (15.29 MB)\n"
            ],
            "text/html": [
              "<pre style=\"white-space:pre;overflow-x:auto;line-height:normal;font-family:Menlo,'DejaVu Sans Mono',consolas,'Courier New',monospace\"><span style=\"font-weight: bold\"> Total params: </span><span style=\"color: #00af00; text-decoration-color: #00af00\">4,006,931</span> (15.29 MB)\n",
              "</pre>\n"
            ]
          },
          "metadata": {}
        },
        {
          "output_type": "display_data",
          "data": {
            "text/plain": [
              "\u001b[1m Trainable params: \u001b[0m\u001b[38;5;34m1,335,643\u001b[0m (5.10 MB)\n"
            ],
            "text/html": [
              "<pre style=\"white-space:pre;overflow-x:auto;line-height:normal;font-family:Menlo,'DejaVu Sans Mono',consolas,'Courier New',monospace\"><span style=\"font-weight: bold\"> Trainable params: </span><span style=\"color: #00af00; text-decoration-color: #00af00\">1,335,643</span> (5.10 MB)\n",
              "</pre>\n"
            ]
          },
          "metadata": {}
        },
        {
          "output_type": "display_data",
          "data": {
            "text/plain": [
              "\u001b[1m Non-trainable params: \u001b[0m\u001b[38;5;34m0\u001b[0m (0.00 B)\n"
            ],
            "text/html": [
              "<pre style=\"white-space:pre;overflow-x:auto;line-height:normal;font-family:Menlo,'DejaVu Sans Mono',consolas,'Courier New',monospace\"><span style=\"font-weight: bold\"> Non-trainable params: </span><span style=\"color: #00af00; text-decoration-color: #00af00\">0</span> (0.00 B)\n",
              "</pre>\n"
            ]
          },
          "metadata": {}
        },
        {
          "output_type": "display_data",
          "data": {
            "text/plain": [
              "\u001b[1m Optimizer params: \u001b[0m\u001b[38;5;34m2,671,288\u001b[0m (10.19 MB)\n"
            ],
            "text/html": [
              "<pre style=\"white-space:pre;overflow-x:auto;line-height:normal;font-family:Menlo,'DejaVu Sans Mono',consolas,'Courier New',monospace\"><span style=\"font-weight: bold\"> Optimizer params: </span><span style=\"color: #00af00; text-decoration-color: #00af00\">2,671,288</span> (10.19 MB)\n",
              "</pre>\n"
            ]
          },
          "metadata": {}
        }
      ]
    },
    {
      "cell_type": "markdown",
      "source": [
        "##Reloading the model"
      ],
      "metadata": {
        "id": "cJtyqlZMVO0T"
      }
    },
    {
      "cell_type": "code",
      "source": [
        "model_3 = tf.keras.models.load_model('model_3.keras')\n",
        "with open('history_model_3.json') as f:\n",
        "    history_model_3 = json.load(f)"
      ],
      "metadata": {
        "id": "xDUAV78hVW5F"
      },
      "execution_count": 35,
      "outputs": []
    },
    {
      "cell_type": "markdown",
      "source": [
        "##Plotting the training history"
      ],
      "metadata": {
        "id": "qSDq1eE4VtKQ"
      }
    },
    {
      "cell_type": "code",
      "source": [
        "acc = history_model_3['accuracy']\n",
        "val_acc = history_model_3['val_accuracy']\n",
        "loss = history_model_3['loss']\n",
        "val_loss = history_model_3['val_loss']\n",
        "\n",
        "epochs = range(len(acc))\n",
        "\n",
        "\n",
        "plt.plot(epochs, acc, 'ro', label='Training acc')\n",
        "plt.plot(epochs, val_acc, 'b', label='Validation acc')\n",
        "plt.title('Model 3 Training and validation accuracy')\n",
        "plt.legend()\n",
        "\n",
        "plt.figure()\n",
        "\n",
        "plt.plot(epochs, loss, 'ro', label='Training loss')\n",
        "plt.plot(epochs, val_loss, 'b', label='Validation loss')\n",
        "plt.title('Model 3 training and validation loss')\n",
        "plt.legend()\n",
        "\n",
        "plt.show()"
      ],
      "metadata": {
        "colab": {
          "base_uri": "https://localhost:8080/",
          "height": 887
        },
        "id": "3DpQpviKVwCF",
        "outputId": "3bd9935c-cf89-4dff-fc78-6f919f3a641d"
      },
      "execution_count": 36,
      "outputs": [
        {
          "output_type": "display_data",
          "data": {
            "text/plain": [
              "<Figure size 640x480 with 1 Axes>"
            ],
            "image/png": "[encoded data removed]"
          },
          "metadata": {}
        },
        {
          "output_type": "display_data",
          "data": {
            "text/plain": [
              "<Figure size 640x480 with 1 Axes>"
            ],
            "image/png": "[encoded data removed]"
          },
          "metadata": {}
        }
      ]
    },
    {
      "cell_type": "markdown",
      "source": [
        "##Evaluating the model"
      ],
      "metadata": {
        "id": "pG6wJ_QVY1yC"
      }
    },
    {
      "cell_type": "code",
      "source": [
        "model_3.evaluate(X_test, y_test)"
      ],
      "metadata": {
        "colab": {
          "base_uri": "https://localhost:8080/"
        },
        "id": "rid-G-lgY4A3",
        "outputId": "8a7e7d2b-632c-45ef-e87b-b63e7205f38d"
      },
      "execution_count": 37,
      "outputs": [
        {
          "output_type": "stream",
          "name": "stdout",
          "text": [
            "\u001b[1m22/22\u001b[0m \u001b[32m━━━━━━━━━━━━━━━━━━━━\u001b[0m\u001b[37m\u001b[0m \u001b[1m2s\u001b[0m 54ms/step - accuracy: 0.9783 - auc: 0.9631 - fn: 1010.3043 - fp: 17.6957 - loss: 0.0598 - precision: 0.8280 - recall: 0.0872 - tn: 45864.8242 - tp: 103.8696\n"
          ]
        },
        {
          "output_type": "execute_result",
          "data": {
            "text/plain": [
              "[0.06257198750972748,\n",
              " 0.97739177942276,\n",
              " 0.8674242496490479,\n",
              " 0.10725995153188705,\n",
              " 0.9626405239105225,\n",
              " 229.0,\n",
              " 35.0,\n",
              " 83684.0,\n",
              " 1906.0]"
            ]
          },
          "metadata": {},
          "execution_count": 37
        }
      ]
    },
    {
      "cell_type": "markdown",
      "source": [
        "##Predictions"
      ],
      "metadata": {
        "id": "opPvfdeXj7uE"
      }
    },
    {
      "cell_type": "code",
      "source": [
        "test_predictions = model_3.predict(X_test)\n",
        "print(test_predictions)"
      ],
      "metadata": {
        "colab": {
          "base_uri": "https://localhost:8080/"
        },
        "id": "fdqcfsrfj9xY",
        "outputId": "de2aa4ae-79ff-4be6-b837-f16efbf59ebf"
      },
      "execution_count": 38,
      "outputs": [
        {
          "output_type": "stream",
          "name": "stdout",
          "text": [
            "\u001b[1m22/22\u001b[0m \u001b[32m━━━━━━━━━━━━━━━━━━━━\u001b[0m\u001b[37m\u001b[0m \u001b[1m2s\u001b[0m 62ms/step\n",
            "[[0.00422003 0.00706041 0.01592431 ... 0.00217358 0.00246435 0.00835023]\n",
            " [0.00648969 0.01023472 0.02456933 ... 0.00326661 0.0042233  0.01510008]\n",
            " [0.004214   0.00705207 0.01590817 ... 0.00216933 0.00246047 0.00834201]\n",
            " ...\n",
            " [0.00422467 0.0070662  0.01593664 ... 0.00217686 0.00246727 0.00835602]\n",
            " [0.00977951 0.01400475 0.0349825  ... 0.00442286 0.0077592  0.02413876]\n",
            " [0.00418935 0.00701801 0.01583637 ... 0.0021512  0.00244463 0.0083072 ]]\n"
          ]
        }
      ]
    },
    {
      "cell_type": "markdown",
      "source": [
        "#Increasing batch size"
      ],
      "metadata": {
        "id": "v4puQlvYY-Ee"
      }
    },
    {
      "cell_type": "markdown",
      "source": [
        "##Model 4\n"
      ],
      "metadata": {
        "id": "yspA7Q8FZCxC"
      }
    },
    {
      "cell_type": "code",
      "source": [
        "model_4 = Sequential([\n",
        "    Embedding(vocab_size, embedding_dim),\n",
        "    Bidirectional(LSTM(32, return_sequences=True)),\n",
        "    Bidirectional(LSTM(16)),\n",
        "    Dense(len(keywords), activation='sigmoid')\n",
        "])"
      ],
      "metadata": {
        "id": "ZR6JvEoPZEp1"
      },
      "execution_count": 39,
      "outputs": []
    },
    {
      "cell_type": "markdown",
      "source": [
        "##Compiling, training and saving the model"
      ],
      "metadata": {
        "id": "_hsy-tKeazdk"
      }
    },
    {
      "cell_type": "code",
      "source": [
        "#Compiling the model\n",
        "model_4.compile(\n",
        "    loss = 'binary_crossentropy',\n",
        "    optimizer = Adam(learning_rate=0.001),\n",
        "    metrics = METRICS\n",
        "\n",
        ")\n",
        "\n",
        "# Convert X_train, X_val, y_train, y_val to numpy arrays if they aren't already\n",
        "X_train = np.asarray(X_train, dtype=np.float32)\n",
        "X_val = np.asarray(X_val, dtype=np.float32)\n",
        "X_test = np.asarray(X_test, dtype=np.float32)\n",
        "y_train = np.asarray(y_train, dtype=np.float32) # Convert y_train to NumPy array\n",
        "y_val = np.asarray(y_val, dtype=np.float32)   # Convert y_val to NumPy array\n",
        "y_test = np.asarray(y_test, dtype=np.float32) # Convert y_test to NumPy array\n",
        "# Check and potentially adjust the batch size to be consistent\n",
        "batch_size = 41  # Or a smaller value if memory is an issue\n",
        "if X_train.shape[0] % batch_size != 0 or X_val.shape[0] % batch_size != 0:\n",
        "    print(\"Warning: Batch size does not divide evenly into the number of samples. Consider adjusting the batch size.\")\n",
        "\n",
        "#Training the model\n",
        "history_model_4 = model_4.fit(\n",
        "    X_train, y_train,\n",
        "    validation_data = (X_val, y_val),\n",
        "    epochs = 10,\n",
        "\n",
        ")\n",
        "\n",
        "#Saving the model\n",
        "model_4.save('model_4.keras')\n",
        "with open('history_model_4.json', 'w') as f:\n",
        "    json.dump(history_model_4.history, f)\n",
        "\n",
        "model_4.summary()"
      ],
      "metadata": {
        "colab": {
          "base_uri": "https://localhost:8080/",
          "height": 657
        },
        "id": "bS_KSkYUa4TE",
        "outputId": "a5cd286b-2b9c-4825-e047-6305ce975398"
      },
      "execution_count": 40,
      "outputs": [
        {
          "output_type": "stream",
          "name": "stdout",
          "text": [
            "Warning: Batch size does not divide evenly into the number of samples. Consider adjusting the batch size.\n",
            "Epoch 1/10\n",
            "\u001b[1m66/66\u001b[0m \u001b[32m━━━━━━━━━━━━━━━━━━━━\u001b[0m\u001b[37m\u001b[0m \u001b[1m15s\u001b[0m 153ms/step - accuracy: 0.9016 - auc: 0.6898 - fn: 4775.6270 - fp: 16472.5527 - loss: 0.5502 - precision: 0.0352 - recall: 0.1096 - tn: 197727.1562 - tp: 566.8209 - val_accuracy: 0.9769 - val_auc: 0.8003 - val_fn: 1653.0000 - val_fp: 334.0000 - val_loss: 0.1528 - val_precision: 0.5215 - val_recall: 0.1805 - val_tn: 83503.0000 - val_tp: 364.0000\n",
            "Epoch 2/10\n",
            "\u001b[1m66/66\u001b[0m \u001b[32m━━━━━━━━━━━━━━━━━━━━\u001b[0m\u001b[37m\u001b[0m \u001b[1m8s\u001b[0m 117ms/step - accuracy: 0.9751 - auc: 0.8315 - fn: 2941.3433 - fp: 399.1194 - loss: 0.1316 - precision: 0.5032 - recall: 0.1374 - tn: 129940.7031 - tp: 406.9851 - val_accuracy: 0.9769 - val_auc: 0.9181 - val_fn: 1653.0000 - val_fp: 334.0000 - val_loss: 0.0925 - val_precision: 0.5215 - val_recall: 0.1805 - val_tn: 83503.0000 - val_tp: 364.0000\n",
            "Epoch 3/10\n",
            "\u001b[1m66/66\u001b[0m \u001b[32m━━━━━━━━━━━━━━━━━━━━\u001b[0m\u001b[37m\u001b[0m \u001b[1m11s\u001b[0m 122ms/step - accuracy: 0.9748 - auc: 0.9188 - fn: 2919.2388 - fp: 449.6119 - loss: 0.0933 - precision: 0.4936 - recall: 0.1361 - tn: 129863.4453 - tp: 455.8507 - val_accuracy: 0.9768 - val_auc: 0.9388 - val_fn: 1979.0000 - val_fp: 12.0000 - val_loss: 0.0800 - val_precision: 0.7600 - val_recall: 0.0188 - val_tn: 83825.0000 - val_tp: 38.0000\n",
            "Epoch 4/10\n",
            "\u001b[1m66/66\u001b[0m \u001b[32m━━━━━━━━━━━━━━━━━━━━\u001b[0m\u001b[37m\u001b[0m \u001b[1m10s\u001b[0m 126ms/step - accuracy: 0.9737 - auc: 0.9377 - fn: 3038.7014 - fp: 435.1791 - loss: 0.0861 - precision: 0.5629 - recall: 0.1207 - tn: 129743.2500 - tp: 471.0149 - val_accuracy: 0.9768 - val_auc: 0.9509 - val_fn: 1979.0000 - val_fp: 12.0000 - val_loss: 0.0736 - val_precision: 0.7600 - val_recall: 0.0188 - val_tn: 83825.0000 - val_tp: 38.0000\n",
            "Epoch 5/10\n",
            "\u001b[1m66/66\u001b[0m \u001b[32m━━━━━━━━━━━━━━━━━━━━\u001b[0m\u001b[37m\u001b[0m \u001b[1m11s\u001b[0m 131ms/step - accuracy: 0.9756 - auc: 0.9513 - fn: 3044.4775 - fp: 250.4627 - loss: 0.0756 - precision: 0.5858 - recall: 0.0733 - tn: 130099.7031 - tp: 293.5075 - val_accuracy: 0.9770 - val_auc: 0.9572 - val_fn: 1963.0000 - val_fp: 13.0000 - val_loss: 0.0690 - val_precision: 0.8060 - val_recall: 0.0268 - val_tn: 83824.0000 - val_tp: 54.0000\n",
            "Epoch 6/10\n",
            "\u001b[1m66/66\u001b[0m \u001b[32m━━━━━━━━━━━━━━━━━━━━\u001b[0m\u001b[37m\u001b[0m \u001b[1m11s\u001b[0m 149ms/step - accuracy: 0.9750 - auc: 0.9575 - fn: 3193.1194 - fp: 98.3731 - loss: 0.0731 - precision: 0.7510 - recall: 0.0569 - tn: 130192.2656 - tp: 204.3881 - val_accuracy: 0.9772 - val_auc: 0.9547 - val_fn: 1623.0000 - val_fp: 337.0000 - val_loss: 0.0695 - val_precision: 0.5390 - val_recall: 0.1953 - val_tn: 83500.0000 - val_tp: 394.0000\n",
            "Epoch 7/10\n",
            "\u001b[1m66/66\u001b[0m \u001b[32m━━━━━━━━━━━━━━━━━━━━\u001b[0m\u001b[37m\u001b[0m \u001b[1m8s\u001b[0m 116ms/step - accuracy: 0.9748 - auc: 0.9557 - fn: 3049.9104 - fp: 262.8358 - loss: 0.0741 - precision: 0.6131 - recall: 0.1421 - tn: 129948.9531 - tp: 426.4478 - val_accuracy: 0.9774 - val_auc: 0.9578 - val_fn: 1918.0000 - val_fp: 20.0000 - val_loss: 0.0653 - val_precision: 0.8319 - val_recall: 0.0491 - val_tn: 83817.0000 - val_tp: 99.0000\n",
            "Epoch 8/10\n",
            "\u001b[1m66/66\u001b[0m \u001b[32m━━━━━━━━━━━━━━━━━━━━\u001b[0m\u001b[37m\u001b[0m \u001b[1m11s\u001b[0m 122ms/step - accuracy: 0.9767 - auc: 0.9605 - fn: 3039.0896 - fp: 115.0299 - loss: 0.0667 - precision: 0.8032 - recall: 0.0818 - tn: 130213.0859 - tp: 320.9403 - val_accuracy: 0.9779 - val_auc: 0.9602 - val_fn: 1878.0000 - val_fp: 21.0000 - val_loss: 0.0632 - val_precision: 0.8687 - val_recall: 0.0689 - val_tn: 83816.0000 - val_tp: 139.0000\n",
            "Epoch 9/10\n",
            "\u001b[1m66/66\u001b[0m \u001b[32m━━━━━━━━━━━━━━━━━━━━\u001b[0m\u001b[37m\u001b[0m \u001b[1m9s\u001b[0m 133ms/step - accuracy: 0.9766 - auc: 0.9613 - fn: 3084.8059 - fp: 36.7015 - loss: 0.0665 - precision: 0.9071 - recall: 0.1057 - tn: 130202.6406 - tp: 364.0000 - val_accuracy: 0.9780 - val_auc: 0.9617 - val_fn: 1856.0000 - val_fp: 31.0000 - val_loss: 0.0617 - val_precision: 0.8385 - val_recall: 0.0798 - val_tn: 83806.0000 - val_tp: 161.0000\n",
            "Epoch 10/10\n",
            "\u001b[1m66/66\u001b[0m \u001b[32m━━━━━━━━━━━━━━━━━━━━\u001b[0m\u001b[37m\u001b[0m \u001b[1m9s\u001b[0m 119ms/step - accuracy: 0.9775 - auc: 0.9618 - fn: 2954.7463 - fp: 56.7164 - loss: 0.0641 - precision: 0.8850 - recall: 0.1226 - tn: 130247.8203 - tp: 428.8657 - val_accuracy: 0.9783 - val_auc: 0.9624 - val_fn: 1825.0000 - val_fp: 39.0000 - val_loss: 0.0608 - val_precision: 0.8312 - val_recall: 0.0952 - val_tn: 83798.0000 - val_tp: 192.0000\n"
          ]
        },
        {
          "output_type": "display_data",
          "data": {
            "text/plain": [
              "\u001b[1mModel: \"sequential_3\"\u001b[0m\n"
            ],
            "text/html": [
              "<pre style=\"white-space:pre;overflow-x:auto;line-height:normal;font-family:Menlo,'DejaVu Sans Mono',consolas,'Courier New',monospace\"><span style=\"font-weight: bold\">Model: \"sequential_3\"</span>\n",
              "</pre>\n"
            ]
          },
          "metadata": {}
        },
        {
          "output_type": "display_data",
          "data": {
            "text/plain": [
              "┏━━━━━━━━━━━━━━━━━━━━━━━━━━━━━━━━━━━━━━┳━━━━━━━━━━━━━━━━━━━━━━━━━━━━━┳━━━━━━━━━━━━━━━━━┓\n",
              "┃\u001b[1m \u001b[0m\u001b[1mLayer (type)                        \u001b[0m\u001b[1m \u001b[0m┃\u001b[1m \u001b[0m\u001b[1mOutput Shape               \u001b[0m\u001b[1m \u001b[0m┃\u001b[1m \u001b[0m\u001b[1m        Param #\u001b[0m\u001b[1m \u001b[0m┃\n",
              "┡━━━━━━━━━━━━━━━━━━━━━━━━━━━━━━━━━━━━━━╇━━━━━━━━━━━━━━━━━━━━━━━━━━━━━╇━━━━━━━━━━━━━━━━━┩\n",
              "│ embedding_3 (\u001b[38;5;33mEmbedding\u001b[0m)              │ (\u001b[38;5;45mNone\u001b[0m, \u001b[38;5;34m1000\u001b[0m, \u001b[38;5;34m128\u001b[0m)           │       \u001b[38;5;34m1,280,000\u001b[0m │\n",
              "├──────────────────────────────────────┼─────────────────────────────┼─────────────────┤\n",
              "│ bidirectional_6 (\u001b[38;5;33mBidirectional\u001b[0m)      │ (\u001b[38;5;45mNone\u001b[0m, \u001b[38;5;34m1000\u001b[0m, \u001b[38;5;34m64\u001b[0m)            │          \u001b[38;5;34m41,216\u001b[0m │\n",
              "├──────────────────────────────────────┼─────────────────────────────┼─────────────────┤\n",
              "│ bidirectional_7 (\u001b[38;5;33mBidirectional\u001b[0m)      │ (\u001b[38;5;45mNone\u001b[0m, \u001b[38;5;34m32\u001b[0m)                  │          \u001b[38;5;34m10,368\u001b[0m │\n",
              "├──────────────────────────────────────┼─────────────────────────────┼─────────────────┤\n",
              "│ dense_3 (\u001b[38;5;33mDense\u001b[0m)                      │ (\u001b[38;5;45mNone\u001b[0m, \u001b[38;5;34m123\u001b[0m)                 │           \u001b[38;5;34m4,059\u001b[0m │\n",
              "└──────────────────────────────────────┴─────────────────────────────┴─────────────────┘\n"
            ],
            "text/html": [
              "<pre style=\"white-space:pre;overflow-x:auto;line-height:normal;font-family:Menlo,'DejaVu Sans Mono',consolas,'Courier New',monospace\">┏━━━━━━━━━━━━━━━━━━━━━━━━━━━━━━━━━━━━━━┳━━━━━━━━━━━━━━━━━━━━━━━━━━━━━┳━━━━━━━━━━━━━━━━━┓\n",
              "┃<span style=\"font-weight: bold\"> Layer (type)                         </span>┃<span style=\"font-weight: bold\"> Output Shape                </span>┃<span style=\"font-weight: bold\">         Param # </span>┃\n",
              "┡━━━━━━━━━━━━━━━━━━━━━━━━━━━━━━━━━━━━━━╇━━━━━━━━━━━━━━━━━━━━━━━━━━━━━╇━━━━━━━━━━━━━━━━━┩\n",
              "│ embedding_3 (<span style=\"color: #0087ff; text-decoration-color: #0087ff\">Embedding</span>)              │ (<span style=\"color: #00d7ff; text-decoration-color: #00d7ff\">None</span>, <span style=\"color: #00af00; text-decoration-color: #00af00\">1000</span>, <span style=\"color: #00af00; text-decoration-color: #00af00\">128</span>)           │       <span style=\"color: #00af00; text-decoration-color: #00af00\">1,280,000</span> │\n",
              "├──────────────────────────────────────┼─────────────────────────────┼─────────────────┤\n",
              "│ bidirectional_6 (<span style=\"color: #0087ff; text-decoration-color: #0087ff\">Bidirectional</span>)      │ (<span style=\"color: #00d7ff; text-decoration-color: #00d7ff\">None</span>, <span style=\"color: #00af00; text-decoration-color: #00af00\">1000</span>, <span style=\"color: #00af00; text-decoration-color: #00af00\">64</span>)            │          <span style=\"color: #00af00; text-decoration-color: #00af00\">41,216</span> │\n",
              "├──────────────────────────────────────┼─────────────────────────────┼─────────────────┤\n",
              "│ bidirectional_7 (<span style=\"color: #0087ff; text-decoration-color: #0087ff\">Bidirectional</span>)      │ (<span style=\"color: #00d7ff; text-decoration-color: #00d7ff\">None</span>, <span style=\"color: #00af00; text-decoration-color: #00af00\">32</span>)                  │          <span style=\"color: #00af00; text-decoration-color: #00af00\">10,368</span> │\n",
              "├──────────────────────────────────────┼─────────────────────────────┼─────────────────┤\n",
              "│ dense_3 (<span style=\"color: #0087ff; text-decoration-color: #0087ff\">Dense</span>)                      │ (<span style=\"color: #00d7ff; text-decoration-color: #00d7ff\">None</span>, <span style=\"color: #00af00; text-decoration-color: #00af00\">123</span>)                 │           <span style=\"color: #00af00; text-decoration-color: #00af00\">4,059</span> │\n",
              "└──────────────────────────────────────┴─────────────────────────────┴─────────────────┘\n",
              "</pre>\n"
            ]
          },
          "metadata": {}
        },
        {
          "output_type": "display_data",
          "data": {
            "text/plain": [
              "\u001b[1m Total params: \u001b[0m\u001b[38;5;34m4,006,931\u001b[0m (15.29 MB)\n"
            ],
            "text/html": [
              "<pre style=\"white-space:pre;overflow-x:auto;line-height:normal;font-family:Menlo,'DejaVu Sans Mono',consolas,'Courier New',monospace\"><span style=\"font-weight: bold\"> Total params: </span><span style=\"color: #00af00; text-decoration-color: #00af00\">4,006,931</span> (15.29 MB)\n",
              "</pre>\n"
            ]
          },
          "metadata": {}
        },
        {
          "output_type": "display_data",
          "data": {
            "text/plain": [
              "\u001b[1m Trainable params: \u001b[0m\u001b[38;5;34m1,335,643\u001b[0m (5.10 MB)\n"
            ],
            "text/html": [
              "<pre style=\"white-space:pre;overflow-x:auto;line-height:normal;font-family:Menlo,'DejaVu Sans Mono',consolas,'Courier New',monospace\"><span style=\"font-weight: bold\"> Trainable params: </span><span style=\"color: #00af00; text-decoration-color: #00af00\">1,335,643</span> (5.10 MB)\n",
              "</pre>\n"
            ]
          },
          "metadata": {}
        },
        {
          "output_type": "display_data",
          "data": {
            "text/plain": [
              "\u001b[1m Non-trainable params: \u001b[0m\u001b[38;5;34m0\u001b[0m (0.00 B)\n"
            ],
            "text/html": [
              "<pre style=\"white-space:pre;overflow-x:auto;line-height:normal;font-family:Menlo,'DejaVu Sans Mono',consolas,'Courier New',monospace\"><span style=\"font-weight: bold\"> Non-trainable params: </span><span style=\"color: #00af00; text-decoration-color: #00af00\">0</span> (0.00 B)\n",
              "</pre>\n"
            ]
          },
          "metadata": {}
        },
        {
          "output_type": "display_data",
          "data": {
            "text/plain": [
              "\u001b[1m Optimizer params: \u001b[0m\u001b[38;5;34m2,671,288\u001b[0m (10.19 MB)\n"
            ],
            "text/html": [
              "<pre style=\"white-space:pre;overflow-x:auto;line-height:normal;font-family:Menlo,'DejaVu Sans Mono',consolas,'Courier New',monospace\"><span style=\"font-weight: bold\"> Optimizer params: </span><span style=\"color: #00af00; text-decoration-color: #00af00\">2,671,288</span> (10.19 MB)\n",
              "</pre>\n"
            ]
          },
          "metadata": {}
        }
      ]
    },
    {
      "cell_type": "markdown",
      "source": [
        "##Reloading the model"
      ],
      "metadata": {
        "id": "R8kBAGipcHZH"
      }
    },
    {
      "cell_type": "code",
      "source": [
        "model_4 = tf.keras.models.load_model('model_4.keras')\n",
        "with open('history_model_4.json') as f:\n",
        "    history_model_4 = json.load(f)"
      ],
      "metadata": {
        "id": "6A140EiNcLfs"
      },
      "execution_count": 41,
      "outputs": []
    },
    {
      "cell_type": "markdown",
      "source": [
        "##Plotting the training history"
      ],
      "metadata": {
        "id": "5dPJWcKGcdM5"
      }
    },
    {
      "cell_type": "code",
      "source": [
        "acc = history_model_4['accuracy']\n",
        "val_acc = history_model_4['val_accuracy']\n",
        "loss = history_model_4['loss']\n",
        "val_loss = history_model_4['val_loss']\n",
        "\n",
        "epochs = range(len(acc))\n",
        "\n",
        "\n",
        "plt.plot(epochs, acc, 'ro', label='Training acc')\n",
        "plt.plot(epochs, val_acc, 'b', label='Validation acc')\n",
        "plt.title('Model 4 Training and validation accuracy')\n",
        "plt.legend()\n",
        "\n",
        "plt.figure()\n",
        "\n",
        "plt.plot(epochs, loss, 'ro', label='Training loss')\n",
        "plt.plot(epochs, val_loss, 'b', label='Validation loss')\n",
        "plt.title('Model 4 training and validation loss')\n",
        "plt.legend()\n",
        "\n",
        "plt.show()"
      ],
      "metadata": {
        "colab": {
          "base_uri": "https://localhost:8080/",
          "height": 887
        },
        "id": "o8Lx0th3cgf1",
        "outputId": "5be3b54c-27ab-4e0e-af0a-d492d458dc4a"
      },
      "execution_count": 42,
      "outputs": [
        {
          "output_type": "display_data",
          "data": {
            "text/plain": [
              "<Figure size 640x480 with 1 Axes>"
            ],
            "image/png": "[encoded data removed]"
          },
          "metadata": {}
        },
        {
          "output_type": "display_data",
          "data": {
            "text/plain": [
              "<Figure size 640x480 with 1 Axes>"
            ],
            "image/png": "[encoded data removed]"
          },
          "metadata": {}
        }
      ]
    },
    {
      "cell_type": "markdown",
      "source": [
        "##Evaluating the model"
      ],
      "metadata": {
        "id": "z4HQP5oec9j4"
      }
    },
    {
      "cell_type": "code",
      "source": [
        "model_4.evaluate(X_test, y_test)"
      ],
      "metadata": {
        "colab": {
          "base_uri": "https://localhost:8080/"
        },
        "id": "SXaXuQ5Ec_4K",
        "outputId": "39f84760-84b8-4b6a-b0b0-d939b1f1ba9d"
      },
      "execution_count": 43,
      "outputs": [
        {
          "output_type": "stream",
          "name": "stdout",
          "text": [
            "\u001b[1m22/22\u001b[0m \u001b[32m━━━━━━━━━━━━━━━━━━━━\u001b[0m\u001b[37m\u001b[0m \u001b[1m2s\u001b[0m 58ms/step - accuracy: 0.9780 - auc: 0.9625 - fn: 1019.0870 - fp: 22.3478 - loss: 0.0606 - precision: 0.8020 - recall: 0.0807 - tn: 45860.1758 - tp: 95.0870\n"
          ]
        },
        {
          "output_type": "execute_result",
          "data": {
            "text/plain": [
              "[0.06331510841846466,\n",
              " 0.9770075678825378,\n",
              " 0.8181818127632141,\n",
              " 0.09695550054311752,\n",
              " 0.9625730514526367,\n",
              " 207.0,\n",
              " 46.0,\n",
              " 83673.0,\n",
              " 1928.0]"
            ]
          },
          "metadata": {},
          "execution_count": 43
        }
      ]
    },
    {
      "cell_type": "markdown",
      "source": [
        "##Predictions"
      ],
      "metadata": {
        "id": "2jHZwRtjkoL3"
      }
    },
    {
      "cell_type": "code",
      "source": [
        "test_predictions = model_4.predict(X_test)\n",
        "print(test_predictions)"
      ],
      "metadata": {
        "colab": {
          "base_uri": "https://localhost:8080/"
        },
        "id": "v72hKOWhkqBe",
        "outputId": "0c047bf9-2286-4645-c896-2fa8d0744edc"
      },
      "execution_count": 44,
      "outputs": [
        {
          "output_type": "stream",
          "name": "stdout",
          "text": [
            "\u001b[1m22/22\u001b[0m \u001b[32m━━━━━━━━━━━━━━━━━━━━\u001b[0m\u001b[37m\u001b[0m \u001b[1m2s\u001b[0m 59ms/step\n",
            "[[0.00222134 0.00593659 0.01554298 ... 0.0033795  0.00233982 0.01221398]\n",
            " [0.00425275 0.01102868 0.0219425  ... 0.00401106 0.00407935 0.01941362]\n",
            " [0.00222402 0.00594102 0.0155557  ... 0.00338266 0.0023423  0.01222329]\n",
            " ...\n",
            " [0.00222894 0.00594848 0.0155769  ... 0.00338861 0.00234668 0.01223859]\n",
            " [0.0090837  0.04356065 0.04997513 ... 0.00963545 0.01121212 0.04974764]\n",
            " [0.00220484 0.00591022 0.01546891 ... 0.00335952 0.00232472 0.01215969]]\n"
          ]
        }
      ]
    },
    {
      "cell_type": "markdown",
      "source": [
        "##Comparing the four models"
      ],
      "metadata": {
        "id": "giySMjD7eCeH"
      }
    },
    {
      "cell_type": "code",
      "source": [
        "model_1.evaluate(X_test, y_test)\n",
        "model_2.evaluate(X_test, y_test)\n",
        "model_3.evaluate(X_test, y_test)\n",
        "model_4.evaluate(X_test, y_test)"
      ],
      "metadata": {
        "colab": {
          "base_uri": "https://localhost:8080/"
        },
        "id": "ARiU-hnZk3Ea",
        "outputId": "c5490521-5be4-49a5-a141-111866e5554a"
      },
      "execution_count": 45,
      "outputs": [
        {
          "output_type": "stream",
          "name": "stdout",
          "text": [
            "\u001b[1m22/22\u001b[0m \u001b[32m━━━━━━━━━━━━━━━━━━━━\u001b[0m\u001b[37m\u001b[0m \u001b[1m1s\u001b[0m 53ms/step - accuracy: 0.9790 - auc: 0.9631 - fn: 795.3043 - fp: 205.6087 - loss: 0.0574 - precision: 0.6084 - recall: 0.2835 - tn: 45676.9141 - tp: 318.8696\n",
            "\u001b[1m22/22\u001b[0m \u001b[32m━━━━━━━━━━━━━━━━━━━━\u001b[0m\u001b[37m\u001b[0m \u001b[1m1s\u001b[0m 52ms/step - accuracy: 0.9785 - auc: 0.9652 - fn: 972.5217 - fp: 43.0870 - loss: 0.0574 - precision: 0.7576 - recall: 0.1160 - tn: 45839.4336 - tp: 141.6522\n",
            "\u001b[1m22/22\u001b[0m \u001b[32m━━━━━━━━━━━━━━━━━━━━\u001b[0m\u001b[37m\u001b[0m \u001b[1m1s\u001b[0m 48ms/step - accuracy: 0.9783 - auc: 0.9631 - fn: 1010.3043 - fp: 17.6957 - loss: 0.0598 - precision: 0.8280 - recall: 0.0872 - tn: 45864.8242 - tp: 103.8696\n",
            "\u001b[1m22/22\u001b[0m \u001b[32m━━━━━━━━━━━━━━━━━━━━\u001b[0m\u001b[37m\u001b[0m \u001b[1m1s\u001b[0m 49ms/step - accuracy: 0.9780 - auc: 0.9625 - fn: 1019.0870 - fp: 22.3478 - loss: 0.0606 - precision: 0.8020 - recall: 0.0807 - tn: 45860.1758 - tp: 95.0870\n"
          ]
        },
        {
          "output_type": "execute_result",
          "data": {
            "text/plain": [
              "[0.06331510841846466,\n",
              " 0.9770075678825378,\n",
              " 0.8181818127632141,\n",
              " 0.09695550054311752,\n",
              " 0.9625730514526367,\n",
              " 207.0,\n",
              " 46.0,\n",
              " 83673.0,\n",
              " 1928.0]"
            ]
          },
          "metadata": {},
          "execution_count": 45
        }
      ]
    },
    {
      "cell_type": "markdown",
      "source": [
        "As can be see from the above the four models all perform very similarly however the more complex models of 1 and 2 have better loss functions.\n",
        "\n",
        "For the next model I will change the loss function from binary crossentropy to hinge loss.\n",
        "This should result encourage the model to not only make correct predictions but also be confident in those predictions"
      ],
      "metadata": {
        "id": "8R4SK-B-lEi-"
      }
    },
    {
      "cell_type": "markdown",
      "source": [
        "##Model 5"
      ],
      "metadata": {
        "id": "4v77Dj5Ol9YP"
      }
    },
    {
      "cell_type": "code",
      "source": [
        "model_5 = Sequential([\n",
        "    Embedding(vocab_size, embedding_dim),\n",
        "    Bidirectional(LSTM(64, return_sequences=True)),\n",
        "    Bidirectional(LSTM(32)),\n",
        "    Dense(len(keywords), activation='sigmoid')\n",
        "])"
      ],
      "metadata": {
        "id": "ecMTiwnyl_ox"
      },
      "execution_count": 46,
      "outputs": []
    },
    {
      "cell_type": "markdown",
      "source": [
        "##Compiling, training and saving the model"
      ],
      "metadata": {
        "id": "nWOHODMsmK1j"
      }
    },
    {
      "cell_type": "code",
      "source": [
        "#Compiling the model\n",
        "model_5.compile(\n",
        "    loss = 'hinge',\n",
        "    optimizer = 'adam',\n",
        "    metrics = METRICS\n",
        "\n",
        ")\n",
        "\n",
        "# Convert X_train, X_val, y_train, y_val to numpy arrays if they aren't already\n",
        "X_train = np.asarray(X_train, dtype=np.float32)\n",
        "X_val = np.asarray(X_val, dtype=np.float32)\n",
        "X_test = np.asarray(X_test, dtype=np.float32)\n",
        "y_train = np.asarray(y_train, dtype=np.float32) # Convert y_train to NumPy array\n",
        "y_val = np.asarray(y_val, dtype=np.float32)   # Convert y_val to NumPy array\n",
        "y_test = np.asarray(y_test, dtype=np.float32) # Convert y_test to NumPy array\n",
        "# Check and potentially adjust the batch size to be consistent\n",
        "batch_size = 41  # Or a smaller value if memory is an issue\n",
        "if X_train.shape[0] % batch_size != 0 or X_val.shape[0] % batch_size != 0:\n",
        "    print(\"Warning: Batch size does not divide evenly into the number of samples. Consider adjusting the batch size.\")\n",
        "\n",
        "#Training the model\n",
        "history_model_5 = model_5.fit(\n",
        "    X_train, y_train,\n",
        "    validation_data = (X_val, y_val),\n",
        "    epochs = 10,\n",
        "\n",
        ")\n",
        "\n",
        "#Saving the model\n",
        "model_5.save('model_5.keras')\n",
        "with open('history_model_5.json', 'w') as f:\n",
        "    json.dump(history_model_5.history, f)"
      ],
      "metadata": {
        "colab": {
          "base_uri": "https://localhost:8080/"
        },
        "id": "Byw2VJ3nmQSj",
        "outputId": "76ded0f6-6215-4159-dfd1-16228ab8a890"
      },
      "execution_count": 47,
      "outputs": [
        {
          "output_type": "stream",
          "name": "stdout",
          "text": [
            "Warning: Batch size does not divide evenly into the number of samples. Consider adjusting the batch size.\n",
            "Epoch 1/10\n",
            "\u001b[1m66/66\u001b[0m \u001b[32m━━━━━━━━━━━━━━━━━━━━\u001b[0m\u001b[37m\u001b[0m \u001b[1m17s\u001b[0m 143ms/step - accuracy: 0.9267 - auc: 0.6984 - fn: 4976.4478 - fp: 10464.2539 - loss: 1.3193 - precision: 0.0397 - recall: 0.0868 - tn: 203688.1094 - tp: 413.3433 - val_accuracy: 0.9765 - val_auc: 0.6544 - val_fn: 2017.0000 - val_fp: 0.0000e+00 - val_loss: 1.0203 - val_precision: 0.0000e+00 - val_recall: 0.0000e+00 - val_tn: 83837.0000 - val_tp: 0.0000e+00\n",
            "Epoch 2/10\n",
            "\u001b[1m66/66\u001b[0m \u001b[32m━━━━━━━━━━━━━━━━━━━━\u001b[0m\u001b[37m\u001b[0m \u001b[1m10s\u001b[0m 159ms/step - accuracy: 0.9737 - auc: 0.6326 - fn: 3471.9402 - fp: 0.0000e+00 - loss: 1.0148 - precision: 0.0000e+00 - recall: 0.0000e+00 - tn: 130216.2109 - tp: 0.0000e+00 - val_accuracy: 0.9765 - val_auc: 0.6486 - val_fn: 2017.0000 - val_fp: 0.0000e+00 - val_loss: 1.0070 - val_precision: 0.0000e+00 - val_recall: 0.0000e+00 - val_tn: 83837.0000 - val_tp: 0.0000e+00\n",
            "Epoch 3/10\n",
            "\u001b[1m66/66\u001b[0m \u001b[32m━━━━━━━━━━━━━━━━━━━━\u001b[0m\u001b[37m\u001b[0m \u001b[1m20s\u001b[0m 153ms/step - accuracy: 0.9746 - auc: 0.6140 - fn: 3388.4329 - fp: 0.0000e+00 - loss: 1.0061 - precision: 0.0000e+00 - recall: 0.0000e+00 - tn: 130299.7188 - tp: 0.0000e+00 - val_accuracy: 0.9765 - val_auc: 0.6542 - val_fn: 2017.0000 - val_fp: 0.0000e+00 - val_loss: 1.0039 - val_precision: 0.0000e+00 - val_recall: 0.0000e+00 - val_tn: 83837.0000 - val_tp: 0.0000e+00\n",
            "Epoch 4/10\n",
            "\u001b[1m66/66\u001b[0m \u001b[32m━━━━━━━━━━━━━━━━━━━━\u001b[0m\u001b[37m\u001b[0m \u001b[1m8s\u001b[0m 127ms/step - accuracy: 0.9739 - auc: 0.6166 - fn: 3436.6716 - fp: 0.0000e+00 - loss: 1.0035 - precision: 0.0000e+00 - recall: 0.0000e+00 - tn: 130251.4766 - tp: 0.0000e+00 - val_accuracy: 0.9765 - val_auc: 0.5826 - val_fn: 2017.0000 - val_fp: 0.0000e+00 - val_loss: 1.0025 - val_precision: 0.0000e+00 - val_recall: 0.0000e+00 - val_tn: 83837.0000 - val_tp: 0.0000e+00\n",
            "Epoch 5/10\n",
            "\u001b[1m66/66\u001b[0m \u001b[32m━━━━━━━━━━━━━━━━━━━━\u001b[0m\u001b[37m\u001b[0m \u001b[1m11s\u001b[0m 131ms/step - accuracy: 0.9739 - auc: 0.5747 - fn: 3456.4329 - fp: 0.0000e+00 - loss: 1.0024 - precision: 0.0000e+00 - recall: 0.0000e+00 - tn: 130231.7188 - tp: 0.0000e+00 - val_accuracy: 0.9765 - val_auc: 0.5882 - val_fn: 2017.0000 - val_fp: 0.0000e+00 - val_loss: 1.0018 - val_precision: 0.0000e+00 - val_recall: 0.0000e+00 - val_tn: 83837.0000 - val_tp: 0.0000e+00\n",
            "Epoch 6/10\n",
            "\u001b[1m66/66\u001b[0m \u001b[32m━━━━━━━━━━━━━━━━━━━━\u001b[0m\u001b[37m\u001b[0m \u001b[1m9s\u001b[0m 139ms/step - accuracy: 0.9739 - auc: 0.5759 - fn: 3433.3582 - fp: 42.5672 - loss: 1.0018 - precision: 0.1276 - recall: 0.0062 - tn: 130174.2266 - tp: 38.0000 - val_accuracy: 0.9769 - val_auc: 0.5882 - val_fn: 1653.0000 - val_fp: 334.0000 - val_loss: 1.0013 - val_precision: 0.5215 - val_recall: 0.1805 - val_tn: 83503.0000 - val_tp: 364.0000\n",
            "Epoch 7/10\n",
            "\u001b[1m66/66\u001b[0m \u001b[32m━━━━━━━━━━━━━━━━━━━━\u001b[0m\u001b[37m\u001b[0m \u001b[1m10s\u001b[0m 130ms/step - accuracy: 0.9742 - auc: 0.5770 - fn: 2850.2986 - fp: 541.2239 - loss: 1.0014 - precision: 0.5015 - recall: 0.1582 - tn: 129750.9531 - tp: 545.6716 - val_accuracy: 0.9769 - val_auc: 0.5882 - val_fn: 1653.0000 - val_fp: 334.0000 - val_loss: 1.0010 - val_precision: 0.5215 - val_recall: 0.1805 - val_tn: 83503.0000 - val_tp: 364.0000\n",
            "Epoch 8/10\n",
            "\u001b[1m66/66\u001b[0m \u001b[32m━━━━━━━━━━━━━━━━━━━━\u001b[0m\u001b[37m\u001b[0m \u001b[1m10s\u001b[0m 125ms/step - accuracy: 0.9746 - auc: 0.5784 - fn: 2881.8657 - fp: 535.2239 - loss: 1.0011 - precision: 0.5027 - recall: 0.1611 - tn: 129719.3906 - tp: 551.6716 - val_accuracy: 0.9769 - val_auc: 0.5882 - val_fn: 1653.0000 - val_fp: 334.0000 - val_loss: 1.0007 - val_precision: 0.5215 - val_recall: 0.1805 - val_tn: 83503.0000 - val_tp: 364.0000\n",
            "Epoch 9/10\n",
            "\u001b[1m66/66\u001b[0m \u001b[32m━━━━━━━━━━━━━━━━━━━━\u001b[0m\u001b[37m\u001b[0m \u001b[1m11s\u001b[0m 133ms/step - accuracy: 0.9747 - auc: 0.5789 - fn: 2828.0598 - fp: 544.0150 - loss: 1.0009 - precision: 0.5051 - recall: 0.1619 - tn: 129773.1953 - tp: 542.8806 - val_accuracy: 0.9769 - val_auc: 0.5882 - val_fn: 1653.0000 - val_fp: 334.0000 - val_loss: 1.0006 - val_precision: 0.5215 - val_recall: 0.1805 - val_tn: 83503.0000 - val_tp: 364.0000\n",
            "Epoch 10/10\n",
            "\u001b[1m66/66\u001b[0m \u001b[32m━━━━━━━━━━━━━━━━━━━━\u001b[0m\u001b[37m\u001b[0m \u001b[1m10s\u001b[0m 138ms/step - accuracy: 0.9738 - auc: 0.5759 - fn: 2925.5374 - fp: 539.8806 - loss: 1.0007 - precision: 0.5041 - recall: 0.1560 - tn: 129675.7188 - tp: 547.0150 - val_accuracy: 0.9769 - val_auc: 0.5882 - val_fn: 1653.0000 - val_fp: 334.0000 - val_loss: 1.0004 - val_precision: 0.5215 - val_recall: 0.1805 - val_tn: 83503.0000 - val_tp: 364.0000\n"
          ]
        }
      ]
    },
    {
      "cell_type": "code",
      "source": [
        "model_5.summary()"
      ],
      "metadata": {
        "colab": {
          "base_uri": "https://localhost:8080/",
          "height": 273
        },
        "id": "8vT9GGTEnNao",
        "outputId": "c5926504-e734-4f54-8232-b9044dfd5998"
      },
      "execution_count": 48,
      "outputs": [
        {
          "output_type": "display_data",
          "data": {
            "text/plain": [
              "\u001b[1mModel: \"sequential_4\"\u001b[0m\n"
            ],
            "text/html": [
              "<pre style=\"white-space:pre;overflow-x:auto;line-height:normal;font-family:Menlo,'DejaVu Sans Mono',consolas,'Courier New',monospace\"><span style=\"font-weight: bold\">Model: \"sequential_4\"</span>\n",
              "</pre>\n"
            ]
          },
          "metadata": {}
        },
        {
          "output_type": "display_data",
          "data": {
            "text/plain": [
              "┏━━━━━━━━━━━━━━━━━━━━━━━━━━━━━━━━━━━━━━┳━━━━━━━━━━━━━━━━━━━━━━━━━━━━━┳━━━━━━━━━━━━━━━━━┓\n",
              "┃\u001b[1m \u001b[0m\u001b[1mLayer (type)                        \u001b[0m\u001b[1m \u001b[0m┃\u001b[1m \u001b[0m\u001b[1mOutput Shape               \u001b[0m\u001b[1m \u001b[0m┃\u001b[1m \u001b[0m\u001b[1m        Param #\u001b[0m\u001b[1m \u001b[0m┃\n",
              "┡━━━━━━━━━━━━━━━━━━━━━━━━━━━━━━━━━━━━━━╇━━━━━━━━━━━━━━━━━━━━━━━━━━━━━╇━━━━━━━━━━━━━━━━━┩\n",
              "│ embedding_4 (\u001b[38;5;33mEmbedding\u001b[0m)              │ (\u001b[38;5;45mNone\u001b[0m, \u001b[38;5;34m1000\u001b[0m, \u001b[38;5;34m128\u001b[0m)           │       \u001b[38;5;34m1,280,000\u001b[0m │\n",
              "├──────────────────────────────────────┼─────────────────────────────┼─────────────────┤\n",
              "│ bidirectional_8 (\u001b[38;5;33mBidirectional\u001b[0m)      │ (\u001b[38;5;45mNone\u001b[0m, \u001b[38;5;34m1000\u001b[0m, \u001b[38;5;34m128\u001b[0m)           │          \u001b[38;5;34m98,816\u001b[0m │\n",
              "├──────────────────────────────────────┼─────────────────────────────┼─────────────────┤\n",
              "│ bidirectional_9 (\u001b[38;5;33mBidirectional\u001b[0m)      │ (\u001b[38;5;45mNone\u001b[0m, \u001b[38;5;34m64\u001b[0m)                  │          \u001b[38;5;34m41,216\u001b[0m │\n",
              "├──────────────────────────────────────┼─────────────────────────────┼─────────────────┤\n",
              "│ dense_4 (\u001b[38;5;33mDense\u001b[0m)                      │ (\u001b[38;5;45mNone\u001b[0m, \u001b[38;5;34m123\u001b[0m)                 │           \u001b[38;5;34m7,995\u001b[0m │\n",
              "└──────────────────────────────────────┴─────────────────────────────┴─────────────────┘\n"
            ],
            "text/html": [
              "<pre style=\"white-space:pre;overflow-x:auto;line-height:normal;font-family:Menlo,'DejaVu Sans Mono',consolas,'Courier New',monospace\">┏━━━━━━━━━━━━━━━━━━━━━━━━━━━━━━━━━━━━━━┳━━━━━━━━━━━━━━━━━━━━━━━━━━━━━┳━━━━━━━━━━━━━━━━━┓\n",
              "┃<span style=\"font-weight: bold\"> Layer (type)                         </span>┃<span style=\"font-weight: bold\"> Output Shape                </span>┃<span style=\"font-weight: bold\">         Param # </span>┃\n",
              "┡━━━━━━━━━━━━━━━━━━━━━━━━━━━━━━━━━━━━━━╇━━━━━━━━━━━━━━━━━━━━━━━━━━━━━╇━━━━━━━━━━━━━━━━━┩\n",
              "│ embedding_4 (<span style=\"color: #0087ff; text-decoration-color: #0087ff\">Embedding</span>)              │ (<span style=\"color: #00d7ff; text-decoration-color: #00d7ff\">None</span>, <span style=\"color: #00af00; text-decoration-color: #00af00\">1000</span>, <span style=\"color: #00af00; text-decoration-color: #00af00\">128</span>)           │       <span style=\"color: #00af00; text-decoration-color: #00af00\">1,280,000</span> │\n",
              "├──────────────────────────────────────┼─────────────────────────────┼─────────────────┤\n",
              "│ bidirectional_8 (<span style=\"color: #0087ff; text-decoration-color: #0087ff\">Bidirectional</span>)      │ (<span style=\"color: #00d7ff; text-decoration-color: #00d7ff\">None</span>, <span style=\"color: #00af00; text-decoration-color: #00af00\">1000</span>, <span style=\"color: #00af00; text-decoration-color: #00af00\">128</span>)           │          <span style=\"color: #00af00; text-decoration-color: #00af00\">98,816</span> │\n",
              "├──────────────────────────────────────┼─────────────────────────────┼─────────────────┤\n",
              "│ bidirectional_9 (<span style=\"color: #0087ff; text-decoration-color: #0087ff\">Bidirectional</span>)      │ (<span style=\"color: #00d7ff; text-decoration-color: #00d7ff\">None</span>, <span style=\"color: #00af00; text-decoration-color: #00af00\">64</span>)                  │          <span style=\"color: #00af00; text-decoration-color: #00af00\">41,216</span> │\n",
              "├──────────────────────────────────────┼─────────────────────────────┼─────────────────┤\n",
              "│ dense_4 (<span style=\"color: #0087ff; text-decoration-color: #0087ff\">Dense</span>)                      │ (<span style=\"color: #00d7ff; text-decoration-color: #00d7ff\">None</span>, <span style=\"color: #00af00; text-decoration-color: #00af00\">123</span>)                 │           <span style=\"color: #00af00; text-decoration-color: #00af00\">7,995</span> │\n",
              "└──────────────────────────────────────┴─────────────────────────────┴─────────────────┘\n",
              "</pre>\n"
            ]
          },
          "metadata": {}
        },
        {
          "output_type": "display_data",
          "data": {
            "text/plain": [
              "\u001b[1m Total params: \u001b[0m\u001b[38;5;34m4,284,083\u001b[0m (16.34 MB)\n"
            ],
            "text/html": [
              "<pre style=\"white-space:pre;overflow-x:auto;line-height:normal;font-family:Menlo,'DejaVu Sans Mono',consolas,'Courier New',monospace\"><span style=\"font-weight: bold\"> Total params: </span><span style=\"color: #00af00; text-decoration-color: #00af00\">4,284,083</span> (16.34 MB)\n",
              "</pre>\n"
            ]
          },
          "metadata": {}
        },
        {
          "output_type": "display_data",
          "data": {
            "text/plain": [
              "\u001b[1m Trainable params: \u001b[0m\u001b[38;5;34m1,428,027\u001b[0m (5.45 MB)\n"
            ],
            "text/html": [
              "<pre style=\"white-space:pre;overflow-x:auto;line-height:normal;font-family:Menlo,'DejaVu Sans Mono',consolas,'Courier New',monospace\"><span style=\"font-weight: bold\"> Trainable params: </span><span style=\"color: #00af00; text-decoration-color: #00af00\">1,428,027</span> (5.45 MB)\n",
              "</pre>\n"
            ]
          },
          "metadata": {}
        },
        {
          "output_type": "display_data",
          "data": {
            "text/plain": [
              "\u001b[1m Non-trainable params: \u001b[0m\u001b[38;5;34m0\u001b[0m (0.00 B)\n"
            ],
            "text/html": [
              "<pre style=\"white-space:pre;overflow-x:auto;line-height:normal;font-family:Menlo,'DejaVu Sans Mono',consolas,'Courier New',monospace\"><span style=\"font-weight: bold\"> Non-trainable params: </span><span style=\"color: #00af00; text-decoration-color: #00af00\">0</span> (0.00 B)\n",
              "</pre>\n"
            ]
          },
          "metadata": {}
        },
        {
          "output_type": "display_data",
          "data": {
            "text/plain": [
              "\u001b[1m Optimizer params: \u001b[0m\u001b[38;5;34m2,856,056\u001b[0m (10.89 MB)\n"
            ],
            "text/html": [
              "<pre style=\"white-space:pre;overflow-x:auto;line-height:normal;font-family:Menlo,'DejaVu Sans Mono',consolas,'Courier New',monospace\"><span style=\"font-weight: bold\"> Optimizer params: </span><span style=\"color: #00af00; text-decoration-color: #00af00\">2,856,056</span> (10.89 MB)\n",
              "</pre>\n"
            ]
          },
          "metadata": {}
        }
      ]
    },
    {
      "cell_type": "markdown",
      "source": [
        "##Reloading the model"
      ],
      "metadata": {
        "id": "3QV9O7rSnWYU"
      }
    },
    {
      "cell_type": "code",
      "source": [
        "model_5 = tf.keras.models.load_model('model_5.keras')\n",
        "with open('history_model_5.json') as f:\n",
        "    history_model_5 = json.load(f)"
      ],
      "metadata": {
        "id": "ULYn6c6pnb8K"
      },
      "execution_count": 49,
      "outputs": []
    },
    {
      "cell_type": "markdown",
      "source": [
        "##Plotting the training"
      ],
      "metadata": {
        "id": "w53CYp5SnhpS"
      }
    },
    {
      "cell_type": "code",
      "source": [
        "acc = history_model_5['accuracy']\n",
        "val_acc = history_model_5['val_accuracy']\n",
        "loss = history_model_5['loss']\n",
        "val_loss = history_model_5['val_loss']\n",
        "\n",
        "epochs = range(len(acc))\n",
        "\n",
        "\n",
        "plt.plot(epochs, acc, 'ro', label='Training acc')\n",
        "plt.plot(epochs, val_acc, 'b', label='Validation acc')\n",
        "plt.title('Model 5 Training and validation accuracy')\n",
        "plt.legend()\n",
        "\n",
        "plt.figure()\n",
        "\n",
        "plt.plot(epochs, loss, 'ro', label='Training loss')\n",
        "plt.plot(epochs, val_loss, 'b', label='Validation loss')\n",
        "plt.title('Model 5 training and validation loss')\n",
        "plt.legend()\n",
        "\n",
        "plt.show()"
      ],
      "metadata": {
        "colab": {
          "base_uri": "https://localhost:8080/",
          "height": 887
        },
        "id": "btTL71tJnkvf",
        "outputId": "19118fea-4329-4334-8a72-1b7543048473"
      },
      "execution_count": 50,
      "outputs": [
        {
          "output_type": "display_data",
          "data": {
            "text/plain": [
              "<Figure size 640x480 with 1 Axes>"
            ],
            "image/png": "[encoded data removed]"
          },
          "metadata": {}
        },
        {
          "output_type": "display_data",
          "data": {
            "text/plain": [
              "<Figure size 640x480 with 1 Axes>"
            ],
            "image/png": "[encoded data removed]"
          },
          "metadata": {}
        }
      ]
    },
    {
      "cell_type": "markdown",
      "source": [
        "##Evaluating the model"
      ],
      "metadata": {
        "id": "IPuuyJ5wn6--"
      }
    },
    {
      "cell_type": "code",
      "source": [
        "model_5.evaluate(X_test, y_test)"
      ],
      "metadata": {
        "colab": {
          "base_uri": "https://localhost:8080/"
        },
        "id": "0-Vf2L3_oA4M",
        "outputId": "658b20ac-df26-4edd-d004-85ab9896b5e5"
      },
      "execution_count": 51,
      "outputs": [
        {
          "output_type": "stream",
          "name": "stdout",
          "text": [
            "\u001b[1m22/22\u001b[0m \u001b[32m━━━━━━━━━━━━━━━━━━━━\u001b[0m\u001b[37m\u001b[0m \u001b[1m2s\u001b[0m 61ms/step - accuracy: 0.9772 - auc: 0.5916 - fn: 911.4348 - fp: 179.3478 - loss: 1.0002 - precision: 0.5373 - recall: 0.1871 - tn: 45703.1758 - tp: 202.7391\n"
          ]
        },
        {
          "output_type": "execute_result",
          "data": {
            "text/plain": [
              "[1.0004407167434692,\n",
              " 0.9754582643508911,\n",
              " 0.5200573205947876,\n",
              " 0.17002342641353607,\n",
              " 0.5830109715461731,\n",
              " 363.0,\n",
              " 335.0,\n",
              " 83384.0,\n",
              " 1772.0]"
            ]
          },
          "metadata": {},
          "execution_count": 51
        }
      ]
    },
    {
      "cell_type": "markdown",
      "source": [
        "##Predictions"
      ],
      "metadata": {
        "id": "iv7v9Le3oKmE"
      }
    },
    {
      "cell_type": "code",
      "source": [
        "test_predictions = model_5.predict(X_test)\n",
        "print(test_predictions)"
      ],
      "metadata": {
        "colab": {
          "base_uri": "https://localhost:8080/"
        },
        "id": "D8zzjc8JoMG7",
        "outputId": "55f69e68-0282-4f98-abb2-2145ce4c54aa"
      },
      "execution_count": 52,
      "outputs": [
        {
          "output_type": "stream",
          "name": "stdout",
          "text": [
            "\u001b[1m22/22\u001b[0m \u001b[32m━━━━━━━━━━━━━━━━━━━━\u001b[0m\u001b[37m\u001b[0m \u001b[1m2s\u001b[0m 89ms/step\n",
            "[[0.00042298 0.00064953 0.00040182 ... 0.00045771 0.00087676 0.00085048]\n",
            " [0.00044226 0.0006725  0.00041697 ... 0.00047398 0.00090372 0.00088848]\n",
            " [0.00042297 0.00064953 0.00040182 ... 0.00045772 0.00087673 0.00085048]\n",
            " ...\n",
            " [0.00042303 0.00064962 0.00040187 ... 0.00045778 0.00087684 0.00085057]\n",
            " [0.00044233 0.00067264 0.00041708 ... 0.00047406 0.0009039  0.00088868]\n",
            " [0.00042264 0.00064903 0.00040146 ... 0.00045731 0.00087604 0.00084998]]\n"
          ]
        }
      ]
    },
    {
      "cell_type": "markdown",
      "source": [
        "##Model 6 - training for 20 epochs"
      ],
      "metadata": {
        "id": "dYdrdFVbock6"
      }
    },
    {
      "cell_type": "code",
      "source": [
        "model_6 = Sequential([\n",
        "    Embedding(vocab_size, embedding_dim),\n",
        "    Bidirectional(LSTM(64, return_sequences=True)),\n",
        "    Bidirectional(LSTM(32)),\n",
        "    Dense(len(keywords), activation='sigmoid')\n",
        "])"
      ],
      "metadata": {
        "id": "yhzT9P-kognZ"
      },
      "execution_count": 53,
      "outputs": []
    },
    {
      "cell_type": "markdown",
      "source": [
        "##Compiling, training and saving the model"
      ],
      "metadata": {
        "id": "1qfePvSjouDa"
      }
    },
    {
      "cell_type": "code",
      "source": [
        "#Compiling the model\n",
        "model_6.compile(\n",
        "    loss = 'hinge',\n",
        "    optimizer = 'adam',\n",
        "    metrics = METRICS\n",
        "\n",
        ")\n",
        "\n",
        "# Convert X_train, X_val, y_train, y_val to numpy arrays if they aren't already\n",
        "X_train = np.asarray(X_train, dtype=np.float32)\n",
        "X_val = np.asarray(X_val, dtype=np.float32)\n",
        "X_test = np.asarray(X_test, dtype=np.float32)\n",
        "y_train = np.asarray(y_train, dtype=np.float32) # Convert y_train to NumPy array\n",
        "y_val = np.asarray(y_val, dtype=np.float32)   # Convert y_val to NumPy array\n",
        "y_test = np.asarray(y_test, dtype=np.float32) # Convert y_test to NumPy array\n",
        "# Check and potentially adjust the batch size to be consistent\n",
        "batch_size = 41  # Or a smaller value if memory is an issue\n",
        "if X_train.shape[0] % batch_size != 0 or X_val.shape[0] % batch_size != 0:\n",
        "    print(\"Warning: Batch size does not divide evenly into the number of samples. Consider adjusting the batch size.\")\n",
        "\n",
        "#Training the model\n",
        "history_model_6 = model_6.fit(\n",
        "    X_train, y_train,\n",
        "    validation_data = (X_val, y_val),\n",
        "    epochs = 20,\n",
        "\n",
        ")\n",
        "\n",
        "#Saving the model\n",
        "model_6.save('model_6.keras')\n",
        "with open('history_model_6.json', 'w') as f:\n",
        "    json.dump(history_model_6.history, f)\n",
        "\n",
        "model_6.summary()"
      ],
      "metadata": {
        "colab": {
          "base_uri": "https://localhost:8080/",
          "height": 1000
        },
        "id": "uThdYKv1oyK2",
        "outputId": "f41d66f1-121a-4622-fc90-d81c199ef93a"
      },
      "execution_count": 54,
      "outputs": [
        {
          "output_type": "stream",
          "name": "stdout",
          "text": [
            "Warning: Batch size does not divide evenly into the number of samples. Consider adjusting the batch size.\n",
            "Epoch 1/20\n",
            "\u001b[1m66/66\u001b[0m \u001b[32m━━━━━━━━━━━━━━━━━━━━\u001b[0m\u001b[37m\u001b[0m \u001b[1m16s\u001b[0m 159ms/step - accuracy: 0.9036 - auc: 0.5910 - fn: 4544.7461 - fp: 15811.5820 - loss: 1.3332 - precision: 0.0548 - recall: 0.1684 - tn: 198301.1719 - tp: 884.6418 - val_accuracy: 0.9765 - val_auc: 0.5967 - val_fn: 2017.0000 - val_fp: 0.0000e+00 - val_loss: 1.0208 - val_precision: 0.0000e+00 - val_recall: 0.0000e+00 - val_tn: 83837.0000 - val_tp: 0.0000e+00\n",
            "Epoch 2/20\n",
            "\u001b[1m66/66\u001b[0m \u001b[32m━━━━━━━━━━━━━━━━━━━━\u001b[0m\u001b[37m\u001b[0m \u001b[1m19s\u001b[0m 144ms/step - accuracy: 0.9760 - auc: 0.5967 - fn: 3301.4031 - fp: 0.0000e+00 - loss: 1.0152 - precision: 0.0000e+00 - recall: 0.0000e+00 - tn: 130386.7500 - tp: 0.0000e+00 - val_accuracy: 0.9765 - val_auc: 0.5882 - val_fn: 2017.0000 - val_fp: 0.0000e+00 - val_loss: 1.0069 - val_precision: 0.0000e+00 - val_recall: 0.0000e+00 - val_tn: 83837.0000 - val_tp: 0.0000e+00\n",
            "Epoch 3/20\n",
            "\u001b[1m66/66\u001b[0m \u001b[32m━━━━━━━━━━━━━━━━━━━━\u001b[0m\u001b[37m\u001b[0m \u001b[1m10s\u001b[0m 146ms/step - accuracy: 0.9739 - auc: 0.5791 - fn: 2978.8508 - fp: 466.4627 - loss: 1.0061 - precision: 0.4508 - recall: 0.1130 - tn: 129789.4922 - tp: 453.3433 - val_accuracy: 0.9769 - val_auc: 0.6389 - val_fn: 1653.0000 - val_fp: 334.0000 - val_loss: 1.0038 - val_precision: 0.5215 - val_recall: 0.1805 - val_tn: 83503.0000 - val_tp: 364.0000\n",
            "Epoch 4/20\n",
            "\u001b[1m66/66\u001b[0m \u001b[32m━━━━━━━━━━━━━━━━━━━━\u001b[0m\u001b[37m\u001b[0m \u001b[1m10s\u001b[0m 149ms/step - accuracy: 0.9747 - auc: 0.6203 - fn: 2836.6716 - fp: 533.8508 - loss: 1.0035 - precision: 0.5102 - recall: 0.1629 - tn: 129764.5859 - tp: 553.0448 - val_accuracy: 0.9769 - val_auc: 0.6427 - val_fn: 1653.0000 - val_fp: 334.0000 - val_loss: 1.0024 - val_precision: 0.5215 - val_recall: 0.1805 - val_tn: 83503.0000 - val_tp: 364.0000\n",
            "Epoch 5/20\n",
            "\u001b[1m66/66\u001b[0m \u001b[32m━━━━━━━━━━━━━━━━━━━━\u001b[0m\u001b[37m\u001b[0m \u001b[1m9s\u001b[0m 135ms/step - accuracy: 0.9747 - auc: 0.6299 - fn: 2858.5820 - fp: 539.6418 - loss: 1.0024 - precision: 0.4992 - recall: 0.1606 - tn: 129742.6719 - tp: 547.2537 - val_accuracy: 0.9769 - val_auc: 0.5882 - val_fn: 1653.0000 - val_fp: 334.0000 - val_loss: 1.0017 - val_precision: 0.5215 - val_recall: 0.1805 - val_tn: 83503.0000 - val_tp: 364.0000\n",
            "Epoch 6/20\n",
            "\u001b[1m66/66\u001b[0m \u001b[32m━━━━━━━━━━━━━━━━━━━━\u001b[0m\u001b[37m\u001b[0m \u001b[1m10s\u001b[0m 139ms/step - accuracy: 0.9750 - auc: 0.5782 - fn: 2789.3284 - fp: 543.0448 - loss: 1.0019 - precision: 0.4908 - recall: 0.1606 - tn: 129811.9219 - tp: 543.8508 - val_accuracy: 0.9769 - val_auc: 0.5882 - val_fn: 1653.0000 - val_fp: 334.0000 - val_loss: 1.0012 - val_precision: 0.5215 - val_recall: 0.1805 - val_tn: 83503.0000 - val_tp: 364.0000\n",
            "Epoch 7/20\n",
            "\u001b[1m66/66\u001b[0m \u001b[32m━━━━━━━━━━━━━━━━━━━━\u001b[0m\u001b[37m\u001b[0m \u001b[1m11s\u001b[0m 145ms/step - accuracy: 0.9749 - auc: 0.5806 - fn: 2868.6865 - fp: 532.5522 - loss: 1.0012 - precision: 0.5138 - recall: 0.1653 - tn: 129732.5703 - tp: 554.3433 - val_accuracy: 0.9769 - val_auc: 0.5882 - val_fn: 1653.0000 - val_fp: 334.0000 - val_loss: 1.0009 - val_precision: 0.5215 - val_recall: 0.1805 - val_tn: 83503.0000 - val_tp: 364.0000\n",
            "Epoch 8/20\n",
            "\u001b[1m66/66\u001b[0m \u001b[32m━━━━━━━━━━━━━━━━━━━━\u001b[0m\u001b[37m\u001b[0m \u001b[1m9s\u001b[0m 130ms/step - accuracy: 0.9744 - auc: 0.5779 - fn: 2903.1941 - fp: 533.8209 - loss: 1.0010 - precision: 0.5039 - recall: 0.1599 - tn: 129698.0625 - tp: 553.0746 - val_accuracy: 0.9769 - val_auc: 0.5882 - val_fn: 1653.0000 - val_fp: 334.0000 - val_loss: 1.0007 - val_precision: 0.5215 - val_recall: 0.1805 - val_tn: 83503.0000 - val_tp: 364.0000\n",
            "Epoch 9/20\n",
            "\u001b[1m66/66\u001b[0m \u001b[32m━━━━━━━━━━━━━━━━━━━━\u001b[0m\u001b[37m\u001b[0m \u001b[1m10s\u001b[0m 127ms/step - accuracy: 0.9741 - auc: 0.5762 - fn: 2898.6716 - fp: 543.5522 - loss: 1.0009 - precision: 0.4990 - recall: 0.1567 - tn: 129702.5859 - tp: 543.3433 - val_accuracy: 0.9769 - val_auc: 0.5882 - val_fn: 1653.0000 - val_fp: 334.0000 - val_loss: 1.0005 - val_precision: 0.5215 - val_recall: 0.1805 - val_tn: 83503.0000 - val_tp: 364.0000\n",
            "Epoch 10/20\n",
            "\u001b[1m66/66\u001b[0m \u001b[32m━━━━━━━━━━━━━━━━━━━━\u001b[0m\u001b[37m\u001b[0m \u001b[1m11s\u001b[0m 145ms/step - accuracy: 0.9750 - auc: 0.5800 - fn: 2826.2837 - fp: 537.0895 - loss: 1.0007 - precision: 0.5072 - recall: 0.1642 - tn: 129774.9688 - tp: 549.8060 - val_accuracy: 0.9769 - val_auc: 0.5882 - val_fn: 1653.0000 - val_fp: 334.0000 - val_loss: 1.0004 - val_precision: 0.5215 - val_recall: 0.1805 - val_tn: 83503.0000 - val_tp: 364.0000\n",
            "Epoch 11/20\n",
            "\u001b[1m66/66\u001b[0m \u001b[32m━━━━━━━━━━━━━━━━━━━━\u001b[0m\u001b[37m\u001b[0m \u001b[1m10s\u001b[0m 141ms/step - accuracy: 0.9737 - auc: 0.5745 - fn: 2937.7612 - fp: 544.4329 - loss: 1.0008 - precision: 0.4917 - recall: 0.1532 - tn: 129663.4922 - tp: 542.4627 - val_accuracy: 0.9769 - val_auc: 0.5882 - val_fn: 1653.0000 - val_fp: 334.0000 - val_loss: 1.0003 - val_precision: 0.5215 - val_recall: 0.1805 - val_tn: 83503.0000 - val_tp: 364.0000\n",
            "Epoch 12/20\n",
            "\u001b[1m66/66\u001b[0m \u001b[32m━━━━━━━━━━━━━━━━━━━━\u001b[0m\u001b[37m\u001b[0m \u001b[1m11s\u001b[0m 149ms/step - accuracy: 0.9740 - auc: 0.5775 - fn: 2900.9253 - fp: 532.3731 - loss: 1.0004 - precision: 0.5124 - recall: 0.1592 - tn: 129700.3281 - tp: 554.5224 - val_accuracy: 0.9769 - val_auc: 0.5883 - val_fn: 1653.0000 - val_fp: 334.0000 - val_loss: 1.0002 - val_precision: 0.5215 - val_recall: 0.1805 - val_tn: 83503.0000 - val_tp: 364.0000\n",
            "Epoch 13/20\n",
            "\u001b[1m66/66\u001b[0m \u001b[32m━━━━━━━━━━━━━━━━━━━━\u001b[0m\u001b[37m\u001b[0m \u001b[1m9s\u001b[0m 131ms/step - accuracy: 0.9746 - auc: 0.5788 - fn: 2841.3284 - fp: 543.6716 - loss: 1.0004 - precision: 0.5067 - recall: 0.1617 - tn: 129759.9219 - tp: 543.2239 - val_accuracy: 0.9769 - val_auc: 0.5882 - val_fn: 1653.0000 - val_fp: 334.0000 - val_loss: 1.0001 - val_precision: 0.5215 - val_recall: 0.1805 - val_tn: 83503.0000 - val_tp: 364.0000\n",
            "Epoch 14/20\n",
            "\u001b[1m66/66\u001b[0m \u001b[32m━━━━━━━━━━━━━━━━━━━━\u001b[0m\u001b[37m\u001b[0m \u001b[1m9s\u001b[0m 142ms/step - accuracy: 0.9750 - auc: 0.5799 - fn: 2853.6121 - fp: 530.8358 - loss: 1.0003 - precision: 0.5059 - recall: 0.1638 - tn: 129747.6406 - tp: 556.0597 - val_accuracy: 0.9769 - val_auc: 0.5882 - val_fn: 1653.0000 - val_fp: 334.0000 - val_loss: 1.0001 - val_precision: 0.5215 - val_recall: 0.1805 - val_tn: 83503.0000 - val_tp: 364.0000\n",
            "Epoch 15/20\n",
            "\u001b[1m66/66\u001b[0m \u001b[32m━━━━━━━━━━━━━━━━━━━━\u001b[0m\u001b[37m\u001b[0m \u001b[1m9s\u001b[0m 143ms/step - accuracy: 0.9746 - auc: 0.5773 - fn: 2867.6270 - fp: 545.6269 - loss: 1.0005 - precision: 0.4928 - recall: 0.1589 - tn: 129733.6250 - tp: 541.2687 - val_accuracy: 0.9769 - val_auc: 0.5882 - val_fn: 1653.0000 - val_fp: 334.0000 - val_loss: 1.0000 - val_precision: 0.5215 - val_recall: 0.1805 - val_tn: 83503.0000 - val_tp: 364.0000\n",
            "Epoch 16/20\n",
            "\u001b[1m66/66\u001b[0m \u001b[32m━━━━━━━━━━━━━━━━━━━━\u001b[0m\u001b[37m\u001b[0m \u001b[1m9s\u001b[0m 126ms/step - accuracy: 0.9745 - auc: 0.5767 - fn: 2897.7612 - fp: 547.9552 - loss: 1.0005 - precision: 0.4910 - recall: 0.1577 - tn: 129703.4922 - tp: 538.9403 - val_accuracy: 0.9769 - val_auc: 0.5882 - val_fn: 1653.0000 - val_fp: 334.0000 - val_loss: 1.0000 - val_precision: 0.5215 - val_recall: 0.1805 - val_tn: 83503.0000 - val_tp: 364.0000\n",
            "Epoch 17/20\n",
            "\u001b[1m66/66\u001b[0m \u001b[32m━━━━━━━━━━━━━━━━━━━━\u001b[0m\u001b[37m\u001b[0m \u001b[1m11s\u001b[0m 135ms/step - accuracy: 0.9744 - auc: 0.5787 - fn: 2876.2837 - fp: 534.4030 - loss: 1.0001 - precision: 0.5127 - recall: 0.1616 - tn: 129724.9688 - tp: 552.4926 - val_accuracy: 0.9769 - val_auc: 0.5882 - val_fn: 1653.0000 - val_fp: 334.0000 - val_loss: 1.0000 - val_precision: 0.5215 - val_recall: 0.1805 - val_tn: 83503.0000 - val_tp: 364.0000\n",
            "Epoch 18/20\n",
            "\u001b[1m66/66\u001b[0m \u001b[32m━━━━━━━━━━━━━━━━━━━━\u001b[0m\u001b[37m\u001b[0m \u001b[1m11s\u001b[0m 144ms/step - accuracy: 0.9750 - auc: 0.5797 - fn: 2838.5820 - fp: 537.2388 - loss: 1.0002 - precision: 0.5040 - recall: 0.1636 - tn: 129762.6719 - tp: 549.6567 - val_accuracy: 0.9769 - val_auc: 0.5882 - val_fn: 1653.0000 - val_fp: 334.0000 - val_loss: 0.9999 - val_precision: 0.5215 - val_recall: 0.1805 - val_tn: 83503.0000 - val_tp: 364.0000\n",
            "Epoch 19/20\n",
            "\u001b[1m66/66\u001b[0m \u001b[32m━━━━━━━━━━━━━━━━━━━━\u001b[0m\u001b[37m\u001b[0m \u001b[1m9s\u001b[0m 141ms/step - accuracy: 0.9747 - auc: 0.5797 - fn: 2869.4180 - fp: 535.7761 - loss: 1.0001 - precision: 0.5132 - recall: 0.1635 - tn: 129731.8359 - tp: 551.1194 - val_accuracy: 0.9769 - val_auc: 0.5882 - val_fn: 1653.0000 - val_fp: 334.0000 - val_loss: 0.9999 - val_precision: 0.5215 - val_recall: 0.1805 - val_tn: 83503.0000 - val_tp: 364.0000\n",
            "Epoch 20/20\n",
            "\u001b[1m66/66\u001b[0m \u001b[32m━━━━━━━━━━━━━━━━━━━━\u001b[0m\u001b[37m\u001b[0m \u001b[1m10s\u001b[0m 131ms/step - accuracy: 0.9740 - auc: 0.5785 - fn: 2925.1492 - fp: 529.9552 - loss: 0.9999 - precision: 0.5209 - recall: 0.1611 - tn: 129676.1016 - tp: 556.9403 - val_accuracy: 0.9769 - val_auc: 0.5882 - val_fn: 1653.0000 - val_fp: 334.0000 - val_loss: 0.9999 - val_precision: 0.5215 - val_recall: 0.1805 - val_tn: 83503.0000 - val_tp: 364.0000\n"
          ]
        },
        {
          "output_type": "display_data",
          "data": {
            "text/plain": [
              "\u001b[1mModel: \"sequential_5\"\u001b[0m\n"
            ],
            "text/html": [
              "<pre style=\"white-space:pre;overflow-x:auto;line-height:normal;font-family:Menlo,'DejaVu Sans Mono',consolas,'Courier New',monospace\"><span style=\"font-weight: bold\">Model: \"sequential_5\"</span>\n",
              "</pre>\n"
            ]
          },
          "metadata": {}
        },
        {
          "output_type": "display_data",
          "data": {
            "text/plain": [
              "┏━━━━━━━━━━━━━━━━━━━━━━━━━━━━━━━━━━━━━━┳━━━━━━━━━━━━━━━━━━━━━━━━━━━━━┳━━━━━━━━━━━━━━━━━┓\n",
              "┃\u001b[1m \u001b[0m\u001b[1mLayer (type)                        \u001b[0m\u001b[1m \u001b[0m┃\u001b[1m \u001b[0m\u001b[1mOutput Shape               \u001b[0m\u001b[1m \u001b[0m┃\u001b[1m \u001b[0m\u001b[1m        Param #\u001b[0m\u001b[1m \u001b[0m┃\n",
              "┡━━━━━━━━━━━━━━━━━━━━━━━━━━━━━━━━━━━━━━╇━━━━━━━━━━━━━━━━━━━━━━━━━━━━━╇━━━━━━━━━━━━━━━━━┩\n",
              "│ embedding_5 (\u001b[38;5;33mEmbedding\u001b[0m)              │ (\u001b[38;5;45mNone\u001b[0m, \u001b[38;5;34m1000\u001b[0m, \u001b[38;5;34m128\u001b[0m)           │       \u001b[38;5;34m1,280,000\u001b[0m │\n",
              "├──────────────────────────────────────┼─────────────────────────────┼─────────────────┤\n",
              "│ bidirectional_10 (\u001b[38;5;33mBidirectional\u001b[0m)     │ (\u001b[38;5;45mNone\u001b[0m, \u001b[38;5;34m1000\u001b[0m, \u001b[38;5;34m128\u001b[0m)           │          \u001b[38;5;34m98,816\u001b[0m │\n",
              "├──────────────────────────────────────┼─────────────────────────────┼─────────────────┤\n",
              "│ bidirectional_11 (\u001b[38;5;33mBidirectional\u001b[0m)     │ (\u001b[38;5;45mNone\u001b[0m, \u001b[38;5;34m64\u001b[0m)                  │          \u001b[38;5;34m41,216\u001b[0m │\n",
              "├──────────────────────────────────────┼─────────────────────────────┼─────────────────┤\n",
              "│ dense_5 (\u001b[38;5;33mDense\u001b[0m)                      │ (\u001b[38;5;45mNone\u001b[0m, \u001b[38;5;34m123\u001b[0m)                 │           \u001b[38;5;34m7,995\u001b[0m │\n",
              "└──────────────────────────────────────┴─────────────────────────────┴─────────────────┘\n"
            ],
            "text/html": [
              "<pre style=\"white-space:pre;overflow-x:auto;line-height:normal;font-family:Menlo,'DejaVu Sans Mono',consolas,'Courier New',monospace\">┏━━━━━━━━━━━━━━━━━━━━━━━━━━━━━━━━━━━━━━┳━━━━━━━━━━━━━━━━━━━━━━━━━━━━━┳━━━━━━━━━━━━━━━━━┓\n",
              "┃<span style=\"font-weight: bold\"> Layer (type)                         </span>┃<span style=\"font-weight: bold\"> Output Shape                </span>┃<span style=\"font-weight: bold\">         Param # </span>┃\n",
              "┡━━━━━━━━━━━━━━━━━━━━━━━━━━━━━━━━━━━━━━╇━━━━━━━━━━━━━━━━━━━━━━━━━━━━━╇━━━━━━━━━━━━━━━━━┩\n",
              "│ embedding_5 (<span style=\"color: #0087ff; text-decoration-color: #0087ff\">Embedding</span>)              │ (<span style=\"color: #00d7ff; text-decoration-color: #00d7ff\">None</span>, <span style=\"color: #00af00; text-decoration-color: #00af00\">1000</span>, <span style=\"color: #00af00; text-decoration-color: #00af00\">128</span>)           │       <span style=\"color: #00af00; text-decoration-color: #00af00\">1,280,000</span> │\n",
              "├──────────────────────────────────────┼─────────────────────────────┼─────────────────┤\n",
              "│ bidirectional_10 (<span style=\"color: #0087ff; text-decoration-color: #0087ff\">Bidirectional</span>)     │ (<span style=\"color: #00d7ff; text-decoration-color: #00d7ff\">None</span>, <span style=\"color: #00af00; text-decoration-color: #00af00\">1000</span>, <span style=\"color: #00af00; text-decoration-color: #00af00\">128</span>)           │          <span style=\"color: #00af00; text-decoration-color: #00af00\">98,816</span> │\n",
              "├──────────────────────────────────────┼─────────────────────────────┼─────────────────┤\n",
              "│ bidirectional_11 (<span style=\"color: #0087ff; text-decoration-color: #0087ff\">Bidirectional</span>)     │ (<span style=\"color: #00d7ff; text-decoration-color: #00d7ff\">None</span>, <span style=\"color: #00af00; text-decoration-color: #00af00\">64</span>)                  │          <span style=\"color: #00af00; text-decoration-color: #00af00\">41,216</span> │\n",
              "├──────────────────────────────────────┼─────────────────────────────┼─────────────────┤\n",
              "│ dense_5 (<span style=\"color: #0087ff; text-decoration-color: #0087ff\">Dense</span>)                      │ (<span style=\"color: #00d7ff; text-decoration-color: #00d7ff\">None</span>, <span style=\"color: #00af00; text-decoration-color: #00af00\">123</span>)                 │           <span style=\"color: #00af00; text-decoration-color: #00af00\">7,995</span> │\n",
              "└──────────────────────────────────────┴─────────────────────────────┴─────────────────┘\n",
              "</pre>\n"
            ]
          },
          "metadata": {}
        },
        {
          "output_type": "display_data",
          "data": {
            "text/plain": [
              "\u001b[1m Total params: \u001b[0m\u001b[38;5;34m4,284,083\u001b[0m (16.34 MB)\n"
            ],
            "text/html": [
              "<pre style=\"white-space:pre;overflow-x:auto;line-height:normal;font-family:Menlo,'DejaVu Sans Mono',consolas,'Courier New',monospace\"><span style=\"font-weight: bold\"> Total params: </span><span style=\"color: #00af00; text-decoration-color: #00af00\">4,284,083</span> (16.34 MB)\n",
              "</pre>\n"
            ]
          },
          "metadata": {}
        },
        {
          "output_type": "display_data",
          "data": {
            "text/plain": [
              "\u001b[1m Trainable params: \u001b[0m\u001b[38;5;34m1,428,027\u001b[0m (5.45 MB)\n"
            ],
            "text/html": [
              "<pre style=\"white-space:pre;overflow-x:auto;line-height:normal;font-family:Menlo,'DejaVu Sans Mono',consolas,'Courier New',monospace\"><span style=\"font-weight: bold\"> Trainable params: </span><span style=\"color: #00af00; text-decoration-color: #00af00\">1,428,027</span> (5.45 MB)\n",
              "</pre>\n"
            ]
          },
          "metadata": {}
        },
        {
          "output_type": "display_data",
          "data": {
            "text/plain": [
              "\u001b[1m Non-trainable params: \u001b[0m\u001b[38;5;34m0\u001b[0m (0.00 B)\n"
            ],
            "text/html": [
              "<pre style=\"white-space:pre;overflow-x:auto;line-height:normal;font-family:Menlo,'DejaVu Sans Mono',consolas,'Courier New',monospace\"><span style=\"font-weight: bold\"> Non-trainable params: </span><span style=\"color: #00af00; text-decoration-color: #00af00\">0</span> (0.00 B)\n",
              "</pre>\n"
            ]
          },
          "metadata": {}
        },
        {
          "output_type": "display_data",
          "data": {
            "text/plain": [
              "\u001b[1m Optimizer params: \u001b[0m\u001b[38;5;34m2,856,056\u001b[0m (10.89 MB)\n"
            ],
            "text/html": [
              "<pre style=\"white-space:pre;overflow-x:auto;line-height:normal;font-family:Menlo,'DejaVu Sans Mono',consolas,'Courier New',monospace\"><span style=\"font-weight: bold\"> Optimizer params: </span><span style=\"color: #00af00; text-decoration-color: #00af00\">2,856,056</span> (10.89 MB)\n",
              "</pre>\n"
            ]
          },
          "metadata": {}
        }
      ]
    },
    {
      "cell_type": "markdown",
      "source": [
        "##Reloading the model"
      ],
      "metadata": {
        "id": "QGPVSRqeqcQj"
      }
    },
    {
      "cell_type": "code",
      "source": [
        "model_6 = tf.keras.models.load_model('model_6.keras')\n",
        "with open('history_model_6.json') as f:\n",
        "    history_model_6 = json.load(f)"
      ],
      "metadata": {
        "id": "DlUaxUFPqnkU"
      },
      "execution_count": 55,
      "outputs": []
    },
    {
      "cell_type": "markdown",
      "source": [
        "##Training plots"
      ],
      "metadata": {
        "id": "kUzCyJunqs2F"
      }
    },
    {
      "cell_type": "code",
      "source": [
        "acc = history_model_6['accuracy']\n",
        "val_acc = history_model_6['val_accuracy']\n",
        "loss = history_model_6['loss']\n",
        "val_loss = history_model_6['val_loss']\n",
        "\n",
        "epochs = range(len(acc))\n",
        "\n",
        "\n",
        "plt.plot(epochs, acc, 'ro', label='Training acc')\n",
        "plt.plot(epochs, val_acc, 'b', label='Validation acc')\n",
        "plt.title('Model 6 Training and validation accuracy')\n",
        "plt.legend()\n",
        "\n",
        "plt.figure()\n",
        "\n",
        "plt.plot(epochs, loss, 'ro', label='Training loss')\n",
        "plt.plot(epochs, val_loss, 'b', label='Validation loss')\n",
        "plt.title('Model 6 training and validation loss')\n",
        "plt.legend()\n",
        "\n",
        "plt.show()"
      ],
      "metadata": {
        "colab": {
          "base_uri": "https://localhost:8080/",
          "height": 887
        },
        "id": "5bZatcIyqvMe",
        "outputId": "d3f4a283-73b2-485a-8b1c-6cc889fecd58"
      },
      "execution_count": 56,
      "outputs": [
        {
          "output_type": "display_data",
          "data": {
            "text/plain": [
              "<Figure size 640x480 with 1 Axes>"
            ],
            "image/png": "[encoded data removed]"
          },
          "metadata": {}
        },
        {
          "output_type": "display_data",
          "data": {
            "text/plain": [
              "<Figure size 640x480 with 1 Axes>"
            ],
            "image/png": "[encoded data removed]"
          },
          "metadata": {}
        }
      ]
    },
    {
      "cell_type": "markdown",
      "source": [
        "##Predictions"
      ],
      "metadata": {
        "id": "F6UcNlA3q6IK"
      }
    },
    {
      "cell_type": "code",
      "source": [
        "test_predictions = model_6.predict(X_test)\n",
        "print(test_predictions)"
      ],
      "metadata": {
        "colab": {
          "base_uri": "https://localhost:8080/"
        },
        "id": "XWvlGfAiqexl",
        "outputId": "750ac4c8-3f7c-4594-a012-33dfd2763005"
      },
      "execution_count": 57,
      "outputs": [
        {
          "output_type": "stream",
          "name": "stdout",
          "text": [
            "\u001b[1m22/22\u001b[0m \u001b[32m━━━━━━━━━━━━━━━━━━━━\u001b[0m\u001b[37m\u001b[0m \u001b[1m2s\u001b[0m 63ms/step\n",
            "[[0.00016212 0.00032296 0.00023154 ... 0.0002042  0.0001203  0.00026618]\n",
            " [0.00016913 0.00033429 0.00023982 ... 0.00021091 0.00012496 0.0002781 ]\n",
            " [0.00016208 0.00032289 0.00023148 ... 0.00020415 0.00012027 0.00026612]\n",
            " ...\n",
            " [0.0001622  0.00032309 0.00023164 ... 0.00020429 0.00012035 0.00026628]\n",
            " [0.00016912 0.00033426 0.00023983 ... 0.0002109  0.00012495 0.00027809]\n",
            " [0.00016189 0.00032255 0.00023122 ... 0.0002039  0.00012013 0.00026585]]\n"
          ]
        }
      ]
    },
    {
      "cell_type": "markdown",
      "source": [
        "##Evaluating the model"
      ],
      "metadata": {
        "id": "v8K3pPZJrGIr"
      }
    },
    {
      "cell_type": "code",
      "source": [
        "model_6.evaluate(X_test, y_test)"
      ],
      "metadata": {
        "colab": {
          "base_uri": "https://localhost:8080/"
        },
        "id": "I-1Iz-berKg1",
        "outputId": "a4c004b7-87f0-49cd-c0ce-daec1ae599e6"
      },
      "execution_count": 58,
      "outputs": [
        {
          "output_type": "stream",
          "name": "stdout",
          "text": [
            "\u001b[1m22/22\u001b[0m \u001b[32m━━━━━━━━━━━━━━━━━━━━\u001b[0m\u001b[37m\u001b[0m \u001b[1m3s\u001b[0m 76ms/step - accuracy: 0.9772 - auc: 0.5916 - fn: 911.4348 - fp: 179.3478 - loss: 0.9996 - precision: 0.5373 - recall: 0.1871 - tn: 45703.1758 - tp: 202.7391\n"
          ]
        },
        {
          "output_type": "execute_result",
          "data": {
            "text/plain": [
              "[0.9999067187309265,\n",
              " 0.9754582643508911,\n",
              " 0.5200573205947876,\n",
              " 0.17002342641353607,\n",
              " 0.5830109715461731,\n",
              " 363.0,\n",
              " 335.0,\n",
              " 83384.0,\n",
              " 1772.0]"
            ]
          },
          "metadata": {},
          "execution_count": 58
        }
      ]
    },
    {
      "cell_type": "markdown",
      "source": [
        "Accuracy of models 5 and 6 similiar to all other models"
      ],
      "metadata": {
        "id": "2JRG3yi2rtSg"
      }
    },
    {
      "cell_type": "markdown",
      "source": [
        "##Model 7 Changing loss function to categorical crossentropy"
      ],
      "metadata": {
        "id": "ATmRMBCTs5QR"
      }
    },
    {
      "cell_type": "markdown",
      "source": [
        "##One hot encoding the labels"
      ],
      "metadata": {
        "id": "Spi_m8XZ6BMh"
      }
    },
    {
      "cell_type": "code",
      "source": [],
      "metadata": {
        "id": "zGqURxt2G5uV"
      },
      "execution_count": null,
      "outputs": []
    },
    {
      "cell_type": "markdown",
      "source": [
        "##Building the model"
      ],
      "metadata": {
        "id": "w8vengiB6TNY"
      }
    },
    {
      "cell_type": "code",
      "source": [
        "model_7 = Sequential([\n",
        "    Embedding(vocab_size, embedding_dim),\n",
        "    Bidirectional(LSTM(64, return_sequences=True)),\n",
        "    # Calculate the correct output shape for the Reshape layer\n",
        "    Reshape((-1, 64 * 2)),  # 64 LSTM units * 2 for Bidirectional\n",
        "    Dense(num_keywords, activation='softmax')  # Add a Dense layer for classification\n",
        "])"
      ],
      "metadata": {
        "id": "M1BUNpga6WlS"
      },
      "execution_count": 91,
      "outputs": []
    },
    {
      "cell_type": "markdown",
      "source": [
        "## compiling the model"
      ],
      "metadata": {
        "id": "GYoqdsPb6HEi"
      }
    },
    {
      "cell_type": "code",
      "source": [
        "model_7.compile(\n",
        "    loss = 'categorical_crossentropy',\n",
        "    optimizer = 'adam',\n",
        "    metrics = METRICS\n",
        ")\n",
        "\n",
        "\n"
      ],
      "metadata": {
        "id": "b-XaQ7qG6Kly"
      },
      "execution_count": 103,
      "outputs": []
    },
    {
      "cell_type": "markdown",
      "source": [
        "## Training and saving the model"
      ],
      "metadata": {
        "id": "lU-BCBOw6z68"
      }
    },
    {
      "cell_type": "code",
      "source": [
        "# Extract individual words, removing padding tokens\n",
        "words = []\n",
        "for sequence in padded_sequences:\n",
        "    words.extend([word for word in sequence if word != 0])\n",
        "\n",
        "# Create a new X_train with one row per word\n",
        "X_train_words = np.array(words).reshape(-1, 1)  # Reshape to 2D array\n",
        "\n",
        "# Flatten y_train to have one label per word\n",
        "y_train_flat = []\n",
        "for text_labels, sequence in zip(y_train, padded_sequences):\n",
        "    for label, word_index in zip(text_labels, sequence):\n",
        "        if word_index != 0:  # Only include labels for non-padding tokens\n",
        "            y_train_flat.append(label)\n",
        "\n",
        "y_train_flat = np.array(y_train_flat).reshape(-1, 1)\n",
        "print(\"Shape of X_train_words:\", X_train_words.shape)\n",
        "print(\"Shape of y_train_flat:\", y_train_flat.shape)"
      ],
      "metadata": {
        "colab": {
          "base_uri": "https://localhost:8080/"
        },
        "id": "jQ0TNycbGZJi",
        "outputId": "31f18034-2fc7-4847-c072-beb6b8a801af"
      },
      "execution_count": 120,
      "outputs": [
        {
          "output_type": "stream",
          "name": "stdout",
          "text": [
            "Shape of X_train_words: (1306801, 1)\n",
            "Shape of y_train_flat: (25603, 1)\n"
          ]
        }
      ]
    },
    {
      "cell_type": "code",
      "source": [
        "# Calculate the correct number of samples\n",
        "num_samples_train = y_train_encoded.shape[0]\n",
        "num_samples_val = y_val_encoded.shape[0]\n",
        "\n",
        "# Reshape y_train_encoded to match the expected output shape (num_samples, 1, 2)\n",
        "y_train_reshaped = y_train_encoded.reshape(num_samples_train, 1, 2)\n",
        "y_val_reshaped = y_val_encoded.reshape(num_samples_val, 1, 2)  # Adjust y_val_encoded similarly\n",
        "\n",
        "\n",
        "#Training the model\n",
        "try:\n",
        "    #Training the model\n",
        "    model_7 = model_7.fit(\n",
        "        X_train_words, y_train_flat,\n",
        "        validation_data=(X_val, y_val_reshaped),\n",
        "        epochs=10\n",
        "    )\n",
        "except ValueError as e:\n",
        "    print(\"ValueError occurred:\", e)  # Print the full error message\n",
        "#Saving the model\n",
        "model_7.save('model_7.keras')\n",
        "with open('history_model_7.json', 'w') as f:\n",
        "    json.dump(history_model_7.history, f)\n",
        "\n",
        "model_7.summary()"
      ],
      "metadata": {
        "colab": {
          "base_uri": "https://localhost:8080/",
          "height": 283
        },
        "id": "im5g_Wdh62sU",
        "outputId": "a22887b6-16e6-4e4a-c08c-bea112e2a9d2"
      },
      "execution_count": 121,
      "outputs": [
        {
          "output_type": "stream",
          "name": "stdout",
          "text": [
            "ValueError occurred: Data cardinality is ambiguous. Make sure all arrays contain the same number of samples.'x' sizes: 1306801\n",
            "'y' sizes: 25603\n",
            "\n"
          ]
        },
        {
          "output_type": "error",
          "ename": "NameError",
          "evalue": "name 'history_model_7' is not defined",
          "traceback": [
            "\u001b[0;31m---------------------------------------------------------------------------\u001b[0m",
            "\u001b[0;31mNameError\u001b[0m                                 Traceback (most recent call last)",
            "\u001b[0;32m<ipython-input-121-4de8c7f26131>\u001b[0m in \u001b[0;36m<cell line: 22>\u001b[0;34m()\u001b[0m\n\u001b[1;32m     21\u001b[0m \u001b[0mmodel_7\u001b[0m\u001b[0;34m.\u001b[0m\u001b[0msave\u001b[0m\u001b[0;34m(\u001b[0m\u001b[0;34m'model_7.keras'\u001b[0m\u001b[0;34m)\u001b[0m\u001b[0;34m\u001b[0m\u001b[0;34m\u001b[0m\u001b[0m\n\u001b[1;32m     22\u001b[0m \u001b[0;32mwith\u001b[0m \u001b[0mopen\u001b[0m\u001b[0;34m(\u001b[0m\u001b[0;34m'history_model_7.json'\u001b[0m\u001b[0;34m,\u001b[0m \u001b[0;34m'w'\u001b[0m\u001b[0;34m)\u001b[0m \u001b[0;32mas\u001b[0m \u001b[0mf\u001b[0m\u001b[0;34m:\u001b[0m\u001b[0;34m\u001b[0m\u001b[0;34m\u001b[0m\u001b[0m\n\u001b[0;32m---> 23\u001b[0;31m     \u001b[0mjson\u001b[0m\u001b[0;34m.\u001b[0m\u001b[0mdump\u001b[0m\u001b[0;34m(\u001b[0m\u001b[0mhistory_model_7\u001b[0m\u001b[0;34m.\u001b[0m\u001b[0mhistory\u001b[0m\u001b[0;34m,\u001b[0m \u001b[0mf\u001b[0m\u001b[0;34m)\u001b[0m\u001b[0;34m\u001b[0m\u001b[0;34m\u001b[0m\u001b[0m\n\u001b[0m\u001b[1;32m     24\u001b[0m \u001b[0;34m\u001b[0m\u001b[0m\n\u001b[1;32m     25\u001b[0m \u001b[0mmodel_7\u001b[0m\u001b[0;34m.\u001b[0m\u001b[0msummary\u001b[0m\u001b[0;34m(\u001b[0m\u001b[0;34m)\u001b[0m\u001b[0;34m\u001b[0m\u001b[0;34m\u001b[0m\u001b[0m\n",
            "\u001b[0;31mNameError\u001b[0m: name 'history_model_7' is not defined"
          ]
        }
      ]
    }
  ]
}